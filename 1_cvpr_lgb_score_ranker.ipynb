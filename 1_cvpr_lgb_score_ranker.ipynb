{
 "cells": [
  {
   "cell_type": "code",
   "execution_count": 1,
   "metadata": {},
   "outputs": [],
   "source": [
    "import os\n",
    "import json\n",
    "import torch\n",
    "import scipy\n",
    "import numpy as np\n",
    "import pandas as pd\n",
    "from tqdm import tqdm\n",
    "import lightgbm as lgb\n",
    "from scipy.special import erfinv"
   ]
  },
  {
   "cell_type": "code",
   "execution_count": 2,
   "metadata": {},
   "outputs": [],
   "source": [
    "path=\"./data/\""
   ]
  },
  {
   "cell_type": "code",
   "execution_count": 3,
   "metadata": {},
   "outputs": [],
   "source": [
    "with open('./data/CVPR_2022_NAS_Track2_train.json', 'r') as f:\n",
    "    train_data = json.load(f)\n",
    "    \n",
    "with open('./data/CVPR_2022_NAS_Track2_test.json', 'r') as f:\n",
    "    test_data = json.load(f)"
   ]
  },
  {
   "cell_type": "code",
   "execution_count": 4,
   "metadata": {},
   "outputs": [],
   "source": [
    "def get_df(train_data):\n",
    "    ret = []\n",
    "    for k, v in train_data.items():\n",
    "        tmp = list(v['arch'])\n",
    "        tmp1 = []\n",
    "        for c in target_cols:\n",
    "            tmp1.append(v[c])\n",
    "        ret.append(tmp+tmp1+[k,v['arch']])\n",
    "    retf = pd.DataFrame(ret,columns=[f'col{_}' for _ in range(len(tmp))]+target_cols+['id','arch'])\n",
    "    retf['col0'] = retf['col0'].map({'l':2, 'j':0, 'k':1})\n",
    "    int_cols = [x for x in retf.columns if x not in ['id','arch']]\n",
    "    retf[int_cols] = retf[int_cols].astype(float)\n",
    "    return retf"
   ]
  },
  {
   "cell_type": "code",
   "execution_count": 5,
   "metadata": {},
   "outputs": [],
   "source": [
    "target_cols = ['cplfw_rank', 'market1501_rank', 'dukemtmc_rank', 'msmt17_rank','veri_rank', 'vehicleid_rank', 'veriwild_rank', 'sop_rank']\n",
    "train = get_df(train_data)\n",
    "test = get_df(test_data)"
   ]
  },
  {
   "cell_type": "code",
   "execution_count": 6,
   "metadata": {},
   "outputs": [],
   "source": [
    "fe_list = ['col0']+[f'col{1+_*3}' for _ in range(12)]+[f'col{2+_*3}' for _ in range(12)]+[f'col{3+_*3}' for _ in range(12)]"
   ]
  },
  {
   "cell_type": "code",
   "execution_count": 7,
   "metadata": {},
   "outputs": [
    {
     "data": {
      "text/plain": [
       "37"
      ]
     },
     "execution_count": 7,
     "metadata": {},
     "output_type": "execute_result"
    }
   ],
   "source": [
    "len(fe_list)"
   ]
  },
  {
   "cell_type": "code",
   "execution_count": 8,
   "metadata": {
    "tags": []
   },
   "outputs": [
    {
     "name": "stderr",
     "output_type": "stream",
     "text": [
      "100%|████████████████████████████████████████████████████████████████████████████████████| 8/8 [00:03<00:00,  2.29it/s]\n"
     ]
    }
   ],
   "source": [
    "#train lgb model\n",
    "params = {\n",
    "        'num_leaves': 2,\n",
    "        'objective': 'regression_l2',\n",
    "        'max_depth': 10,\n",
    "        'min_data_in_leaf': 1,\n",
    "        'learning_rate': 0.8,\n",
    "        'feature_fraction': 0.99,\n",
    "        'bagging_fraction': 0.99,\n",
    "        'bagging_freq': 1,\n",
    "        'metric': 'mse',\n",
    "        'num_threads': 32,\n",
    "        'seed':2018\n",
    "          }\n",
    "\n",
    "num_round = {}\n",
    "model_dic = {}\n",
    "for l in tqdm(target_cols):\n",
    "    model_dic[l] = {}\n",
    "\n",
    "    num_round[l]=300\n",
    "    #\"\"\"\n",
    "    num_round[\"cplfw_rank\"]=50\n",
    "    num_round[\"market1501_rank\"]=200\n",
    "    num_round[\"dukemtmc_rank\"]=300\n",
    "    num_round[\"msmt17_rank\"]=500\n",
    "    num_round[\"veri_rank\"]=100\n",
    "    num_round[\"vehicleid_rank\"]=100\n",
    "    num_round[\"veriwild_rank\"]=250\n",
    "    num_round[\"sop_rank\"]=100\n",
    "    #\"\"\"\n",
    "    \n",
    "    # random 20 times\n",
    "    for i in range(20):\n",
    "        train_temp = train.sample(frac=0.75, random_state=i).reset_index(drop=True)\n",
    "        train_temp[l] = (train_temp[l].rank()-1).astype(int)\n",
    "        train_y = train_temp[l]\n",
    "\n",
    "        #\"\"\" erfinv trans\n",
    "        mmin = np.min(train_y) + 1\n",
    "        mmax = np.max(train_y) + 1\n",
    "        train_y = np.sqrt(2) * erfinv(2 * (train_y + mmin) / (mmin + mmax) - 1)\n",
    "        #\"\"\"\n",
    "        \n",
    "        params[\"seed\"] = i\n",
    "\n",
    "        train_matrix = lgb.Dataset(\n",
    "            train_temp[fe_list], \n",
    "            label = train_y,\n",
    "        )\n",
    "        \n",
    "        model = lgb.train(\n",
    "            params, \n",
    "            train_matrix,\n",
    "            num_round[l],\n",
    "        )\n",
    "        \n",
    "        model_dic[l][i] = model\n"
   ]
  },
  {
   "cell_type": "code",
   "execution_count": 9,
   "metadata": {},
   "outputs": [],
   "source": [
    "def get_pred(model_dic, test, fe_list, target_cols):\n",
    "    \"predict test rank\"\n",
    "    for l in tqdm(target_cols):\n",
    "        sub_list = []\n",
    "        for i in range(20):\n",
    "            model = model_dic[l][i]\n",
    "            sub = model.predict(test[fe_list])\n",
    "            sub_list.append(sub)\n",
    "        sub = np.mean(np.array(sub_list), axis=0)\n",
    "        test[l] = sub\n",
    "        test[l] = test[l].rank().astype(int)"
   ]
  },
  {
   "cell_type": "code",
   "execution_count": 10,
   "metadata": {},
   "outputs": [
    {
     "name": "stderr",
     "output_type": "stream",
     "text": [
      "100%|████████████████████████████████████████████████████████████████████████████████████| 8/8 [00:11<00:00,  1.41s/it]\n"
     ]
    }
   ],
   "source": [
    "get_pred(model_dic, test, fe_list, target_cols)"
   ]
  },
  {
   "cell_type": "code",
   "execution_count": 11,
   "metadata": {},
   "outputs": [],
   "source": [
    "# to_sub\n",
    "def to_sub(test_df, test_data, name='CVPR_2022_lgb_score'):\n",
    "    for i in tqdm(test_df[['id']+target_cols].values):\n",
    "        id_ = i[0]\n",
    "        for k,v in enumerate(target_cols):\n",
    "            k += 1\n",
    "            test_data[id_][v] = i[k]\n",
    "            \n",
    "    with open(f'./sub/{name}.json', 'w') as f:\n",
    "        json.dump(test_data, f)"
   ]
  },
  {
   "cell_type": "code",
   "execution_count": 12,
   "metadata": {},
   "outputs": [
    {
     "name": "stderr",
     "output_type": "stream",
     "text": [
      "100%|████████████████████████████████████████████████████████████████████████| 99500/99500 [00:00<00:00, 715177.50it/s]\n"
     ]
    }
   ],
   "source": [
    "to_sub(test, test_data, name='CVPR_2022_lgb_score')"
   ]
  },
  {
   "cell_type": "code",
   "execution_count": 13,
   "metadata": {},
   "outputs": [
    {
     "data": {
      "text/plain": [
       "['./model/lgb_score_ranker.pkl']"
      ]
     },
     "execution_count": 13,
     "metadata": {},
     "output_type": "execute_result"
    }
   ],
   "source": [
    "# 模型保存\n",
    "import joblib\n",
    "joblib.dump(model_dic, './model/lgb_score_ranker.pkl')"
   ]
  },
  {
   "cell_type": "code",
   "execution_count": null,
   "metadata": {},
   "outputs": [],
   "source": []
  },
  {
   "cell_type": "code",
   "execution_count": null,
   "metadata": {},
   "outputs": [],
   "source": []
  }
 ],
 "metadata": {
  "kernelspec": {
   "display_name": "Python 3",
   "language": "python",
   "name": "python3"
  },
  "language_info": {
   "codemirror_mode": {
    "name": "ipython",
    "version": 3
   },
   "file_extension": ".py",
   "mimetype": "text/x-python",
   "name": "python",
   "nbconvert_exporter": "python",
   "pygments_lexer": "ipython3",
   "version": "3.7.3"
  }
 },
 "nbformat": 4,
 "nbformat_minor": 4
}
