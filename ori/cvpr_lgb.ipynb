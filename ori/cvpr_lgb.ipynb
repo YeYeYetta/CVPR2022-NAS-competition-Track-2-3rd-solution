{
 "cells": [
  {
   "cell_type": "code",
   "execution_count": 1,
   "metadata": {},
   "outputs": [
    {
     "name": "stderr",
     "output_type": "stream",
     "text": [
      "C:\\Users\\45928\\AppData\\Local\\Continuum\\anaconda3\\lib\\site-packages\\dask\\config.py:168: YAMLLoadWarning: calling yaml.load() without Loader=... is deprecated, as the default Loader is unsafe. Please read https://msg.pyyaml.org/load for full details.\n",
      "  data = yaml.load(f.read()) or {}\n",
      "C:\\Users\\45928\\AppData\\Local\\Continuum\\anaconda3\\lib\\site-packages\\dask\\dataframe\\utils.py:13: FutureWarning: pandas.util.testing is deprecated. Use the functions in the public API at pandas.testing instead.\n",
      "  import pandas.util.testing as tm\n",
      "C:\\Users\\45928\\AppData\\Local\\Continuum\\anaconda3\\lib\\site-packages\\distributed\\config.py:20: YAMLLoadWarning: calling yaml.load() without Loader=... is deprecated, as the default Loader is unsafe. Please read https://msg.pyyaml.org/load for full details.\n",
      "  defaults = yaml.load(f)\n"
     ]
    }
   ],
   "source": [
    "import lightgbm as lgb"
   ]
  },
  {
   "cell_type": "code",
   "execution_count": 2,
   "metadata": {},
   "outputs": [
    {
     "data": {
      "text/plain": [
       "'3.2.1'"
      ]
     },
     "execution_count": 2,
     "metadata": {},
     "output_type": "execute_result"
    }
   ],
   "source": [
    "lgb.__version__"
   ]
  },
  {
   "cell_type": "code",
   "execution_count": 1,
   "metadata": {},
   "outputs": [],
   "source": [
    "import os\n",
    "import pandas as pd"
   ]
  },
  {
   "cell_type": "code",
   "execution_count": null,
   "metadata": {},
   "outputs": [],
   "source": [
    "# 2.1.2"
   ]
  },
  {
   "cell_type": "code",
   "execution_count": 2,
   "metadata": {},
   "outputs": [],
   "source": [
    "path=\"\""
   ]
  },
  {
   "cell_type": "code",
   "execution_count": 3,
   "metadata": {},
   "outputs": [],
   "source": [
    "test=pd.read_json(path+\"CVPR_2022_NAS_Track2_test.json\").T"
   ]
  },
  {
   "cell_type": "code",
   "execution_count": 4,
   "metadata": {},
   "outputs": [],
   "source": [
    "train_ori=pd.read_json(path+\"CVPR_2022_NAS_Track2_train.json\").T\n",
    "#test=pd.read_json(path+\"CVPR_2022_NAS_Track2_test.json\").T"
   ]
  },
  {
   "cell_type": "code",
   "execution_count": 5,
   "metadata": {},
   "outputs": [],
   "source": [
    "label_list=['cplfw_rank', 'market1501_rank', 'dukemtmc_rank', 'msmt17_rank',\n",
    "       'veri_rank', 'vehicleid_rank', 'veriwild_rank', 'sop_rank']\n",
    "for i in label_list:\n",
    "    train_ori[i]=train_ori[i].astype(int)"
   ]
  },
  {
   "cell_type": "code",
   "execution_count": 12,
   "metadata": {},
   "outputs": [],
   "source": [
    "train=train_ori[:500].reset_index(drop=True)\n",
    "valid=train_ori[400:].reset_index(drop=True)"
   ]
  },
  {
   "cell_type": "code",
   "execution_count": 13,
   "metadata": {},
   "outputs": [],
   "source": [
    "def get_str(x,s):\n",
    "    r=\"\"\n",
    "    for i in range(12):\n",
    "        r+=x[i*3+s]\n",
    "    return r\n",
    "\n",
    "def create_data(data):\n",
    "    fe_list=[]\n",
    "    #l:12,k:11,j:10\n",
    "    data[\"fe00\"]=data[\"arch\"].apply(lambda x:x[0]).apply(lambda x:{\"j\":0,\"k\":1,\"l\":2}[x])\n",
    "    fe_list.append(\"fe00\")\n",
    "    #\"\"\"\n",
    "    for i in range(12):\n",
    "        data[\"fe%s\"%i]=data[\"arch\"].apply(lambda x:int(x[i*3+1:i*3+2]))#.apply(lambda x:{1:12,2:11,3:10,0:0}[x])\n",
    "        fe_list.append(\"fe%s\"%i)\n",
    "    for i in range(12):\n",
    "        data[\"fe%s\"%(i+12)]=data[\"arch\"].apply(lambda x:int(x[i*3+2:i*3+3]))#.apply(lambda x:{1:4,2:3.5,3:3,0:0}[x])\n",
    "        fe_list.append(\"fe%s\"%(i+12))\n",
    "    for i in range(12):\n",
    "        data[\"fe%s\"%(i+24)]=data[\"arch\"].apply(lambda x:int(x[i*3+3:i*3+4]))#.apply(lambda x:{1:4,2:3.5,3:3,0:0}[x])\n",
    "        fe_list.append(\"fe%s\"%(i+24))\n",
    "    \n",
    "    return data,fe_list\n"
   ]
  },
  {
   "cell_type": "code",
   "execution_count": 14,
   "metadata": {},
   "outputs": [],
   "source": [
    "train,fe_list=create_data(train)\n",
    "valid,fe_list=create_data(valid)\n",
    "test,fe_list=create_data(test)"
   ]
  },
  {
   "cell_type": "code",
   "execution_count": 15,
   "metadata": {},
   "outputs": [],
   "source": [
    "for l in label_list:\n",
    "    train[l]=(train[l].rank()-1).astype(int)\n",
    "    valid[l]=(valid[l].rank()-1).astype(int)"
   ]
  },
  {
   "cell_type": "code",
   "execution_count": 16,
   "metadata": {},
   "outputs": [],
   "source": [
    "n=0\n",
    "tag_dic={}\n",
    "for l in label_list:\n",
    "    tag_dic[l]=n\n",
    "    n+=1"
   ]
  },
  {
   "cell_type": "code",
   "execution_count": 18,
   "metadata": {},
   "outputs": [
    {
     "name": "stdout",
     "output_type": "stream",
     "text": [
      "cplfw_rank 0.2840404040404041\n",
      "market1501_rank 0.8513131313131315\n",
      "dukemtmc_rank 0.9103030303030304\n",
      "msmt17_rank 0.9600000000000002\n",
      "veri_rank 0.9074747474747475\n",
      "vehicleid_rank 0.6989898989898992\n",
      "veriwild_rank 0.9365656565656567\n",
      "sop_rank 0.7907070707070709\n",
      "score: 0.7924242424242425\n"
     ]
    }
   ],
   "source": [
    "import lightgbm as lgb\n",
    "import xgboost as xgb\n",
    "import torch\n",
    "import scipy\n",
    "import numpy as np\n",
    "\n",
    "params = {\n",
    "        'num_leaves': 2,\n",
    "        'objective': 'regression_l2',\n",
    "        'max_depth': 10,\n",
    "        'min_data_in_leaf': 1,\n",
    "        'learning_rate': 0.8,\n",
    "        'feature_fraction': 0.99,\n",
    "        'bagging_fraction': 0.99,\n",
    "        'bagging_freq': 1,\n",
    "        'metric': 'mse',\n",
    "        'num_threads': 32,\n",
    "        'seed':2018\n",
    "          }\n",
    "\n",
    "xgbparams = {'booster': 'gbtree',\n",
    "          'eval_metric': 'rmse',\n",
    "          'gamma': 1,\n",
    "          'min_child_weight': 5,\n",
    "          'max_depth': 1,\n",
    "          'lambda': 10,\n",
    "          'eta': 0.8,\n",
    "          'tree_method': 'exact',\n",
    "          'seed': 2022,\n",
    "          'nthread': 32,\n",
    "          'silent':True\n",
    "          }\n",
    "\n",
    "\n",
    "num_round = {}\n",
    "early_stopping_rounds = 100\n",
    "\n",
    "score_list=[]\n",
    "for l in label_list:\n",
    "\n",
    "    \n",
    "    num_round[l]=300\n",
    "    #\"\"\"\n",
    "    num_round[\"cplfw_rank\"]=50\n",
    "    num_round[\"market1501_rank\"]=200\n",
    "    num_round[\"dukemtmc_rank\"]=300\n",
    "    num_round[\"msmt17_rank\"]=500\n",
    "    num_round[\"veri_rank\"]=100\n",
    "    num_round[\"vehicleid_rank\"]=100\n",
    "    num_round[\"veriwild_rank\"]=250\n",
    "    num_round[\"sop_rank\"]=100\n",
    "    #\"\"\"\n",
    "    \n",
    "    pred_list=[]\n",
    "    sub_list=[]\n",
    "    for i in range(20):\n",
    "        train_temp=train.sample(frac=0.75,random_state=i).reset_index(drop=True)\n",
    "        train_temp[l]=(train_temp[l].rank()-1).astype(int)\n",
    "        #train_temp[l]=train_temp[l].apply(lambda x:x+1 if x%2==0 else x-1)\n",
    "        train_y=train_temp[l]\n",
    "\n",
    "        #\"\"\"\n",
    "        from scipy.special import erfinv\n",
    "        mmin=np.min(train_y)+1\n",
    "        mmax=np.max(train_y)+1\n",
    "        train_y=np.sqrt(2) * erfinv(2 * (train_y+mmin)/(mmin+mmax)-1)\n",
    "        #\"\"\"\n",
    "        \n",
    "        #train_y=(train_y-train_y.mean())/train_y.mean()\n",
    "        #train_y=train_y*(np.abs(train_y)**0.3)\n",
    "        \n",
    "        params[\"seed\"]=i\n",
    "        if l in []:#label_list:\n",
    "            train_matrix = xgb.DMatrix(train_temp[fe_list], label=train_y)\n",
    "            valid_matrix = xgb.DMatrix(valid[fe_list], label=train_y)\n",
    "            test_matrix = xgb.DMatrix(test[fe_list], label=train_y)\n",
    "            \n",
    "            model = xgb.train(xgbparams, train_matrix, num_round[l])\n",
    "\n",
    "            pred=model.predict(valid_matrix)\n",
    "            sub=model.predict(test_matrix)\n",
    "            \n",
    "            \n",
    "        else:\n",
    "            train_matrix = lgb.Dataset(train_temp[fe_list], label=train_y,#weight=1-np.abs(train_temp[l]-train_temp[\"w\"])/train_temp[l].max()\n",
    "                                      )\n",
    "            cnt=0\n",
    "            model = lgb.train(params, train_matrix,num_round[l]#,fobj=myloss\n",
    "                              #valid_sets=test_matrix,verbose_eval=50,\n",
    "                              #early_stopping_rounds=early_stopping_rounds\n",
    "                              )\n",
    "\n",
    "            #print(\"\\n\".join((\"%s: %.2f\" % x) for x in list(sorted(zip(features, model.feature_importance(\"gain\")), key=lambda x: x[1],reverse=True))[:200]))\n",
    "            pred=model.predict(valid[fe_list])\n",
    "            sub=model.predict(test[fe_list])\n",
    "                \n",
    "        pred_list.append(pred)\n",
    "        sub_list.append(sub)\n",
    "            \n",
    "    pred=np.mean(np.array(pred_list),axis=0)\n",
    "    sub=np.mean(np.array(sub_list),axis=0)\n",
    "\n",
    "    score=scipy.stats.stats.kendalltau(pred, valid[l])[0]\n",
    "    print(l,score)\n",
    "    score_list.append(score)\n",
    "    test[l]=sub\n",
    "    test[l]=test[l].rank().astype(int)\n",
    "    \n",
    "    #break\n",
    "    \n",
    "print(\"score:\",np.mean(score_list))"
   ]
  },
  {
   "cell_type": "code",
   "execution_count": null,
   "metadata": {},
   "outputs": [],
   "source": [
    "test[label_list+[\"arch\"]].T.to_json(path+\"sub_0.7922727272727274.json\")"
   ]
  },
  {
   "cell_type": "code",
   "execution_count": null,
   "metadata": {},
   "outputs": [],
   "source": []
  }
 ],
 "metadata": {
  "kernelspec": {
   "display_name": "Python 3",
   "language": "python",
   "name": "python3"
  },
  "language_info": {
   "codemirror_mode": {
    "name": "ipython",
    "version": 3
   },
   "file_extension": ".py",
   "mimetype": "text/x-python",
   "name": "python",
   "nbconvert_exporter": "python",
   "pygments_lexer": "ipython3",
   "version": "3.7.3"
  }
 },
 "nbformat": 4,
 "nbformat_minor": 4
}
