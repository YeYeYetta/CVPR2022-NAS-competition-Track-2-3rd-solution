{
 "cells": [
  {
   "cell_type": "code",
   "execution_count": 1,
   "metadata": {},
   "outputs": [
    {
     "name": "stdout",
     "output_type": "stream",
     "text": [
      "{'cplfw_rank': 9, 'market1501_rank': 361, 'dukemtmc_rank': 426, 'msmt17_rank': 433, 'veri_rank': 327, 'vehicleid_rank': 480, 'veriwild_rank': 425, 'sop_rank': 367, 'arch': 'l231131331121121331111211121331321321'}\n",
      "train_num: 500\n"
     ]
    }
   ],
   "source": [
    "# 读取训练数据, 训练集包含500个模型结构，以及这些结构在cplfw，market1501，dukemtmc等8个任务上的性能排序\n",
    "import json\n",
    "with open('./data/CVPR_2022_NAS_Track2_train.json', 'r') as f:\n",
    "    train_data = json.load(f)\n",
    "print(train_data['arch1'])\n",
    "print('train_num:',len(train_data.keys()))"
   ]
  },
  {
   "cell_type": "code",
   "execution_count": 2,
   "metadata": {},
   "outputs": [],
   "source": [
    "import pandas as pd\n",
    "import numpy as np"
   ]
  },
  {
   "cell_type": "code",
   "execution_count": 3,
   "metadata": {},
   "outputs": [],
   "source": [
    "target_cols = ['cplfw_rank', 'market1501_rank', 'dukemtmc_rank', 'msmt17_rank', 'veri_rank', 'vehicleid_rank', 'veriwild_rank', 'sop_rank']"
   ]
  },
  {
   "cell_type": "code",
   "execution_count": 4,
   "metadata": {},
   "outputs": [],
   "source": [
    "def get_df(train_data):\n",
    "    ret = []\n",
    "    for k, v in train_data.items():\n",
    "        tmp = list(v['arch'])\n",
    "        tmp1 = []\n",
    "        for c in target_cols:\n",
    "            tmp1.append(v[c])\n",
    "        ret.append(tmp+tmp1+[k,v['arch']])\n",
    "    retf = pd.DataFrame(ret,columns=[f'col{_}' for _ in range(len(tmp))]+target_cols+['id','arch'])\n",
    "    retf['col0'] = retf['col0'].map({'l':1, 'j':2, 'k':3})\n",
    "    int_cols = [x for x in retf.columns if x not in ['id','arch']]\n",
    "    retf[int_cols] = retf[int_cols].astype(float)\n",
    "    return retf"
   ]
  },
  {
   "cell_type": "code",
   "execution_count": 5,
   "metadata": {},
   "outputs": [],
   "source": [
    "train_df = get_df(train_data)"
   ]
  },
  {
   "cell_type": "code",
   "execution_count": 6,
   "metadata": {},
   "outputs": [],
   "source": [
    "from scipy.special import erfinv \n",
    "\n",
    "for c in target_cols:\n",
    "    train_df[c+'_log1p'] = train_df[c].map(lambda x: np.log1p(x))\n",
    "    train_y=train_df[c]\n",
    "    mmin=np.min(train_y)+1\n",
    "    mmax=np.max(train_y)+1\n",
    "    train_y=np.sqrt(2) * erfinv(2 * (train_y+mmin)/(mmin+mmax)-1)\n",
    "    train_df[c+'_trans_y'] = train_y"
   ]
  },
  {
   "cell_type": "code",
   "execution_count": 7,
   "metadata": {},
   "outputs": [
    {
     "data": {
      "text/plain": [
       "Index(['col0', 'col1', 'col2', 'col3', 'col4', 'col5', 'col6', 'col7', 'col8',\n",
       "       'col9', 'col10', 'col11', 'col12', 'col13', 'col14', 'col15', 'col16',\n",
       "       'col17', 'col18', 'col19', 'col20', 'col21', 'col22', 'col23', 'col24',\n",
       "       'col25', 'col26', 'col27', 'col28', 'col29', 'col30', 'col31', 'col32',\n",
       "       'col33', 'col34', 'col35', 'col36', 'cplfw_rank', 'market1501_rank',\n",
       "       'dukemtmc_rank', 'msmt17_rank', 'veri_rank', 'vehicleid_rank',\n",
       "       'veriwild_rank', 'sop_rank', 'id', 'arch', 'cplfw_rank_log1p',\n",
       "       'cplfw_rank_trans_y', 'market1501_rank_log1p',\n",
       "       'market1501_rank_trans_y', 'dukemtmc_rank_log1p',\n",
       "       'dukemtmc_rank_trans_y', 'msmt17_rank_log1p', 'msmt17_rank_trans_y',\n",
       "       'veri_rank_log1p', 'veri_rank_trans_y', 'vehicleid_rank_log1p',\n",
       "       'vehicleid_rank_trans_y', 'veriwild_rank_log1p',\n",
       "       'veriwild_rank_trans_y', 'sop_rank_log1p', 'sop_rank_trans_y'],\n",
       "      dtype='object')"
      ]
     },
     "execution_count": 7,
     "metadata": {},
     "output_type": "execute_result"
    }
   ],
   "source": [
    "train_df.columns"
   ]
  },
  {
   "cell_type": "code",
   "execution_count": 8,
   "metadata": {},
   "outputs": [
    {
     "data": {
      "text/html": [
       "<div>\n",
       "<style scoped>\n",
       "    .dataframe tbody tr th:only-of-type {\n",
       "        vertical-align: middle;\n",
       "    }\n",
       "\n",
       "    .dataframe tbody tr th {\n",
       "        vertical-align: top;\n",
       "    }\n",
       "\n",
       "    .dataframe thead th {\n",
       "        text-align: right;\n",
       "    }\n",
       "</style>\n",
       "<table border=\"1\" class=\"dataframe\">\n",
       "  <thead>\n",
       "    <tr style=\"text-align: right;\">\n",
       "      <th></th>\n",
       "      <th>col0</th>\n",
       "      <th>col1</th>\n",
       "      <th>col2</th>\n",
       "      <th>col3</th>\n",
       "      <th>col4</th>\n",
       "      <th>col5</th>\n",
       "      <th>col6</th>\n",
       "      <th>col7</th>\n",
       "      <th>col8</th>\n",
       "      <th>col9</th>\n",
       "      <th>...</th>\n",
       "      <th>msmt17_rank_log1p</th>\n",
       "      <th>msmt17_rank_trans_y</th>\n",
       "      <th>veri_rank_log1p</th>\n",
       "      <th>veri_rank_trans_y</th>\n",
       "      <th>vehicleid_rank_log1p</th>\n",
       "      <th>vehicleid_rank_trans_y</th>\n",
       "      <th>veriwild_rank_log1p</th>\n",
       "      <th>veriwild_rank_trans_y</th>\n",
       "      <th>sop_rank_log1p</th>\n",
       "      <th>sop_rank_trans_y</th>\n",
       "    </tr>\n",
       "  </thead>\n",
       "  <tbody>\n",
       "    <tr>\n",
       "      <th>0</th>\n",
       "      <td>1.0</td>\n",
       "      <td>2.0</td>\n",
       "      <td>3.0</td>\n",
       "      <td>1.0</td>\n",
       "      <td>1.0</td>\n",
       "      <td>3.0</td>\n",
       "      <td>1.0</td>\n",
       "      <td>3.0</td>\n",
       "      <td>3.0</td>\n",
       "      <td>1.0</td>\n",
       "      <td>...</td>\n",
       "      <td>6.073045</td>\n",
       "      <td>1.108919</td>\n",
       "      <td>5.793014</td>\n",
       "      <td>0.398015</td>\n",
       "      <td>6.175867</td>\n",
       "      <td>1.751613</td>\n",
       "      <td>6.054439</td>\n",
       "      <td>1.037718</td>\n",
       "      <td>5.908083</td>\n",
       "      <td>0.626575</td>\n",
       "    </tr>\n",
       "    <tr>\n",
       "      <th>1</th>\n",
       "      <td>3.0</td>\n",
       "      <td>1.0</td>\n",
       "      <td>1.0</td>\n",
       "      <td>1.0</td>\n",
       "      <td>2.0</td>\n",
       "      <td>2.0</td>\n",
       "      <td>1.0</td>\n",
       "      <td>3.0</td>\n",
       "      <td>2.0</td>\n",
       "      <td>1.0</td>\n",
       "      <td>...</td>\n",
       "      <td>6.192362</td>\n",
       "      <td>1.978217</td>\n",
       "      <td>5.966147</td>\n",
       "      <td>0.766946</td>\n",
       "      <td>6.030685</td>\n",
       "      <td>0.955507</td>\n",
       "      <td>6.011267</td>\n",
       "      <td>0.894120</td>\n",
       "      <td>5.713733</td>\n",
       "      <td>0.265766</td>\n",
       "    </tr>\n",
       "    <tr>\n",
       "      <th>2</th>\n",
       "      <td>2.0</td>\n",
       "      <td>2.0</td>\n",
       "      <td>2.0</td>\n",
       "      <td>1.0</td>\n",
       "      <td>3.0</td>\n",
       "      <td>1.0</td>\n",
       "      <td>1.0</td>\n",
       "      <td>2.0</td>\n",
       "      <td>1.0</td>\n",
       "      <td>1.0</td>\n",
       "      <td>...</td>\n",
       "      <td>5.411646</td>\n",
       "      <td>-0.132977</td>\n",
       "      <td>4.990433</td>\n",
       "      <td>-0.543441</td>\n",
       "      <td>5.198497</td>\n",
       "      <td>-0.355046</td>\n",
       "      <td>4.615121</td>\n",
       "      <td>-0.835931</td>\n",
       "      <td>3.555348</td>\n",
       "      <td>-1.476832</td>\n",
       "    </tr>\n",
       "  </tbody>\n",
       "</table>\n",
       "<p>3 rows × 63 columns</p>\n",
       "</div>"
      ],
      "text/plain": [
       "   col0  col1  col2  col3  col4  col5  col6  col7  col8  col9  ...  \\\n",
       "0   1.0   2.0   3.0   1.0   1.0   3.0   1.0   3.0   3.0   1.0  ...   \n",
       "1   3.0   1.0   1.0   1.0   2.0   2.0   1.0   3.0   2.0   1.0  ...   \n",
       "2   2.0   2.0   2.0   1.0   3.0   1.0   1.0   2.0   1.0   1.0  ...   \n",
       "\n",
       "   msmt17_rank_log1p  msmt17_rank_trans_y  veri_rank_log1p  veri_rank_trans_y  \\\n",
       "0           6.073045             1.108919         5.793014           0.398015   \n",
       "1           6.192362             1.978217         5.966147           0.766946   \n",
       "2           5.411646            -0.132977         4.990433          -0.543441   \n",
       "\n",
       "   vehicleid_rank_log1p  vehicleid_rank_trans_y  veriwild_rank_log1p  \\\n",
       "0              6.175867                1.751613             6.054439   \n",
       "1              6.030685                0.955507             6.011267   \n",
       "2              5.198497               -0.355046             4.615121   \n",
       "\n",
       "   veriwild_rank_trans_y  sop_rank_log1p  sop_rank_trans_y  \n",
       "0               1.037718        5.908083          0.626575  \n",
       "1               0.894120        5.713733          0.265766  \n",
       "2              -0.835931        3.555348         -1.476832  \n",
       "\n",
       "[3 rows x 63 columns]"
      ]
     },
     "execution_count": 8,
     "metadata": {},
     "output_type": "execute_result"
    }
   ],
   "source": [
    "train_df.iloc[:3]"
   ]
  },
  {
   "cell_type": "code",
   "execution_count": 9,
   "metadata": {},
   "outputs": [],
   "source": [
    "def get_step(train_df):\n",
    "    res0 = []\n",
    "    res1 = []\n",
    "    res2 = []\n",
    "    res3 = []\n",
    "    res4 = []\n",
    "    map_={'l':1, 'j':2, 'k':3}\n",
    "    time_step=12\n",
    "    for item in train_df.arch:\n",
    "        ret = np.array(list(item[1:]),dtype=np.float32).reshape(-1,3)\n",
    "        res0.append(ret[:,0][:time_step])\n",
    "        res1.append(ret[:,1][:time_step])\n",
    "        res2.append(ret[:,2][:time_step])\n",
    "        res3.append(np.array([map_[item[0]]]*time_step))\n",
    "        res4.append([map_[item[0]]]+list(np.array(list(item[1:]),dtype=np.float32)))\n",
    "        \n",
    "    train_df['head'] = res0\n",
    "    train_df['mlp'] = res1\n",
    "    train_df['emb'] = res2\n",
    "    train_df['depth'] = res3\n",
    "    train_df['all_emb'] = res4"
   ]
  },
  {
   "cell_type": "code",
   "execution_count": 10,
   "metadata": {},
   "outputs": [],
   "source": [
    "#     retf['col0'] = retf['col0'].map({'j':10, 'k':11, 'l':12})\n",
    "#     retf[num_heads] = retf[num_heads].replace({1:12, 2:11, 3:10})\n",
    "#     retf[mlp_ratio] = retf[mlp_ratio].replace({1:4, 2:3.5, 3:3})\n",
    "#     retf[emb_dim] = retf[emb_dim].replace({1:768})"
   ]
  },
  {
   "cell_type": "code",
   "execution_count": 11,
   "metadata": {},
   "outputs": [],
   "source": [
    "def get_step(train_df):\n",
    "    res0 = []\n",
    "    res1 = []\n",
    "    res2 = []\n",
    "    res3 = []\n",
    "    res4 = []\n",
    "    map_={'l':1, 'j':2, 'k':3}\n",
    "    time_step=12\n",
    "    head_ = set([1+_*3 for _ in range(12)])\n",
    "    mlp_ = set([2+_*3 for _ in range(12)])\n",
    "    emb_ = set([3+_*3 for _ in range(12)])\n",
    "    depth_ = set([0])\n",
    "    for item in train_df.arch:\n",
    "        ret = np.array(list(item[1:]),dtype=np.float32).reshape(-1,3)\n",
    "        res0.append([1 if x in head_ else 0 for x in range(37)])\n",
    "        res1.append([1 if x in mlp_ else 0 for x in range(37)])\n",
    "        res2.append([1 if x in emb_ else 0 for x in range(37)])\n",
    "        res3.append([1 if x in depth_ else 0 for x in range(37)])\n",
    "        res4.append([map_[item[0]]]+list(np.array(list(item[1:]),dtype=np.float32)))\n",
    "        \n",
    "    train_df['head'] = res0\n",
    "    train_df['mlp'] = res1\n",
    "    train_df['emb'] = res2\n",
    "    train_df['depth'] = res3\n",
    "    train_df['all_emb'] = res4"
   ]
  },
  {
   "cell_type": "code",
   "execution_count": 12,
   "metadata": {},
   "outputs": [],
   "source": [
    "get_step(train_df)"
   ]
  },
  {
   "cell_type": "code",
   "execution_count": 13,
   "metadata": {},
   "outputs": [],
   "source": [
    "def get_step_0503(train_df):\n",
    "    res0 = []\n",
    "    res1 = []\n",
    "    res2 = []\n",
    "    res3 = []\n",
    "    res4 = []\n",
    "    map_={'l':1, 'j':2, 'k':3}\n",
    "    time_step=12\n",
    "    head_ = set([1+_*3 for _ in range(12)])\n",
    "    mlp_ = set([2+_*3 for _ in range(12)])\n",
    "    emb_ = set([3+_*3 for _ in range(12)])\n",
    "    depth_ = set([0])\n",
    "    for item in train_df.arch:\n",
    "        ret = np.array(list(item[1:]),dtype=np.float32).reshape(-1,3)\n",
    "        res0.append([int(item[x]) if x in head_ else 0 for x in range(37)])\n",
    "        res1.append([int(item[x]) if x in mlp_ else 0 for x in range(37)])\n",
    "        res2.append([int(item[x]) if x in emb_ else 0 for x in range(37)])\n",
    "        res3.append([map_[item[0]]]+[0]*36)\n",
    "        res4.append([map_[item[0]]]+list(np.array(list(item[1:]),dtype=np.float32)))\n",
    "        \n",
    "    train_df['head'] = res0\n",
    "    train_df['mlp'] = res1\n",
    "    train_df['emb'] = res2\n",
    "    train_df['depth'] = res3\n",
    "    train_df['all_emb'] = res4"
   ]
  },
  {
   "cell_type": "code",
   "execution_count": 14,
   "metadata": {},
   "outputs": [],
   "source": [
    "# get_step_0503(train_df)"
   ]
  },
  {
   "cell_type": "code",
   "execution_count": 15,
   "metadata": {},
   "outputs": [
    {
     "data": {
      "text/plain": [
       "37"
      ]
     },
     "execution_count": 15,
     "metadata": {},
     "output_type": "execute_result"
    }
   ],
   "source": [
    "len(train_df.all_emb.iloc[0])"
   ]
  },
  {
   "cell_type": "code",
   "execution_count": 16,
   "metadata": {},
   "outputs": [],
   "source": [
    "# for c in ['head','mlp']:\n",
    "#     train_df[c+'_diff1'] = train_df[c].map(lambda x: x - np.concatenate([np.array([0]),x[:-1]]))\n",
    "#     train_df[c+'_diff2'] = train_df[c].map(lambda x: x - np.concatenate([np.array([0,0]),x[:-2]]))"
   ]
  },
  {
   "cell_type": "code",
   "execution_count": 17,
   "metadata": {},
   "outputs": [],
   "source": [
    "from sklearn.model_selection import KFold\n",
    "from tqdm import tqdm_notebook as tqdm"
   ]
  },
  {
   "cell_type": "code",
   "execution_count": 18,
   "metadata": {},
   "outputs": [],
   "source": [
    "#定义数据\n",
    "import torch\n",
    "from torch.utils.data import Dataset\n",
    "\n",
    "class MyDataset(Dataset):\n",
    "    def __init__(self,df,use_cols,target_cols,show=0):\n",
    "        self.df = df\n",
    "        self.show = show\n",
    "        self.use_cols = use_cols\n",
    "        self.target_cols = target_cols\n",
    "\n",
    "        self.prepare_data()\n",
    "        \n",
    "    def __len__(self):\n",
    "        return self.df.shape[0]\n",
    "    \n",
    "    def prepare_data(self):\n",
    "        self.y = self.df[self.target_cols].values\n",
    "#         self.y = self.df[[x+'_trans_y' for x in self.target_cols]].values\n",
    "        self.y0 = self.df[[self.target_cols[0]]].values\n",
    "        self.y1 = self.df[[self.target_cols[1]]].values\n",
    "        self.y2 = self.df[[self.target_cols[2]]].values\n",
    "        self.y3 = self.df[[self.target_cols[3]]].values\n",
    "        self.y4 = self.df[[self.target_cols[4]]].values\n",
    "        self.y5 = self.df[[self.target_cols[5]]].values\n",
    "        self.y6 = self.df[[self.target_cols[6]]].values\n",
    "        self.y7 = self.df[[self.target_cols[7]]].values\n",
    "        \n",
    "#         self.inputs = self.df[use_cols].values\n",
    "        uc = ['all_emb']\n",
    "#         uc = ['head','mlp','emb']\n",
    "        tmp_dt = {}\n",
    "        for c in uc:\n",
    "            tmp_dt[c] = np.array(self.df[c].tolist())\n",
    "        self.inputs = np.concatenate([tmp_dt[c][:, None] for c in uc], 1).transpose(0, 2, 1)\n",
    "        #倒序\n",
    "#         b1 = a.copy()\n",
    "#         b1[:,:] = b1[:,::-1]\n",
    "        #横向重复\n",
    "#         c = a.copy()\n",
    "#         c = c.reshape(-1,1,37).repeat(37,1)\n",
    "#         self.inputs = np.concatenate([a, c], -1)\n",
    "\n",
    "        uc= ['all_emb','depth','head','mlp','emb']\n",
    "        tmp_dt = {}\n",
    "        for c in uc:\n",
    "            tmp_dt[c] = np.array(self.df[c].tolist())\n",
    "        self.inputs1= np.concatenate([tmp_dt[c][:, None] for c in uc], 1).transpose(0, 2, 1)\n",
    "        \n",
    "        \n",
    "        if self.show==1:\n",
    "            print('inputs_shape',self.inputs.shape)\n",
    "            print('inputs1_shape',self.inputs1.shape)\n",
    "            print('y_shape',self.y.shape)\n",
    "        \n",
    "    def __getitem__(self, idx):\n",
    "        data = {\n",
    "            \"input\": torch.tensor(self.inputs[idx], dtype=torch.float),\n",
    "            \"input1\": torch.tensor(self.inputs1[idx], dtype=torch.float),\n",
    "            \"y\": torch.tensor(self.y[idx], dtype=torch.float),\n",
    "#             \"y_trans\": torch.tensor(self.y[idx], dtype=torch.float),\n",
    "            \"y0\": torch.tensor(self.y0[idx], dtype=torch.float),\n",
    "            \"y1\": torch.tensor(self.y1[idx], dtype=torch.float),\n",
    "            \"y2\": torch.tensor(self.y2[idx], dtype=torch.float),\n",
    "            \"y3\": torch.tensor(self.y3[idx], dtype=torch.float),\n",
    "            \"y4\": torch.tensor(self.y4[idx], dtype=torch.float),\n",
    "            \"y5\": torch.tensor(self.y5[idx], dtype=torch.float),\n",
    "            \"y6\": torch.tensor(self.y6[idx], dtype=torch.float),\n",
    "            \"y7\": torch.tensor(self.y7[idx], dtype=torch.float),\n",
    "        }\n",
    "        \n",
    "        return data"
   ]
  },
  {
   "cell_type": "code",
   "execution_count": 19,
   "metadata": {},
   "outputs": [
    {
     "data": {
      "text/plain": [
       "Index(['col0', 'col1', 'col2', 'col3', 'col4', 'col5', 'col6', 'col7', 'col8',\n",
       "       'col9', 'col10', 'col11', 'col12', 'col13', 'col14', 'col15', 'col16',\n",
       "       'col17', 'col18', 'col19', 'col20', 'col21', 'col22', 'col23', 'col24',\n",
       "       'col25', 'col26', 'col27', 'col28', 'col29', 'col30', 'col31', 'col32',\n",
       "       'col33', 'col34', 'col35', 'col36', 'cplfw_rank', 'market1501_rank',\n",
       "       'dukemtmc_rank', 'msmt17_rank', 'veri_rank', 'vehicleid_rank',\n",
       "       'veriwild_rank', 'sop_rank', 'id', 'arch', 'cplfw_rank_log1p',\n",
       "       'cplfw_rank_trans_y', 'market1501_rank_log1p',\n",
       "       'market1501_rank_trans_y', 'dukemtmc_rank_log1p',\n",
       "       'dukemtmc_rank_trans_y', 'msmt17_rank_log1p', 'msmt17_rank_trans_y',\n",
       "       'veri_rank_log1p', 'veri_rank_trans_y', 'vehicleid_rank_log1p',\n",
       "       'vehicleid_rank_trans_y', 'veriwild_rank_log1p',\n",
       "       'veriwild_rank_trans_y', 'sop_rank_log1p', 'sop_rank_trans_y', 'head',\n",
       "       'mlp', 'emb', 'depth', 'all_emb'],\n",
       "      dtype='object')"
      ]
     },
     "execution_count": 19,
     "metadata": {},
     "output_type": "execute_result"
    }
   ],
   "source": [
    "train_df.columns"
   ]
  },
  {
   "cell_type": "code",
   "execution_count": 20,
   "metadata": {},
   "outputs": [],
   "source": [
    "train0 = train_df.sample(400, random_state=666).reset_index(drop=True)\n",
    "val0 = train_df[~train_df.id.isin(train0.id)].reset_index(drop=True)"
   ]
  },
  {
   "cell_type": "code",
   "execution_count": 21,
   "metadata": {},
   "outputs": [],
   "source": [
    "use_cols = [x for x in train_df.columns if 'col' in x]"
   ]
  },
  {
   "cell_type": "code",
   "execution_count": 22,
   "metadata": {},
   "outputs": [
    {
     "data": {
      "text/plain": [
       "37"
      ]
     },
     "execution_count": 22,
     "metadata": {},
     "output_type": "execute_result"
    }
   ],
   "source": [
    "len(use_cols)"
   ]
  },
  {
   "cell_type": "code",
   "execution_count": 23,
   "metadata": {},
   "outputs": [
    {
     "name": "stdout",
     "output_type": "stream",
     "text": [
      "inputs_shape (400, 37, 1)\n",
      "inputs1_shape (400, 37, 5)\n",
      "y_shape (400, 8)\n",
      "inputs_shape (100, 37, 1)\n",
      "inputs1_shape (100, 37, 5)\n",
      "y_shape (100, 8)\n"
     ]
    }
   ],
   "source": [
    "train_dataset = MyDataset(train0, use_cols, target_cols, 1)\n",
    "val_dataset = MyDataset(val0, use_cols, target_cols, 1)"
   ]
  },
  {
   "cell_type": "code",
   "execution_count": 24,
   "metadata": {},
   "outputs": [
    {
     "data": {
      "text/plain": [
       "tensor([[2.],\n",
       "        [3.],\n",
       "        [1.],\n",
       "        [1.],\n",
       "        [3.],\n",
       "        [2.],\n",
       "        [1.],\n",
       "        [3.],\n",
       "        [3.],\n",
       "        [1.],\n",
       "        [3.],\n",
       "        [1.],\n",
       "        [1.],\n",
       "        [1.],\n",
       "        [3.],\n",
       "        [1.],\n",
       "        [3.],\n",
       "        [1.],\n",
       "        [1.],\n",
       "        [2.],\n",
       "        [2.],\n",
       "        [1.],\n",
       "        [1.],\n",
       "        [2.],\n",
       "        [1.],\n",
       "        [2.],\n",
       "        [1.],\n",
       "        [1.],\n",
       "        [2.],\n",
       "        [2.],\n",
       "        [1.],\n",
       "        [0.],\n",
       "        [0.],\n",
       "        [0.],\n",
       "        [0.],\n",
       "        [0.],\n",
       "        [0.]])"
      ]
     },
     "execution_count": 24,
     "metadata": {},
     "output_type": "execute_result"
    }
   ],
   "source": [
    "train_dataset[0]['input']"
   ]
  },
  {
   "cell_type": "code",
   "execution_count": 25,
   "metadata": {},
   "outputs": [],
   "source": [
    "import gc\n",
    "import os\n",
    "import time\n",
    "import random\n",
    "import numpy as np\n",
    "import torch\n",
    "from torch import nn\n",
    "from torch.utils.data import DataLoader\n",
    "from transformers import get_linear_schedule_with_warmup\n",
    "\n",
    "\n",
    "def seed_everything(seed):\n",
    "    random.seed(seed)\n",
    "    os.environ[\"PYTHONHASHSEED\"] = str(seed)\n",
    "    np.random.seed(seed)\n",
    "    torch.manual_seed(seed)\n",
    "    torch.cuda.manual_seed(seed)\n",
    "    torch.backends.cudnn.deterministic = True\n",
    "    torch.backends.cudnn.benchmark = False\n",
    "    \n",
    "    \n",
    "def count_parameters(model, all=False):\n",
    "    if all:\n",
    "        return sum(p.numel() for p in model.parameters())\n",
    "    else:\n",
    "        return sum(p.numel() for p in model.parameters() if p.requires_grad)\n",
    "\n",
    "\n",
    "def save_model_weights(model, modelpath, filename):\n",
    "    torch.save(model.state_dict(), modelpath+filename)\n",
    "    return f\"\\n -> Save weights to {modelpath+filename}\\n\""
   ]
  },
  {
   "cell_type": "code",
   "execution_count": 26,
   "metadata": {},
   "outputs": [],
   "source": [
    "import scipy"
   ]
  },
  {
   "cell_type": "code",
   "execution_count": 27,
   "metadata": {},
   "outputs": [],
   "source": [
    "def compute_metric(pred, y):\n",
    "    corr = []\n",
    "    if pred.shape[1]>2:\n",
    "        for i in range(8):\n",
    "            corr.append(scipy.stats.stats.kendalltau(pred[:, i], y[:, i])[0])\n",
    "    else:\n",
    "        corr.append(scipy.stats.stats.kendalltau(pred, y)[0])\n",
    "    return np.array(corr)\n",
    "\n",
    "class CVPRLoss(nn.Module):\n",
    "    def __call__(self, pred, y):\n",
    "        pred_mean, y_mean = pred.mean(0), y.mean(0)\n",
    "        pred_std, y_std = pred.std(0), y.std(0)\n",
    "        corr = ((pred - pred_mean) * (y - y_mean)).sum(0) / ((((pred - pred_mean)**2).sum(0).sqrt()) * (((y - y_mean)**2).sum(0).sqrt())) \n",
    "    \n",
    "#         cos = nn.CosineSimilarity(dim=0, eps=1e-08)\n",
    "#         corr1 = cos(pred, y)\n",
    "#         corr2 = (corr+corr1)/2\n",
    "        return 1-corr\n",
    "\n",
    "from fast_soft_sort.pytorch_ops import soft_rank\n",
    "class CVPRLoss1(nn.Module):\n",
    "    #spearman\n",
    "    def __call__(self, pred, y):\n",
    "        pred = pred.cpu()\n",
    "        y = y.cpu()\n",
    "        return 1-torch.cat(\n",
    "            [self.spearman(y[:,i].reshape(1,-1), \n",
    "                           pred[:,i].reshape(1,-1)).reshape(1,1) for i in range(y.shape[1])]\n",
    "        ).reshape(1, -1)\n",
    "        \n",
    "    def corrcoef(self, target, pred):\n",
    "        # np.corrcoef in torch from @mdo\n",
    "        # https://forum.numer.ai/t/custom-loss-functions-for-xgboost-using-pytorch/960\n",
    "        pred_n = pred - pred.mean()\n",
    "        target_n = target - target.mean()\n",
    "        pred_n = pred_n / pred_n.norm()\n",
    "        target_n = target_n / target_n.norm()\n",
    "        return (pred_n * target_n).sum()\n",
    "\n",
    "\n",
    "    def spearman(self,\n",
    "        target,\n",
    "        pred,\n",
    "        regularization=\"l2\",\n",
    "        regularization_strength=0.01,\n",
    "    ):\n",
    "        # fast_soft_sort uses 1-based indexing, divide by len to compute percentage of rank\n",
    "        pred = soft_rank(\n",
    "            pred,\n",
    "            regularization=regularization,\n",
    "            regularization_strength=regularization_strength,\n",
    "        )\n",
    "    #     print(pred)\n",
    "        return self.corrcoef(target, pred / pred.shape[-1])\n",
    "     \n",
    "class CVPRLoss2(nn.Module):\n",
    "    #kendall soft rank+tanh\n",
    "    def __call__(self, pred, y):\n",
    "        pred = pred.cpu()\n",
    "        y = y.cpu()\n",
    "        return 1-torch.cat(\n",
    "            [self.get_score(y[:,i].reshape(1,-1), \n",
    "                           pred[:,i].reshape(1,-1)).reshape(1,-1) for i in range(y.shape[1])]\n",
    "        ).reshape(1, -1)\n",
    "        \n",
    "    def get_score(self, actuals, preds):\n",
    "        sa = actuals.argsort()[0]\n",
    "\n",
    "        tmp = soft_rank(\n",
    "            preds.index_select(1, sa),\n",
    "            regularization='l2',\n",
    "            regularization_strength=0.01,\n",
    "        )[0]-1\n",
    "        \n",
    "        tmp = tmp.cuda()\n",
    "\n",
    "        score = torch.cat([((tmp[i:]-tmp[i-1]) * 10).tanh() for i in range(1, tmp.shape[0])]).sum()\n",
    "        score1 = score/sum(list(range(1,len(tmp))))\n",
    "        return score1\n",
    "    \n",
    "class CVPRLoss_softrank(nn.Module):\n",
    "    #kendall soft rank+tanh\n",
    "    def __call__(self, pred, y):\n",
    "        pred = pred.cpu()\n",
    "        y = y.cpu()\n",
    "        return 1-torch.cat(\n",
    "            [self.get_score(y[:,i].reshape(1,-1), \n",
    "                           pred[:,i].reshape(1,-1)).reshape(1,-1) for i in range(y.shape[1])]\n",
    "        ).reshape(1, -1)\n",
    "        \n",
    "    def get_score(self, actuals, preds):\n",
    "        sa = actuals.argsort()[0]\n",
    "\n",
    "        tmp = soft_rank(\n",
    "            preds.index_select(1, sa),\n",
    "            regularization='l2',\n",
    "            regularization_strength=0.01,\n",
    "        )[0]-1\n",
    "        \n",
    "        tmp = tmp.cuda()\n",
    "\n",
    "        score = torch.cat([((tmp[i:]-tmp[i-1]) * 10).tanh() for i in range(1, tmp.shape[0])]).sum()\n",
    "        score1 = score/sum(list(range(1,len(tmp))))\n",
    "        return score1\n",
    "    \n",
    "class CVPRLoss_softsign(nn.Module):\n",
    "    #kendall softsign\n",
    "    def __call__(self, pred, y):\n",
    "        return 1-torch.cat(\n",
    "            [self.get_score(y[:,i].reshape(1,-1), \n",
    "                           pred[:,i].reshape(1,-1)).reshape(1,-1) for i in range(y.shape[1])]\n",
    "        ).reshape(1, -1)\n",
    "\n",
    "    \n",
    "    def get_score(self, actuals, preds):\n",
    "        sa = actuals.argsort()[0]\n",
    "        tmp = preds.index_select(1, sa.int())[0]\n",
    "        score = torch.cat([(tmp[i:]-tmp[i-1])/(0.01+torch.abs(tmp[i:]-tmp[i-1])) for i in range(1, tmp.shape[0])]).sum()\n",
    "        score1 = score/sum(list(range(1,len(tmp))))\n",
    "        return score1\n",
    "    \n",
    "class CVPRLoss_tanh(nn.Module):\n",
    "    # kendall tanh\n",
    "    def __call__(self, pred, y):\n",
    "        return 1-torch.cat(\n",
    "            [self.get_score(y[:,i].reshape(1,-1), \n",
    "                           pred[:,i].reshape(1,-1)).reshape(1,-1) for i in range(y.shape[1])]\n",
    "        ).reshape(1, -1)\n",
    "    \n",
    "    def get_score(self, actuals, preds):\n",
    "        sa = actuals.argsort()[0]\n",
    "        tmp = preds.index_select(1, sa.int())[0]\n",
    "        score = torch.cat([((tmp[i:]-tmp[i-1])).tanh() for i in range(1, tmp.shape[0])]).sum()\n",
    "        score1 = score/sum(list(range(1,len(tmp))))\n",
    "        return score1\n",
    "    \n",
    "    \n",
    "class CVPRLoss_pair(nn.Module):\n",
    "    def __call__(self, pred, y):\n",
    "        return torch.cat(\n",
    "            [self.pair_loss(pred[:,i], y[:,i]).reshape(1) for i in range(y.shape[1])]\n",
    "        ).reshape(1,-1)\n",
    "    \n",
    "    def pair_loss(self, outputs, labels):\n",
    "        output = outputs.unsqueeze(1)\n",
    "        output1 = output.repeat(1,outputs.shape[0])\n",
    "        label = labels.unsqueeze(1)\n",
    "        label1 = label.repeat(1,labels.shape[0])\n",
    "\n",
    "        tmp = (output1-output1.t())*torch.sign(label1-label1.t())\n",
    "        tmp = torch.log(1+torch.exp(-tmp))\n",
    "        eye_tmp = tmp*torch.eye(len(tmp)).cuda()\n",
    "        new_tmp = tmp - eye_tmp\n",
    "        loss = torch.sum(new_tmp)/(outputs.shape[0]*(outputs.shape[0]-1))\n",
    "\n",
    "        return loss\n",
    "    \n",
    "class CVPRLoss_tanh1(nn.Module):\n",
    "    # kendall tanh\n",
    "    def __call__(self, pred, y):\n",
    "        return 1-torch.cat(\n",
    "            [self.get_score(pred[:,i], y[:,i]).reshape(1) for i in range(y.shape[1])]\n",
    "        ).reshape(1,-1)\n",
    "    \n",
    "    def get_score(self, outputs, labels):\n",
    "        output1 = outputs.unsqueeze(1).repeat(1,outputs.shape[0])\n",
    "        label1 = labels.unsqueeze(1).repeat(1,labels.shape[0])\n",
    "\n",
    "        tmp = ((output1-output1.t())*torch.sign(label1-label1.t())).tanh()\n",
    "        eye_tmp = tmp*torch.eye(tmp.shape[0]).cuda()\n",
    "        new_tmp = tmp - eye_tmp\n",
    "        \n",
    "        loss = torch.sum(new_tmp)/(outputs.shape[0]*(outputs.shape[0]-1))\n",
    "\n",
    "        return loss"
   ]
  },
  {
   "cell_type": "code",
   "execution_count": 28,
   "metadata": {},
   "outputs": [],
   "source": [
    "def train(model, \n",
    "        train_dataset, \n",
    "        val_dataset, \n",
    "        verbose=20, \n",
    "        fold_=0,\n",
    "        modelname='MLP_base',\n",
    "        modelpath=r'./model'+'//',\n",
    "        input='input',\n",
    "        y='y',\n",
    "        early_stop_round=60,\n",
    "        debug=False):\n",
    "    \n",
    "    print(f'Model parameters count: {count_parameters(model)}')\n",
    "    #数据加载\n",
    "    train_loader = DataLoader(\n",
    "        train_dataset,\n",
    "        batch_size=BATCH_SIZE,\n",
    "        shuffle=False,\n",
    "        drop_last=True,\n",
    "        pin_memory=True\n",
    "    )\n",
    "    val_loader = DataLoader(\n",
    "        val_dataset,\n",
    "        batch_size=BATCH_SIZE_TEST,\n",
    "        shuffle=False,\n",
    "        drop_last=False,\n",
    "        pin_memory=True\n",
    "    )\n",
    "    print(f'train batch num: {len(train_loader)}')\n",
    "    print(f'val batch num: {len(val_loader)}')\n",
    "            \n",
    "    # Optimizer\n",
    "    optimizer = getattr(torch.optim, optim)(model.parameters(), lr=LR)\n",
    "    # Scheduler\n",
    "    num_warmup_steps = int(0.1 * EPOCHS * len(train_loader))\n",
    "    num_training_steps = int(EPOCHS * len(train_loader))\n",
    "    scheduler = get_linear_schedule_with_warmup(\n",
    "        optimizer, num_warmup_steps, num_training_steps\n",
    "    )\n",
    "    print(f'optim: {optim}, lr: {LR}, warmup_steps: {num_warmup_steps}')\n",
    "    \n",
    "    \n",
    "    #train\n",
    "    bst_epoch=0\n",
    "    score_best=0\n",
    "    first_epoch_eval=0\n",
    "    for epoch in range(EPOCHS):\n",
    "        if epoch > early_stop_round and (epoch - bst_epoch > early_stop_round):\n",
    "            print(f'early stopping.')\n",
    "            break\n",
    "            \n",
    "        model.train()\n",
    "        model.zero_grad()\n",
    "        start_time = time.time()\n",
    "\n",
    "        avg_loss = 0\n",
    "        for data in train_loader:\n",
    "            pred = model(data[input].to(device))\n",
    "\n",
    "            loss = loss_fct(\n",
    "                pred,\n",
    "                data[y].to(device)\n",
    "            ).mean()\n",
    "\n",
    "            loss.backward()\n",
    "            avg_loss += loss.item() / len(train_loader)\n",
    "\n",
    "            optimizer.step()\n",
    "            scheduler.step()\n",
    "\n",
    "            optimizer.zero_grad(set_to_none=True)\n",
    "\n",
    "        #VAL\n",
    "        model.eval()\n",
    "        mae, avg_val_loss = 0, 0\n",
    "        preds = []\n",
    "\n",
    "        with torch.no_grad():\n",
    "            for data in val_loader:\n",
    "                pred = model(data[input].to(device))\n",
    "\n",
    "                loss = loss_fct(\n",
    "                    pred,\n",
    "                    data[y].to(device)\n",
    "                ).mean()\n",
    "\n",
    "                avg_val_loss += loss.item() / len(val_loader)\n",
    "\n",
    "                preds.append(pred.detach().cpu().numpy())\n",
    "\n",
    "        preds = np.concatenate(preds, 0)\n",
    "        if y=='y':\n",
    "            mae = compute_metric(preds,val_dataset.df[target_cols].values).mean()\n",
    "        else:\n",
    "            mae = compute_metric(preds,val_dataset.df[[target_cols[int(y.replace('y',''))]]].values).mean()\n",
    "        \n",
    "        elapsed_time = time.time() - start_time\n",
    "        if (epoch + 1) % verbose == 0:\n",
    "            elapsed_time = elapsed_time * verbose\n",
    "            lr = scheduler.get_last_lr()[0]\n",
    "    #         lr=LR\n",
    "            print(\n",
    "                f\"Epoch {epoch + 1:02d}/{ EPOCHS:02d} \\t lr={lr:.1e}\\t t={elapsed_time:.0f}s \\t\"\n",
    "                f\"loss={avg_loss:.4f}\",\n",
    "                end=\"\\t\",\n",
    "            )\n",
    "\n",
    "            if (epoch + 1 >= first_epoch_eval) or (epoch + 1 == EPOCHS):\n",
    "                print(f\"val_loss={avg_val_loss:.4f}\\tcorr={mae:.4f}\")\n",
    "            else:\n",
    "                print(\"\")\n",
    "                \n",
    "        #保存最优模型\n",
    "        if mae>score_best:\n",
    "            bst = save_model_weights(model, modelpath, f'{modelname}_{fold_}.pt')\n",
    "            score_best = mae\n",
    "            bst_epoch = epoch\n",
    "            if y=='y':\n",
    "                bst_list = compute_metric(preds,val_dataset.df[target_cols].values)\n",
    "            else:\n",
    "                bst_list = compute_metric(preds,val_dataset.df[[target_cols[int(y.replace('y',''))]]].values).mean()\n",
    "            bst_preds = preds\n",
    "    print(f'best score {score_best}, best epoch: {bst_epoch}, {bst} ' )\n",
    "    print(bst_list,'\\n\\n')\n",
    "    del (val_loader, train_loader, loss, data, pred)\n",
    "    gc.collect()\n",
    "    torch.cuda.empty_cache()\n",
    "    \n",
    "    return bst_preds, bst_list"
   ]
  },
  {
   "cell_type": "code",
   "execution_count": 38,
   "metadata": {},
   "outputs": [],
   "source": [
    "class CVPRModel(nn.Module):\n",
    "    def __init__(\n",
    "        self,\n",
    "        input_dim=3,\n",
    "        num_classes=8,\n",
    "        time_step=12,\n",
    "        bi=True\n",
    "    ):\n",
    "        super(CVPRModel,self).__init__()\n",
    "        \n",
    "        self.bi_num = 2 if bi else 1\n",
    "        self.time_step = time_step\n",
    "        \n",
    "        self.MLP = nn.Sequential(\n",
    "            nn.Linear(input_dim, 128),\n",
    "            nn.ReLU(),\n",
    "            nn.Linear(128, 256),\n",
    "            nn.ReLU(),\n",
    "            nn.Linear(256, 256),\n",
    "            nn.ReLU(),\n",
    "        )\n",
    "        \n",
    "#         self.MLP = nn.Sequential(\n",
    "#             nn.Linear(time_step, 128),\n",
    "#             nn.ReLU(),\n",
    "#             nn.Linear(128, 256),\n",
    "#             nn.ReLU(),\n",
    "#             nn.Linear(256, 256)\n",
    "#         )\n",
    "\n",
    "        \n",
    "        self.LSTM0 = nn.LSTM(256, 256, \n",
    "                    batch_first=True, \n",
    "                    bidirectional=bi, \n",
    "                    num_layers=1,\n",
    "                    dropout=0)\n",
    "                                 \n",
    "        \n",
    "        self.LSTM1 = nn.LSTM(512, 256, \n",
    "                    batch_first=True, \n",
    "                    bidirectional=bi, \n",
    "                    num_layers=1,\n",
    "                    dropout=0\n",
    "                            )    \n",
    "\n",
    "#         self.LSTM2 = nn.LSTM(512, 256, \n",
    "#                     batch_first=True, \n",
    "#                     bidirectional=bi, \n",
    "#                     num_layers=1,\n",
    "#                     dropout=0)\n",
    "        \n",
    "        self.Logits = nn.Sequential(\n",
    "            nn.Flatten(start_dim=1),\n",
    "            nn.Linear((512+512+256+1)*self.time_step, 2048),\n",
    "            nn.ReLU(),\n",
    "            nn.Linear(2048, 1024),\n",
    "            nn.ReLU(),\n",
    "            nn.Linear(1024, 256),\n",
    "            nn.ReLU(),\n",
    "            nn.Linear(256, num_classes)\n",
    "        )\n",
    "        \n",
    "    def forward(self, x):\n",
    "        x1 = self.MLP(x)\n",
    "        x2, (h0, c0) = self.LSTM0(x1)\n",
    "        x3, (h1, c1) = self.LSTM1(x2, (h0, c0))\n",
    "#         x4, (h2, c2) = self.LSTM2(x3, (h1, c1))\n",
    "        c1 = torch.cat([x3, x2, x1, x], -1)\n",
    "        pred = self.Logits(c1)\n",
    "        return pred"
   ]
  },
  {
   "cell_type": "code",
   "execution_count": 31,
   "metadata": {},
   "outputs": [],
   "source": [
    "#参数设置\n",
    "seed = 666\n",
    "BATCH_SIZE = 400\n",
    "BATCH_SIZE_TEST = 128\n",
    "EPOCHS = 300\n",
    "LR = 0.001\n",
    "optim = \"Adam\"\n",
    "device = \"cuda\" if torch.cuda.is_available() else \"cpu\"\n",
    "modelpath = r'./model'+'//'"
   ]
  },
  {
   "cell_type": "code",
   "execution_count": 32,
   "metadata": {},
   "outputs": [
    {
     "data": {
      "text/plain": [
       "torch.Size([128, 8])"
      ]
     },
     "execution_count": 32,
     "metadata": {},
     "output_type": "execute_result"
    }
   ],
   "source": [
    "a = torch.rand(128,37,1).to(device)\n",
    "net = CVPRModel(input_dim=1,\n",
    "                num_classes=len(target_cols),\n",
    "                bi=True,\n",
    "                time_step=37\n",
    "               ).to(device)\n",
    "b = net(a)\n",
    "b.shape"
   ]
  },
  {
   "cell_type": "code",
   "execution_count": 33,
   "metadata": {},
   "outputs": [
    {
     "data": {
      "text/plain": [
       "torch.Size([8])"
      ]
     },
     "execution_count": 33,
     "metadata": {},
     "output_type": "execute_result"
    }
   ],
   "source": [
    "b[0].shape"
   ]
  },
  {
   "cell_type": "code",
   "execution_count": 34,
   "metadata": {},
   "outputs": [
    {
     "data": {
      "text/plain": [
       "torch.Size([128, 8])"
      ]
     },
     "execution_count": 34,
     "metadata": {},
     "output_type": "execute_result"
    }
   ],
   "source": [
    "b.flatten(1).shape"
   ]
  },
  {
   "cell_type": "code",
   "execution_count": 35,
   "metadata": {},
   "outputs": [],
   "source": [
    "del a,b,net;\n",
    "gc.collect()\n",
    "torch.cuda.empty_cache()"
   ]
  },
  {
   "cell_type": "code",
   "execution_count": null,
   "metadata": {},
   "outputs": [],
   "source": []
  },
  {
   "cell_type": "code",
   "execution_count": 74,
   "metadata": {},
   "outputs": [
    {
     "name": "stdout",
     "output_type": "stream",
     "text": [
      "Model parameters count: 102162440\n",
      "train batch num: 1\n",
      "val batch num: 1\n",
      "optim: Adam, lr: 0.001, warmup_steps: 30\n",
      "Epoch 20/300 \t lr=6.7e-04\t t=1s \tloss=0.4693\tval_loss=0.4886\tcorr=0.5151\n",
      "Epoch 40/300 \t lr=9.6e-04\t t=2s \tloss=0.3250\tval_loss=0.3550\tcorr=0.6465\n",
      "Epoch 60/300 \t lr=8.9e-04\t t=2s \tloss=0.2366\tval_loss=0.2599\tcorr=0.7410\n",
      "Epoch 80/300 \t lr=8.1e-04\t t=2s \tloss=0.1868\tval_loss=0.2126\tcorr=0.7890\n",
      "Epoch 100/300 \t lr=7.4e-04\t t=1s \tloss=0.1779\tval_loss=0.2099\tcorr=0.7911\n",
      "Epoch 120/300 \t lr=6.7e-04\t t=1s \tloss=0.1690\tval_loss=0.2140\tcorr=0.7856\n",
      "Epoch 140/300 \t lr=5.9e-04\t t=1s \tloss=0.1570\tval_loss=0.2164\tcorr=0.7841\n",
      "early stopping.\n",
      "best score 0.7926767676767678, best epoch: 82, \n",
      " -> Save weights to E:\\cvpr_model//LSTM1_step37_base1_test__t.pt\n",
      " \n",
      "[0.34545455 0.87676768 0.89010101 0.96161616 0.87717172 0.67434343\n",
      " 0.91272727 0.80323232] \n",
      "\n",
      "\n"
     ]
    }
   ],
   "source": [
    "#参数设置\n",
    "seed = 666\n",
    "BATCH_SIZE = 400\n",
    "BATCH_SIZE_TEST = 128\n",
    "EPOCHS = 300\n",
    "LR = 0.001\n",
    "optim = \"Adam\"\n",
    "device = \"cuda\" if torch.cuda.is_available() else \"cpu\"\n",
    "modelpath = r'E:\\cvpr_model'+'//'\n",
    "\n",
    "# loss_fct = CVPRLoss_tanh()\n",
    "loss_fct = CVPRLoss_tanh1()\n",
    "index = '_t'\n",
    "seed_everything(seed)\n",
    "modelname = 'LSTM1_step37_base1_test'\n",
    "model = CVPRModel(input_dim=1,\n",
    "                num_classes=8,\n",
    "                bi=True,\n",
    "                time_step=37\n",
    "               ).to(device)\n",
    "preds,_ = train(model, \n",
    "            train_dataset, \n",
    "            val_dataset, \n",
    "            verbose=20, \n",
    "            fold_=index,\n",
    "            modelname=modelname,\n",
    "            modelpath=modelpath,\n",
    "            input='input',\n",
    "            y='y',\n",
    "            debug=False\n",
    "             )"
   ]
  },
  {
   "cell_type": "code",
   "execution_count": 75,
   "metadata": {},
   "outputs": [
    {
     "name": "stdout",
     "output_type": "stream",
     "text": [
      "Model parameters count: 102162440\n",
      "train batch num: 1\n",
      "val batch num: 1\n",
      "optim: Adam, lr: 0.001, warmup_steps: 30\n",
      "Epoch 20/300 \t lr=6.7e-04\t t=8s \tloss=0.4608\tval_loss=0.4726\tcorr=0.5297\n",
      "Epoch 40/300 \t lr=9.6e-04\t t=9s \tloss=0.3205\tval_loss=0.3562\tcorr=0.6443\n",
      "Epoch 60/300 \t lr=8.9e-04\t t=8s \tloss=0.2324\tval_loss=0.2522\tcorr=0.7494\n",
      "Epoch 80/300 \t lr=8.1e-04\t t=8s \tloss=0.1889\tval_loss=0.2102\tcorr=0.7910\n",
      "Epoch 100/300 \t lr=7.4e-04\t t=8s \tloss=0.1768\tval_loss=0.2083\tcorr=0.7928\n",
      "Epoch 120/300 \t lr=6.7e-04\t t=9s \tloss=0.1649\tval_loss=0.2127\tcorr=0.7886\n",
      "Epoch 140/300 \t lr=5.9e-04\t t=8s \tloss=0.1450\tval_loss=0.2270\tcorr=0.7732\n",
      "early stopping.\n",
      "best score 0.7956060606060608, best epoch: 93, \n",
      " -> Save weights to E:\\cvpr_model//LSTM1_step37_base1_test__t.pt\n",
      " \n",
      "[0.34909091 0.87676768 0.89171717 0.95757576 0.88767677 0.67676768\n",
      " 0.91393939 0.81131313] \n",
      "\n",
      "\n"
     ]
    }
   ],
   "source": [
    "loss_fct = CVPRLoss_tanh()\n",
    "index = '_t'\n",
    "seed_everything(seed)\n",
    "modelname = 'LSTM1_step37_base1_test'\n",
    "model = CVPRModel(input_dim=1,\n",
    "                num_classes=8,\n",
    "                bi=True,\n",
    "                time_step=37\n",
    "               ).to(device)\n",
    "preds,_ = train(model, \n",
    "            train_dataset, \n",
    "            val_dataset, \n",
    "            verbose=20, \n",
    "            fold_=index,\n",
    "            modelname=modelname,\n",
    "            modelpath=modelpath,\n",
    "            input='input',\n",
    "            y='y',\n",
    "            debug=False\n",
    "             )"
   ]
  },
  {
   "cell_type": "code",
   "execution_count": 40,
   "metadata": {},
   "outputs": [],
   "source": [
    "# [0.25979798 0.84808081 0.91191919 0.9620202  0.90585859 0.68767677 0.93171717 0.78585859] "
   ]
  },
  {
   "cell_type": "code",
   "execution_count": 41,
   "metadata": {},
   "outputs": [],
   "source": [
    "# 0.7689898989898991 [0.27191919 0.85818182 0.88080808 0.93616162 0.85575758 0.6759596 0.86949495 0.80363636] "
   ]
  },
  {
   "cell_type": "code",
   "execution_count": 42,
   "metadata": {},
   "outputs": [],
   "source": [
    "# 2层自带lstm 0.7911616161616162 \n",
    "# 1层的输出作为2层的h和c 0.7920707070707071\n",
    "# 2层手写，不初始化 0.7911616161616162 \n",
    "# 3层手写，输出作为输入 0.7911111111111113 \n",
    "# 2自带*2自带，输出作为输入 0.7875757575757577 \n",
    "# 1层输出作为2层输入，最后2层输出cat 0.7894444444444446\n",
    "# 1层输出作为2层输入，最后2层输出相乘 0.7885858585858587\n",
    "# 1层的输出作为2层的h和c,加一层gru cat 0.7894949494949497 \n",
    "# 1层的输出作为2层的h和c,加一层gru*1层输出 cat 0.7886868686868689\n",
    "# 1层的输出作为2层的h和c,加2层gru cat 0.7913131313131314 \n",
    "# 1层的输出作为2层的h和c,加2层gru*1层输出 cat2层输出 0.7915151515151516 \n",
    "# 1层的输出作为2层的h和c，2层的输出transformer然后乘以2层的输出，0.7899494949494951\n",
    "# 1层的输出作为2层的h和c,Tanh 0.7893939393939395 \n",
    "# 1层的输出作为2层的h和c,relu 0.7862121212121214 \n",
    "# 1层的输出作为2层的h和c,fc出去，0.7872222222222224 "
   ]
  },
  {
   "cell_type": "code",
   "execution_count": 43,
   "metadata": {
    "tags": []
   },
   "outputs": [],
   "source": [
    "# index = '_t'\n",
    "# modelname = 'LSTM1_step37_base1_test'\n",
    "# scoref = []\n",
    "# for i in range(8):\n",
    "#     seed_everything(seed)\n",
    "#     model = CVPRModel(input_dim=1,\n",
    "#                     num_classes=1,\n",
    "#                     bi=True,\n",
    "#                     time_step=37\n",
    "#                    ).to(device)\n",
    "#     preds,_ = train(model, \n",
    "#                 train_dataset, \n",
    "#                 val_dataset, \n",
    "#                 verbose=20, \n",
    "#                 fold_=index,\n",
    "#                 modelname=modelname,\n",
    "#                 modelpath=modelpath,\n",
    "#                 input='input',\n",
    "#                 y=f'y{i}',\n",
    "#                 debug=False\n",
    "#                  )\n",
    "#     scoref.append(_)\n",
    "# np.mean(scoref)"
   ]
  },
  {
   "cell_type": "code",
   "execution_count": 44,
   "metadata": {},
   "outputs": [],
   "source": [
    "# [0.33171717 0.86222222 0.88888889 0.94222222 0.8630303  0.66909091 0.9030303  0.79757576]"
   ]
  },
  {
   "cell_type": "code",
   "execution_count": null,
   "metadata": {},
   "outputs": [],
   "source": []
  },
  {
   "cell_type": "code",
   "execution_count": 55,
   "metadata": {},
   "outputs": [],
   "source": [
    "# a = torch.arange(-50,50,0.1)\n",
    "# b = a.tanh()\n",
    "# df = pd.DataFrame()\n",
    "# df['a'] = a.detach().numpy()\n",
    "# df['b'] = a.tanh()\n",
    "# df['b0'] = (a*2).tanh()\n",
    "# df['b1'] = (a*0.1).tanh()\n",
    "# df.plot(x='a',y=['b','b0','b1'])"
   ]
  },
  {
   "cell_type": "code",
   "execution_count": 39,
   "metadata": {},
   "outputs": [],
   "source": [
    "def train_sig(model, \n",
    "        train_dataset, \n",
    "        val_dataset, \n",
    "        verbose=20, \n",
    "        fold_=0,\n",
    "        modelname='MLP_base',\n",
    "        modelpath=r'./model'+'//',\n",
    "        input='input',\n",
    "        y='y',\n",
    "        early_stop_round=60,\n",
    "        debug=False):\n",
    "    \n",
    "    print(f'Model parameters count: {count_parameters(model)}')\n",
    "    #数据加载\n",
    "    train_loader = DataLoader(\n",
    "        train_dataset,\n",
    "        batch_size=BATCH_SIZE,\n",
    "        shuffle=False,\n",
    "        drop_last=True,\n",
    "        pin_memory=True\n",
    "    )\n",
    "    val_loader = DataLoader(\n",
    "        val_dataset,\n",
    "        batch_size=BATCH_SIZE_TEST,\n",
    "        shuffle=False,\n",
    "        drop_last=False,\n",
    "        pin_memory=True\n",
    "    )\n",
    "    print(f'train batch num: {len(train_loader)}')\n",
    "    print(f'val batch num: {len(val_loader)}')\n",
    "            \n",
    "    # Optimizer\n",
    "    optimizer = getattr(torch.optim, optim)(model.parameters(), lr=LR)\n",
    "    # Scheduler\n",
    "    num_warmup_steps = int(0.1 * EPOCHS * len(train_loader))\n",
    "    num_training_steps = int(EPOCHS * len(train_loader))\n",
    "    scheduler = get_linear_schedule_with_warmup(\n",
    "        optimizer, num_warmup_steps, num_training_steps\n",
    "    )\n",
    "    print(f'optim: {optim}, lr: {LR}, warmup_steps: {num_warmup_steps}')\n",
    "    \n",
    "    \n",
    "    #train\n",
    "    bst_epoch={_:0 for _ in range(8)}\n",
    "    score_best={_:0 for _ in range(8)}\n",
    "    first_epoch_eval=0\n",
    "    for epoch in range(EPOCHS):\n",
    "        \n",
    "        model.train()\n",
    "        model.zero_grad()\n",
    "        start_time = time.time()\n",
    "\n",
    "        avg_loss = 0\n",
    "        for data in train_loader:\n",
    "            pred = model(data[input].to(device))\n",
    "#             print(pred.shape,data['y'].shape)\n",
    "\n",
    "            loss = loss_fct(\n",
    "                pred,\n",
    "                data[y].to(device)\n",
    "            ).mean()\n",
    "\n",
    "            loss.backward()\n",
    "            avg_loss += loss.item() / len(train_loader)\n",
    "\n",
    "            optimizer.step()\n",
    "            scheduler.step()\n",
    "\n",
    "            optimizer.zero_grad(set_to_none=True)\n",
    "\n",
    "        #VAL\n",
    "        model.eval()\n",
    "        mae, avg_val_loss = 0, 0\n",
    "        preds = []\n",
    "\n",
    "        with torch.no_grad():\n",
    "            for data in val_loader:\n",
    "                pred = model(data[input].to(device))\n",
    "\n",
    "                loss = loss_fct(\n",
    "                    pred,\n",
    "                    data[y].to(device)\n",
    "                ).mean()\n",
    "\n",
    "                avg_val_loss += loss.item() / len(val_loader)\n",
    "\n",
    "                preds.append(pred.detach().cpu().numpy())\n",
    "\n",
    "        preds = np.concatenate(preds, 0)\n",
    "        if y=='y':\n",
    "            mae = compute_metric(preds,val_dataset.df[target_cols].values).mean()\n",
    "        else:\n",
    "            mae = compute_metric(preds,val_dataset.df[[target_cols[int(y.replace('y',''))]]].values).mean()\n",
    "        \n",
    "        elapsed_time = time.time() - start_time\n",
    "        if (epoch + 1) % verbose == 0:\n",
    "            elapsed_time = elapsed_time * verbose\n",
    "            lr = scheduler.get_last_lr()[0]\n",
    "    #         lr=LR\n",
    "            print(\n",
    "                f\"Epoch {epoch + 1:02d}/{ EPOCHS:02d} \\t lr={lr:.1e}\\t t={elapsed_time:.0f}s \\t\"\n",
    "                f\"loss={avg_loss:.4f}\",\n",
    "                end=\"\\t\",\n",
    "            )\n",
    "\n",
    "            if (epoch + 1 >= first_epoch_eval) or (epoch + 1 == EPOCHS):\n",
    "                print(f\"val_loss={avg_val_loss:.4f}\\tcorr={mae:.4f}\")\n",
    "            else:\n",
    "                print(\"\")\n",
    "                \n",
    "        #保存最优模型\n",
    "        score1 = compute_metric(preds,val_dataset.df[target_cols].values)\n",
    "        for i in range(8):\n",
    "            if score1[i] > score_best[i]:\n",
    "                bst = save_model_weights(model, modelpath, f'{modelname}_target{i}_{fold_}.pt')\n",
    "                score_best[i] = score1[i]\n",
    "                bst_epoch[i] = epoch\n",
    "#                 print(f'target{i} best score {score_best[i]}, best epoch: {bst_epoch[i]}, {bst} ' )\n",
    "                \n",
    "    bst_list = [score_best[i] for i in range(8)]\n",
    "    print(bst_list,'\\n\\n')\n",
    "    del (val_loader, train_loader, loss, data, pred)\n",
    "    gc.collect()\n",
    "    torch.cuda.empty_cache()\n",
    "    \n",
    "    return bst_list\n"
   ]
  },
  {
   "cell_type": "code",
   "execution_count": 40,
   "metadata": {
    "tags": []
   },
   "outputs": [
    {
     "name": "stdout",
     "output_type": "stream",
     "text": [
      "FOLD 0\n",
      "train size: 400, val size: 100\n",
      "Model parameters count: 102162440\n",
      "train batch num: 1\n",
      "val batch num: 1\n",
      "optim: Adam, lr: 0.001, warmup_steps: 30\n",
      "Epoch 10/300 \t lr=3.3e-04\t t=1s \tloss=0.9267\tval_loss=0.9024\tcorr=0.3262\n",
      "Epoch 20/300 \t lr=6.7e-04\t t=1s \tloss=0.5197\tval_loss=0.5445\tcorr=0.4587\n",
      "Epoch 30/300 \t lr=1.0e-03\t t=4s \tloss=0.3986\tval_loss=0.4288\tcorr=0.5718\n",
      "Epoch 40/300 \t lr=9.6e-04\t t=3s \tloss=0.3292\tval_loss=0.3565\tcorr=0.6444\n",
      "Epoch 50/300 \t lr=9.3e-04\t t=4s \tloss=0.2842\tval_loss=0.3075\tcorr=0.6940\n",
      "Epoch 60/300 \t lr=8.9e-04\t t=4s \tloss=0.2360\tval_loss=0.2532\tcorr=0.7487\n",
      "Epoch 70/300 \t lr=8.5e-04\t t=3s \tloss=0.1987\tval_loss=0.2217\tcorr=0.7803\n",
      "Epoch 80/300 \t lr=8.1e-04\t t=1s \tloss=0.1874\tval_loss=0.2136\tcorr=0.7880\n",
      "Epoch 90/300 \t lr=7.8e-04\t t=1s \tloss=0.1840\tval_loss=0.2149\tcorr=0.7856\n",
      "Epoch 100/300 \t lr=7.4e-04\t t=1s \tloss=0.1819\tval_loss=0.2140\tcorr=0.7867\n",
      "Epoch 110/300 \t lr=7.0e-04\t t=1s \tloss=0.1794\tval_loss=0.2148\tcorr=0.7858\n",
      "Epoch 120/300 \t lr=6.7e-04\t t=1s \tloss=0.1777\tval_loss=0.2128\tcorr=0.7882\n",
      "Epoch 130/300 \t lr=6.3e-04\t t=1s \tloss=0.1749\tval_loss=0.2123\tcorr=0.7878\n",
      "Epoch 140/300 \t lr=5.9e-04\t t=1s \tloss=0.1729\tval_loss=0.2116\tcorr=0.7891\n",
      "Epoch 150/300 \t lr=5.6e-04\t t=1s \tloss=0.1685\tval_loss=0.2126\tcorr=0.7885\n",
      "Epoch 160/300 \t lr=5.2e-04\t t=1s \tloss=0.1648\tval_loss=0.2124\tcorr=0.7884\n",
      "Epoch 170/300 \t lr=4.8e-04\t t=1s \tloss=0.1602\tval_loss=0.2133\tcorr=0.7874\n",
      "Epoch 180/300 \t lr=4.4e-04\t t=1s \tloss=0.1565\tval_loss=0.2156\tcorr=0.7837\n",
      "Epoch 190/300 \t lr=4.1e-04\t t=1s \tloss=0.1516\tval_loss=0.2144\tcorr=0.7855\n",
      "Epoch 200/300 \t lr=3.7e-04\t t=1s \tloss=0.1466\tval_loss=0.2157\tcorr=0.7851\n",
      "Epoch 210/300 \t lr=3.3e-04\t t=1s \tloss=0.1417\tval_loss=0.2166\tcorr=0.7841\n",
      "Epoch 220/300 \t lr=3.0e-04\t t=1s \tloss=0.1349\tval_loss=0.2191\tcorr=0.7806\n",
      "Epoch 230/300 \t lr=2.6e-04\t t=1s \tloss=0.1265\tval_loss=0.2200\tcorr=0.7808\n",
      "Epoch 240/300 \t lr=2.2e-04\t t=1s \tloss=0.1256\tval_loss=0.2214\tcorr=0.7790\n",
      "Epoch 250/300 \t lr=1.9e-04\t t=1s \tloss=0.1143\tval_loss=0.2261\tcorr=0.7741\n",
      "Epoch 260/300 \t lr=1.5e-04\t t=1s \tloss=0.1031\tval_loss=0.2304\tcorr=0.7700\n",
      "Epoch 270/300 \t lr=1.1e-04\t t=1s \tloss=0.0946\tval_loss=0.2333\tcorr=0.7664\n",
      "Epoch 280/300 \t lr=7.4e-05\t t=1s \tloss=0.0881\tval_loss=0.2332\tcorr=0.7665\n",
      "Epoch 290/300 \t lr=3.7e-05\t t=1s \tloss=0.0835\tval_loss=0.2339\tcorr=0.7660\n",
      "Epoch 300/300 \t lr=0.0e+00\t t=1s \tloss=0.0816\tval_loss=0.2341\tcorr=0.7659\n",
      "[0.3115151515151515, 0.9078787878787881, 0.8981818181818183, 0.9579797979797982, 0.886868686868687, 0.6876767676767678, 0.9260606060606063, 0.8125252525252527] \n",
      "\n",
      "\n",
      "FOLD 1\n",
      "train size: 400, val size: 100\n",
      "Model parameters count: 102162440\n",
      "train batch num: 1\n",
      "val batch num: 1\n",
      "optim: Adam, lr: 0.001, warmup_steps: 30\n",
      "Epoch 10/300 \t lr=3.3e-04\t t=2s \tloss=0.9372\tval_loss=0.8959\tcorr=0.4511\n",
      "Epoch 20/300 \t lr=6.7e-04\t t=1s \tloss=0.5359\tval_loss=0.5033\tcorr=0.5030\n",
      "Epoch 30/300 \t lr=1.0e-03\t t=2s \tloss=0.3891\tval_loss=0.4143\tcorr=0.5868\n",
      "Epoch 40/300 \t lr=9.6e-04\t t=2s \tloss=0.3183\tval_loss=0.3657\tcorr=0.6357\n",
      "Epoch 50/300 \t lr=9.3e-04\t t=3s \tloss=0.2761\tval_loss=0.3156\tcorr=0.6856\n",
      "Epoch 60/300 \t lr=8.9e-04\t t=3s \tloss=0.2235\tval_loss=0.2682\tcorr=0.7337\n",
      "Epoch 70/300 \t lr=8.5e-04\t t=3s \tloss=0.1956\tval_loss=0.2394\tcorr=0.7627\n",
      "Epoch 80/300 \t lr=8.1e-04\t t=1s \tloss=0.1857\tval_loss=0.2325\tcorr=0.7687\n",
      "Epoch 90/300 \t lr=7.8e-04\t t=1s \tloss=0.1820\tval_loss=0.2276\tcorr=0.7735\n",
      "Epoch 100/300 \t lr=7.4e-04\t t=1s \tloss=0.1792\tval_loss=0.2266\tcorr=0.7744\n",
      "Epoch 110/300 \t lr=7.0e-04\t t=1s \tloss=0.1777\tval_loss=0.2280\tcorr=0.7715\n",
      "Epoch 120/300 \t lr=6.7e-04\t t=1s \tloss=0.1750\tval_loss=0.2276\tcorr=0.7729\n",
      "Epoch 130/300 \t lr=6.3e-04\t t=1s \tloss=0.1720\tval_loss=0.2267\tcorr=0.7736\n",
      "Epoch 140/300 \t lr=5.9e-04\t t=1s \tloss=0.1695\tval_loss=0.2260\tcorr=0.7757\n",
      "Epoch 150/300 \t lr=5.6e-04\t t=1s \tloss=0.1657\tval_loss=0.2262\tcorr=0.7746\n",
      "Epoch 160/300 \t lr=5.2e-04\t t=1s \tloss=0.1605\tval_loss=0.2283\tcorr=0.7715\n",
      "Epoch 170/300 \t lr=4.8e-04\t t=1s \tloss=0.1538\tval_loss=0.2315\tcorr=0.7686\n",
      "Epoch 180/300 \t lr=4.4e-04\t t=1s \tloss=0.1467\tval_loss=0.2265\tcorr=0.7742\n",
      "Epoch 190/300 \t lr=4.1e-04\t t=1s \tloss=0.1425\tval_loss=0.2290\tcorr=0.7712\n",
      "Epoch 200/300 \t lr=3.7e-04\t t=1s \tloss=0.1318\tval_loss=0.2347\tcorr=0.7659\n",
      "Epoch 210/300 \t lr=3.3e-04\t t=1s \tloss=0.1264\tval_loss=0.2378\tcorr=0.7632\n",
      "Epoch 220/300 \t lr=3.0e-04\t t=1s \tloss=0.1180\tval_loss=0.2386\tcorr=0.7618\n",
      "Epoch 230/300 \t lr=2.6e-04\t t=1s \tloss=0.1125\tval_loss=0.2379\tcorr=0.7632\n",
      "Epoch 240/300 \t lr=2.2e-04\t t=1s \tloss=0.1066\tval_loss=0.2370\tcorr=0.7638\n",
      "Epoch 250/300 \t lr=1.9e-04\t t=1s \tloss=0.1007\tval_loss=0.2372\tcorr=0.7627\n",
      "Epoch 260/300 \t lr=1.5e-04\t t=1s \tloss=0.0962\tval_loss=0.2399\tcorr=0.7613\n",
      "Epoch 270/300 \t lr=1.1e-04\t t=1s \tloss=0.0924\tval_loss=0.2391\tcorr=0.7619\n",
      "Epoch 280/300 \t lr=7.4e-05\t t=1s \tloss=0.0897\tval_loss=0.2390\tcorr=0.7618\n",
      "Epoch 290/300 \t lr=3.7e-05\t t=1s \tloss=0.0879\tval_loss=0.2394\tcorr=0.7610\n",
      "Epoch 300/300 \t lr=0.0e+00\t t=1s \tloss=0.0872\tval_loss=0.2397\tcorr=0.7612\n",
      "[0.2654545454545455, 0.8747474747474749, 0.9103030303030304, 0.9688888888888889, 0.8937373737373738, 0.6424242424242425, 0.9094949494949497, 0.7979797979797981] \n",
      "\n",
      "\n",
      "FOLD 2\n",
      "train size: 400, val size: 100\n",
      "Model parameters count: 102162440\n",
      "train batch num: 1\n",
      "val batch num: 1\n",
      "optim: Adam, lr: 0.001, warmup_steps: 30\n",
      "Epoch 10/300 \t lr=3.3e-04\t t=3s \tloss=0.9264\tval_loss=0.9059\tcorr=0.3469\n",
      "Epoch 20/300 \t lr=6.7e-04\t t=1s \tloss=0.5690\tval_loss=0.5039\tcorr=0.5078\n",
      "Epoch 30/300 \t lr=1.0e-03\t t=4s \tloss=0.4170\tval_loss=0.3929\tcorr=0.6110\n",
      "Epoch 40/300 \t lr=9.6e-04\t t=3s \tloss=0.3347\tval_loss=0.3235\tcorr=0.6780\n",
      "Epoch 50/300 \t lr=9.3e-04\t t=3s \tloss=0.2867\tval_loss=0.2897\tcorr=0.7115\n",
      "Epoch 60/300 \t lr=8.9e-04\t t=3s \tloss=0.2402\tval_loss=0.2589\tcorr=0.7451\n",
      "Epoch 70/300 \t lr=8.5e-04\t t=3s \tloss=0.2035\tval_loss=0.2237\tcorr=0.7794\n",
      "Epoch 80/300 \t lr=8.1e-04\t t=4s \tloss=0.1897\tval_loss=0.2170\tcorr=0.7848\n",
      "Epoch 90/300 \t lr=7.8e-04\t t=1s \tloss=0.1842\tval_loss=0.2155\tcorr=0.7860\n",
      "Epoch 100/300 \t lr=7.4e-04\t t=1s \tloss=0.1815\tval_loss=0.2155\tcorr=0.7855\n",
      "Epoch 110/300 \t lr=7.0e-04\t t=1s \tloss=0.1795\tval_loss=0.2169\tcorr=0.7830\n",
      "Epoch 120/300 \t lr=6.7e-04\t t=1s \tloss=0.1777\tval_loss=0.2185\tcorr=0.7834\n",
      "Epoch 130/300 \t lr=6.3e-04\t t=1s \tloss=0.1744\tval_loss=0.2173\tcorr=0.7835\n",
      "Epoch 140/300 \t lr=5.9e-04\t t=1s \tloss=0.1717\tval_loss=0.2168\tcorr=0.7835\n",
      "Epoch 150/300 \t lr=5.6e-04\t t=1s \tloss=0.1682\tval_loss=0.2183\tcorr=0.7819\n",
      "Epoch 160/300 \t lr=5.2e-04\t t=1s \tloss=0.1636\tval_loss=0.2207\tcorr=0.7799\n",
      "Epoch 170/300 \t lr=4.8e-04\t t=1s \tloss=0.1592\tval_loss=0.2284\tcorr=0.7715\n",
      "Epoch 180/300 \t lr=4.4e-04\t t=1s \tloss=0.1502\tval_loss=0.2285\tcorr=0.7719\n",
      "Epoch 190/300 \t lr=4.1e-04\t t=1s \tloss=0.1445\tval_loss=0.2409\tcorr=0.7590\n",
      "Epoch 200/300 \t lr=3.7e-04\t t=1s \tloss=0.1349\tval_loss=0.2322\tcorr=0.7689\n",
      "Epoch 210/300 \t lr=3.3e-04\t t=1s \tloss=0.1250\tval_loss=0.2406\tcorr=0.7603\n",
      "Epoch 220/300 \t lr=3.0e-04\t t=1s \tloss=0.1171\tval_loss=0.2448\tcorr=0.7554\n",
      "Epoch 230/300 \t lr=2.6e-04\t t=1s \tloss=0.1084\tval_loss=0.2445\tcorr=0.7562\n",
      "Epoch 240/300 \t lr=2.2e-04\t t=1s \tloss=0.1018\tval_loss=0.2482\tcorr=0.7518\n",
      "Epoch 250/300 \t lr=1.9e-04\t t=1s \tloss=0.0960\tval_loss=0.2486\tcorr=0.7512\n",
      "Epoch 260/300 \t lr=1.5e-04\t t=1s \tloss=0.0894\tval_loss=0.2475\tcorr=0.7530\n",
      "Epoch 270/300 \t lr=1.1e-04\t t=1s \tloss=0.0859\tval_loss=0.2494\tcorr=0.7512\n",
      "Epoch 280/300 \t lr=7.4e-05\t t=1s \tloss=0.0826\tval_loss=0.2500\tcorr=0.7506\n",
      "Epoch 290/300 \t lr=3.7e-05\t t=1s \tloss=0.0808\tval_loss=0.2505\tcorr=0.7497\n",
      "Epoch 300/300 \t lr=0.0e+00\t t=1s \tloss=0.0800\tval_loss=0.2506\tcorr=0.7494\n",
      "[0.29050505050505054, 0.8537373737373739, 0.8953535353535355, 0.9624242424242426, 0.9151515151515153, 0.7216161616161617, 0.9232323232323233, 0.7991919191919192] \n",
      "\n",
      "\n",
      "FOLD 3\n",
      "train size: 400, val size: 100\n",
      "Model parameters count: 102162440\n",
      "train batch num: 1\n",
      "val batch num: 1\n",
      "optim: Adam, lr: 0.001, warmup_steps: 30\n",
      "Epoch 10/300 \t lr=3.3e-04\t t=1s \tloss=0.9334\tval_loss=0.8932\tcorr=0.4329\n",
      "Epoch 20/300 \t lr=6.7e-04\t t=1s \tloss=0.4801\tval_loss=0.5054\tcorr=0.4989\n",
      "Epoch 30/300 \t lr=1.0e-03\t t=4s \tloss=0.3726\tval_loss=0.4337\tcorr=0.5670\n",
      "Epoch 40/300 \t lr=9.6e-04\t t=1s \tloss=0.3074\tval_loss=0.3753\tcorr=0.6257\n",
      "Epoch 50/300 \t lr=9.3e-04\t t=1s \tloss=0.2696\tval_loss=0.3300\tcorr=0.6709\n",
      "Epoch 60/300 \t lr=8.9e-04\t t=3s \tloss=0.2259\tval_loss=0.2805\tcorr=0.7215\n",
      "Epoch 70/300 \t lr=8.5e-04\t t=1s \tloss=0.1949\tval_loss=0.2505\tcorr=0.7511\n",
      "Epoch 80/300 \t lr=8.1e-04\t t=1s \tloss=0.1810\tval_loss=0.2418\tcorr=0.7583\n",
      "Epoch 90/300 \t lr=7.8e-04\t t=1s \tloss=0.1756\tval_loss=0.2391\tcorr=0.7617\n",
      "Epoch 100/300 \t lr=7.4e-04\t t=1s \tloss=0.1719\tval_loss=0.2403\tcorr=0.7608\n",
      "Epoch 110/300 \t lr=7.0e-04\t t=1s \tloss=0.1681\tval_loss=0.2424\tcorr=0.7583\n",
      "Epoch 120/300 \t lr=6.7e-04\t t=1s \tloss=0.1643\tval_loss=0.2434\tcorr=0.7571\n",
      "Epoch 130/300 \t lr=6.3e-04\t t=1s \tloss=0.1577\tval_loss=0.2503\tcorr=0.7498\n",
      "Epoch 140/300 \t lr=5.9e-04\t t=1s \tloss=0.1507\tval_loss=0.2551\tcorr=0.7454\n",
      "Epoch 150/300 \t lr=5.6e-04\t t=1s \tloss=0.1443\tval_loss=0.2557\tcorr=0.7439\n",
      "Epoch 160/300 \t lr=5.2e-04\t t=1s \tloss=0.1365\tval_loss=0.2623\tcorr=0.7390\n",
      "Epoch 170/300 \t lr=4.8e-04\t t=1s \tloss=0.1281\tval_loss=0.2575\tcorr=0.7426\n",
      "Epoch 180/300 \t lr=4.4e-04\t t=1s \tloss=0.1139\tval_loss=0.2596\tcorr=0.7415\n",
      "Epoch 190/300 \t lr=4.1e-04\t t=1s \tloss=0.1056\tval_loss=0.2639\tcorr=0.7365\n",
      "Epoch 200/300 \t lr=3.7e-04\t t=1s \tloss=0.0993\tval_loss=0.2592\tcorr=0.7409\n",
      "Epoch 210/300 \t lr=3.3e-04\t t=1s \tloss=0.0916\tval_loss=0.2611\tcorr=0.7396\n",
      "Epoch 220/300 \t lr=3.0e-04\t t=1s \tloss=0.0827\tval_loss=0.2618\tcorr=0.7379\n",
      "Epoch 230/300 \t lr=2.6e-04\t t=1s \tloss=0.0747\tval_loss=0.2625\tcorr=0.7375\n",
      "Epoch 240/300 \t lr=2.2e-04\t t=1s \tloss=0.0710\tval_loss=0.2613\tcorr=0.7394\n",
      "Epoch 250/300 \t lr=1.9e-04\t t=1s \tloss=0.0631\tval_loss=0.2647\tcorr=0.7351\n",
      "Epoch 260/300 \t lr=1.5e-04\t t=1s \tloss=0.0593\tval_loss=0.2649\tcorr=0.7353\n",
      "Epoch 270/300 \t lr=1.1e-04\t t=1s \tloss=0.0560\tval_loss=0.2646\tcorr=0.7356\n",
      "Epoch 280/300 \t lr=7.4e-05\t t=1s \tloss=0.0539\tval_loss=0.2638\tcorr=0.7368\n",
      "Epoch 290/300 \t lr=3.7e-05\t t=1s \tloss=0.0527\tval_loss=0.2641\tcorr=0.7364\n",
      "Epoch 300/300 \t lr=0.0e+00\t t=1s \tloss=0.0522\tval_loss=0.2642\tcorr=0.7363\n",
      "[0.25777777777777783, 0.8763636363636366, 0.894949494949495, 0.9680808080808083, 0.8965656565656567, 0.6004040404040405, 0.9022222222222224, 0.7769696969696971] \n",
      "\n",
      "\n",
      "FOLD 4\n",
      "train size: 400, val size: 100\n",
      "Model parameters count: 102162440\n",
      "train batch num: 1\n",
      "val batch num: 1\n",
      "optim: Adam, lr: 0.001, warmup_steps: 30\n",
      "Epoch 10/300 \t lr=3.3e-04\t t=2s \tloss=0.9305\tval_loss=0.8732\tcorr=0.4543\n",
      "Epoch 20/300 \t lr=6.7e-04\t t=1s \tloss=0.4936\tval_loss=0.4560\tcorr=0.5493\n",
      "Epoch 30/300 \t lr=1.0e-03\t t=1s \tloss=0.3898\tval_loss=0.3838\tcorr=0.6173\n",
      "Epoch 40/300 \t lr=9.6e-04\t t=4s \tloss=0.3125\tval_loss=0.3144\tcorr=0.6865\n",
      "Epoch 50/300 \t lr=9.3e-04\t t=1s \tloss=0.2722\tval_loss=0.2901\tcorr=0.7110\n",
      "Epoch 60/300 \t lr=8.9e-04\t t=3s \tloss=0.2257\tval_loss=0.2499\tcorr=0.7514\n",
      "Epoch 70/300 \t lr=8.5e-04\t t=2s \tloss=0.1959\tval_loss=0.2223\tcorr=0.7794\n",
      "Epoch 80/300 \t lr=8.1e-04\t t=2s \tloss=0.1847\tval_loss=0.2173\tcorr=0.7826\n",
      "Epoch 90/300 \t lr=7.8e-04\t t=1s \tloss=0.1811\tval_loss=0.2158\tcorr=0.7854\n",
      "Epoch 100/300 \t lr=7.4e-04\t t=1s \tloss=0.1795\tval_loss=0.2147\tcorr=0.7859\n",
      "Epoch 110/300 \t lr=7.0e-04\t t=1s \tloss=0.1768\tval_loss=0.2156\tcorr=0.7849\n",
      "Epoch 120/300 \t lr=6.7e-04\t t=1s \tloss=0.1738\tval_loss=0.2161\tcorr=0.7840\n",
      "Epoch 130/300 \t lr=6.3e-04\t t=1s \tloss=0.1720\tval_loss=0.2177\tcorr=0.7833\n",
      "Epoch 140/300 \t lr=5.9e-04\t t=1s \tloss=0.1668\tval_loss=0.2169\tcorr=0.7837\n",
      "Epoch 150/300 \t lr=5.6e-04\t t=1s \tloss=0.1610\tval_loss=0.2202\tcorr=0.7798\n",
      "Epoch 160/300 \t lr=5.2e-04\t t=1s \tloss=0.1559\tval_loss=0.2214\tcorr=0.7786\n",
      "Epoch 170/300 \t lr=4.8e-04\t t=1s \tloss=0.1516\tval_loss=0.2280\tcorr=0.7720\n",
      "Epoch 180/300 \t lr=4.4e-04\t t=1s \tloss=0.1439\tval_loss=0.2302\tcorr=0.7697\n",
      "Epoch 190/300 \t lr=4.1e-04\t t=1s \tloss=0.1316\tval_loss=0.2351\tcorr=0.7653\n",
      "Epoch 200/300 \t lr=3.7e-04\t t=1s \tloss=0.1243\tval_loss=0.2361\tcorr=0.7635\n",
      "Epoch 210/300 \t lr=3.3e-04\t t=1s \tloss=0.1154\tval_loss=0.2356\tcorr=0.7643\n",
      "Epoch 220/300 \t lr=3.0e-04\t t=1s \tloss=0.1087\tval_loss=0.2380\tcorr=0.7622\n",
      "Epoch 230/300 \t lr=2.6e-04\t t=1s \tloss=0.0966\tval_loss=0.2423\tcorr=0.7576\n",
      "Epoch 240/300 \t lr=2.2e-04\t t=1s \tloss=0.0886\tval_loss=0.2428\tcorr=0.7573\n",
      "Epoch 250/300 \t lr=1.9e-04\t t=1s \tloss=0.0817\tval_loss=0.2445\tcorr=0.7552\n",
      "Epoch 260/300 \t lr=1.5e-04\t t=1s \tloss=0.0742\tval_loss=0.2474\tcorr=0.7525\n",
      "Epoch 270/300 \t lr=1.1e-04\t t=1s \tloss=0.0686\tval_loss=0.2474\tcorr=0.7527\n",
      "Epoch 280/300 \t lr=7.4e-05\t t=1s \tloss=0.0646\tval_loss=0.2495\tcorr=0.7504\n",
      "Epoch 290/300 \t lr=3.7e-05\t t=1s \tloss=0.0619\tval_loss=0.2498\tcorr=0.7495\n",
      "Epoch 300/300 \t lr=0.0e+00\t t=1s \tloss=0.0610\tval_loss=0.2497\tcorr=0.7504\n",
      "[0.3127272727272728, 0.8533333333333334, 0.9167676767676769, 0.9721212121212122, 0.9086868686868688, 0.7014141414141415, 0.933737373737374, 0.7991919191919192] \n",
      "\n",
      "\n",
      "0.78961 [0.2876, 0.87321, 0.90311, 0.9659, 0.9002, 0.67071, 0.91895, 0.79717]\n"
     ]
    }
   ],
   "source": [
    "# K折训练，同时\n",
    "seed = 666\n",
    "BATCH_SIZE = 400\n",
    "BATCH_SIZE_TEST = 128\n",
    "EPOCHS = 300\n",
    "LR = 0.001\n",
    "optim = \"Adam\"\n",
    "device = \"cuda\" if torch.cuda.is_available() else \"cpu\"\n",
    "modelpath = r'E:\\cvpr_model'+'//'\n",
    "\n",
    "loss_fct = CVPRLoss_tanh1()\n",
    "# loss_fct = CVPRLoss_pair()\n",
    "k=5\n",
    "scoref = []\n",
    "skf = KFold(n_splits=k, shuffle=False)\n",
    "for index, (train_index, test_index) in enumerate(skf.split(train_df)):   \n",
    "    print(f'FOLD {index}')\n",
    "    train0 = train_df.iloc[train_index]\n",
    "    val0 = train_df.iloc[test_index]   \n",
    "    train_dataset = MyDataset(train0, use_cols, target_cols)\n",
    "    val_dataset = MyDataset(val0, use_cols, target_cols)\n",
    "    print(f'train size: {len(train0)}, val size: {len(val0)}')\n",
    "\n",
    "    modelname = f'lstm2y稠密_bc400_lr001_tanh_mat'\n",
    "    seed_everything(seed)\n",
    "    model = CVPRModel(input_dim=1,\n",
    "                    num_classes=8,\n",
    "                    bi=True,\n",
    "                    time_step=37\n",
    "                   ).to(device)\n",
    "\n",
    "    _ = train_sig(model, \n",
    "                train_dataset, \n",
    "                val_dataset, \n",
    "                verbose=10, \n",
    "                fold_=index,\n",
    "                modelname=modelname,\n",
    "                modelpath=modelpath,\n",
    "                input='input',\n",
    "                y='y',\n",
    "                debug=False\n",
    "                 )\n",
    "    scoref.append(_)\n",
    "scoreff = scoref\n",
    "print(np.round(np.array(scoreff).mean(1).mean(), 5), [round(x, 5) for x in np.array(scoreff).mean(0)])"
   ]
  },
  {
   "cell_type": "code",
   "execution_count": 41,
   "metadata": {},
   "outputs": [
    {
     "data": {
      "text/plain": [
       "(0.7803,\n",
       " [0.26618, 0.86804, 0.89471, 0.95782, 0.89059, 0.66764, 0.90909, 0.78836])"
      ]
     },
     "execution_count": 41,
     "metadata": {},
     "output_type": "execute_result"
    }
   ],
   "source": [
    "# 0.7 0.77966 [0.26691, 0.86489, 0.8943, 0.96145, 0.89042, 0.65576, 0.912, 0.79152]\n",
    "(0.7803, [0.26618, 0.86804, 0.89471, 0.95782, 0.89059, 0.66764, 0.90909, 0.78836])"
   ]
  },
  {
   "cell_type": "code",
   "execution_count": null,
   "metadata": {},
   "outputs": [],
   "source": []
  },
  {
   "cell_type": "code",
   "execution_count": 42,
   "metadata": {},
   "outputs": [],
   "source": [
    "# loss_fct = CVPRLoss_softsign()\n",
    "# k=5\n",
    "# scoref = []\n",
    "# skf = KFold(n_splits=k, shuffle=False)\n",
    "# for index, (train_index, test_index) in enumerate(skf.split(train_df)):   \n",
    "#     print(f'FOLD {index}')\n",
    "#     train0 = train_df.iloc[train_index]\n",
    "#     val0 = train_df.iloc[test_index]   \n",
    "#     train_dataset = MyDataset(train0, use_cols, target_cols)\n",
    "#     val_dataset = MyDataset(val0, use_cols, target_cols)\n",
    "#     print(f'train size: {len(train0)}, val size: {len(val0)}')\n",
    "\n",
    "#     modelname = f'LSTM_2layer_step37_kendall_8all_softsign'\n",
    "#     seed_everything(seed)\n",
    "#     model = CVPRModel(input_dim=1,\n",
    "#                     num_classes=8,\n",
    "#                     bi=True,\n",
    "#                     time_step=37\n",
    "#                    ).to(device)\n",
    "#     preds,_ = train(model, \n",
    "#                 train_dataset, \n",
    "#                 val_dataset, \n",
    "#                 verbose=100, \n",
    "#                 fold_=index,\n",
    "#                 modelname=modelname,\n",
    "#                 modelpath=modelpath,\n",
    "#                 input='input',\n",
    "#                 y='y',\n",
    "#                 debug=False\n",
    "#                  )\n",
    "#     scoref.append(_)\n",
    "# scoreff = scoref\n",
    "# np.round(np.array(scoreff).mean(1).mean(), 5), [round(x, 5) for x in np.array(scoreff).mean(0)]"
   ]
  },
  {
   "cell_type": "code",
   "execution_count": 43,
   "metadata": {},
   "outputs": [
    {
     "data": {
      "text/plain": [
       "(0.78961,\n",
       " [0.2876, 0.87321, 0.90311, 0.9659, 0.9002, 0.67071, 0.91895, 0.79717])"
      ]
     },
     "execution_count": 43,
     "metadata": {},
     "output_type": "execute_result"
    }
   ],
   "source": [
    "np.round(np.array(scoreff).mean(1).mean(), 5), [round(x, 5) for x in np.array(scoreff).mean(0)]"
   ]
  },
  {
   "cell_type": "code",
   "execution_count": 44,
   "metadata": {},
   "outputs": [],
   "source": [
    "# (0.78795,\n",
    "#  [0.26836, 0.87111, 0.90545, 0.96509, 0.89745, 0.67507, 0.91895, 0.8021])"
   ]
  },
  {
   "cell_type": "code",
   "execution_count": null,
   "metadata": {},
   "outputs": [],
   "source": []
  },
  {
   "cell_type": "code",
   "execution_count": null,
   "metadata": {},
   "outputs": [],
   "source": []
  },
  {
   "cell_type": "code",
   "execution_count": 45,
   "metadata": {},
   "outputs": [
    {
     "data": {
      "text/plain": [
       "{'cplfw_rank': 0,\n",
       " 'market1501_rank': 0,\n",
       " 'dukemtmc_rank': 0,\n",
       " 'msmt17_rank': 0,\n",
       " 'veri_rank': 0,\n",
       " 'vehicleid_rank': 0,\n",
       " 'veriwild_rank': 0,\n",
       " 'sop_rank': 0,\n",
       " 'arch': 'j121221121221221311331321121221000000'}"
      ]
     },
     "execution_count": 45,
     "metadata": {},
     "output_type": "execute_result"
    }
   ],
   "source": [
    "#加载test\n",
    "with open('./data/CVPR_2022_NAS_Track2_test.json', 'r') as f:\n",
    "    test_data = json.load(f)\n",
    "test_data['arch99997']"
   ]
  },
  {
   "cell_type": "code",
   "execution_count": 46,
   "metadata": {},
   "outputs": [],
   "source": [
    "test_df = get_df(test_data)\n",
    "get_step(test_df)"
   ]
  },
  {
   "cell_type": "code",
   "execution_count": 47,
   "metadata": {},
   "outputs": [],
   "source": [
    "def pred_cuda(test_df, model):\n",
    "    #获得预测\n",
    "    test_dataset = MyDataset(test_df, use_cols, target_cols, 0)\n",
    "    test_loader = DataLoader(\n",
    "        test_dataset,\n",
    "        batch_size=1024*8,\n",
    "        shuffle=False,\n",
    "        drop_last=False,\n",
    "        pin_memory=True\n",
    "    )\n",
    "\n",
    "    preds = []\n",
    "    model.eval()\n",
    "    with torch.no_grad():\n",
    "        for data in tqdm(test_loader):\n",
    "            pred = model(data['input'].to(device))\n",
    "            preds.append(pred.detach().cpu().numpy())\n",
    "    preds = np.concatenate(preds, 0)\n",
    "    print(preds.shape)\n",
    "\n",
    "    del test_dataset, test_loader, model;\n",
    "    gc.collect()\n",
    "    torch.cuda.empty_cache()\n",
    "    return preds\n",
    "        \n",
    "def predict_sig(test_df, k=5, modelname=''):\n",
    "    for target in range(8):        \n",
    "        cols = []\n",
    "        for fold_ in range(k):\n",
    "            modelname1 = f'{modelname}_target{target}_{fold_}.pt'\n",
    "            print(f'Model {modelname1}')\n",
    "            model = CVPRModel(input_dim=1,\n",
    "                        num_classes=8,\n",
    "                        bi=True,\n",
    "                        time_step=37\n",
    "                       ).to(device)\n",
    "            model.load_state_dict(torch.load(modelpath+modelname1))\n",
    "\n",
    "            pred_ = pred_cuda(test_df, model)[:, target]\n",
    "            tmp_c = f'{target_cols[target]}_{fold_}'\n",
    "            test_df[tmp_c] = pred_\n",
    "            cols.append(tmp_c)\n",
    "            print(f'Done {tmp_c}')\n",
    "            \n",
    "        print(cols)\n",
    "        test_df[cols] = test_df[cols].rank()\n",
    "        test_df[target_cols[target]] = test_df[cols].mean(axis=1).rank()\n",
    "        \n",
    "def predict_all(test_df, k=5, modelname = f'lstm2y稠密_bc400_lr001_softsign'):\n",
    "\n",
    "    print(f'Model {modelname}')\n",
    "\n",
    "    cols = []\n",
    "    for fold_ in range(k):\n",
    "        model = CVPRModel(input_dim=1,\n",
    "                    num_classes=8,\n",
    "                    bi=True,\n",
    "                    time_step=37\n",
    "                   ).to(device)\n",
    "        model.load_state_dict(torch.load(modelpath+f'{modelname}_{fold_}.pt'))\n",
    "\n",
    "        pred_ = pred_cuda(test_df, model)\n",
    "        tmp_c = [f'{target}_{fold_}' for target in target_cols]\n",
    "        test_df[tmp_c] = pred_\n",
    "        cols += tmp_c\n",
    "    #get rank\n",
    "    print(cols)\n",
    "    test_df[cols] = test_df[cols].rank()\n",
    "    for c in target_cols:\n",
    "        test_df[c] = test_df[[f'{c}_{fold_}' for fold_ in range(k)]].mean(axis=1)\n",
    "        test_df[c] = test_df[c].rank()"
   ]
  },
  {
   "cell_type": "code",
   "execution_count": 48,
   "metadata": {},
   "outputs": [
    {
     "data": {
      "text/plain": [
       "(5, 'lstm2y稠密_bc400_lr001_tanh_mat')"
      ]
     },
     "execution_count": 48,
     "metadata": {},
     "output_type": "execute_result"
    }
   ],
   "source": [
    "k, modelname"
   ]
  },
  {
   "cell_type": "code",
   "execution_count": 79,
   "metadata": {},
   "outputs": [],
   "source": [
    "# LSTM_2layer_step37_kendall_8all_softrankloss\n",
    "# LSTM_2layer_step37_kendall_8all_softsign\n",
    "# LSTM_2layer_step37_kendall_8all_tanh\n"
   ]
  },
  {
   "cell_type": "code",
   "execution_count": 49,
   "metadata": {
    "tags": []
   },
   "outputs": [
    {
     "name": "stdout",
     "output_type": "stream",
     "text": [
      "Model lstm2y稠密_bc400_lr001_tanh_mat_target0_0.pt\n"
     ]
    },
    {
     "name": "stderr",
     "output_type": "stream",
     "text": [
      "C:\\Users\\45928\\AppData\\Local\\Continuum\\anaconda3\\lib\\site-packages\\ipykernel_launcher.py:15: TqdmDeprecationWarning: This function will be removed in tqdm==5.0.0\n",
      "Please use `tqdm.notebook.tqdm` instead of `tqdm.tqdm_notebook`\n",
      "  from ipykernel import kernelapp as app\n"
     ]
    },
    {
     "data": {
      "application/vnd.jupyter.widget-view+json": {
       "model_id": "346ca37f1d5c45dea660828f4b7c8f8e",
       "version_major": 2,
       "version_minor": 0
      },
      "text/plain": [
       "  0%|          | 0/1 [00:00<?, ?it/s]"
      ]
     },
     "metadata": {},
     "output_type": "display_data"
    },
    {
     "name": "stdout",
     "output_type": "stream",
     "text": [
      "(500, 8)\n",
      "Done cplfw_rank_0\n",
      "Model lstm2y稠密_bc400_lr001_tanh_mat_target0_1.pt\n"
     ]
    },
    {
     "data": {
      "application/vnd.jupyter.widget-view+json": {
       "model_id": "9a34e460c7b14f0890705303abf7a2be",
       "version_major": 2,
       "version_minor": 0
      },
      "text/plain": [
       "  0%|          | 0/1 [00:00<?, ?it/s]"
      ]
     },
     "metadata": {},
     "output_type": "display_data"
    },
    {
     "name": "stdout",
     "output_type": "stream",
     "text": [
      "(500, 8)\n",
      "Done cplfw_rank_1\n",
      "Model lstm2y稠密_bc400_lr001_tanh_mat_target0_2.pt\n"
     ]
    },
    {
     "data": {
      "application/vnd.jupyter.widget-view+json": {
       "model_id": "02233eca4d2b47148642987715440e1b",
       "version_major": 2,
       "version_minor": 0
      },
      "text/plain": [
       "  0%|          | 0/1 [00:00<?, ?it/s]"
      ]
     },
     "metadata": {},
     "output_type": "display_data"
    },
    {
     "name": "stdout",
     "output_type": "stream",
     "text": [
      "(500, 8)\n",
      "Done cplfw_rank_2\n",
      "Model lstm2y稠密_bc400_lr001_tanh_mat_target0_3.pt\n"
     ]
    },
    {
     "data": {
      "application/vnd.jupyter.widget-view+json": {
       "model_id": "758d278664354450a6990969022829f8",
       "version_major": 2,
       "version_minor": 0
      },
      "text/plain": [
       "  0%|          | 0/1 [00:00<?, ?it/s]"
      ]
     },
     "metadata": {},
     "output_type": "display_data"
    },
    {
     "name": "stdout",
     "output_type": "stream",
     "text": [
      "(500, 8)\n",
      "Done cplfw_rank_3\n",
      "Model lstm2y稠密_bc400_lr001_tanh_mat_target0_4.pt\n"
     ]
    },
    {
     "data": {
      "application/vnd.jupyter.widget-view+json": {
       "model_id": "6a4daf7bf856485b84dc53fbe44c975b",
       "version_major": 2,
       "version_minor": 0
      },
      "text/plain": [
       "  0%|          | 0/1 [00:00<?, ?it/s]"
      ]
     },
     "metadata": {},
     "output_type": "display_data"
    },
    {
     "name": "stdout",
     "output_type": "stream",
     "text": [
      "(500, 8)\n",
      "Done cplfw_rank_4\n",
      "['cplfw_rank_0', 'cplfw_rank_1', 'cplfw_rank_2', 'cplfw_rank_3', 'cplfw_rank_4']\n",
      "Model lstm2y稠密_bc400_lr001_tanh_mat_target1_0.pt\n"
     ]
    },
    {
     "data": {
      "application/vnd.jupyter.widget-view+json": {
       "model_id": "62df7e7a7bb44eccae3561d00142ae33",
       "version_major": 2,
       "version_minor": 0
      },
      "text/plain": [
       "  0%|          | 0/1 [00:00<?, ?it/s]"
      ]
     },
     "metadata": {},
     "output_type": "display_data"
    },
    {
     "name": "stdout",
     "output_type": "stream",
     "text": [
      "(500, 8)\n",
      "Done market1501_rank_0\n",
      "Model lstm2y稠密_bc400_lr001_tanh_mat_target1_1.pt\n"
     ]
    },
    {
     "data": {
      "application/vnd.jupyter.widget-view+json": {
       "model_id": "34f94c3e5f47469cab8c0fe46e5f23f9",
       "version_major": 2,
       "version_minor": 0
      },
      "text/plain": [
       "  0%|          | 0/1 [00:00<?, ?it/s]"
      ]
     },
     "metadata": {},
     "output_type": "display_data"
    },
    {
     "name": "stdout",
     "output_type": "stream",
     "text": [
      "(500, 8)\n",
      "Done market1501_rank_1\n",
      "Model lstm2y稠密_bc400_lr001_tanh_mat_target1_2.pt\n"
     ]
    },
    {
     "data": {
      "application/vnd.jupyter.widget-view+json": {
       "model_id": "70c90b61cae34fffbd7715022f376e88",
       "version_major": 2,
       "version_minor": 0
      },
      "text/plain": [
       "  0%|          | 0/1 [00:00<?, ?it/s]"
      ]
     },
     "metadata": {},
     "output_type": "display_data"
    },
    {
     "name": "stdout",
     "output_type": "stream",
     "text": [
      "(500, 8)\n",
      "Done market1501_rank_2\n",
      "Model lstm2y稠密_bc400_lr001_tanh_mat_target1_3.pt\n"
     ]
    },
    {
     "data": {
      "application/vnd.jupyter.widget-view+json": {
       "model_id": "f0c4435f74f74d8ba4d11af1390d926e",
       "version_major": 2,
       "version_minor": 0
      },
      "text/plain": [
       "  0%|          | 0/1 [00:00<?, ?it/s]"
      ]
     },
     "metadata": {},
     "output_type": "display_data"
    },
    {
     "name": "stdout",
     "output_type": "stream",
     "text": [
      "(500, 8)\n",
      "Done market1501_rank_3\n",
      "Model lstm2y稠密_bc400_lr001_tanh_mat_target1_4.pt\n"
     ]
    },
    {
     "data": {
      "application/vnd.jupyter.widget-view+json": {
       "model_id": "529a8947eb81433680f9f7c01c435b1b",
       "version_major": 2,
       "version_minor": 0
      },
      "text/plain": [
       "  0%|          | 0/1 [00:00<?, ?it/s]"
      ]
     },
     "metadata": {},
     "output_type": "display_data"
    },
    {
     "name": "stdout",
     "output_type": "stream",
     "text": [
      "(500, 8)\n",
      "Done market1501_rank_4\n",
      "['market1501_rank_0', 'market1501_rank_1', 'market1501_rank_2', 'market1501_rank_3', 'market1501_rank_4']\n",
      "Model lstm2y稠密_bc400_lr001_tanh_mat_target2_0.pt\n"
     ]
    },
    {
     "data": {
      "application/vnd.jupyter.widget-view+json": {
       "model_id": "ca2439f96fdd4779b5c45ec40145f741",
       "version_major": 2,
       "version_minor": 0
      },
      "text/plain": [
       "  0%|          | 0/1 [00:00<?, ?it/s]"
      ]
     },
     "metadata": {},
     "output_type": "display_data"
    },
    {
     "name": "stdout",
     "output_type": "stream",
     "text": [
      "(500, 8)\n",
      "Done dukemtmc_rank_0\n",
      "Model lstm2y稠密_bc400_lr001_tanh_mat_target2_1.pt\n"
     ]
    },
    {
     "data": {
      "application/vnd.jupyter.widget-view+json": {
       "model_id": "55848d195d31401b96ab3c907e9584d8",
       "version_major": 2,
       "version_minor": 0
      },
      "text/plain": [
       "  0%|          | 0/1 [00:00<?, ?it/s]"
      ]
     },
     "metadata": {},
     "output_type": "display_data"
    },
    {
     "name": "stdout",
     "output_type": "stream",
     "text": [
      "(500, 8)\n",
      "Done dukemtmc_rank_1\n",
      "Model lstm2y稠密_bc400_lr001_tanh_mat_target2_2.pt\n"
     ]
    },
    {
     "data": {
      "application/vnd.jupyter.widget-view+json": {
       "model_id": "52ecbfe815a24e088d5b4113dd388edd",
       "version_major": 2,
       "version_minor": 0
      },
      "text/plain": [
       "  0%|          | 0/1 [00:00<?, ?it/s]"
      ]
     },
     "metadata": {},
     "output_type": "display_data"
    },
    {
     "name": "stdout",
     "output_type": "stream",
     "text": [
      "(500, 8)\n",
      "Done dukemtmc_rank_2\n",
      "Model lstm2y稠密_bc400_lr001_tanh_mat_target2_3.pt\n"
     ]
    },
    {
     "data": {
      "application/vnd.jupyter.widget-view+json": {
       "model_id": "f397f5399cff4a7389a51be8cd2c6c49",
       "version_major": 2,
       "version_minor": 0
      },
      "text/plain": [
       "  0%|          | 0/1 [00:00<?, ?it/s]"
      ]
     },
     "metadata": {},
     "output_type": "display_data"
    },
    {
     "name": "stdout",
     "output_type": "stream",
     "text": [
      "(500, 8)\n",
      "Done dukemtmc_rank_3\n",
      "Model lstm2y稠密_bc400_lr001_tanh_mat_target2_4.pt\n"
     ]
    },
    {
     "data": {
      "application/vnd.jupyter.widget-view+json": {
       "model_id": "a8a5753510e24805b65b84f8f55d6176",
       "version_major": 2,
       "version_minor": 0
      },
      "text/plain": [
       "  0%|          | 0/1 [00:00<?, ?it/s]"
      ]
     },
     "metadata": {},
     "output_type": "display_data"
    },
    {
     "name": "stdout",
     "output_type": "stream",
     "text": [
      "(500, 8)\n",
      "Done dukemtmc_rank_4\n",
      "['dukemtmc_rank_0', 'dukemtmc_rank_1', 'dukemtmc_rank_2', 'dukemtmc_rank_3', 'dukemtmc_rank_4']\n",
      "Model lstm2y稠密_bc400_lr001_tanh_mat_target3_0.pt\n"
     ]
    },
    {
     "data": {
      "application/vnd.jupyter.widget-view+json": {
       "model_id": "69b4ec5d8cbc48ee829e6a3e6bbd5195",
       "version_major": 2,
       "version_minor": 0
      },
      "text/plain": [
       "  0%|          | 0/1 [00:00<?, ?it/s]"
      ]
     },
     "metadata": {},
     "output_type": "display_data"
    },
    {
     "name": "stdout",
     "output_type": "stream",
     "text": [
      "(500, 8)\n",
      "Done msmt17_rank_0\n",
      "Model lstm2y稠密_bc400_lr001_tanh_mat_target3_1.pt\n"
     ]
    },
    {
     "data": {
      "application/vnd.jupyter.widget-view+json": {
       "model_id": "18b2e266a5bb4d9fb5ea32d5a68d5a20",
       "version_major": 2,
       "version_minor": 0
      },
      "text/plain": [
       "  0%|          | 0/1 [00:00<?, ?it/s]"
      ]
     },
     "metadata": {},
     "output_type": "display_data"
    },
    {
     "name": "stdout",
     "output_type": "stream",
     "text": [
      "(500, 8)\n",
      "Done msmt17_rank_1\n",
      "Model lstm2y稠密_bc400_lr001_tanh_mat_target3_2.pt\n"
     ]
    },
    {
     "data": {
      "application/vnd.jupyter.widget-view+json": {
       "model_id": "27dd88463399490dbe586042f7107ee3",
       "version_major": 2,
       "version_minor": 0
      },
      "text/plain": [
       "  0%|          | 0/1 [00:00<?, ?it/s]"
      ]
     },
     "metadata": {},
     "output_type": "display_data"
    },
    {
     "name": "stdout",
     "output_type": "stream",
     "text": [
      "(500, 8)\n",
      "Done msmt17_rank_2\n",
      "Model lstm2y稠密_bc400_lr001_tanh_mat_target3_3.pt\n"
     ]
    },
    {
     "data": {
      "application/vnd.jupyter.widget-view+json": {
       "model_id": "5fc8f1534937431fb8e33a3136bfd296",
       "version_major": 2,
       "version_minor": 0
      },
      "text/plain": [
       "  0%|          | 0/1 [00:00<?, ?it/s]"
      ]
     },
     "metadata": {},
     "output_type": "display_data"
    },
    {
     "name": "stdout",
     "output_type": "stream",
     "text": [
      "(500, 8)\n",
      "Done msmt17_rank_3\n",
      "Model lstm2y稠密_bc400_lr001_tanh_mat_target3_4.pt\n"
     ]
    },
    {
     "data": {
      "application/vnd.jupyter.widget-view+json": {
       "model_id": "f087dd6837584145a0bc0c342616d09b",
       "version_major": 2,
       "version_minor": 0
      },
      "text/plain": [
       "  0%|          | 0/1 [00:00<?, ?it/s]"
      ]
     },
     "metadata": {},
     "output_type": "display_data"
    },
    {
     "name": "stdout",
     "output_type": "stream",
     "text": [
      "(500, 8)\n",
      "Done msmt17_rank_4\n",
      "['msmt17_rank_0', 'msmt17_rank_1', 'msmt17_rank_2', 'msmt17_rank_3', 'msmt17_rank_4']\n",
      "Model lstm2y稠密_bc400_lr001_tanh_mat_target4_0.pt\n"
     ]
    },
    {
     "data": {
      "application/vnd.jupyter.widget-view+json": {
       "model_id": "506750e1b38746d9bd1b0af470413459",
       "version_major": 2,
       "version_minor": 0
      },
      "text/plain": [
       "  0%|          | 0/1 [00:00<?, ?it/s]"
      ]
     },
     "metadata": {},
     "output_type": "display_data"
    },
    {
     "name": "stdout",
     "output_type": "stream",
     "text": [
      "(500, 8)\n",
      "Done veri_rank_0\n",
      "Model lstm2y稠密_bc400_lr001_tanh_mat_target4_1.pt\n"
     ]
    },
    {
     "data": {
      "application/vnd.jupyter.widget-view+json": {
       "model_id": "d5f0fa5644cb488f8a734784145b1338",
       "version_major": 2,
       "version_minor": 0
      },
      "text/plain": [
       "  0%|          | 0/1 [00:00<?, ?it/s]"
      ]
     },
     "metadata": {},
     "output_type": "display_data"
    },
    {
     "name": "stdout",
     "output_type": "stream",
     "text": [
      "(500, 8)\n",
      "Done veri_rank_1\n",
      "Model lstm2y稠密_bc400_lr001_tanh_mat_target4_2.pt\n"
     ]
    },
    {
     "data": {
      "application/vnd.jupyter.widget-view+json": {
       "model_id": "5ac032e6ab894a12b82f7d382bd5076a",
       "version_major": 2,
       "version_minor": 0
      },
      "text/plain": [
       "  0%|          | 0/1 [00:00<?, ?it/s]"
      ]
     },
     "metadata": {},
     "output_type": "display_data"
    },
    {
     "name": "stdout",
     "output_type": "stream",
     "text": [
      "(500, 8)\n",
      "Done veri_rank_2\n",
      "Model lstm2y稠密_bc400_lr001_tanh_mat_target4_3.pt\n"
     ]
    },
    {
     "data": {
      "application/vnd.jupyter.widget-view+json": {
       "model_id": "6335f8ed4db54236baab2816cf4d6202",
       "version_major": 2,
       "version_minor": 0
      },
      "text/plain": [
       "  0%|          | 0/1 [00:00<?, ?it/s]"
      ]
     },
     "metadata": {},
     "output_type": "display_data"
    },
    {
     "name": "stdout",
     "output_type": "stream",
     "text": [
      "(500, 8)\n",
      "Done veri_rank_3\n",
      "Model lstm2y稠密_bc400_lr001_tanh_mat_target4_4.pt\n"
     ]
    },
    {
     "data": {
      "application/vnd.jupyter.widget-view+json": {
       "model_id": "125e1ba88e54402780f2f6b8173805d3",
       "version_major": 2,
       "version_minor": 0
      },
      "text/plain": [
       "  0%|          | 0/1 [00:00<?, ?it/s]"
      ]
     },
     "metadata": {},
     "output_type": "display_data"
    },
    {
     "name": "stdout",
     "output_type": "stream",
     "text": [
      "(500, 8)\n",
      "Done veri_rank_4\n",
      "['veri_rank_0', 'veri_rank_1', 'veri_rank_2', 'veri_rank_3', 'veri_rank_4']\n",
      "Model lstm2y稠密_bc400_lr001_tanh_mat_target5_0.pt\n"
     ]
    },
    {
     "data": {
      "application/vnd.jupyter.widget-view+json": {
       "model_id": "39a882222b3f4e30990d451b509ee0aa",
       "version_major": 2,
       "version_minor": 0
      },
      "text/plain": [
       "  0%|          | 0/1 [00:00<?, ?it/s]"
      ]
     },
     "metadata": {},
     "output_type": "display_data"
    },
    {
     "name": "stdout",
     "output_type": "stream",
     "text": [
      "(500, 8)\n",
      "Done vehicleid_rank_0\n",
      "Model lstm2y稠密_bc400_lr001_tanh_mat_target5_1.pt\n"
     ]
    },
    {
     "data": {
      "application/vnd.jupyter.widget-view+json": {
       "model_id": "737b463ebe664c0db5d4f50d4ec65945",
       "version_major": 2,
       "version_minor": 0
      },
      "text/plain": [
       "  0%|          | 0/1 [00:00<?, ?it/s]"
      ]
     },
     "metadata": {},
     "output_type": "display_data"
    },
    {
     "name": "stdout",
     "output_type": "stream",
     "text": [
      "(500, 8)\n",
      "Done vehicleid_rank_1\n",
      "Model lstm2y稠密_bc400_lr001_tanh_mat_target5_2.pt\n"
     ]
    },
    {
     "data": {
      "application/vnd.jupyter.widget-view+json": {
       "model_id": "5eb2134235e84cfeba6d78d2b4c57e77",
       "version_major": 2,
       "version_minor": 0
      },
      "text/plain": [
       "  0%|          | 0/1 [00:00<?, ?it/s]"
      ]
     },
     "metadata": {},
     "output_type": "display_data"
    },
    {
     "name": "stdout",
     "output_type": "stream",
     "text": [
      "(500, 8)\n",
      "Done vehicleid_rank_2\n",
      "Model lstm2y稠密_bc400_lr001_tanh_mat_target5_3.pt\n"
     ]
    },
    {
     "data": {
      "application/vnd.jupyter.widget-view+json": {
       "model_id": "d399d2b40c0b44e8b6e0e5a65b08422a",
       "version_major": 2,
       "version_minor": 0
      },
      "text/plain": [
       "  0%|          | 0/1 [00:00<?, ?it/s]"
      ]
     },
     "metadata": {},
     "output_type": "display_data"
    },
    {
     "name": "stdout",
     "output_type": "stream",
     "text": [
      "(500, 8)\n",
      "Done vehicleid_rank_3\n",
      "Model lstm2y稠密_bc400_lr001_tanh_mat_target5_4.pt\n"
     ]
    },
    {
     "data": {
      "application/vnd.jupyter.widget-view+json": {
       "model_id": "afcea3330a6140d29c5bcbb4f1147939",
       "version_major": 2,
       "version_minor": 0
      },
      "text/plain": [
       "  0%|          | 0/1 [00:00<?, ?it/s]"
      ]
     },
     "metadata": {},
     "output_type": "display_data"
    },
    {
     "name": "stdout",
     "output_type": "stream",
     "text": [
      "(500, 8)\n",
      "Done vehicleid_rank_4\n",
      "['vehicleid_rank_0', 'vehicleid_rank_1', 'vehicleid_rank_2', 'vehicleid_rank_3', 'vehicleid_rank_4']\n",
      "Model lstm2y稠密_bc400_lr001_tanh_mat_target6_0.pt\n"
     ]
    },
    {
     "data": {
      "application/vnd.jupyter.widget-view+json": {
       "model_id": "7c14be789e274ed3927643ef051f9d97",
       "version_major": 2,
       "version_minor": 0
      },
      "text/plain": [
       "  0%|          | 0/1 [00:00<?, ?it/s]"
      ]
     },
     "metadata": {},
     "output_type": "display_data"
    },
    {
     "name": "stdout",
     "output_type": "stream",
     "text": [
      "(500, 8)\n",
      "Done veriwild_rank_0\n",
      "Model lstm2y稠密_bc400_lr001_tanh_mat_target6_1.pt\n"
     ]
    },
    {
     "data": {
      "application/vnd.jupyter.widget-view+json": {
       "model_id": "8af524ef08cd4324af76a629aba38c75",
       "version_major": 2,
       "version_minor": 0
      },
      "text/plain": [
       "  0%|          | 0/1 [00:00<?, ?it/s]"
      ]
     },
     "metadata": {},
     "output_type": "display_data"
    },
    {
     "name": "stdout",
     "output_type": "stream",
     "text": [
      "(500, 8)\n",
      "Done veriwild_rank_1\n",
      "Model lstm2y稠密_bc400_lr001_tanh_mat_target6_2.pt\n"
     ]
    },
    {
     "data": {
      "application/vnd.jupyter.widget-view+json": {
       "model_id": "50f8964e7bf342b896a795808f20f857",
       "version_major": 2,
       "version_minor": 0
      },
      "text/plain": [
       "  0%|          | 0/1 [00:00<?, ?it/s]"
      ]
     },
     "metadata": {},
     "output_type": "display_data"
    },
    {
     "name": "stdout",
     "output_type": "stream",
     "text": [
      "(500, 8)\n",
      "Done veriwild_rank_2\n",
      "Model lstm2y稠密_bc400_lr001_tanh_mat_target6_3.pt\n"
     ]
    },
    {
     "data": {
      "application/vnd.jupyter.widget-view+json": {
       "model_id": "e4b606f459e645f0bb131bba18c8d125",
       "version_major": 2,
       "version_minor": 0
      },
      "text/plain": [
       "  0%|          | 0/1 [00:00<?, ?it/s]"
      ]
     },
     "metadata": {},
     "output_type": "display_data"
    },
    {
     "name": "stdout",
     "output_type": "stream",
     "text": [
      "(500, 8)\n",
      "Done veriwild_rank_3\n",
      "Model lstm2y稠密_bc400_lr001_tanh_mat_target6_4.pt\n"
     ]
    },
    {
     "data": {
      "application/vnd.jupyter.widget-view+json": {
       "model_id": "64c10af5a84b476ca7ba9dac6d60b0fa",
       "version_major": 2,
       "version_minor": 0
      },
      "text/plain": [
       "  0%|          | 0/1 [00:00<?, ?it/s]"
      ]
     },
     "metadata": {},
     "output_type": "display_data"
    },
    {
     "name": "stdout",
     "output_type": "stream",
     "text": [
      "(500, 8)\n",
      "Done veriwild_rank_4\n",
      "['veriwild_rank_0', 'veriwild_rank_1', 'veriwild_rank_2', 'veriwild_rank_3', 'veriwild_rank_4']\n",
      "Model lstm2y稠密_bc400_lr001_tanh_mat_target7_0.pt\n"
     ]
    },
    {
     "data": {
      "application/vnd.jupyter.widget-view+json": {
       "model_id": "d13b472270714b99a2bf0e6ce4274d4c",
       "version_major": 2,
       "version_minor": 0
      },
      "text/plain": [
       "  0%|          | 0/1 [00:00<?, ?it/s]"
      ]
     },
     "metadata": {},
     "output_type": "display_data"
    },
    {
     "name": "stdout",
     "output_type": "stream",
     "text": [
      "(500, 8)\n",
      "Done sop_rank_0\n",
      "Model lstm2y稠密_bc400_lr001_tanh_mat_target7_1.pt\n"
     ]
    },
    {
     "data": {
      "application/vnd.jupyter.widget-view+json": {
       "model_id": "203eae0a0dd44fc793b50012ac46b0f9",
       "version_major": 2,
       "version_minor": 0
      },
      "text/plain": [
       "  0%|          | 0/1 [00:00<?, ?it/s]"
      ]
     },
     "metadata": {},
     "output_type": "display_data"
    },
    {
     "name": "stdout",
     "output_type": "stream",
     "text": [
      "(500, 8)\n",
      "Done sop_rank_1\n",
      "Model lstm2y稠密_bc400_lr001_tanh_mat_target7_2.pt\n"
     ]
    },
    {
     "data": {
      "application/vnd.jupyter.widget-view+json": {
       "model_id": "3ab4e2a7332d409398cf74397c330d30",
       "version_major": 2,
       "version_minor": 0
      },
      "text/plain": [
       "  0%|          | 0/1 [00:00<?, ?it/s]"
      ]
     },
     "metadata": {},
     "output_type": "display_data"
    },
    {
     "name": "stdout",
     "output_type": "stream",
     "text": [
      "(500, 8)\n",
      "Done sop_rank_2\n",
      "Model lstm2y稠密_bc400_lr001_tanh_mat_target7_3.pt\n"
     ]
    },
    {
     "data": {
      "application/vnd.jupyter.widget-view+json": {
       "model_id": "a08d5a6f421b4f9f9425dad476a64e86",
       "version_major": 2,
       "version_minor": 0
      },
      "text/plain": [
       "  0%|          | 0/1 [00:00<?, ?it/s]"
      ]
     },
     "metadata": {},
     "output_type": "display_data"
    },
    {
     "name": "stdout",
     "output_type": "stream",
     "text": [
      "(500, 8)\n",
      "Done sop_rank_3\n",
      "Model lstm2y稠密_bc400_lr001_tanh_mat_target7_4.pt\n"
     ]
    },
    {
     "data": {
      "application/vnd.jupyter.widget-view+json": {
       "model_id": "930d0bcae46345348146426b04bb0db5",
       "version_major": 2,
       "version_minor": 0
      },
      "text/plain": [
       "  0%|          | 0/1 [00:00<?, ?it/s]"
      ]
     },
     "metadata": {},
     "output_type": "display_data"
    },
    {
     "name": "stdout",
     "output_type": "stream",
     "text": [
      "(500, 8)\n",
      "Done sop_rank_4\n",
      "['sop_rank_0', 'sop_rank_1', 'sop_rank_2', 'sop_rank_3', 'sop_rank_4']\n"
     ]
    },
    {
     "data": {
      "text/plain": [
       "array([0.37461616, 0.90014512, 0.91819605, 0.97460526, 0.92847466,\n",
       "       0.72192225, 0.92732675, 0.83744911])"
      ]
     },
     "execution_count": 49,
     "metadata": {},
     "output_type": "execute_result"
    }
   ],
   "source": [
    "train_df1 = train_df.copy()\n",
    "predict_sig(train_df1, k=5, modelname='lstm2y稠密_bc400_lr001_tanh_mat')\n",
    "compute_metric(train_df[target_cols].values, train_df1[target_cols].values)"
   ]
  },
  {
   "cell_type": "code",
   "execution_count": 50,
   "metadata": {},
   "outputs": [
    {
     "data": {
      "text/plain": [
       "0.82284192"
      ]
     },
     "execution_count": 50,
     "metadata": {},
     "output_type": "execute_result"
    }
   ],
   "source": [
    "np.mean([0.37461616, 0.90014512, 0.91819605, 0.97460526, 0.92847466,\n",
    "       0.72192225, 0.92732675, 0.83744911])"
   ]
  },
  {
   "cell_type": "code",
   "execution_count": 51,
   "metadata": {},
   "outputs": [
    {
     "name": "stdout",
     "output_type": "stream",
     "text": [
      "Model lstm2y稠密_bc400_lr001_tanh_mat_target0_0.pt\n"
     ]
    },
    {
     "name": "stderr",
     "output_type": "stream",
     "text": [
      "C:\\Users\\45928\\AppData\\Local\\Continuum\\anaconda3\\lib\\site-packages\\ipykernel_launcher.py:15: TqdmDeprecationWarning: This function will be removed in tqdm==5.0.0\n",
      "Please use `tqdm.notebook.tqdm` instead of `tqdm.tqdm_notebook`\n",
      "  from ipykernel import kernelapp as app\n"
     ]
    },
    {
     "data": {
      "application/vnd.jupyter.widget-view+json": {
       "model_id": "183d65d2810a445c84b994832a3a8674",
       "version_major": 2,
       "version_minor": 0
      },
      "text/plain": [
       "  0%|          | 0/13 [00:00<?, ?it/s]"
      ]
     },
     "metadata": {},
     "output_type": "display_data"
    },
    {
     "name": "stdout",
     "output_type": "stream",
     "text": [
      "(99500, 8)\n",
      "Done cplfw_rank_0\n",
      "Model lstm2y稠密_bc400_lr001_tanh_mat_target0_1.pt\n"
     ]
    },
    {
     "data": {
      "application/vnd.jupyter.widget-view+json": {
       "model_id": "3da762c3125143cf9d5abd103a4c086b",
       "version_major": 2,
       "version_minor": 0
      },
      "text/plain": [
       "  0%|          | 0/13 [00:00<?, ?it/s]"
      ]
     },
     "metadata": {},
     "output_type": "display_data"
    },
    {
     "name": "stdout",
     "output_type": "stream",
     "text": [
      "(99500, 8)\n",
      "Done cplfw_rank_1\n",
      "Model lstm2y稠密_bc400_lr001_tanh_mat_target0_2.pt\n"
     ]
    },
    {
     "data": {
      "application/vnd.jupyter.widget-view+json": {
       "model_id": "1fd40bbaa767427281501580f5d8ff1a",
       "version_major": 2,
       "version_minor": 0
      },
      "text/plain": [
       "  0%|          | 0/13 [00:00<?, ?it/s]"
      ]
     },
     "metadata": {},
     "output_type": "display_data"
    },
    {
     "name": "stdout",
     "output_type": "stream",
     "text": [
      "(99500, 8)\n",
      "Done cplfw_rank_2\n",
      "Model lstm2y稠密_bc400_lr001_tanh_mat_target0_3.pt\n"
     ]
    },
    {
     "data": {
      "application/vnd.jupyter.widget-view+json": {
       "model_id": "a7824a2e93964c5d880f09379bfbb1de",
       "version_major": 2,
       "version_minor": 0
      },
      "text/plain": [
       "  0%|          | 0/13 [00:00<?, ?it/s]"
      ]
     },
     "metadata": {},
     "output_type": "display_data"
    },
    {
     "name": "stdout",
     "output_type": "stream",
     "text": [
      "(99500, 8)\n",
      "Done cplfw_rank_3\n",
      "Model lstm2y稠密_bc400_lr001_tanh_mat_target0_4.pt\n"
     ]
    },
    {
     "data": {
      "application/vnd.jupyter.widget-view+json": {
       "model_id": "5e6115351aa647aa857072b9ecedd8ed",
       "version_major": 2,
       "version_minor": 0
      },
      "text/plain": [
       "  0%|          | 0/13 [00:00<?, ?it/s]"
      ]
     },
     "metadata": {},
     "output_type": "display_data"
    },
    {
     "name": "stdout",
     "output_type": "stream",
     "text": [
      "(99500, 8)\n",
      "Done cplfw_rank_4\n",
      "['cplfw_rank_0', 'cplfw_rank_1', 'cplfw_rank_2', 'cplfw_rank_3', 'cplfw_rank_4']\n",
      "Model lstm2y稠密_bc400_lr001_tanh_mat_target1_0.pt\n"
     ]
    },
    {
     "data": {
      "application/vnd.jupyter.widget-view+json": {
       "model_id": "c185660957974c02b31fb543dd78adbb",
       "version_major": 2,
       "version_minor": 0
      },
      "text/plain": [
       "  0%|          | 0/13 [00:00<?, ?it/s]"
      ]
     },
     "metadata": {},
     "output_type": "display_data"
    },
    {
     "name": "stdout",
     "output_type": "stream",
     "text": [
      "(99500, 8)\n",
      "Done market1501_rank_0\n",
      "Model lstm2y稠密_bc400_lr001_tanh_mat_target1_1.pt\n"
     ]
    },
    {
     "data": {
      "application/vnd.jupyter.widget-view+json": {
       "model_id": "d5d6517ac32d468b8c24ae180f0adde7",
       "version_major": 2,
       "version_minor": 0
      },
      "text/plain": [
       "  0%|          | 0/13 [00:00<?, ?it/s]"
      ]
     },
     "metadata": {},
     "output_type": "display_data"
    },
    {
     "name": "stdout",
     "output_type": "stream",
     "text": [
      "(99500, 8)\n",
      "Done market1501_rank_1\n",
      "Model lstm2y稠密_bc400_lr001_tanh_mat_target1_2.pt\n"
     ]
    },
    {
     "data": {
      "application/vnd.jupyter.widget-view+json": {
       "model_id": "21dd154ac9644a1abdb28e677a4899bc",
       "version_major": 2,
       "version_minor": 0
      },
      "text/plain": [
       "  0%|          | 0/13 [00:00<?, ?it/s]"
      ]
     },
     "metadata": {},
     "output_type": "display_data"
    },
    {
     "name": "stdout",
     "output_type": "stream",
     "text": [
      "(99500, 8)\n",
      "Done market1501_rank_2\n",
      "Model lstm2y稠密_bc400_lr001_tanh_mat_target1_3.pt\n"
     ]
    },
    {
     "data": {
      "application/vnd.jupyter.widget-view+json": {
       "model_id": "3c2429ad6e5c4fc3b8e9381f3f9d3dd7",
       "version_major": 2,
       "version_minor": 0
      },
      "text/plain": [
       "  0%|          | 0/13 [00:00<?, ?it/s]"
      ]
     },
     "metadata": {},
     "output_type": "display_data"
    },
    {
     "name": "stdout",
     "output_type": "stream",
     "text": [
      "(99500, 8)\n",
      "Done market1501_rank_3\n",
      "Model lstm2y稠密_bc400_lr001_tanh_mat_target1_4.pt\n"
     ]
    },
    {
     "data": {
      "application/vnd.jupyter.widget-view+json": {
       "model_id": "784468b617ba4de38d76e68ccde22e02",
       "version_major": 2,
       "version_minor": 0
      },
      "text/plain": [
       "  0%|          | 0/13 [00:00<?, ?it/s]"
      ]
     },
     "metadata": {},
     "output_type": "display_data"
    },
    {
     "name": "stdout",
     "output_type": "stream",
     "text": [
      "(99500, 8)\n",
      "Done market1501_rank_4\n",
      "['market1501_rank_0', 'market1501_rank_1', 'market1501_rank_2', 'market1501_rank_3', 'market1501_rank_4']\n",
      "Model lstm2y稠密_bc400_lr001_tanh_mat_target2_0.pt\n"
     ]
    },
    {
     "data": {
      "application/vnd.jupyter.widget-view+json": {
       "model_id": "b3e8230c9b2c468787d84757248405d4",
       "version_major": 2,
       "version_minor": 0
      },
      "text/plain": [
       "  0%|          | 0/13 [00:00<?, ?it/s]"
      ]
     },
     "metadata": {},
     "output_type": "display_data"
    },
    {
     "name": "stdout",
     "output_type": "stream",
     "text": [
      "(99500, 8)\n",
      "Done dukemtmc_rank_0\n",
      "Model lstm2y稠密_bc400_lr001_tanh_mat_target2_1.pt\n"
     ]
    },
    {
     "data": {
      "application/vnd.jupyter.widget-view+json": {
       "model_id": "3cee2cf8be4841a196506b65c844482f",
       "version_major": 2,
       "version_minor": 0
      },
      "text/plain": [
       "  0%|          | 0/13 [00:00<?, ?it/s]"
      ]
     },
     "metadata": {},
     "output_type": "display_data"
    },
    {
     "name": "stdout",
     "output_type": "stream",
     "text": [
      "(99500, 8)\n",
      "Done dukemtmc_rank_1\n",
      "Model lstm2y稠密_bc400_lr001_tanh_mat_target2_2.pt\n"
     ]
    },
    {
     "data": {
      "application/vnd.jupyter.widget-view+json": {
       "model_id": "57c91729002d4ed296e98c999777ba58",
       "version_major": 2,
       "version_minor": 0
      },
      "text/plain": [
       "  0%|          | 0/13 [00:00<?, ?it/s]"
      ]
     },
     "metadata": {},
     "output_type": "display_data"
    },
    {
     "name": "stdout",
     "output_type": "stream",
     "text": [
      "(99500, 8)\n",
      "Done dukemtmc_rank_2\n",
      "Model lstm2y稠密_bc400_lr001_tanh_mat_target2_3.pt\n"
     ]
    },
    {
     "data": {
      "application/vnd.jupyter.widget-view+json": {
       "model_id": "8cad1c6b6692442aad8fc37b9a5b3265",
       "version_major": 2,
       "version_minor": 0
      },
      "text/plain": [
       "  0%|          | 0/13 [00:00<?, ?it/s]"
      ]
     },
     "metadata": {},
     "output_type": "display_data"
    },
    {
     "name": "stdout",
     "output_type": "stream",
     "text": [
      "(99500, 8)\n",
      "Done dukemtmc_rank_3\n",
      "Model lstm2y稠密_bc400_lr001_tanh_mat_target2_4.pt\n"
     ]
    },
    {
     "data": {
      "application/vnd.jupyter.widget-view+json": {
       "model_id": "715fe4162447409ab521a47de4547b5b",
       "version_major": 2,
       "version_minor": 0
      },
      "text/plain": [
       "  0%|          | 0/13 [00:00<?, ?it/s]"
      ]
     },
     "metadata": {},
     "output_type": "display_data"
    },
    {
     "name": "stdout",
     "output_type": "stream",
     "text": [
      "(99500, 8)\n",
      "Done dukemtmc_rank_4\n",
      "['dukemtmc_rank_0', 'dukemtmc_rank_1', 'dukemtmc_rank_2', 'dukemtmc_rank_3', 'dukemtmc_rank_4']\n",
      "Model lstm2y稠密_bc400_lr001_tanh_mat_target3_0.pt\n"
     ]
    },
    {
     "data": {
      "application/vnd.jupyter.widget-view+json": {
       "model_id": "ddc0feb12f6746b09a171cd18f190b40",
       "version_major": 2,
       "version_minor": 0
      },
      "text/plain": [
       "  0%|          | 0/13 [00:00<?, ?it/s]"
      ]
     },
     "metadata": {},
     "output_type": "display_data"
    },
    {
     "name": "stdout",
     "output_type": "stream",
     "text": [
      "(99500, 8)\n",
      "Done msmt17_rank_0\n",
      "Model lstm2y稠密_bc400_lr001_tanh_mat_target3_1.pt\n"
     ]
    },
    {
     "data": {
      "application/vnd.jupyter.widget-view+json": {
       "model_id": "e9737595a9b2401180b5ec72484ed64b",
       "version_major": 2,
       "version_minor": 0
      },
      "text/plain": [
       "  0%|          | 0/13 [00:00<?, ?it/s]"
      ]
     },
     "metadata": {},
     "output_type": "display_data"
    },
    {
     "name": "stdout",
     "output_type": "stream",
     "text": [
      "(99500, 8)\n",
      "Done msmt17_rank_1\n",
      "Model lstm2y稠密_bc400_lr001_tanh_mat_target3_2.pt\n"
     ]
    },
    {
     "data": {
      "application/vnd.jupyter.widget-view+json": {
       "model_id": "821aa7b53234437a8fc8a2e84eb22a34",
       "version_major": 2,
       "version_minor": 0
      },
      "text/plain": [
       "  0%|          | 0/13 [00:00<?, ?it/s]"
      ]
     },
     "metadata": {},
     "output_type": "display_data"
    },
    {
     "name": "stdout",
     "output_type": "stream",
     "text": [
      "(99500, 8)\n",
      "Done msmt17_rank_2\n",
      "Model lstm2y稠密_bc400_lr001_tanh_mat_target3_3.pt\n"
     ]
    },
    {
     "data": {
      "application/vnd.jupyter.widget-view+json": {
       "model_id": "3daa79ee9c3344549016b7daf70586a9",
       "version_major": 2,
       "version_minor": 0
      },
      "text/plain": [
       "  0%|          | 0/13 [00:00<?, ?it/s]"
      ]
     },
     "metadata": {},
     "output_type": "display_data"
    },
    {
     "name": "stdout",
     "output_type": "stream",
     "text": [
      "(99500, 8)\n",
      "Done msmt17_rank_3\n",
      "Model lstm2y稠密_bc400_lr001_tanh_mat_target3_4.pt\n"
     ]
    },
    {
     "data": {
      "application/vnd.jupyter.widget-view+json": {
       "model_id": "36abd4db7ec54d158aa344b986526dd5",
       "version_major": 2,
       "version_minor": 0
      },
      "text/plain": [
       "  0%|          | 0/13 [00:00<?, ?it/s]"
      ]
     },
     "metadata": {},
     "output_type": "display_data"
    },
    {
     "name": "stdout",
     "output_type": "stream",
     "text": [
      "(99500, 8)\n",
      "Done msmt17_rank_4\n",
      "['msmt17_rank_0', 'msmt17_rank_1', 'msmt17_rank_2', 'msmt17_rank_3', 'msmt17_rank_4']\n",
      "Model lstm2y稠密_bc400_lr001_tanh_mat_target4_0.pt\n"
     ]
    },
    {
     "data": {
      "application/vnd.jupyter.widget-view+json": {
       "model_id": "e4e2300e2c8a419f932a1feec97fc827",
       "version_major": 2,
       "version_minor": 0
      },
      "text/plain": [
       "  0%|          | 0/13 [00:00<?, ?it/s]"
      ]
     },
     "metadata": {},
     "output_type": "display_data"
    },
    {
     "name": "stdout",
     "output_type": "stream",
     "text": [
      "(99500, 8)\n",
      "Done veri_rank_0\n",
      "Model lstm2y稠密_bc400_lr001_tanh_mat_target4_1.pt\n"
     ]
    },
    {
     "data": {
      "application/vnd.jupyter.widget-view+json": {
       "model_id": "1ca47d427d1c481e86f5198be3d05af1",
       "version_major": 2,
       "version_minor": 0
      },
      "text/plain": [
       "  0%|          | 0/13 [00:00<?, ?it/s]"
      ]
     },
     "metadata": {},
     "output_type": "display_data"
    },
    {
     "name": "stdout",
     "output_type": "stream",
     "text": [
      "(99500, 8)\n",
      "Done veri_rank_1\n",
      "Model lstm2y稠密_bc400_lr001_tanh_mat_target4_2.pt\n"
     ]
    },
    {
     "data": {
      "application/vnd.jupyter.widget-view+json": {
       "model_id": "0ec36262ef4a4ff69dd319b59a2df627",
       "version_major": 2,
       "version_minor": 0
      },
      "text/plain": [
       "  0%|          | 0/13 [00:00<?, ?it/s]"
      ]
     },
     "metadata": {},
     "output_type": "display_data"
    },
    {
     "name": "stdout",
     "output_type": "stream",
     "text": [
      "(99500, 8)\n",
      "Done veri_rank_2\n",
      "Model lstm2y稠密_bc400_lr001_tanh_mat_target4_3.pt\n"
     ]
    },
    {
     "data": {
      "application/vnd.jupyter.widget-view+json": {
       "model_id": "4265a11e5c644003bfe81652e180660d",
       "version_major": 2,
       "version_minor": 0
      },
      "text/plain": [
       "  0%|          | 0/13 [00:00<?, ?it/s]"
      ]
     },
     "metadata": {},
     "output_type": "display_data"
    },
    {
     "name": "stdout",
     "output_type": "stream",
     "text": [
      "(99500, 8)\n",
      "Done veri_rank_3\n",
      "Model lstm2y稠密_bc400_lr001_tanh_mat_target4_4.pt\n"
     ]
    },
    {
     "data": {
      "application/vnd.jupyter.widget-view+json": {
       "model_id": "a4e6ce762ec748aab90849aa141b4d64",
       "version_major": 2,
       "version_minor": 0
      },
      "text/plain": [
       "  0%|          | 0/13 [00:00<?, ?it/s]"
      ]
     },
     "metadata": {},
     "output_type": "display_data"
    },
    {
     "name": "stdout",
     "output_type": "stream",
     "text": [
      "(99500, 8)\n",
      "Done veri_rank_4\n",
      "['veri_rank_0', 'veri_rank_1', 'veri_rank_2', 'veri_rank_3', 'veri_rank_4']\n",
      "Model lstm2y稠密_bc400_lr001_tanh_mat_target5_0.pt\n"
     ]
    },
    {
     "data": {
      "application/vnd.jupyter.widget-view+json": {
       "model_id": "c58354e4f44048769f0c885a56f56149",
       "version_major": 2,
       "version_minor": 0
      },
      "text/plain": [
       "  0%|          | 0/13 [00:00<?, ?it/s]"
      ]
     },
     "metadata": {},
     "output_type": "display_data"
    },
    {
     "name": "stdout",
     "output_type": "stream",
     "text": [
      "(99500, 8)\n",
      "Done vehicleid_rank_0\n",
      "Model lstm2y稠密_bc400_lr001_tanh_mat_target5_1.pt\n"
     ]
    },
    {
     "data": {
      "application/vnd.jupyter.widget-view+json": {
       "model_id": "a7bb7be5d6264f9b88265a85dd90670d",
       "version_major": 2,
       "version_minor": 0
      },
      "text/plain": [
       "  0%|          | 0/13 [00:00<?, ?it/s]"
      ]
     },
     "metadata": {},
     "output_type": "display_data"
    },
    {
     "name": "stdout",
     "output_type": "stream",
     "text": [
      "(99500, 8)\n",
      "Done vehicleid_rank_1\n",
      "Model lstm2y稠密_bc400_lr001_tanh_mat_target5_2.pt\n"
     ]
    },
    {
     "data": {
      "application/vnd.jupyter.widget-view+json": {
       "model_id": "15baebcebe8d4e518918eefcb5eb534d",
       "version_major": 2,
       "version_minor": 0
      },
      "text/plain": [
       "  0%|          | 0/13 [00:00<?, ?it/s]"
      ]
     },
     "metadata": {},
     "output_type": "display_data"
    },
    {
     "name": "stdout",
     "output_type": "stream",
     "text": [
      "(99500, 8)\n",
      "Done vehicleid_rank_2\n",
      "Model lstm2y稠密_bc400_lr001_tanh_mat_target5_3.pt\n"
     ]
    },
    {
     "data": {
      "application/vnd.jupyter.widget-view+json": {
       "model_id": "77f447efd01c4394ab39b10b0d6716a2",
       "version_major": 2,
       "version_minor": 0
      },
      "text/plain": [
       "  0%|          | 0/13 [00:00<?, ?it/s]"
      ]
     },
     "metadata": {},
     "output_type": "display_data"
    },
    {
     "name": "stdout",
     "output_type": "stream",
     "text": [
      "(99500, 8)\n",
      "Done vehicleid_rank_3\n",
      "Model lstm2y稠密_bc400_lr001_tanh_mat_target5_4.pt\n"
     ]
    },
    {
     "data": {
      "application/vnd.jupyter.widget-view+json": {
       "model_id": "1d36684f5eff43029d2472f5534f9b3c",
       "version_major": 2,
       "version_minor": 0
      },
      "text/plain": [
       "  0%|          | 0/13 [00:00<?, ?it/s]"
      ]
     },
     "metadata": {},
     "output_type": "display_data"
    },
    {
     "name": "stdout",
     "output_type": "stream",
     "text": [
      "(99500, 8)\n",
      "Done vehicleid_rank_4\n",
      "['vehicleid_rank_0', 'vehicleid_rank_1', 'vehicleid_rank_2', 'vehicleid_rank_3', 'vehicleid_rank_4']\n",
      "Model lstm2y稠密_bc400_lr001_tanh_mat_target6_0.pt\n"
     ]
    },
    {
     "data": {
      "application/vnd.jupyter.widget-view+json": {
       "model_id": "a96d1c1ded2b4bcc8a8c15684232ad0b",
       "version_major": 2,
       "version_minor": 0
      },
      "text/plain": [
       "  0%|          | 0/13 [00:00<?, ?it/s]"
      ]
     },
     "metadata": {},
     "output_type": "display_data"
    },
    {
     "name": "stdout",
     "output_type": "stream",
     "text": [
      "(99500, 8)\n",
      "Done veriwild_rank_0\n",
      "Model lstm2y稠密_bc400_lr001_tanh_mat_target6_1.pt\n"
     ]
    },
    {
     "data": {
      "application/vnd.jupyter.widget-view+json": {
       "model_id": "858df9a2102d464f87b62554250dd9ef",
       "version_major": 2,
       "version_minor": 0
      },
      "text/plain": [
       "  0%|          | 0/13 [00:00<?, ?it/s]"
      ]
     },
     "metadata": {},
     "output_type": "display_data"
    },
    {
     "name": "stdout",
     "output_type": "stream",
     "text": [
      "(99500, 8)\n",
      "Done veriwild_rank_1\n",
      "Model lstm2y稠密_bc400_lr001_tanh_mat_target6_2.pt\n"
     ]
    },
    {
     "data": {
      "application/vnd.jupyter.widget-view+json": {
       "model_id": "eaf0445b6add4ce0bf2277e97ae6b769",
       "version_major": 2,
       "version_minor": 0
      },
      "text/plain": [
       "  0%|          | 0/13 [00:00<?, ?it/s]"
      ]
     },
     "metadata": {},
     "output_type": "display_data"
    },
    {
     "name": "stdout",
     "output_type": "stream",
     "text": [
      "(99500, 8)\n",
      "Done veriwild_rank_2\n",
      "Model lstm2y稠密_bc400_lr001_tanh_mat_target6_3.pt\n"
     ]
    },
    {
     "data": {
      "application/vnd.jupyter.widget-view+json": {
       "model_id": "34b40893c8b54b4fb19782c0a381fa3a",
       "version_major": 2,
       "version_minor": 0
      },
      "text/plain": [
       "  0%|          | 0/13 [00:00<?, ?it/s]"
      ]
     },
     "metadata": {},
     "output_type": "display_data"
    },
    {
     "name": "stdout",
     "output_type": "stream",
     "text": [
      "(99500, 8)\n",
      "Done veriwild_rank_3\n",
      "Model lstm2y稠密_bc400_lr001_tanh_mat_target6_4.pt\n"
     ]
    },
    {
     "data": {
      "application/vnd.jupyter.widget-view+json": {
       "model_id": "c6f5dc0e0f5641f98126ab20de00d5e4",
       "version_major": 2,
       "version_minor": 0
      },
      "text/plain": [
       "  0%|          | 0/13 [00:00<?, ?it/s]"
      ]
     },
     "metadata": {},
     "output_type": "display_data"
    },
    {
     "name": "stdout",
     "output_type": "stream",
     "text": [
      "(99500, 8)\n",
      "Done veriwild_rank_4\n",
      "['veriwild_rank_0', 'veriwild_rank_1', 'veriwild_rank_2', 'veriwild_rank_3', 'veriwild_rank_4']\n",
      "Model lstm2y稠密_bc400_lr001_tanh_mat_target7_0.pt\n"
     ]
    },
    {
     "data": {
      "application/vnd.jupyter.widget-view+json": {
       "model_id": "0a7b1d74ef6c4155884dbfc7ce9d4182",
       "version_major": 2,
       "version_minor": 0
      },
      "text/plain": [
       "  0%|          | 0/13 [00:00<?, ?it/s]"
      ]
     },
     "metadata": {},
     "output_type": "display_data"
    },
    {
     "name": "stdout",
     "output_type": "stream",
     "text": [
      "(99500, 8)\n",
      "Done sop_rank_0\n",
      "Model lstm2y稠密_bc400_lr001_tanh_mat_target7_1.pt\n"
     ]
    },
    {
     "data": {
      "application/vnd.jupyter.widget-view+json": {
       "model_id": "dbcc7988eb014eec8933a12ba88d97d3",
       "version_major": 2,
       "version_minor": 0
      },
      "text/plain": [
       "  0%|          | 0/13 [00:00<?, ?it/s]"
      ]
     },
     "metadata": {},
     "output_type": "display_data"
    },
    {
     "name": "stdout",
     "output_type": "stream",
     "text": [
      "(99500, 8)\n",
      "Done sop_rank_1\n",
      "Model lstm2y稠密_bc400_lr001_tanh_mat_target7_2.pt\n"
     ]
    },
    {
     "data": {
      "application/vnd.jupyter.widget-view+json": {
       "model_id": "2775bdd9816447eba9661bf4d38922d8",
       "version_major": 2,
       "version_minor": 0
      },
      "text/plain": [
       "  0%|          | 0/13 [00:00<?, ?it/s]"
      ]
     },
     "metadata": {},
     "output_type": "display_data"
    },
    {
     "name": "stdout",
     "output_type": "stream",
     "text": [
      "(99500, 8)\n",
      "Done sop_rank_2\n",
      "Model lstm2y稠密_bc400_lr001_tanh_mat_target7_3.pt\n"
     ]
    },
    {
     "data": {
      "application/vnd.jupyter.widget-view+json": {
       "model_id": "f47ac33a33bd4e75a3ef3b4fd7334856",
       "version_major": 2,
       "version_minor": 0
      },
      "text/plain": [
       "  0%|          | 0/13 [00:00<?, ?it/s]"
      ]
     },
     "metadata": {},
     "output_type": "display_data"
    },
    {
     "name": "stdout",
     "output_type": "stream",
     "text": [
      "(99500, 8)\n",
      "Done sop_rank_3\n",
      "Model lstm2y稠密_bc400_lr001_tanh_mat_target7_4.pt\n"
     ]
    },
    {
     "data": {
      "application/vnd.jupyter.widget-view+json": {
       "model_id": "e2be98ffdaf849019eb8d777e3b0e5bd",
       "version_major": 2,
       "version_minor": 0
      },
      "text/plain": [
       "  0%|          | 0/13 [00:00<?, ?it/s]"
      ]
     },
     "metadata": {},
     "output_type": "display_data"
    },
    {
     "name": "stdout",
     "output_type": "stream",
     "text": [
      "(99500, 8)\n",
      "Done sop_rank_4\n",
      "['sop_rank_0', 'sop_rank_1', 'sop_rank_2', 'sop_rank_3', 'sop_rank_4']\n"
     ]
    }
   ],
   "source": [
    "predict_sig(test_df, k=5, modelname='lstm2y稠密_bc400_lr001_tanh_mat')"
   ]
  },
  {
   "cell_type": "code",
   "execution_count": 43,
   "metadata": {},
   "outputs": [
    {
     "name": "stdout",
     "output_type": "stream",
     "text": [
      "Model lstm2y稠密_bc400_lr001_softsign\n"
     ]
    },
    {
     "name": "stderr",
     "output_type": "stream",
     "text": [
      "C:\\Users\\45928\\AppData\\Local\\Continuum\\anaconda3\\lib\\site-packages\\ipykernel_launcher.py:14: TqdmDeprecationWarning: This function will be removed in tqdm==5.0.0\n",
      "Please use `tqdm.notebook.tqdm` instead of `tqdm.tqdm_notebook`\n",
      "  \n"
     ]
    },
    {
     "data": {
      "application/vnd.jupyter.widget-view+json": {
       "model_id": "e5e3febf3e5143e99e74a0922974a0c3",
       "version_major": 2,
       "version_minor": 0
      },
      "text/plain": [
       "  0%|          | 0/13 [00:00<?, ?it/s]"
      ]
     },
     "metadata": {},
     "output_type": "display_data"
    },
    {
     "name": "stdout",
     "output_type": "stream",
     "text": [
      "(99500, 8)\n"
     ]
    },
    {
     "data": {
      "application/vnd.jupyter.widget-view+json": {
       "model_id": "4093dc0b553d48fa926feced80df4f67",
       "version_major": 2,
       "version_minor": 0
      },
      "text/plain": [
       "  0%|          | 0/13 [00:00<?, ?it/s]"
      ]
     },
     "metadata": {},
     "output_type": "display_data"
    },
    {
     "name": "stdout",
     "output_type": "stream",
     "text": [
      "(99500, 8)\n"
     ]
    },
    {
     "data": {
      "application/vnd.jupyter.widget-view+json": {
       "model_id": "1ee9d2d6abd34ac08d570cd530055a94",
       "version_major": 2,
       "version_minor": 0
      },
      "text/plain": [
       "  0%|          | 0/13 [00:00<?, ?it/s]"
      ]
     },
     "metadata": {},
     "output_type": "display_data"
    },
    {
     "name": "stdout",
     "output_type": "stream",
     "text": [
      "(99500, 8)\n"
     ]
    },
    {
     "data": {
      "application/vnd.jupyter.widget-view+json": {
       "model_id": "d4cf01830a3d4919b08f946be6de950d",
       "version_major": 2,
       "version_minor": 0
      },
      "text/plain": [
       "  0%|          | 0/13 [00:00<?, ?it/s]"
      ]
     },
     "metadata": {},
     "output_type": "display_data"
    },
    {
     "name": "stdout",
     "output_type": "stream",
     "text": [
      "(99500, 8)\n"
     ]
    },
    {
     "data": {
      "application/vnd.jupyter.widget-view+json": {
       "model_id": "1ffc6110d6b143bfbd37e4cde5e9b84e",
       "version_major": 2,
       "version_minor": 0
      },
      "text/plain": [
       "  0%|          | 0/13 [00:00<?, ?it/s]"
      ]
     },
     "metadata": {},
     "output_type": "display_data"
    },
    {
     "name": "stdout",
     "output_type": "stream",
     "text": [
      "(99500, 8)\n",
      "['cplfw_rank_0', 'market1501_rank_0', 'dukemtmc_rank_0', 'msmt17_rank_0', 'veri_rank_0', 'vehicleid_rank_0', 'veriwild_rank_0', 'sop_rank_0', 'cplfw_rank_1', 'market1501_rank_1', 'dukemtmc_rank_1', 'msmt17_rank_1', 'veri_rank_1', 'vehicleid_rank_1', 'veriwild_rank_1', 'sop_rank_1', 'cplfw_rank_2', 'market1501_rank_2', 'dukemtmc_rank_2', 'msmt17_rank_2', 'veri_rank_2', 'vehicleid_rank_2', 'veriwild_rank_2', 'sop_rank_2', 'cplfw_rank_3', 'market1501_rank_3', 'dukemtmc_rank_3', 'msmt17_rank_3', 'veri_rank_3', 'vehicleid_rank_3', 'veriwild_rank_3', 'sop_rank_3', 'cplfw_rank_4', 'market1501_rank_4', 'dukemtmc_rank_4', 'msmt17_rank_4', 'veri_rank_4', 'vehicleid_rank_4', 'veriwild_rank_4', 'sop_rank_4']\n"
     ]
    }
   ],
   "source": [
    "# predict_all(test_df, k=5, modelname='lstm2y稠密_bc400_lr001_pair')"
   ]
  },
  {
   "cell_type": "code",
   "execution_count": 52,
   "metadata": {},
   "outputs": [],
   "source": [
    "test_df[target_cols] = test_df[target_cols].astype(int)-1"
   ]
  },
  {
   "cell_type": "code",
   "execution_count": 53,
   "metadata": {},
   "outputs": [
    {
     "data": {
      "text/html": [
       "<div>\n",
       "<style scoped>\n",
       "    .dataframe tbody tr th:only-of-type {\n",
       "        vertical-align: middle;\n",
       "    }\n",
       "\n",
       "    .dataframe tbody tr th {\n",
       "        vertical-align: top;\n",
       "    }\n",
       "\n",
       "    .dataframe thead th {\n",
       "        text-align: right;\n",
       "    }\n",
       "</style>\n",
       "<table border=\"1\" class=\"dataframe\">\n",
       "  <thead>\n",
       "    <tr style=\"text-align: right;\">\n",
       "      <th></th>\n",
       "      <th>cplfw_rank</th>\n",
       "      <th>market1501_rank</th>\n",
       "      <th>dukemtmc_rank</th>\n",
       "      <th>msmt17_rank</th>\n",
       "      <th>veri_rank</th>\n",
       "      <th>vehicleid_rank</th>\n",
       "      <th>veriwild_rank</th>\n",
       "      <th>sop_rank</th>\n",
       "    </tr>\n",
       "  </thead>\n",
       "  <tbody>\n",
       "    <tr>\n",
       "      <th>count</th>\n",
       "      <td>99500.000000</td>\n",
       "      <td>99500.000000</td>\n",
       "      <td>99500.000000</td>\n",
       "      <td>99500.000000</td>\n",
       "      <td>99500.000000</td>\n",
       "      <td>99500.000000</td>\n",
       "      <td>99500.000000</td>\n",
       "      <td>99500.000000</td>\n",
       "    </tr>\n",
       "    <tr>\n",
       "      <th>mean</th>\n",
       "      <td>49749.420291</td>\n",
       "      <td>49749.431859</td>\n",
       "      <td>49749.435447</td>\n",
       "      <td>49749.426925</td>\n",
       "      <td>49749.433176</td>\n",
       "      <td>49749.427518</td>\n",
       "      <td>49749.435327</td>\n",
       "      <td>49749.427528</td>\n",
       "    </tr>\n",
       "    <tr>\n",
       "      <th>std</th>\n",
       "      <td>28723.320935</td>\n",
       "      <td>28723.320063</td>\n",
       "      <td>28723.320508</td>\n",
       "      <td>28723.320596</td>\n",
       "      <td>28723.320212</td>\n",
       "      <td>28723.319067</td>\n",
       "      <td>28723.320314</td>\n",
       "      <td>28723.320348</td>\n",
       "    </tr>\n",
       "    <tr>\n",
       "      <th>min</th>\n",
       "      <td>0.000000</td>\n",
       "      <td>0.000000</td>\n",
       "      <td>0.000000</td>\n",
       "      <td>0.000000</td>\n",
       "      <td>0.000000</td>\n",
       "      <td>0.000000</td>\n",
       "      <td>0.000000</td>\n",
       "      <td>0.000000</td>\n",
       "    </tr>\n",
       "    <tr>\n",
       "      <th>25%</th>\n",
       "      <td>24874.750000</td>\n",
       "      <td>24874.500000</td>\n",
       "      <td>24874.750000</td>\n",
       "      <td>24874.750000</td>\n",
       "      <td>24874.750000</td>\n",
       "      <td>24874.000000</td>\n",
       "      <td>24874.000000</td>\n",
       "      <td>24874.000000</td>\n",
       "    </tr>\n",
       "    <tr>\n",
       "      <th>50%</th>\n",
       "      <td>49749.500000</td>\n",
       "      <td>49749.500000</td>\n",
       "      <td>49749.500000</td>\n",
       "      <td>49749.500000</td>\n",
       "      <td>49749.500000</td>\n",
       "      <td>49749.500000</td>\n",
       "      <td>49749.500000</td>\n",
       "      <td>49749.500000</td>\n",
       "    </tr>\n",
       "    <tr>\n",
       "      <th>75%</th>\n",
       "      <td>74624.250000</td>\n",
       "      <td>74624.250000</td>\n",
       "      <td>74624.250000</td>\n",
       "      <td>74624.250000</td>\n",
       "      <td>74624.250000</td>\n",
       "      <td>74624.250000</td>\n",
       "      <td>74624.250000</td>\n",
       "      <td>74624.250000</td>\n",
       "    </tr>\n",
       "    <tr>\n",
       "      <th>max</th>\n",
       "      <td>99499.000000</td>\n",
       "      <td>99499.000000</td>\n",
       "      <td>99499.000000</td>\n",
       "      <td>99499.000000</td>\n",
       "      <td>99499.000000</td>\n",
       "      <td>99499.000000</td>\n",
       "      <td>99499.000000</td>\n",
       "      <td>99499.000000</td>\n",
       "    </tr>\n",
       "  </tbody>\n",
       "</table>\n",
       "</div>"
      ],
      "text/plain": [
       "         cplfw_rank  market1501_rank  dukemtmc_rank   msmt17_rank  \\\n",
       "count  99500.000000     99500.000000   99500.000000  99500.000000   \n",
       "mean   49749.420291     49749.431859   49749.435447  49749.426925   \n",
       "std    28723.320935     28723.320063   28723.320508  28723.320596   \n",
       "min        0.000000         0.000000       0.000000      0.000000   \n",
       "25%    24874.750000     24874.500000   24874.750000  24874.750000   \n",
       "50%    49749.500000     49749.500000   49749.500000  49749.500000   \n",
       "75%    74624.250000     74624.250000   74624.250000  74624.250000   \n",
       "max    99499.000000     99499.000000   99499.000000  99499.000000   \n",
       "\n",
       "          veri_rank  vehicleid_rank  veriwild_rank      sop_rank  \n",
       "count  99500.000000    99500.000000   99500.000000  99500.000000  \n",
       "mean   49749.433176    49749.427518   49749.435327  49749.427528  \n",
       "std    28723.320212    28723.319067   28723.320314  28723.320348  \n",
       "min        0.000000        0.000000       0.000000      0.000000  \n",
       "25%    24874.750000    24874.000000   24874.000000  24874.000000  \n",
       "50%    49749.500000    49749.500000   49749.500000  49749.500000  \n",
       "75%    74624.250000    74624.250000   74624.250000  74624.250000  \n",
       "max    99499.000000    99499.000000   99499.000000  99499.000000  "
      ]
     },
     "execution_count": 53,
     "metadata": {},
     "output_type": "execute_result"
    }
   ],
   "source": [
    "test_df[target_cols].describe()"
   ]
  },
  {
   "cell_type": "code",
   "execution_count": 54,
   "metadata": {},
   "outputs": [
    {
     "data": {
      "text/plain": [
       "cplfw_rank         90502\n",
       "market1501_rank    91932\n",
       "dukemtmc_rank      92333\n",
       "msmt17_rank        91219\n",
       "veri_rank          92062\n",
       "vehicleid_rank     91418\n",
       "veriwild_rank      92327\n",
       "sop_rank           91358\n",
       "dtype: int64"
      ]
     },
     "execution_count": 54,
     "metadata": {},
     "output_type": "execute_result"
    }
   ],
   "source": [
    "test_df[target_cols].nunique()"
   ]
  },
  {
   "cell_type": "code",
   "execution_count": 55,
   "metadata": {},
   "outputs": [
    {
     "data": {
      "text/plain": [
       "'lstm2y稠密_bc400_lr001_tanh_mat'"
      ]
     },
     "execution_count": 55,
     "metadata": {},
     "output_type": "execute_result"
    }
   ],
   "source": [
    "modelname"
   ]
  },
  {
   "cell_type": "code",
   "execution_count": 56,
   "metadata": {},
   "outputs": [],
   "source": [
    "modelname = 'lstm2y稠密_bc400_lr001_tanh_mat_20220514'"
   ]
  },
  {
   "cell_type": "code",
   "execution_count": 57,
   "metadata": {},
   "outputs": [
    {
     "name": "stderr",
     "output_type": "stream",
     "text": [
      "C:\\Users\\45928\\AppData\\Local\\Continuum\\anaconda3\\lib\\site-packages\\ipykernel_launcher.py:2: TqdmDeprecationWarning: This function will be removed in tqdm==5.0.0\n",
      "Please use `tqdm.notebook.tqdm` instead of `tqdm.tqdm_notebook`\n",
      "  \n"
     ]
    },
    {
     "data": {
      "application/vnd.jupyter.widget-view+json": {
       "model_id": "283cc84e36bd43b5b10554de55f45841",
       "version_major": 2,
       "version_minor": 0
      },
      "text/plain": [
       "  0%|          | 0/99500 [00:00<?, ?it/s]"
      ]
     },
     "metadata": {},
     "output_type": "display_data"
    }
   ],
   "source": [
    "#输出\n",
    "for i in tqdm(test_df[['id']+target_cols].values):\n",
    "    id_ = i[0]\n",
    "    for k,v in enumerate(target_cols):\n",
    "        k += 1\n",
    "        test_data[id_][v] = i[k]\n",
    "        \n",
    "with open(f'./sub/{modelname}.json', 'w') as f:\n",
    "    json.dump(test_data, f)"
   ]
  },
  {
   "cell_type": "code",
   "execution_count": 58,
   "metadata": {},
   "outputs": [
    {
     "data": {
      "text/plain": [
       "'lstm2y稠密_bc400_lr001_tanh_mat_20220514'"
      ]
     },
     "execution_count": 58,
     "metadata": {},
     "output_type": "execute_result"
    }
   ],
   "source": [
    "modelname"
   ]
  },
  {
   "cell_type": "code",
   "execution_count": null,
   "metadata": {},
   "outputs": [],
   "source": []
  },
  {
   "cell_type": "code",
   "execution_count": null,
   "metadata": {},
   "outputs": [],
   "source": []
  },
  {
   "cell_type": "code",
   "execution_count": null,
   "metadata": {},
   "outputs": [],
   "source": []
  },
  {
   "cell_type": "code",
   "execution_count": null,
   "metadata": {},
   "outputs": [],
   "source": []
  }
 ],
 "metadata": {
  "kernelspec": {
   "display_name": "Python 3",
   "language": "python",
   "name": "python3"
  },
  "language_info": {
   "codemirror_mode": {
    "name": "ipython",
    "version": 3
   },
   "file_extension": ".py",
   "mimetype": "text/x-python",
   "name": "python",
   "nbconvert_exporter": "python",
   "pygments_lexer": "ipython3",
   "version": "3.7.3"
  }
 },
 "nbformat": 4,
 "nbformat_minor": 4
}
