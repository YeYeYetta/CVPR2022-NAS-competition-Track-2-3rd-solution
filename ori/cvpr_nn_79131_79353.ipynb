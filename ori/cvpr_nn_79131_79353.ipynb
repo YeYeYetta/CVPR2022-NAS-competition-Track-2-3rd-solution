{
 "cells": [
  {
   "cell_type": "code",
   "execution_count": 1,
   "metadata": {},
   "outputs": [],
   "source": [
    "import json\n",
    "with open('./data/CVPR_2022_NAS_Track2_train.json', 'r') as f:\n",
    "    train_data = json.load(f)"
   ]
  },
  {
   "cell_type": "code",
   "execution_count": 2,
   "metadata": {},
   "outputs": [],
   "source": [
    "import pandas as pd\n",
    "import numpy as np"
   ]
  },
  {
   "cell_type": "code",
   "execution_count": 3,
   "metadata": {},
   "outputs": [],
   "source": [
    "target_cols = ['cplfw_rank', 'market1501_rank', 'dukemtmc_rank', 'msmt17_rank', 'veri_rank', 'vehicleid_rank', 'veriwild_rank', 'sop_rank']"
   ]
  },
  {
   "cell_type": "code",
   "execution_count": 4,
   "metadata": {},
   "outputs": [],
   "source": [
    "def get_df(train_data):\n",
    "    ret = []\n",
    "    for k, v in train_data.items():\n",
    "        tmp = list(v['arch'])\n",
    "        tmp1 = []\n",
    "        for c in target_cols:\n",
    "            tmp1.append(v[c])\n",
    "        ret.append(tmp+tmp1+[k,v['arch']])\n",
    "    retf = pd.DataFrame(ret,columns=[f'col{_}' for _ in range(len(tmp))]+target_cols+['id','arch'])\n",
    "    retf['col0'] = retf['col0'].map({'l':1, 'j':2, 'k':3})\n",
    "    int_cols = [x for x in retf.columns if x not in ['id','arch']]\n",
    "    retf[int_cols] = retf[int_cols].astype(float)\n",
    "    return retf"
   ]
  },
  {
   "cell_type": "code",
   "execution_count": 5,
   "metadata": {},
   "outputs": [],
   "source": [
    "train_df = get_df(train_data)"
   ]
  },
  {
   "cell_type": "code",
   "execution_count": 6,
   "metadata": {},
   "outputs": [],
   "source": [
    "from scipy.special import erfinv \n",
    "\n",
    "for c in target_cols:\n",
    "    train_y=train_df[c]\n",
    "    mmin=np.min(train_y)+1\n",
    "    mmax=np.max(train_y)+1\n",
    "    train_y=np.sqrt(2) * erfinv(2 * (train_y+mmin)/(mmin+mmax)-1)\n",
    "    train_df[c+'_trans_y'] = train_y"
   ]
  },
  {
   "cell_type": "code",
   "execution_count": 7,
   "metadata": {},
   "outputs": [],
   "source": [
    "def get_step(train_df):\n",
    "    res0 = []\n",
    "    res1 = []\n",
    "    res2 = []\n",
    "    res3 = []\n",
    "    res4 = []\n",
    "    map_={'l':1, 'j':2, 'k':3}\n",
    "    time_step=12\n",
    "    head_ = set([1+_*3 for _ in range(12)])\n",
    "    mlp_ = set([2+_*3 for _ in range(12)])\n",
    "    emb_ = set([3+_*3 for _ in range(12)])\n",
    "    depth_ = set([0])\n",
    "    for item in train_df.arch:\n",
    "        ret = np.array(list(item[1:]),dtype=np.float32).reshape(-1,3)\n",
    "        res0.append([1 if x in head_ else 0 for x in range(37)])\n",
    "        res1.append([1 if x in mlp_ else 0 for x in range(37)])\n",
    "        res2.append([1 if x in emb_ else 0 for x in range(37)])\n",
    "        res3.append([1 if x in depth_ else 0 for x in range(37)])\n",
    "        res4.append([map_[item[0]]]+list(np.array(list(item[1:]),dtype=np.float32)))\n",
    "        \n",
    "    train_df['head'] = res0\n",
    "    train_df['mlp'] = res1\n",
    "    train_df['emb'] = res2\n",
    "    train_df['depth'] = res3\n",
    "    train_df['all_emb'] = res4"
   ]
  },
  {
   "cell_type": "code",
   "execution_count": 8,
   "metadata": {},
   "outputs": [],
   "source": [
    "get_step(train_df)"
   ]
  },
  {
   "cell_type": "code",
   "execution_count": 9,
   "metadata": {},
   "outputs": [],
   "source": [
    "from sklearn.model_selection import KFold\n",
    "from tqdm import tqdm"
   ]
  },
  {
   "cell_type": "code",
   "execution_count": 10,
   "metadata": {},
   "outputs": [],
   "source": [
    "#定义数据\n",
    "import torch\n",
    "from torch.utils.data import Dataset\n",
    "\n",
    "class MyDataset(Dataset):\n",
    "    def __init__(self,df,use_cols,target_cols,show=0):\n",
    "        self.df = df\n",
    "        self.show = show\n",
    "        self.use_cols = use_cols\n",
    "        self.target_cols = target_cols\n",
    "\n",
    "        self.prepare_data()\n",
    "        \n",
    "    def __len__(self):\n",
    "        return self.df.shape[0]\n",
    "    \n",
    "    def prepare_data(self):\n",
    "        self.y = self.df[self.target_cols].values\n",
    "        self.y0 = self.df[[self.target_cols[0]]].values\n",
    "        self.y1 = self.df[[self.target_cols[1]]].values\n",
    "        self.y2 = self.df[[self.target_cols[2]]].values\n",
    "        self.y3 = self.df[[self.target_cols[3]]].values\n",
    "        self.y4 = self.df[[self.target_cols[4]]].values\n",
    "        self.y5 = self.df[[self.target_cols[5]]].values\n",
    "        self.y6 = self.df[[self.target_cols[6]]].values\n",
    "        self.y7 = self.df[[self.target_cols[7]]].values\n",
    "        \n",
    "        uc = ['all_emb']\n",
    "        tmp_dt = {}\n",
    "        for c in uc:\n",
    "            tmp_dt[c] = np.array(self.df[c].tolist())\n",
    "        self.inputs = np.concatenate([tmp_dt[c][:, None] for c in uc], 1).transpose(0, 2, 1)\n",
    "\n",
    "        uc= ['all_emb','depth','head','mlp','emb']\n",
    "        tmp_dt = {}\n",
    "        for c in uc:\n",
    "            tmp_dt[c] = np.array(self.df[c].tolist())\n",
    "        self.inputs1= np.concatenate([tmp_dt[c][:, None] for c in uc], 1).transpose(0, 2, 1)\n",
    "        \n",
    "        \n",
    "        if self.show==1:\n",
    "            print('inputs_shape',self.inputs.shape)\n",
    "            print('inputs1_shape',self.inputs1.shape)\n",
    "            print('y_shape',self.y.shape)\n",
    "        \n",
    "    def __getitem__(self, idx):\n",
    "        data = {\n",
    "            \"input\": torch.tensor(self.inputs[idx], dtype=torch.float),\n",
    "            \"input1\": torch.tensor(self.inputs1[idx], dtype=torch.float),\n",
    "            \"y\": torch.tensor(self.y[idx], dtype=torch.float),\n",
    "            \"y0\": torch.tensor(self.y0[idx], dtype=torch.float),\n",
    "            \"y1\": torch.tensor(self.y1[idx], dtype=torch.float),\n",
    "            \"y2\": torch.tensor(self.y2[idx], dtype=torch.float),\n",
    "            \"y3\": torch.tensor(self.y3[idx], dtype=torch.float),\n",
    "            \"y4\": torch.tensor(self.y4[idx], dtype=torch.float),\n",
    "            \"y5\": torch.tensor(self.y5[idx], dtype=torch.float),\n",
    "            \"y6\": torch.tensor(self.y6[idx], dtype=torch.float),\n",
    "            \"y7\": torch.tensor(self.y7[idx], dtype=torch.float),\n",
    "        }\n",
    "        \n",
    "        return data"
   ]
  },
  {
   "cell_type": "code",
   "execution_count": 11,
   "metadata": {},
   "outputs": [],
   "source": [
    "use_cols = [x for x in train_df.columns if 'col' in x]"
   ]
  },
  {
   "cell_type": "code",
   "execution_count": 12,
   "metadata": {},
   "outputs": [
    {
     "data": {
      "text/plain": [
       "37"
      ]
     },
     "execution_count": 12,
     "metadata": {},
     "output_type": "execute_result"
    }
   ],
   "source": [
    "len(use_cols)"
   ]
  },
  {
   "cell_type": "code",
   "execution_count": 13,
   "metadata": {},
   "outputs": [],
   "source": [
    "import gc\n",
    "import os\n",
    "import time\n",
    "import random\n",
    "import numpy as np\n",
    "import torch\n",
    "from torch import nn\n",
    "from torch.utils.data import DataLoader\n",
    "from transformers import get_linear_schedule_with_warmup\n",
    "\n",
    "\n",
    "def seed_everything(seed):\n",
    "    random.seed(seed)\n",
    "    os.environ[\"PYTHONHASHSEED\"] = str(seed)\n",
    "    np.random.seed(seed)\n",
    "    torch.manual_seed(seed)\n",
    "    torch.cuda.manual_seed(seed)\n",
    "    torch.backends.cudnn.deterministic = True\n",
    "    torch.backends.cudnn.benchmark = False\n",
    "    \n",
    "    \n",
    "def count_parameters(model, all=False):\n",
    "    if all:\n",
    "        return sum(p.numel() for p in model.parameters())\n",
    "    else:\n",
    "        return sum(p.numel() for p in model.parameters() if p.requires_grad)\n",
    "\n",
    "\n",
    "def save_model_weights(model, modelpath, filename):\n",
    "    torch.save(model.state_dict(), modelpath+filename)\n",
    "    return f\"\\n -> Save weights to {modelpath+filename}\\n\""
   ]
  },
  {
   "cell_type": "code",
   "execution_count": 14,
   "metadata": {},
   "outputs": [],
   "source": [
    "import scipy"
   ]
  },
  {
   "cell_type": "code",
   "execution_count": 15,
   "metadata": {},
   "outputs": [],
   "source": [
    "def compute_metric(pred, y):\n",
    "    corr = []\n",
    "    if pred.shape[1]>2:\n",
    "        for i in range(8):\n",
    "            corr.append(scipy.stats.stats.kendalltau(pred[:, i], y[:, i])[0])\n",
    "    else:\n",
    "        corr.append(scipy.stats.stats.kendalltau(pred, y)[0])\n",
    "    return np.array(corr)\n",
    "    \n",
    "class CVPRLoss_tanh(nn.Module):\n",
    "    # kendall tanh\n",
    "    def __call__(self, pred, y):\n",
    "        return 1-torch.cat(\n",
    "            [self.get_score(y[:,i].reshape(1,-1), \n",
    "                           pred[:,i].reshape(1,-1)).reshape(1,-1) for i in range(y.shape[1])]\n",
    "        ).reshape(1, -1)\n",
    "    \n",
    "    def get_score(self, actuals, preds):\n",
    "        sa = actuals.argsort()[0]\n",
    "        tmp = preds.index_select(1, sa.int())[0]\n",
    "        score = torch.cat([((tmp[i:]-tmp[i-1])).tanh() for i in range(1, tmp.shape[0])]).sum()\n",
    "        score1 = score/sum(list(range(1,len(tmp))))\n",
    "        return score1\n"
   ]
  },
  {
   "cell_type": "code",
   "execution_count": 16,
   "metadata": {},
   "outputs": [],
   "source": [
    "class CVPRModel(nn.Module):\n",
    "    def __init__(\n",
    "        self,\n",
    "        input_dim=3,\n",
    "        num_classes=8,\n",
    "        time_step=12,\n",
    "        bi=True\n",
    "    ):\n",
    "        super(CVPRModel,self).__init__()\n",
    "        \n",
    "        self.bi_num = 2 if bi else 1\n",
    "        self.time_step = time_step\n",
    "        \n",
    "        self.MLP = nn.Sequential(\n",
    "            nn.Linear(input_dim, 128),\n",
    "            nn.ReLU(),\n",
    "            nn.Linear(128, 256),\n",
    "            nn.ReLU(),\n",
    "            nn.Linear(256, 256),\n",
    "            nn.ReLU(),\n",
    "        )\n",
    "        \n",
    "        self.LSTM0 = nn.LSTM(256, 256, \n",
    "                    batch_first=True, \n",
    "                    bidirectional=bi, \n",
    "                    num_layers=1,\n",
    "                    dropout=0)\n",
    "                                 \n",
    "        \n",
    "        self.LSTM1 = nn.LSTM(512, 256, \n",
    "                    batch_first=True, \n",
    "                    bidirectional=bi, \n",
    "                    num_layers=1,\n",
    "                    dropout=0\n",
    "                            )    \n",
    "\n",
    "        self.Logits = nn.Sequential(\n",
    "            nn.Flatten(start_dim=1),\n",
    "            nn.Linear((512+512+256+1)*self.time_step, 2048),\n",
    "            nn.ReLU(),\n",
    "            nn.Linear(2048, 1024),\n",
    "            nn.ReLU(),\n",
    "            nn.Linear(1024, 256),\n",
    "            nn.ReLU(),\n",
    "            nn.Linear(256, num_classes)\n",
    "        )\n",
    "        \n",
    "    def forward(self, x):\n",
    "        x1 = self.MLP(x)\n",
    "        x2, (h0, c0) = self.LSTM0(x1)\n",
    "        x3, (h1, c1) = self.LSTM1(x2, (h0, c0))\n",
    "\n",
    "        c1 = torch.cat([x3, x2, x1, x], -1)\n",
    "        \n",
    "        pred = self.Logits(c1)\n",
    "        return pred"
   ]
  },
  {
   "cell_type": "code",
   "execution_count": 17,
   "metadata": {},
   "outputs": [],
   "source": [
    "def train_sig(model, \n",
    "        train_dataset, \n",
    "        val_dataset, \n",
    "        verbose=20, \n",
    "        fold_=0,\n",
    "        modelname='MLP_base',\n",
    "        modelpath=r'./model'+'//',\n",
    "        input='input',\n",
    "        y='y',\n",
    "        early_stop_round=60,\n",
    "        debug=False):\n",
    "    \n",
    "    print(f'Model parameters count: {count_parameters(model)}')\n",
    "    #数据加载\n",
    "    train_loader = DataLoader(\n",
    "        train_dataset,\n",
    "        batch_size=BATCH_SIZE,\n",
    "        shuffle=False,\n",
    "        drop_last=True,\n",
    "        pin_memory=True\n",
    "    )\n",
    "    val_loader = DataLoader(\n",
    "        val_dataset,\n",
    "        batch_size=BATCH_SIZE_TEST,\n",
    "        shuffle=False,\n",
    "        drop_last=False,\n",
    "        pin_memory=True\n",
    "    )\n",
    "    print(f'train batch num: {len(train_loader)}')\n",
    "    print(f'val batch num: {len(val_loader)}')\n",
    "            \n",
    "    # Optimizer\n",
    "    optimizer = getattr(torch.optim, optim)(model.parameters(), lr=LR)\n",
    "    # Scheduler\n",
    "    num_warmup_steps = int(0.1 * EPOCHS * len(train_loader))\n",
    "    num_training_steps = int(EPOCHS * len(train_loader))\n",
    "    scheduler = get_linear_schedule_with_warmup(\n",
    "        optimizer, num_warmup_steps, num_training_steps\n",
    "    )\n",
    "    print(f'optim: {optim}, lr: {LR}, warmup_steps: {num_warmup_steps}')\n",
    "    \n",
    "    \n",
    "    #train\n",
    "    bst_epoch={_:0 for _ in range(8)}\n",
    "    score_best={_:0 for _ in range(8)}\n",
    "    first_epoch_eval=0\n",
    "    for epoch in range(EPOCHS):\n",
    "        \n",
    "        model.train()\n",
    "        model.zero_grad()\n",
    "        start_time = time.time()\n",
    "\n",
    "        avg_loss = 0\n",
    "        for data in train_loader:\n",
    "            pred = model(data[input].to(device))\n",
    "#             print(pred.shape,data['y'].shape)\n",
    "\n",
    "            loss = loss_fct(\n",
    "                pred,\n",
    "                data[y].to(device)\n",
    "            ).mean()\n",
    "\n",
    "            loss.backward()\n",
    "            avg_loss += loss.item() / len(train_loader)\n",
    "\n",
    "            optimizer.step()\n",
    "            scheduler.step()\n",
    "\n",
    "            optimizer.zero_grad(set_to_none=True)\n",
    "\n",
    "        #VAL\n",
    "        model.eval()\n",
    "        mae, avg_val_loss = 0, 0\n",
    "        preds = []\n",
    "\n",
    "        with torch.no_grad():\n",
    "            for data in val_loader:\n",
    "                pred = model(data[input].to(device))\n",
    "\n",
    "                loss = loss_fct(\n",
    "                    pred,\n",
    "                    data[y].to(device)\n",
    "                ).mean()\n",
    "\n",
    "                avg_val_loss += loss.item() / len(val_loader)\n",
    "\n",
    "                preds.append(pred.detach().cpu().numpy())\n",
    "\n",
    "        preds = np.concatenate(preds, 0)\n",
    "        if y=='y':\n",
    "            mae = compute_metric(preds,val_dataset.df[target_cols].values).mean()\n",
    "        else:\n",
    "            mae = compute_metric(preds,val_dataset.df[[target_cols[int(y.replace('y',''))]]].values).mean()\n",
    "        \n",
    "        elapsed_time = time.time() - start_time\n",
    "        if (epoch + 1) % verbose == 0:\n",
    "            elapsed_time = elapsed_time * verbose\n",
    "            lr = scheduler.get_last_lr()[0]\n",
    "    #         lr=LR\n",
    "            print(\n",
    "                f\"Epoch {epoch + 1:02d}/{ EPOCHS:02d} \\t lr={lr:.1e}\\t t={elapsed_time:.0f}s \\t\"\n",
    "                f\"loss={avg_loss:.4f}\",\n",
    "                end=\"\\t\",\n",
    "            )\n",
    "\n",
    "            if (epoch + 1 >= first_epoch_eval) or (epoch + 1 == EPOCHS):\n",
    "                print(f\"val_loss={avg_val_loss:.4f}\\tcorr={mae:.4f}\")\n",
    "            else:\n",
    "                print(\"\")\n",
    "                \n",
    "        #保存最优模型\n",
    "        score1 = compute_metric(preds,val_dataset.df[target_cols].values)\n",
    "        for i in range(8):\n",
    "            if score1[i] > score_best[i]:\n",
    "                bst = save_model_weights(model, modelpath, f'{modelname}_target{i}_{fold_}.pt')\n",
    "                score_best[i] = score1[i]\n",
    "                bst_epoch[i] = epoch\n",
    "                \n",
    "    bst_list = [score_best[i] for i in range(8)]\n",
    "    print(bst_list,'\\n\\n')\n",
    "    del (val_loader, train_loader, loss, data, pred)\n",
    "    gc.collect()\n",
    "    torch.cuda.empty_cache()\n",
    "    \n",
    "    return bst_list\n"
   ]
  },
  {
   "cell_type": "code",
   "execution_count": 18,
   "metadata": {
    "tags": []
   },
   "outputs": [
    {
     "name": "stdout",
     "output_type": "stream",
     "text": [
      "FOLD 0\n",
      "train size: 400, val size: 100\n",
      "Model parameters count: 102162440\n",
      "train batch num: 1\n",
      "val batch num: 1\n",
      "optim: Adam, lr: 0.001, warmup_steps: 30\n",
      "Epoch 10/300 \t lr=3.3e-04\t t=4s \tloss=0.9255\tval_loss=0.9016\tcorr=0.3229\n",
      "Epoch 20/300 \t lr=6.7e-04\t t=4s \tloss=0.5186\tval_loss=0.5736\tcorr=0.4322\n",
      "Epoch 30/300 \t lr=1.0e-03\t t=5s \tloss=0.4077\tval_loss=0.4369\tcorr=0.5663\n",
      "Epoch 40/300 \t lr=9.6e-04\t t=5s \tloss=0.3265\tval_loss=0.3514\tcorr=0.6513\n",
      "Epoch 50/300 \t lr=9.3e-04\t t=5s \tloss=0.2783\tval_loss=0.3041\tcorr=0.6973\n",
      "Epoch 60/300 \t lr=8.9e-04\t t=5s \tloss=0.2267\tval_loss=0.2442\tcorr=0.7606\n",
      "Epoch 70/300 \t lr=8.5e-04\t t=5s \tloss=0.1995\tval_loss=0.2180\tcorr=0.7837\n",
      "Epoch 80/300 \t lr=8.1e-04\t t=4s \tloss=0.1876\tval_loss=0.2166\tcorr=0.7861\n",
      "Epoch 90/300 \t lr=7.8e-04\t t=5s \tloss=0.1837\tval_loss=0.2138\tcorr=0.7883\n",
      "Epoch 100/300 \t lr=7.4e-04\t t=4s \tloss=0.1815\tval_loss=0.2133\tcorr=0.7878\n",
      "Epoch 110/300 \t lr=7.0e-04\t t=4s \tloss=0.1793\tval_loss=0.2117\tcorr=0.7897\n",
      "Epoch 120/300 \t lr=6.7e-04\t t=4s \tloss=0.1769\tval_loss=0.2117\tcorr=0.7898\n",
      "Epoch 130/300 \t lr=6.3e-04\t t=4s \tloss=0.1746\tval_loss=0.2121\tcorr=0.7885\n",
      "Epoch 140/300 \t lr=5.9e-04\t t=4s \tloss=0.1727\tval_loss=0.2118\tcorr=0.7890\n",
      "Epoch 150/300 \t lr=5.6e-04\t t=4s \tloss=0.1672\tval_loss=0.2112\tcorr=0.7887\n",
      "Epoch 160/300 \t lr=5.2e-04\t t=4s \tloss=0.1630\tval_loss=0.2112\tcorr=0.7890\n",
      "Epoch 170/300 \t lr=4.8e-04\t t=4s \tloss=0.1565\tval_loss=0.2149\tcorr=0.7865\n",
      "Epoch 180/300 \t lr=4.4e-04\t t=4s \tloss=0.1448\tval_loss=0.2193\tcorr=0.7808\n",
      "Epoch 190/300 \t lr=4.1e-04\t t=4s \tloss=0.1396\tval_loss=0.2181\tcorr=0.7830\n",
      "Epoch 200/300 \t lr=3.7e-04\t t=5s \tloss=0.1316\tval_loss=0.2192\tcorr=0.7817\n",
      "Epoch 210/300 \t lr=3.3e-04\t t=4s \tloss=0.1205\tval_loss=0.2147\tcorr=0.7862\n",
      "Epoch 220/300 \t lr=3.0e-04\t t=4s \tloss=0.1138\tval_loss=0.2180\tcorr=0.7825\n",
      "Epoch 230/300 \t lr=2.6e-04\t t=4s \tloss=0.1058\tval_loss=0.2178\tcorr=0.7824\n",
      "Epoch 240/300 \t lr=2.2e-04\t t=4s \tloss=0.0980\tval_loss=0.2193\tcorr=0.7813\n",
      "Epoch 250/300 \t lr=1.9e-04\t t=4s \tloss=0.0911\tval_loss=0.2189\tcorr=0.7814\n",
      "Epoch 260/300 \t lr=1.5e-04\t t=4s \tloss=0.0870\tval_loss=0.2177\tcorr=0.7832\n",
      "Epoch 270/300 \t lr=1.1e-04\t t=4s \tloss=0.0822\tval_loss=0.2178\tcorr=0.7823\n",
      "Epoch 280/300 \t lr=7.4e-05\t t=4s \tloss=0.0792\tval_loss=0.2188\tcorr=0.7818\n",
      "Epoch 290/300 \t lr=3.7e-05\t t=4s \tloss=0.0772\tval_loss=0.2200\tcorr=0.7806\n",
      "Epoch 300/300 \t lr=0.0e+00\t t=4s \tloss=0.0765\tval_loss=0.2203\tcorr=0.7801\n",
      "[0.3171717171717172, 0.9062626262626264, 0.9002020202020203, 0.9563636363636364, 0.8905050505050507, 0.6905050505050506, 0.9236363636363638, 0.8056565656565658] \n",
      "\n",
      "\n",
      "FOLD 1\n",
      "train size: 400, val size: 100\n",
      "Model parameters count: 102162440\n",
      "train batch num: 1\n",
      "val batch num: 1\n",
      "optim: Adam, lr: 0.001, warmup_steps: 30\n",
      "Epoch 10/300 \t lr=3.3e-04\t t=4s \tloss=0.9381\tval_loss=0.8972\tcorr=0.4546\n",
      "Epoch 20/300 \t lr=6.7e-04\t t=5s \tloss=0.4560\tval_loss=0.4575\tcorr=0.5448\n",
      "Epoch 30/300 \t lr=1.0e-03\t t=6s \tloss=0.3753\tval_loss=0.3980\tcorr=0.6019\n",
      "Epoch 40/300 \t lr=9.6e-04\t t=5s \tloss=0.3112\tval_loss=0.3585\tcorr=0.6415\n",
      "Epoch 50/300 \t lr=9.3e-04\t t=5s \tloss=0.2756\tval_loss=0.3213\tcorr=0.6785\n",
      "Epoch 60/300 \t lr=8.9e-04\t t=4s \tloss=0.2315\tval_loss=0.2759\tcorr=0.7246\n",
      "Epoch 70/300 \t lr=8.5e-04\t t=4s \tloss=0.1970\tval_loss=0.2441\tcorr=0.7568\n",
      "Epoch 80/300 \t lr=8.1e-04\t t=4s \tloss=0.1838\tval_loss=0.2304\tcorr=0.7701\n",
      "Epoch 90/300 \t lr=7.8e-04\t t=4s \tloss=0.1793\tval_loss=0.2301\tcorr=0.7694\n",
      "Epoch 100/300 \t lr=7.4e-04\t t=4s \tloss=0.1719\tval_loss=0.2219\tcorr=0.7783\n",
      "Epoch 110/300 \t lr=7.0e-04\t t=5s \tloss=0.1674\tval_loss=0.2222\tcorr=0.7790\n",
      "Epoch 120/300 \t lr=6.7e-04\t t=4s \tloss=0.1629\tval_loss=0.2235\tcorr=0.7769\n",
      "Epoch 130/300 \t lr=6.3e-04\t t=4s \tloss=0.1526\tval_loss=0.2236\tcorr=0.7760\n",
      "Epoch 140/300 \t lr=5.9e-04\t t=4s \tloss=0.1401\tval_loss=0.2243\tcorr=0.7758\n",
      "Epoch 150/300 \t lr=5.6e-04\t t=4s \tloss=0.1264\tval_loss=0.2304\tcorr=0.7697\n",
      "Epoch 160/300 \t lr=5.2e-04\t t=4s \tloss=0.1140\tval_loss=0.2289\tcorr=0.7715\n",
      "Epoch 170/300 \t lr=4.8e-04\t t=4s \tloss=0.0949\tval_loss=0.2353\tcorr=0.7640\n",
      "Epoch 180/300 \t lr=4.4e-04\t t=4s \tloss=0.0884\tval_loss=0.2294\tcorr=0.7702\n",
      "Epoch 190/300 \t lr=4.1e-04\t t=4s \tloss=0.0758\tval_loss=0.2311\tcorr=0.7698\n",
      "Epoch 200/300 \t lr=3.7e-04\t t=4s \tloss=0.0651\tval_loss=0.2324\tcorr=0.7691\n",
      "Epoch 210/300 \t lr=3.3e-04\t t=4s \tloss=0.0574\tval_loss=0.2331\tcorr=0.7672\n",
      "Epoch 220/300 \t lr=3.0e-04\t t=5s \tloss=0.0507\tval_loss=0.2371\tcorr=0.7635\n",
      "Epoch 230/300 \t lr=2.6e-04\t t=4s \tloss=0.0429\tval_loss=0.2368\tcorr=0.7631\n",
      "Epoch 240/300 \t lr=2.2e-04\t t=4s \tloss=0.0406\tval_loss=0.2367\tcorr=0.7637\n",
      "Epoch 250/300 \t lr=1.9e-04\t t=4s \tloss=0.0377\tval_loss=0.2369\tcorr=0.7631\n",
      "Epoch 260/300 \t lr=1.5e-04\t t=4s \tloss=0.0333\tval_loss=0.2382\tcorr=0.7613\n",
      "Epoch 270/300 \t lr=1.1e-04\t t=4s \tloss=0.0316\tval_loss=0.2380\tcorr=0.7620\n",
      "Epoch 280/300 \t lr=7.4e-05\t t=4s \tloss=0.0305\tval_loss=0.2384\tcorr=0.7618\n",
      "Epoch 290/300 \t lr=3.7e-05\t t=4s \tloss=0.0299\tval_loss=0.2385\tcorr=0.7622\n",
      "Epoch 300/300 \t lr=0.0e+00\t t=4s \tloss=0.0297\tval_loss=0.2385\tcorr=0.7621\n",
      "[0.2840404040404041, 0.8852525252525254, 0.9062626262626264, 0.9721212121212122, 0.8917171717171719, 0.6492929292929295, 0.9094949494949497, 0.8016161616161618] \n",
      "\n",
      "\n",
      "FOLD 2\n",
      "train size: 400, val size: 100\n",
      "Model parameters count: 102162440\n",
      "train batch num: 1\n",
      "val batch num: 1\n",
      "optim: Adam, lr: 0.001, warmup_steps: 30\n",
      "Epoch 10/300 \t lr=3.3e-04\t t=4s \tloss=0.9246\tval_loss=0.9016\tcorr=0.3451\n",
      "Epoch 20/300 \t lr=6.7e-04\t t=4s \tloss=0.4928\tval_loss=0.4436\tcorr=0.5586\n",
      "Epoch 30/300 \t lr=1.0e-03\t t=5s \tloss=0.3862\tval_loss=0.3686\tcorr=0.6325\n",
      "Epoch 40/300 \t lr=9.6e-04\t t=4s \tloss=0.3210\tval_loss=0.3177\tcorr=0.6834\n",
      "Epoch 50/300 \t lr=9.3e-04\t t=5s \tloss=0.2740\tval_loss=0.2775\tcorr=0.7232\n",
      "Epoch 60/300 \t lr=8.9e-04\t t=4s \tloss=0.2245\tval_loss=0.2399\tcorr=0.7626\n",
      "Epoch 70/300 \t lr=8.5e-04\t t=5s \tloss=0.1967\tval_loss=0.2175\tcorr=0.7838\n",
      "Epoch 80/300 \t lr=8.1e-04\t t=4s \tloss=0.1877\tval_loss=0.2149\tcorr=0.7859\n",
      "Epoch 90/300 \t lr=7.8e-04\t t=4s \tloss=0.1820\tval_loss=0.2141\tcorr=0.7868\n",
      "Epoch 100/300 \t lr=7.4e-04\t t=4s \tloss=0.1797\tval_loss=0.2137\tcorr=0.7875\n",
      "Epoch 110/300 \t lr=7.0e-04\t t=5s \tloss=0.1774\tval_loss=0.2158\tcorr=0.7842\n",
      "Epoch 120/300 \t lr=6.7e-04\t t=4s \tloss=0.1726\tval_loss=0.2166\tcorr=0.7833\n",
      "Epoch 130/300 \t lr=6.3e-04\t t=4s \tloss=0.1692\tval_loss=0.2176\tcorr=0.7822\n",
      "Epoch 140/300 \t lr=5.9e-04\t t=4s \tloss=0.1633\tval_loss=0.2206\tcorr=0.7789\n",
      "Epoch 150/300 \t lr=5.6e-04\t t=4s \tloss=0.1582\tval_loss=0.2255\tcorr=0.7747\n",
      "Epoch 160/300 \t lr=5.2e-04\t t=4s \tloss=0.1453\tval_loss=0.2339\tcorr=0.7660\n",
      "Epoch 170/300 \t lr=4.8e-04\t t=4s \tloss=0.1369\tval_loss=0.2340\tcorr=0.7662\n",
      "Epoch 180/300 \t lr=4.4e-04\t t=4s \tloss=0.1277\tval_loss=0.2404\tcorr=0.7593\n",
      "Epoch 190/300 \t lr=4.1e-04\t t=4s \tloss=0.1127\tval_loss=0.2369\tcorr=0.7636\n",
      "Epoch 200/300 \t lr=3.7e-04\t t=4s \tloss=0.1076\tval_loss=0.2422\tcorr=0.7584\n",
      "Epoch 210/300 \t lr=3.3e-04\t t=4s \tloss=0.0965\tval_loss=0.2434\tcorr=0.7573\n",
      "Epoch 220/300 \t lr=3.0e-04\t t=5s \tloss=0.0847\tval_loss=0.2466\tcorr=0.7536\n",
      "Epoch 230/300 \t lr=2.6e-04\t t=4s \tloss=0.0781\tval_loss=0.2487\tcorr=0.7515\n",
      "Epoch 240/300 \t lr=2.2e-04\t t=4s \tloss=0.0708\tval_loss=0.2526\tcorr=0.7478\n",
      "Epoch 250/300 \t lr=1.9e-04\t t=4s \tloss=0.0639\tval_loss=0.2543\tcorr=0.7457\n",
      "Epoch 260/300 \t lr=1.5e-04\t t=4s \tloss=0.0581\tval_loss=0.2540\tcorr=0.7457\n",
      "Epoch 270/300 \t lr=1.1e-04\t t=4s \tloss=0.0522\tval_loss=0.2550\tcorr=0.7456\n",
      "Epoch 280/300 \t lr=7.4e-05\t t=4s \tloss=0.0493\tval_loss=0.2559\tcorr=0.7445\n",
      "Epoch 290/300 \t lr=3.7e-05\t t=4s \tloss=0.0474\tval_loss=0.2561\tcorr=0.7441\n",
      "Epoch 300/300 \t lr=0.0e+00\t t=4s \tloss=0.0466\tval_loss=0.2564\tcorr=0.7436\n",
      "[0.29171717171717176, 0.8525252525252527, 0.9042424242424244, 0.9628282828282829, 0.9183838383838385, 0.7208080808080809, 0.9244444444444447, 0.8072727272727275] \n",
      "\n",
      "\n",
      "FOLD 3\n",
      "train size: 400, val size: 100\n",
      "Model parameters count: 102162440\n",
      "train batch num: 1\n",
      "val batch num: 1\n",
      "optim: Adam, lr: 0.001, warmup_steps: 30\n",
      "Epoch 10/300 \t lr=3.3e-04\t t=4s \tloss=0.9301\tval_loss=0.8846\tcorr=0.4298\n",
      "Epoch 20/300 \t lr=6.7e-04\t t=4s \tloss=0.4578\tval_loss=0.4952\tcorr=0.5072\n",
      "Epoch 30/300 \t lr=1.0e-03\t t=5s \tloss=0.3633\tval_loss=0.4208\tcorr=0.5798\n",
      "Epoch 40/300 \t lr=9.6e-04\t t=5s \tloss=0.3090\tval_loss=0.3843\tcorr=0.6163\n",
      "Epoch 50/300 \t lr=9.3e-04\t t=4s \tloss=0.2736\tval_loss=0.3339\tcorr=0.6669\n",
      "Epoch 60/300 \t lr=8.9e-04\t t=4s \tloss=0.2304\tval_loss=0.2886\tcorr=0.7125\n",
      "Epoch 70/300 \t lr=8.5e-04\t t=5s \tloss=0.1977\tval_loss=0.2526\tcorr=0.7482\n",
      "Epoch 80/300 \t lr=8.1e-04\t t=4s \tloss=0.1816\tval_loss=0.2444\tcorr=0.7563\n",
      "Epoch 90/300 \t lr=7.8e-04\t t=4s \tloss=0.1777\tval_loss=0.2391\tcorr=0.7616\n",
      "Epoch 100/300 \t lr=7.4e-04\t t=4s \tloss=0.1734\tval_loss=0.2371\tcorr=0.7637\n",
      "Epoch 110/300 \t lr=7.0e-04\t t=5s \tloss=0.1698\tval_loss=0.2404\tcorr=0.7600\n",
      "Epoch 120/300 \t lr=6.7e-04\t t=4s \tloss=0.1654\tval_loss=0.2428\tcorr=0.7579\n",
      "Epoch 130/300 \t lr=6.3e-04\t t=4s \tloss=0.1613\tval_loss=0.2449\tcorr=0.7545\n",
      "Epoch 140/300 \t lr=5.9e-04\t t=4s \tloss=0.1548\tval_loss=0.2462\tcorr=0.7541\n",
      "Epoch 150/300 \t lr=5.6e-04\t t=4s \tloss=0.1471\tval_loss=0.2524\tcorr=0.7477\n",
      "Epoch 160/300 \t lr=5.2e-04\t t=4s \tloss=0.1502\tval_loss=0.2500\tcorr=0.7509\n",
      "Epoch 170/300 \t lr=4.8e-04\t t=4s \tloss=0.1333\tval_loss=0.2500\tcorr=0.7497\n",
      "Epoch 180/300 \t lr=4.4e-04\t t=4s \tloss=0.1177\tval_loss=0.2520\tcorr=0.7486\n",
      "Epoch 190/300 \t lr=4.1e-04\t t=4s \tloss=0.1122\tval_loss=0.2523\tcorr=0.7481\n",
      "Epoch 200/300 \t lr=3.7e-04\t t=4s \tloss=0.1066\tval_loss=0.2490\tcorr=0.7521\n",
      "Epoch 210/300 \t lr=3.3e-04\t t=4s \tloss=0.0877\tval_loss=0.2510\tcorr=0.7494\n",
      "Epoch 220/300 \t lr=3.0e-04\t t=5s \tloss=0.0795\tval_loss=0.2504\tcorr=0.7502\n",
      "Epoch 230/300 \t lr=2.6e-04\t t=4s \tloss=0.0737\tval_loss=0.2518\tcorr=0.7479\n",
      "Epoch 240/300 \t lr=2.2e-04\t t=4s \tloss=0.0664\tval_loss=0.2513\tcorr=0.7488\n",
      "Epoch 250/300 \t lr=1.9e-04\t t=4s \tloss=0.0602\tval_loss=0.2516\tcorr=0.7492\n",
      "Epoch 260/300 \t lr=1.5e-04\t t=4s \tloss=0.0556\tval_loss=0.2512\tcorr=0.7486\n",
      "Epoch 270/300 \t lr=1.1e-04\t t=4s \tloss=0.0521\tval_loss=0.2518\tcorr=0.7486\n",
      "Epoch 280/300 \t lr=7.4e-05\t t=4s \tloss=0.0497\tval_loss=0.2522\tcorr=0.7482\n",
      "Epoch 290/300 \t lr=3.7e-05\t t=4s \tloss=0.0483\tval_loss=0.2526\tcorr=0.7477\n",
      "Epoch 300/300 \t lr=0.0e+00\t t=4s \tloss=0.0477\tval_loss=0.2528\tcorr=0.7475\n",
      "[0.24444444444444446, 0.8771717171717173, 0.8937373737373738, 0.9705050505050506, 0.8937373737373738, 0.5995959595959597, 0.9034343434343436, 0.7830303030303032] \n",
      "\n",
      "\n",
      "FOLD 4\n",
      "train size: 400, val size: 100\n",
      "Model parameters count: 102162440\n",
      "train batch num: 1\n",
      "val batch num: 1\n",
      "optim: Adam, lr: 0.001, warmup_steps: 30\n",
      "Epoch 10/300 \t lr=3.3e-04\t t=6s \tloss=0.9303\tval_loss=0.8725\tcorr=0.4535\n",
      "Epoch 20/300 \t lr=6.7e-04\t t=4s \tloss=0.4451\tval_loss=0.4877\tcorr=0.5173\n",
      "Epoch 30/300 \t lr=1.0e-03\t t=5s \tloss=0.3976\tval_loss=0.3846\tcorr=0.6165\n",
      "Epoch 40/300 \t lr=9.6e-04\t t=5s \tloss=0.3168\tval_loss=0.3226\tcorr=0.6779\n",
      "Epoch 50/300 \t lr=9.3e-04\t t=5s \tloss=0.2769\tval_loss=0.2925\tcorr=0.7087\n",
      "Epoch 60/300 \t lr=8.9e-04\t t=5s \tloss=0.2299\tval_loss=0.2527\tcorr=0.7488\n",
      "Epoch 70/300 \t lr=8.5e-04\t t=4s \tloss=0.1977\tval_loss=0.2239\tcorr=0.7776\n",
      "Epoch 80/300 \t lr=8.1e-04\t t=5s \tloss=0.1868\tval_loss=0.2171\tcorr=0.7835\n",
      "Epoch 90/300 \t lr=7.8e-04\t t=4s \tloss=0.1827\tval_loss=0.2153\tcorr=0.7852\n",
      "Epoch 100/300 \t lr=7.4e-04\t t=4s \tloss=0.1801\tval_loss=0.2159\tcorr=0.7848\n",
      "Epoch 110/300 \t lr=7.0e-04\t t=5s \tloss=0.1790\tval_loss=0.2153\tcorr=0.7852\n",
      "Epoch 120/300 \t lr=6.7e-04\t t=4s \tloss=0.1766\tval_loss=0.2150\tcorr=0.7856\n",
      "Epoch 130/300 \t lr=6.3e-04\t t=4s \tloss=0.1732\tval_loss=0.2154\tcorr=0.7850\n",
      "Epoch 140/300 \t lr=5.9e-04\t t=4s \tloss=0.1703\tval_loss=0.2150\tcorr=0.7855\n",
      "Epoch 150/300 \t lr=5.6e-04\t t=4s \tloss=0.1661\tval_loss=0.2154\tcorr=0.7845\n",
      "Epoch 160/300 \t lr=5.2e-04\t t=4s \tloss=0.1653\tval_loss=0.2163\tcorr=0.7841\n",
      "Epoch 170/300 \t lr=4.8e-04\t t=4s \tloss=0.1580\tval_loss=0.2148\tcorr=0.7856\n",
      "Epoch 180/300 \t lr=4.4e-04\t t=4s \tloss=0.1506\tval_loss=0.2183\tcorr=0.7818\n",
      "Epoch 190/300 \t lr=4.1e-04\t t=4s \tloss=0.1446\tval_loss=0.2211\tcorr=0.7784\n",
      "Epoch 200/300 \t lr=3.7e-04\t t=4s \tloss=0.1359\tval_loss=0.2267\tcorr=0.7736\n",
      "Epoch 210/300 \t lr=3.3e-04\t t=4s \tloss=0.1345\tval_loss=0.2266\tcorr=0.7740\n",
      "Epoch 220/300 \t lr=3.0e-04\t t=5s \tloss=0.1205\tval_loss=0.2319\tcorr=0.7685\n",
      "Epoch 230/300 \t lr=2.6e-04\t t=4s \tloss=0.1132\tval_loss=0.2345\tcorr=0.7655\n",
      "Epoch 240/300 \t lr=2.2e-04\t t=4s \tloss=0.1048\tval_loss=0.2345\tcorr=0.7651\n",
      "Epoch 250/300 \t lr=1.9e-04\t t=4s \tloss=0.1000\tval_loss=0.2339\tcorr=0.7670\n",
      "Epoch 260/300 \t lr=1.5e-04\t t=4s \tloss=0.0928\tval_loss=0.2376\tcorr=0.7623\n",
      "Epoch 270/300 \t lr=1.1e-04\t t=4s \tloss=0.0879\tval_loss=0.2376\tcorr=0.7627\n",
      "Epoch 280/300 \t lr=7.4e-05\t t=4s \tloss=0.0841\tval_loss=0.2380\tcorr=0.7621\n",
      "Epoch 290/300 \t lr=3.7e-05\t t=4s \tloss=0.0818\tval_loss=0.2384\tcorr=0.7621\n",
      "Epoch 300/300 \t lr=0.0e+00\t t=4s \tloss=0.0809\tval_loss=0.2385\tcorr=0.7624\n",
      "[0.3163636363636364, 0.8561616161616162, 0.913939393939394, 0.9701010101010104, 0.9131313131313133, 0.7074747474747476, 0.9357575757575758, 0.8016161616161618] \n",
      "\n",
      "\n",
      "0.79131 [0.29075, 0.87547, 0.90368, 0.96638, 0.90149, 0.67354, 0.91935, 0.79984]\n"
     ]
    }
   ],
   "source": [
    "# K折训练，同时\n",
    "seed = 666\n",
    "BATCH_SIZE = 400\n",
    "BATCH_SIZE_TEST = 128\n",
    "EPOCHS = 300\n",
    "LR = 0.001\n",
    "optim = \"Adam\"\n",
    "device = \"cuda\" if torch.cuda.is_available() else \"cpu\"\n",
    "modelpath = r'./model/'\n",
    "\n",
    "loss_fct = CVPRLoss_tanh()\n",
    "k=5\n",
    "scoref = []\n",
    "skf = KFold(n_splits=k, shuffle=False)\n",
    "for index, (train_index, test_index) in enumerate(skf.split(train_df)):   \n",
    "    print(f'FOLD {index}')\n",
    "    train0 = train_df.iloc[train_index]\n",
    "    val0 = train_df.iloc[test_index]   \n",
    "    train_dataset = MyDataset(train0, use_cols, target_cols)\n",
    "    val_dataset = MyDataset(val0, use_cols, target_cols)\n",
    "    print(f'train size: {len(train0)}, val size: {len(val0)}')\n",
    "\n",
    "    modelname = f'lstm2y_catall_tanh_sig'\n",
    "    seed_everything(seed)\n",
    "    model = CVPRModel(input_dim=1,\n",
    "                    num_classes=8,\n",
    "                    bi=True,\n",
    "                    time_step=37\n",
    "                   ).to(device)\n",
    "\n",
    "    _ = train_sig(model, \n",
    "                train_dataset, \n",
    "                val_dataset, \n",
    "                verbose=10, \n",
    "                fold_=index,\n",
    "                modelname=modelname,\n",
    "                modelpath=modelpath,\n",
    "                input='input',\n",
    "                y='y',\n",
    "                debug=False\n",
    "                 )\n",
    "    scoref.append(_)\n",
    "scoreff = scoref\n",
    "print(np.round(np.array(scoreff).mean(1).mean(), 5), [round(x, 5) for x in np.array(scoreff).mean(0)])"
   ]
  },
  {
   "cell_type": "code",
   "execution_count": null,
   "metadata": {},
   "outputs": [],
   "source": []
  },
  {
   "cell_type": "code",
   "execution_count": 19,
   "metadata": {},
   "outputs": [],
   "source": [
    "#加载test\n",
    "with open('./data/CVPR_2022_NAS_Track2_test.json', 'r') as f:\n",
    "    test_data = json.load(f)"
   ]
  },
  {
   "cell_type": "code",
   "execution_count": 20,
   "metadata": {},
   "outputs": [],
   "source": [
    "test_df = get_df(test_data)\n",
    "get_step(test_df)"
   ]
  },
  {
   "cell_type": "code",
   "execution_count": 21,
   "metadata": {},
   "outputs": [],
   "source": [
    "def pred_cuda(test_df, model):\n",
    "    #获得预测\n",
    "    test_dataset = MyDataset(test_df, use_cols, target_cols, 0)\n",
    "    test_loader = DataLoader(\n",
    "        test_dataset,\n",
    "        batch_size=1024*8,\n",
    "        shuffle=False,\n",
    "        drop_last=False,\n",
    "        pin_memory=True\n",
    "    )\n",
    "\n",
    "    preds = []\n",
    "    model.eval()\n",
    "    with torch.no_grad():\n",
    "        for data in tqdm(test_loader):\n",
    "            pred = model(data['input'].to(device))\n",
    "            preds.append(pred.detach().cpu().numpy())\n",
    "    preds = np.concatenate(preds, 0)\n",
    "    print(preds.shape)\n",
    "\n",
    "    del test_dataset, test_loader, model;\n",
    "    gc.collect()\n",
    "    torch.cuda.empty_cache()\n",
    "    return preds\n",
    "        \n",
    "def predict_sig(test_df, k=5, modelname=''):\n",
    "    for target in range(8):        \n",
    "        cols = []\n",
    "        for fold_ in range(k):\n",
    "            modelname1 = f'{modelname}_target{target}_{fold_}.pt'\n",
    "            print(f'Model {modelname1}')\n",
    "            model = CVPRModel(input_dim=1,\n",
    "                        num_classes=8,\n",
    "                        bi=True,\n",
    "                        time_step=37\n",
    "                       ).to(device)\n",
    "            model.load_state_dict(torch.load(modelpath+modelname1))\n",
    "\n",
    "            pred_ = pred_cuda(test_df, model)[:, target]\n",
    "            tmp_c = f'{target_cols[target]}_{fold_}'\n",
    "            test_df[tmp_c] = pred_\n",
    "            cols.append(tmp_c)\n",
    "            print(f'Done {tmp_c}')\n",
    "            \n",
    "        print(cols)\n",
    "        test_df[cols] = test_df[cols].rank()\n",
    "        test_df[target_cols[target]] = test_df[cols].mean(axis=1).rank()\n"
   ]
  },
  {
   "cell_type": "code",
   "execution_count": 22,
   "metadata": {},
   "outputs": [
    {
     "data": {
      "text/plain": [
       "(5, 'lstm2y_catall_tanh_sig')"
      ]
     },
     "execution_count": 22,
     "metadata": {},
     "output_type": "execute_result"
    }
   ],
   "source": [
    "k, modelname"
   ]
  },
  {
   "cell_type": "code",
   "execution_count": 23,
   "metadata": {},
   "outputs": [
    {
     "name": "stdout",
     "output_type": "stream",
     "text": [
      "Model lstm2y_catall_tanh_sig_target0_0.pt\n"
     ]
    },
    {
     "name": "stderr",
     "output_type": "stream",
     "text": [
      "C:\\Users\\45928\\AppData\\Local\\Continuum\\anaconda3\\lib\\site-packages\\ipykernel_launcher.py:15: TqdmDeprecationWarning: This function will be removed in tqdm==5.0.0\n",
      "Please use `tqdm.notebook.tqdm` instead of `tqdm.tqdm_notebook`\n",
      "  from ipykernel import kernelapp as app\n"
     ]
    },
    {
     "data": {
      "application/vnd.jupyter.widget-view+json": {
       "model_id": "e22bebf5793b4509888bb720742c37f8",
       "version_major": 2,
       "version_minor": 0
      },
      "text/plain": [
       "  0%|          | 0/13 [00:00<?, ?it/s]"
      ]
     },
     "metadata": {},
     "output_type": "display_data"
    },
    {
     "name": "stdout",
     "output_type": "stream",
     "text": [
      "(99500, 8)\n",
      "Done cplfw_rank_0\n",
      "Model lstm2y_catall_tanh_sig_target0_1.pt\n"
     ]
    },
    {
     "data": {
      "application/vnd.jupyter.widget-view+json": {
       "model_id": "95e42eee9bb74000a320c0220d327d17",
       "version_major": 2,
       "version_minor": 0
      },
      "text/plain": [
       "  0%|          | 0/13 [00:00<?, ?it/s]"
      ]
     },
     "metadata": {},
     "output_type": "display_data"
    },
    {
     "name": "stdout",
     "output_type": "stream",
     "text": [
      "(99500, 8)\n",
      "Done cplfw_rank_1\n",
      "Model lstm2y_catall_tanh_sig_target0_2.pt\n"
     ]
    },
    {
     "data": {
      "application/vnd.jupyter.widget-view+json": {
       "model_id": "eb6db47f0f3a433f91e86ad5eb950952",
       "version_major": 2,
       "version_minor": 0
      },
      "text/plain": [
       "  0%|          | 0/13 [00:00<?, ?it/s]"
      ]
     },
     "metadata": {},
     "output_type": "display_data"
    },
    {
     "name": "stdout",
     "output_type": "stream",
     "text": [
      "(99500, 8)\n",
      "Done cplfw_rank_2\n",
      "Model lstm2y_catall_tanh_sig_target0_3.pt\n"
     ]
    },
    {
     "data": {
      "application/vnd.jupyter.widget-view+json": {
       "model_id": "63a6a679f01640b092adb8fba75d863f",
       "version_major": 2,
       "version_minor": 0
      },
      "text/plain": [
       "  0%|          | 0/13 [00:00<?, ?it/s]"
      ]
     },
     "metadata": {},
     "output_type": "display_data"
    },
    {
     "name": "stdout",
     "output_type": "stream",
     "text": [
      "(99500, 8)\n",
      "Done cplfw_rank_3\n",
      "Model lstm2y_catall_tanh_sig_target0_4.pt\n"
     ]
    },
    {
     "data": {
      "application/vnd.jupyter.widget-view+json": {
       "model_id": "291419977f114252a52f3a53ea17cbd0",
       "version_major": 2,
       "version_minor": 0
      },
      "text/plain": [
       "  0%|          | 0/13 [00:00<?, ?it/s]"
      ]
     },
     "metadata": {},
     "output_type": "display_data"
    },
    {
     "name": "stdout",
     "output_type": "stream",
     "text": [
      "(99500, 8)\n",
      "Done cplfw_rank_4\n",
      "['cplfw_rank_0', 'cplfw_rank_1', 'cplfw_rank_2', 'cplfw_rank_3', 'cplfw_rank_4']\n",
      "Model lstm2y_catall_tanh_sig_target1_0.pt\n"
     ]
    },
    {
     "data": {
      "application/vnd.jupyter.widget-view+json": {
       "model_id": "841e685dca9f4f6384d8dd4a0b2eb3dd",
       "version_major": 2,
       "version_minor": 0
      },
      "text/plain": [
       "  0%|          | 0/13 [00:00<?, ?it/s]"
      ]
     },
     "metadata": {},
     "output_type": "display_data"
    },
    {
     "name": "stdout",
     "output_type": "stream",
     "text": [
      "(99500, 8)\n",
      "Done market1501_rank_0\n",
      "Model lstm2y_catall_tanh_sig_target1_1.pt\n"
     ]
    },
    {
     "data": {
      "application/vnd.jupyter.widget-view+json": {
       "model_id": "abe00ac5fa27475bad6abd1df69d8765",
       "version_major": 2,
       "version_minor": 0
      },
      "text/plain": [
       "  0%|          | 0/13 [00:00<?, ?it/s]"
      ]
     },
     "metadata": {},
     "output_type": "display_data"
    },
    {
     "name": "stdout",
     "output_type": "stream",
     "text": [
      "(99500, 8)\n",
      "Done market1501_rank_1\n",
      "Model lstm2y_catall_tanh_sig_target1_2.pt\n"
     ]
    },
    {
     "data": {
      "application/vnd.jupyter.widget-view+json": {
       "model_id": "17621b3fdbf24c269096b46d0e98545b",
       "version_major": 2,
       "version_minor": 0
      },
      "text/plain": [
       "  0%|          | 0/13 [00:00<?, ?it/s]"
      ]
     },
     "metadata": {},
     "output_type": "display_data"
    },
    {
     "name": "stdout",
     "output_type": "stream",
     "text": [
      "(99500, 8)\n",
      "Done market1501_rank_2\n",
      "Model lstm2y_catall_tanh_sig_target1_3.pt\n"
     ]
    },
    {
     "data": {
      "application/vnd.jupyter.widget-view+json": {
       "model_id": "b31e43d651ad41d7a7f7340932a9151a",
       "version_major": 2,
       "version_minor": 0
      },
      "text/plain": [
       "  0%|          | 0/13 [00:00<?, ?it/s]"
      ]
     },
     "metadata": {},
     "output_type": "display_data"
    },
    {
     "name": "stdout",
     "output_type": "stream",
     "text": [
      "(99500, 8)\n",
      "Done market1501_rank_3\n",
      "Model lstm2y_catall_tanh_sig_target1_4.pt\n"
     ]
    },
    {
     "data": {
      "application/vnd.jupyter.widget-view+json": {
       "model_id": "92048f3117b847ec871ecc4b0ddd0564",
       "version_major": 2,
       "version_minor": 0
      },
      "text/plain": [
       "  0%|          | 0/13 [00:00<?, ?it/s]"
      ]
     },
     "metadata": {},
     "output_type": "display_data"
    },
    {
     "name": "stdout",
     "output_type": "stream",
     "text": [
      "(99500, 8)\n",
      "Done market1501_rank_4\n",
      "['market1501_rank_0', 'market1501_rank_1', 'market1501_rank_2', 'market1501_rank_3', 'market1501_rank_4']\n",
      "Model lstm2y_catall_tanh_sig_target2_0.pt\n"
     ]
    },
    {
     "data": {
      "application/vnd.jupyter.widget-view+json": {
       "model_id": "9afb0d745b264c8aa1d2661a3226cad4",
       "version_major": 2,
       "version_minor": 0
      },
      "text/plain": [
       "  0%|          | 0/13 [00:00<?, ?it/s]"
      ]
     },
     "metadata": {},
     "output_type": "display_data"
    },
    {
     "name": "stdout",
     "output_type": "stream",
     "text": [
      "(99500, 8)\n",
      "Done dukemtmc_rank_0\n",
      "Model lstm2y_catall_tanh_sig_target2_1.pt\n"
     ]
    },
    {
     "data": {
      "application/vnd.jupyter.widget-view+json": {
       "model_id": "3039ce177e4a4c339445cf0986520de0",
       "version_major": 2,
       "version_minor": 0
      },
      "text/plain": [
       "  0%|          | 0/13 [00:00<?, ?it/s]"
      ]
     },
     "metadata": {},
     "output_type": "display_data"
    },
    {
     "name": "stdout",
     "output_type": "stream",
     "text": [
      "(99500, 8)\n",
      "Done dukemtmc_rank_1\n",
      "Model lstm2y_catall_tanh_sig_target2_2.pt\n"
     ]
    },
    {
     "data": {
      "application/vnd.jupyter.widget-view+json": {
       "model_id": "0082b3828b8541e88ff05627ac8a9e9a",
       "version_major": 2,
       "version_minor": 0
      },
      "text/plain": [
       "  0%|          | 0/13 [00:00<?, ?it/s]"
      ]
     },
     "metadata": {},
     "output_type": "display_data"
    },
    {
     "name": "stdout",
     "output_type": "stream",
     "text": [
      "(99500, 8)\n",
      "Done dukemtmc_rank_2\n",
      "Model lstm2y_catall_tanh_sig_target2_3.pt\n"
     ]
    },
    {
     "data": {
      "application/vnd.jupyter.widget-view+json": {
       "model_id": "75ba476c33ef4d84beb27953fd8e4737",
       "version_major": 2,
       "version_minor": 0
      },
      "text/plain": [
       "  0%|          | 0/13 [00:00<?, ?it/s]"
      ]
     },
     "metadata": {},
     "output_type": "display_data"
    },
    {
     "name": "stdout",
     "output_type": "stream",
     "text": [
      "(99500, 8)\n",
      "Done dukemtmc_rank_3\n",
      "Model lstm2y_catall_tanh_sig_target2_4.pt\n"
     ]
    },
    {
     "data": {
      "application/vnd.jupyter.widget-view+json": {
       "model_id": "9fa5f6e5f0e44f7493deab46f8873d9b",
       "version_major": 2,
       "version_minor": 0
      },
      "text/plain": [
       "  0%|          | 0/13 [00:00<?, ?it/s]"
      ]
     },
     "metadata": {},
     "output_type": "display_data"
    },
    {
     "name": "stdout",
     "output_type": "stream",
     "text": [
      "(99500, 8)\n",
      "Done dukemtmc_rank_4\n",
      "['dukemtmc_rank_0', 'dukemtmc_rank_1', 'dukemtmc_rank_2', 'dukemtmc_rank_3', 'dukemtmc_rank_4']\n",
      "Model lstm2y_catall_tanh_sig_target3_0.pt\n"
     ]
    },
    {
     "data": {
      "application/vnd.jupyter.widget-view+json": {
       "model_id": "a302e60e951b41339f40fa7081c0a356",
       "version_major": 2,
       "version_minor": 0
      },
      "text/plain": [
       "  0%|          | 0/13 [00:00<?, ?it/s]"
      ]
     },
     "metadata": {},
     "output_type": "display_data"
    },
    {
     "name": "stdout",
     "output_type": "stream",
     "text": [
      "(99500, 8)\n",
      "Done msmt17_rank_0\n",
      "Model lstm2y_catall_tanh_sig_target3_1.pt\n"
     ]
    },
    {
     "data": {
      "application/vnd.jupyter.widget-view+json": {
       "model_id": "e0190ed263b643cca1be439e92aad138",
       "version_major": 2,
       "version_minor": 0
      },
      "text/plain": [
       "  0%|          | 0/13 [00:00<?, ?it/s]"
      ]
     },
     "metadata": {},
     "output_type": "display_data"
    },
    {
     "name": "stdout",
     "output_type": "stream",
     "text": [
      "(99500, 8)\n",
      "Done msmt17_rank_1\n",
      "Model lstm2y_catall_tanh_sig_target3_2.pt\n"
     ]
    },
    {
     "data": {
      "application/vnd.jupyter.widget-view+json": {
       "model_id": "c9c178a949bf42ffbc279072489782dc",
       "version_major": 2,
       "version_minor": 0
      },
      "text/plain": [
       "  0%|          | 0/13 [00:00<?, ?it/s]"
      ]
     },
     "metadata": {},
     "output_type": "display_data"
    },
    {
     "name": "stdout",
     "output_type": "stream",
     "text": [
      "(99500, 8)\n",
      "Done msmt17_rank_2\n",
      "Model lstm2y_catall_tanh_sig_target3_3.pt\n"
     ]
    },
    {
     "data": {
      "application/vnd.jupyter.widget-view+json": {
       "model_id": "2a93adf7005b4be99d5a5b92c68dc731",
       "version_major": 2,
       "version_minor": 0
      },
      "text/plain": [
       "  0%|          | 0/13 [00:00<?, ?it/s]"
      ]
     },
     "metadata": {},
     "output_type": "display_data"
    },
    {
     "name": "stdout",
     "output_type": "stream",
     "text": [
      "(99500, 8)\n",
      "Done msmt17_rank_3\n",
      "Model lstm2y_catall_tanh_sig_target3_4.pt\n"
     ]
    },
    {
     "data": {
      "application/vnd.jupyter.widget-view+json": {
       "model_id": "7e71dc4fee1949328b297d7630caa9cb",
       "version_major": 2,
       "version_minor": 0
      },
      "text/plain": [
       "  0%|          | 0/13 [00:00<?, ?it/s]"
      ]
     },
     "metadata": {},
     "output_type": "display_data"
    },
    {
     "name": "stdout",
     "output_type": "stream",
     "text": [
      "(99500, 8)\n",
      "Done msmt17_rank_4\n",
      "['msmt17_rank_0', 'msmt17_rank_1', 'msmt17_rank_2', 'msmt17_rank_3', 'msmt17_rank_4']\n",
      "Model lstm2y_catall_tanh_sig_target4_0.pt\n"
     ]
    },
    {
     "data": {
      "application/vnd.jupyter.widget-view+json": {
       "model_id": "6b53a1c492e4494ab6b79336f374ad1c",
       "version_major": 2,
       "version_minor": 0
      },
      "text/plain": [
       "  0%|          | 0/13 [00:00<?, ?it/s]"
      ]
     },
     "metadata": {},
     "output_type": "display_data"
    },
    {
     "name": "stdout",
     "output_type": "stream",
     "text": [
      "(99500, 8)\n",
      "Done veri_rank_0\n",
      "Model lstm2y_catall_tanh_sig_target4_1.pt\n"
     ]
    },
    {
     "data": {
      "application/vnd.jupyter.widget-view+json": {
       "model_id": "08f60576297e4cdea4b4475f38f45f78",
       "version_major": 2,
       "version_minor": 0
      },
      "text/plain": [
       "  0%|          | 0/13 [00:00<?, ?it/s]"
      ]
     },
     "metadata": {},
     "output_type": "display_data"
    },
    {
     "name": "stdout",
     "output_type": "stream",
     "text": [
      "(99500, 8)\n",
      "Done veri_rank_1\n",
      "Model lstm2y_catall_tanh_sig_target4_2.pt\n"
     ]
    },
    {
     "data": {
      "application/vnd.jupyter.widget-view+json": {
       "model_id": "94b077b03b0a4f829a701132d719a0ed",
       "version_major": 2,
       "version_minor": 0
      },
      "text/plain": [
       "  0%|          | 0/13 [00:00<?, ?it/s]"
      ]
     },
     "metadata": {},
     "output_type": "display_data"
    },
    {
     "name": "stdout",
     "output_type": "stream",
     "text": [
      "(99500, 8)\n",
      "Done veri_rank_2\n",
      "Model lstm2y_catall_tanh_sig_target4_3.pt\n"
     ]
    },
    {
     "data": {
      "application/vnd.jupyter.widget-view+json": {
       "model_id": "3946516246bb4ea4a6887f889484620e",
       "version_major": 2,
       "version_minor": 0
      },
      "text/plain": [
       "  0%|          | 0/13 [00:00<?, ?it/s]"
      ]
     },
     "metadata": {},
     "output_type": "display_data"
    },
    {
     "name": "stdout",
     "output_type": "stream",
     "text": [
      "(99500, 8)\n",
      "Done veri_rank_3\n",
      "Model lstm2y_catall_tanh_sig_target4_4.pt\n"
     ]
    },
    {
     "data": {
      "application/vnd.jupyter.widget-view+json": {
       "model_id": "28e3468903c64b82bbcae070f765c9f7",
       "version_major": 2,
       "version_minor": 0
      },
      "text/plain": [
       "  0%|          | 0/13 [00:00<?, ?it/s]"
      ]
     },
     "metadata": {},
     "output_type": "display_data"
    },
    {
     "name": "stdout",
     "output_type": "stream",
     "text": [
      "(99500, 8)\n",
      "Done veri_rank_4\n",
      "['veri_rank_0', 'veri_rank_1', 'veri_rank_2', 'veri_rank_3', 'veri_rank_4']\n",
      "Model lstm2y_catall_tanh_sig_target5_0.pt\n"
     ]
    },
    {
     "data": {
      "application/vnd.jupyter.widget-view+json": {
       "model_id": "27f93f15a97c4794941f6934f7acbc85",
       "version_major": 2,
       "version_minor": 0
      },
      "text/plain": [
       "  0%|          | 0/13 [00:00<?, ?it/s]"
      ]
     },
     "metadata": {},
     "output_type": "display_data"
    },
    {
     "name": "stdout",
     "output_type": "stream",
     "text": [
      "(99500, 8)\n",
      "Done vehicleid_rank_0\n",
      "Model lstm2y_catall_tanh_sig_target5_1.pt\n"
     ]
    },
    {
     "data": {
      "application/vnd.jupyter.widget-view+json": {
       "model_id": "4ae562dfd70e45f39e334d049d1e9f20",
       "version_major": 2,
       "version_minor": 0
      },
      "text/plain": [
       "  0%|          | 0/13 [00:00<?, ?it/s]"
      ]
     },
     "metadata": {},
     "output_type": "display_data"
    },
    {
     "name": "stdout",
     "output_type": "stream",
     "text": [
      "(99500, 8)\n",
      "Done vehicleid_rank_1\n",
      "Model lstm2y_catall_tanh_sig_target5_2.pt\n"
     ]
    },
    {
     "data": {
      "application/vnd.jupyter.widget-view+json": {
       "model_id": "f64beb4d3dd64cf88d10b4432c006bae",
       "version_major": 2,
       "version_minor": 0
      },
      "text/plain": [
       "  0%|          | 0/13 [00:00<?, ?it/s]"
      ]
     },
     "metadata": {},
     "output_type": "display_data"
    },
    {
     "name": "stdout",
     "output_type": "stream",
     "text": [
      "(99500, 8)\n",
      "Done vehicleid_rank_2\n",
      "Model lstm2y_catall_tanh_sig_target5_3.pt\n"
     ]
    },
    {
     "data": {
      "application/vnd.jupyter.widget-view+json": {
       "model_id": "ca260802048b4b7ab1a4ebb711c5c755",
       "version_major": 2,
       "version_minor": 0
      },
      "text/plain": [
       "  0%|          | 0/13 [00:00<?, ?it/s]"
      ]
     },
     "metadata": {},
     "output_type": "display_data"
    },
    {
     "name": "stdout",
     "output_type": "stream",
     "text": [
      "(99500, 8)\n",
      "Done vehicleid_rank_3\n",
      "Model lstm2y_catall_tanh_sig_target5_4.pt\n"
     ]
    },
    {
     "data": {
      "application/vnd.jupyter.widget-view+json": {
       "model_id": "348b107dd29441a98545df3dd5e4ad8a",
       "version_major": 2,
       "version_minor": 0
      },
      "text/plain": [
       "  0%|          | 0/13 [00:00<?, ?it/s]"
      ]
     },
     "metadata": {},
     "output_type": "display_data"
    },
    {
     "name": "stdout",
     "output_type": "stream",
     "text": [
      "(99500, 8)\n",
      "Done vehicleid_rank_4\n",
      "['vehicleid_rank_0', 'vehicleid_rank_1', 'vehicleid_rank_2', 'vehicleid_rank_3', 'vehicleid_rank_4']\n",
      "Model lstm2y_catall_tanh_sig_target6_0.pt\n"
     ]
    },
    {
     "data": {
      "application/vnd.jupyter.widget-view+json": {
       "model_id": "df9e13a99d7041c9b0eb3df23353cf27",
       "version_major": 2,
       "version_minor": 0
      },
      "text/plain": [
       "  0%|          | 0/13 [00:00<?, ?it/s]"
      ]
     },
     "metadata": {},
     "output_type": "display_data"
    },
    {
     "name": "stdout",
     "output_type": "stream",
     "text": [
      "(99500, 8)\n",
      "Done veriwild_rank_0\n",
      "Model lstm2y_catall_tanh_sig_target6_1.pt\n"
     ]
    },
    {
     "data": {
      "application/vnd.jupyter.widget-view+json": {
       "model_id": "17edf89b150e4a4fb7ed53831c4ace83",
       "version_major": 2,
       "version_minor": 0
      },
      "text/plain": [
       "  0%|          | 0/13 [00:00<?, ?it/s]"
      ]
     },
     "metadata": {},
     "output_type": "display_data"
    },
    {
     "name": "stdout",
     "output_type": "stream",
     "text": [
      "(99500, 8)\n",
      "Done veriwild_rank_1\n",
      "Model lstm2y_catall_tanh_sig_target6_2.pt\n"
     ]
    },
    {
     "data": {
      "application/vnd.jupyter.widget-view+json": {
       "model_id": "e3694bd4fd524a5d8ce0297ba49706e2",
       "version_major": 2,
       "version_minor": 0
      },
      "text/plain": [
       "  0%|          | 0/13 [00:00<?, ?it/s]"
      ]
     },
     "metadata": {},
     "output_type": "display_data"
    },
    {
     "name": "stdout",
     "output_type": "stream",
     "text": [
      "(99500, 8)\n",
      "Done veriwild_rank_2\n",
      "Model lstm2y_catall_tanh_sig_target6_3.pt\n"
     ]
    },
    {
     "data": {
      "application/vnd.jupyter.widget-view+json": {
       "model_id": "246a6bddc1854f7c933f0bc16fb850bf",
       "version_major": 2,
       "version_minor": 0
      },
      "text/plain": [
       "  0%|          | 0/13 [00:00<?, ?it/s]"
      ]
     },
     "metadata": {},
     "output_type": "display_data"
    },
    {
     "name": "stdout",
     "output_type": "stream",
     "text": [
      "(99500, 8)\n",
      "Done veriwild_rank_3\n",
      "Model lstm2y_catall_tanh_sig_target6_4.pt\n"
     ]
    },
    {
     "data": {
      "application/vnd.jupyter.widget-view+json": {
       "model_id": "a086cd2860f7456380418155ab0c140e",
       "version_major": 2,
       "version_minor": 0
      },
      "text/plain": [
       "  0%|          | 0/13 [00:00<?, ?it/s]"
      ]
     },
     "metadata": {},
     "output_type": "display_data"
    },
    {
     "name": "stdout",
     "output_type": "stream",
     "text": [
      "(99500, 8)\n",
      "Done veriwild_rank_4\n",
      "['veriwild_rank_0', 'veriwild_rank_1', 'veriwild_rank_2', 'veriwild_rank_3', 'veriwild_rank_4']\n",
      "Model lstm2y_catall_tanh_sig_target7_0.pt\n"
     ]
    },
    {
     "data": {
      "application/vnd.jupyter.widget-view+json": {
       "model_id": "bdb4fae5957d4b96b7bf6d6edd8e0cb4",
       "version_major": 2,
       "version_minor": 0
      },
      "text/plain": [
       "  0%|          | 0/13 [00:00<?, ?it/s]"
      ]
     },
     "metadata": {},
     "output_type": "display_data"
    },
    {
     "name": "stdout",
     "output_type": "stream",
     "text": [
      "(99500, 8)\n",
      "Done sop_rank_0\n",
      "Model lstm2y_catall_tanh_sig_target7_1.pt\n"
     ]
    },
    {
     "data": {
      "application/vnd.jupyter.widget-view+json": {
       "model_id": "e63e68cd746e440fbd8f366a7aae1e0c",
       "version_major": 2,
       "version_minor": 0
      },
      "text/plain": [
       "  0%|          | 0/13 [00:00<?, ?it/s]"
      ]
     },
     "metadata": {},
     "output_type": "display_data"
    },
    {
     "name": "stdout",
     "output_type": "stream",
     "text": [
      "(99500, 8)\n",
      "Done sop_rank_1\n",
      "Model lstm2y_catall_tanh_sig_target7_2.pt\n"
     ]
    },
    {
     "data": {
      "application/vnd.jupyter.widget-view+json": {
       "model_id": "941dac71be6f49978d4bbd3cec85c680",
       "version_major": 2,
       "version_minor": 0
      },
      "text/plain": [
       "  0%|          | 0/13 [00:00<?, ?it/s]"
      ]
     },
     "metadata": {},
     "output_type": "display_data"
    },
    {
     "name": "stdout",
     "output_type": "stream",
     "text": [
      "(99500, 8)\n",
      "Done sop_rank_2\n",
      "Model lstm2y_catall_tanh_sig_target7_3.pt\n"
     ]
    },
    {
     "data": {
      "application/vnd.jupyter.widget-view+json": {
       "model_id": "35500c223b844d669da27dfdf1236873",
       "version_major": 2,
       "version_minor": 0
      },
      "text/plain": [
       "  0%|          | 0/13 [00:00<?, ?it/s]"
      ]
     },
     "metadata": {},
     "output_type": "display_data"
    },
    {
     "name": "stdout",
     "output_type": "stream",
     "text": [
      "(99500, 8)\n",
      "Done sop_rank_3\n",
      "Model lstm2y_catall_tanh_sig_target7_4.pt\n"
     ]
    },
    {
     "data": {
      "application/vnd.jupyter.widget-view+json": {
       "model_id": "181c1f8e9cbe4796abd037ec2a8c037a",
       "version_major": 2,
       "version_minor": 0
      },
      "text/plain": [
       "  0%|          | 0/13 [00:00<?, ?it/s]"
      ]
     },
     "metadata": {},
     "output_type": "display_data"
    },
    {
     "name": "stdout",
     "output_type": "stream",
     "text": [
      "(99500, 8)\n",
      "Done sop_rank_4\n",
      "['sop_rank_0', 'sop_rank_1', 'sop_rank_2', 'sop_rank_3', 'sop_rank_4']\n"
     ]
    }
   ],
   "source": [
    "predict_sig(test_df, k=5, modelname='lstm2y_catall_tanh_sig')"
   ]
  },
  {
   "cell_type": "code",
   "execution_count": 24,
   "metadata": {},
   "outputs": [],
   "source": [
    "test_df[target_cols] = test_df[target_cols].astype(int)-1"
   ]
  },
  {
   "cell_type": "code",
   "execution_count": 25,
   "metadata": {},
   "outputs": [
    {
     "data": {
      "text/html": [
       "<div>\n",
       "<style scoped>\n",
       "    .dataframe tbody tr th:only-of-type {\n",
       "        vertical-align: middle;\n",
       "    }\n",
       "\n",
       "    .dataframe tbody tr th {\n",
       "        vertical-align: top;\n",
       "    }\n",
       "\n",
       "    .dataframe thead th {\n",
       "        text-align: right;\n",
       "    }\n",
       "</style>\n",
       "<table border=\"1\" class=\"dataframe\">\n",
       "  <thead>\n",
       "    <tr style=\"text-align: right;\">\n",
       "      <th></th>\n",
       "      <th>cplfw_rank</th>\n",
       "      <th>market1501_rank</th>\n",
       "      <th>dukemtmc_rank</th>\n",
       "      <th>msmt17_rank</th>\n",
       "      <th>veri_rank</th>\n",
       "      <th>vehicleid_rank</th>\n",
       "      <th>veriwild_rank</th>\n",
       "      <th>sop_rank</th>\n",
       "    </tr>\n",
       "  </thead>\n",
       "  <tbody>\n",
       "    <tr>\n",
       "      <th>count</th>\n",
       "      <td>99500.000000</td>\n",
       "      <td>99500.000000</td>\n",
       "      <td>99500.000000</td>\n",
       "      <td>99500.000000</td>\n",
       "      <td>99500.000000</td>\n",
       "      <td>99500.000000</td>\n",
       "      <td>99500.000000</td>\n",
       "      <td>99500.000000</td>\n",
       "    </tr>\n",
       "    <tr>\n",
       "      <th>mean</th>\n",
       "      <td>49749.419859</td>\n",
       "      <td>49749.430492</td>\n",
       "      <td>49749.430683</td>\n",
       "      <td>49749.425065</td>\n",
       "      <td>49749.427608</td>\n",
       "      <td>49749.425377</td>\n",
       "      <td>49749.431628</td>\n",
       "      <td>49749.432332</td>\n",
       "    </tr>\n",
       "    <tr>\n",
       "      <th>std</th>\n",
       "      <td>28723.321364</td>\n",
       "      <td>28723.319863</td>\n",
       "      <td>28723.320072</td>\n",
       "      <td>28723.320062</td>\n",
       "      <td>28723.321384</td>\n",
       "      <td>28723.320223</td>\n",
       "      <td>28723.319309</td>\n",
       "      <td>28723.322151</td>\n",
       "    </tr>\n",
       "    <tr>\n",
       "      <th>min</th>\n",
       "      <td>0.000000</td>\n",
       "      <td>0.000000</td>\n",
       "      <td>0.000000</td>\n",
       "      <td>0.000000</td>\n",
       "      <td>0.000000</td>\n",
       "      <td>0.000000</td>\n",
       "      <td>0.000000</td>\n",
       "      <td>0.000000</td>\n",
       "    </tr>\n",
       "    <tr>\n",
       "      <th>25%</th>\n",
       "      <td>24874.750000</td>\n",
       "      <td>24874.750000</td>\n",
       "      <td>24874.750000</td>\n",
       "      <td>24874.750000</td>\n",
       "      <td>24874.750000</td>\n",
       "      <td>24874.750000</td>\n",
       "      <td>24874.750000</td>\n",
       "      <td>24874.750000</td>\n",
       "    </tr>\n",
       "    <tr>\n",
       "      <th>50%</th>\n",
       "      <td>49749.500000</td>\n",
       "      <td>49749.000000</td>\n",
       "      <td>49749.500000</td>\n",
       "      <td>49749.000000</td>\n",
       "      <td>49749.000000</td>\n",
       "      <td>49749.500000</td>\n",
       "      <td>49749.000000</td>\n",
       "      <td>49749.500000</td>\n",
       "    </tr>\n",
       "    <tr>\n",
       "      <th>75%</th>\n",
       "      <td>74624.250000</td>\n",
       "      <td>74624.250000</td>\n",
       "      <td>74624.250000</td>\n",
       "      <td>74624.250000</td>\n",
       "      <td>74624.250000</td>\n",
       "      <td>74624.250000</td>\n",
       "      <td>74624.250000</td>\n",
       "      <td>74624.250000</td>\n",
       "    </tr>\n",
       "    <tr>\n",
       "      <th>max</th>\n",
       "      <td>99499.000000</td>\n",
       "      <td>99499.000000</td>\n",
       "      <td>99498.000000</td>\n",
       "      <td>99499.000000</td>\n",
       "      <td>99499.000000</td>\n",
       "      <td>99499.000000</td>\n",
       "      <td>99499.000000</td>\n",
       "      <td>99499.000000</td>\n",
       "    </tr>\n",
       "  </tbody>\n",
       "</table>\n",
       "</div>"
      ],
      "text/plain": [
       "         cplfw_rank  market1501_rank  dukemtmc_rank   msmt17_rank  \\\n",
       "count  99500.000000     99500.000000   99500.000000  99500.000000   \n",
       "mean   49749.419859     49749.430492   49749.430683  49749.425065   \n",
       "std    28723.321364     28723.319863   28723.320072  28723.320062   \n",
       "min        0.000000         0.000000       0.000000      0.000000   \n",
       "25%    24874.750000     24874.750000   24874.750000  24874.750000   \n",
       "50%    49749.500000     49749.000000   49749.500000  49749.000000   \n",
       "75%    74624.250000     74624.250000   74624.250000  74624.250000   \n",
       "max    99499.000000     99499.000000   99498.000000  99499.000000   \n",
       "\n",
       "          veri_rank  vehicleid_rank  veriwild_rank      sop_rank  \n",
       "count  99500.000000    99500.000000   99500.000000  99500.000000  \n",
       "mean   49749.427608    49749.425377   49749.431628  49749.432332  \n",
       "std    28723.321384    28723.320223   28723.319309  28723.322151  \n",
       "min        0.000000        0.000000       0.000000      0.000000  \n",
       "25%    24874.750000    24874.750000   24874.750000  24874.750000  \n",
       "50%    49749.000000    49749.500000   49749.000000  49749.500000  \n",
       "75%    74624.250000    74624.250000   74624.250000  74624.250000  \n",
       "max    99499.000000    99499.000000   99499.000000  99499.000000  "
      ]
     },
     "execution_count": 25,
     "metadata": {},
     "output_type": "execute_result"
    }
   ],
   "source": [
    "test_df[target_cols].describe()"
   ]
  },
  {
   "cell_type": "code",
   "execution_count": 26,
   "metadata": {},
   "outputs": [
    {
     "data": {
      "text/plain": [
       "cplfw_rank         90389\n",
       "market1501_rank    91825\n",
       "dukemtmc_rank      91813\n",
       "msmt17_rank        91106\n",
       "veri_rank          91430\n",
       "vehicleid_rank     91136\n",
       "veriwild_rank      91772\n",
       "sop_rank           91921\n",
       "dtype: int64"
      ]
     },
     "execution_count": 26,
     "metadata": {},
     "output_type": "execute_result"
    }
   ],
   "source": [
    "test_df[target_cols].nunique()"
   ]
  },
  {
   "cell_type": "code",
   "execution_count": 27,
   "metadata": {},
   "outputs": [
    {
     "data": {
      "text/plain": [
       "'lstm2y_catall_tanh_sig'"
      ]
     },
     "execution_count": 27,
     "metadata": {},
     "output_type": "execute_result"
    }
   ],
   "source": [
    "modelname"
   ]
  },
  {
   "cell_type": "code",
   "execution_count": 28,
   "metadata": {},
   "outputs": [],
   "source": [
    "# to_sub\n",
    "def to_sub(test_df, test_data, name='CVPR_2022_lgb_score'):\n",
    "    for i in tqdm(test_df[['id']+target_cols].values):\n",
    "        id_ = i[0]\n",
    "        for k,v in enumerate(target_cols):\n",
    "            k += 1\n",
    "            test_data[id_][v] = i[k]\n",
    "            \n",
    "    with open(f'./sub/{name}.json', 'w') as f:\n",
    "        json.dump(test_data, f)"
   ]
  },
  {
   "cell_type": "code",
   "execution_count": 29,
   "metadata": {},
   "outputs": [
    {
     "name": "stderr",
     "output_type": "stream",
     "text": [
      "C:\\Users\\45928\\AppData\\Local\\Continuum\\anaconda3\\lib\\site-packages\\ipykernel_launcher.py:3: TqdmDeprecationWarning: This function will be removed in tqdm==5.0.0\n",
      "Please use `tqdm.notebook.tqdm` instead of `tqdm.tqdm_notebook`\n",
      "  This is separate from the ipykernel package so we can avoid doing imports until\n"
     ]
    },
    {
     "data": {
      "application/vnd.jupyter.widget-view+json": {
       "model_id": "a6792686e3d74678ab3939405b309ced",
       "version_major": 2,
       "version_minor": 0
      },
      "text/plain": [
       "  0%|          | 0/99500 [00:00<?, ?it/s]"
      ]
     },
     "metadata": {},
     "output_type": "display_data"
    }
   ],
   "source": [
    "to_sub(test_df, test_data, name='CVPR_2022_lstm2y_catall_tanh_sig')"
   ]
  },
  {
   "cell_type": "code",
   "execution_count": null,
   "metadata": {},
   "outputs": [],
   "source": []
  },
  {
   "cell_type": "code",
   "execution_count": null,
   "metadata": {},
   "outputs": [],
   "source": []
  },
  {
   "cell_type": "code",
   "execution_count": null,
   "metadata": {},
   "outputs": [],
   "source": []
  },
  {
   "cell_type": "code",
   "execution_count": null,
   "metadata": {},
   "outputs": [],
   "source": []
  }
 ],
 "metadata": {
  "kernelspec": {
   "display_name": "Python 3",
   "language": "python",
   "name": "python3"
  },
  "language_info": {
   "codemirror_mode": {
    "name": "ipython",
    "version": 3
   },
   "file_extension": ".py",
   "mimetype": "text/x-python",
   "name": "python",
   "nbconvert_exporter": "python",
   "pygments_lexer": "ipython3",
   "version": "3.7.3"
  }
 },
 "nbformat": 4,
 "nbformat_minor": 4
}
