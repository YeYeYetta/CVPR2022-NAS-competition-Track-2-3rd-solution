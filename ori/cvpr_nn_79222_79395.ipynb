{
 "cells": [
  {
   "cell_type": "code",
   "execution_count": 1,
   "metadata": {},
   "outputs": [
    {
     "name": "stdout",
     "output_type": "stream",
     "text": [
      "{'cplfw_rank': 9, 'market1501_rank': 361, 'dukemtmc_rank': 426, 'msmt17_rank': 433, 'veri_rank': 327, 'vehicleid_rank': 480, 'veriwild_rank': 425, 'sop_rank': 367, 'arch': 'l231131331121121331111211121331321321'}\n",
      "train_num: 500\n"
     ]
    }
   ],
   "source": [
    "# 读取训练数据, 训练集包含500个模型结构，以及这些结构在cplfw，market1501，dukemtmc等8个任务上的性能排序\n",
    "import json\n",
    "with open('./data/CVPR_2022_NAS_Track2_train.json', 'r') as f:\n",
    "    train_data = json.load(f)\n",
    "print(train_data['arch1'])\n",
    "print('train_num:',len(train_data.keys()))"
   ]
  },
  {
   "cell_type": "code",
   "execution_count": 2,
   "metadata": {},
   "outputs": [],
   "source": [
    "import pandas as pd\n",
    "import numpy as np"
   ]
  },
  {
   "cell_type": "code",
   "execution_count": 3,
   "metadata": {},
   "outputs": [],
   "source": [
    "target_cols = ['cplfw_rank', 'market1501_rank', 'dukemtmc_rank', 'msmt17_rank', 'veri_rank', 'vehicleid_rank', 'veriwild_rank', 'sop_rank']"
   ]
  },
  {
   "cell_type": "code",
   "execution_count": 4,
   "metadata": {},
   "outputs": [],
   "source": [
    "def get_df(train_data):\n",
    "    ret = []\n",
    "    for k, v in train_data.items():\n",
    "        tmp = list(v['arch'])\n",
    "        tmp1 = []\n",
    "        for c in target_cols:\n",
    "            tmp1.append(v[c])\n",
    "        ret.append(tmp+tmp1+[k,v['arch']])\n",
    "    retf = pd.DataFrame(ret,columns=[f'col{_}' for _ in range(len(tmp))]+target_cols+['id','arch'])\n",
    "    retf['col0'] = retf['col0'].map({'l':1, 'j':2, 'k':3})\n",
    "    int_cols = [x for x in retf.columns if x not in ['id','arch']]\n",
    "    retf[int_cols] = retf[int_cols].astype(float)\n",
    "    return retf"
   ]
  },
  {
   "cell_type": "code",
   "execution_count": 5,
   "metadata": {},
   "outputs": [],
   "source": [
    "train_df = get_df(train_data)"
   ]
  },
  {
   "cell_type": "code",
   "execution_count": 6,
   "metadata": {},
   "outputs": [],
   "source": [
    "from scipy.special import erfinv \n",
    "\n",
    "for c in target_cols:\n",
    "    train_df[c+'_log1p'] = train_df[c].map(lambda x: np.log1p(x))\n",
    "    train_y=train_df[c]\n",
    "    mmin=np.min(train_y)+1\n",
    "    mmax=np.max(train_y)+1\n",
    "    train_y=np.sqrt(2) * erfinv(2 * (train_y+mmin)/(mmin+mmax)-1)\n",
    "    train_df[c+'_trans_y'] = train_y"
   ]
  },
  {
   "cell_type": "code",
   "execution_count": 7,
   "metadata": {},
   "outputs": [
    {
     "data": {
      "text/plain": [
       "Index(['col0', 'col1', 'col2', 'col3', 'col4', 'col5', 'col6', 'col7', 'col8',\n",
       "       'col9', 'col10', 'col11', 'col12', 'col13', 'col14', 'col15', 'col16',\n",
       "       'col17', 'col18', 'col19', 'col20', 'col21', 'col22', 'col23', 'col24',\n",
       "       'col25', 'col26', 'col27', 'col28', 'col29', 'col30', 'col31', 'col32',\n",
       "       'col33', 'col34', 'col35', 'col36', 'cplfw_rank', 'market1501_rank',\n",
       "       'dukemtmc_rank', 'msmt17_rank', 'veri_rank', 'vehicleid_rank',\n",
       "       'veriwild_rank', 'sop_rank', 'id', 'arch', 'cplfw_rank_log1p',\n",
       "       'cplfw_rank_trans_y', 'market1501_rank_log1p',\n",
       "       'market1501_rank_trans_y', 'dukemtmc_rank_log1p',\n",
       "       'dukemtmc_rank_trans_y', 'msmt17_rank_log1p', 'msmt17_rank_trans_y',\n",
       "       'veri_rank_log1p', 'veri_rank_trans_y', 'vehicleid_rank_log1p',\n",
       "       'vehicleid_rank_trans_y', 'veriwild_rank_log1p',\n",
       "       'veriwild_rank_trans_y', 'sop_rank_log1p', 'sop_rank_trans_y'],\n",
       "      dtype='object')"
      ]
     },
     "execution_count": 7,
     "metadata": {},
     "output_type": "execute_result"
    }
   ],
   "source": [
    "train_df.columns"
   ]
  },
  {
   "cell_type": "code",
   "execution_count": 8,
   "metadata": {},
   "outputs": [
    {
     "data": {
      "text/html": [
       "<div>\n",
       "<style scoped>\n",
       "    .dataframe tbody tr th:only-of-type {\n",
       "        vertical-align: middle;\n",
       "    }\n",
       "\n",
       "    .dataframe tbody tr th {\n",
       "        vertical-align: top;\n",
       "    }\n",
       "\n",
       "    .dataframe thead th {\n",
       "        text-align: right;\n",
       "    }\n",
       "</style>\n",
       "<table border=\"1\" class=\"dataframe\">\n",
       "  <thead>\n",
       "    <tr style=\"text-align: right;\">\n",
       "      <th></th>\n",
       "      <th>col0</th>\n",
       "      <th>col1</th>\n",
       "      <th>col2</th>\n",
       "      <th>col3</th>\n",
       "      <th>col4</th>\n",
       "      <th>col5</th>\n",
       "      <th>col6</th>\n",
       "      <th>col7</th>\n",
       "      <th>col8</th>\n",
       "      <th>col9</th>\n",
       "      <th>...</th>\n",
       "      <th>msmt17_rank_log1p</th>\n",
       "      <th>msmt17_rank_trans_y</th>\n",
       "      <th>veri_rank_log1p</th>\n",
       "      <th>veri_rank_trans_y</th>\n",
       "      <th>vehicleid_rank_log1p</th>\n",
       "      <th>vehicleid_rank_trans_y</th>\n",
       "      <th>veriwild_rank_log1p</th>\n",
       "      <th>veriwild_rank_trans_y</th>\n",
       "      <th>sop_rank_log1p</th>\n",
       "      <th>sop_rank_trans_y</th>\n",
       "    </tr>\n",
       "  </thead>\n",
       "  <tbody>\n",
       "    <tr>\n",
       "      <th>0</th>\n",
       "      <td>1.0</td>\n",
       "      <td>2.0</td>\n",
       "      <td>3.0</td>\n",
       "      <td>1.0</td>\n",
       "      <td>1.0</td>\n",
       "      <td>3.0</td>\n",
       "      <td>1.0</td>\n",
       "      <td>3.0</td>\n",
       "      <td>3.0</td>\n",
       "      <td>1.0</td>\n",
       "      <td>...</td>\n",
       "      <td>6.073045</td>\n",
       "      <td>1.108919</td>\n",
       "      <td>5.793014</td>\n",
       "      <td>0.398015</td>\n",
       "      <td>6.175867</td>\n",
       "      <td>1.751613</td>\n",
       "      <td>6.054439</td>\n",
       "      <td>1.037718</td>\n",
       "      <td>5.908083</td>\n",
       "      <td>0.626575</td>\n",
       "    </tr>\n",
       "    <tr>\n",
       "      <th>1</th>\n",
       "      <td>3.0</td>\n",
       "      <td>1.0</td>\n",
       "      <td>1.0</td>\n",
       "      <td>1.0</td>\n",
       "      <td>2.0</td>\n",
       "      <td>2.0</td>\n",
       "      <td>1.0</td>\n",
       "      <td>3.0</td>\n",
       "      <td>2.0</td>\n",
       "      <td>1.0</td>\n",
       "      <td>...</td>\n",
       "      <td>6.192362</td>\n",
       "      <td>1.978217</td>\n",
       "      <td>5.966147</td>\n",
       "      <td>0.766946</td>\n",
       "      <td>6.030685</td>\n",
       "      <td>0.955507</td>\n",
       "      <td>6.011267</td>\n",
       "      <td>0.894120</td>\n",
       "      <td>5.713733</td>\n",
       "      <td>0.265766</td>\n",
       "    </tr>\n",
       "    <tr>\n",
       "      <th>2</th>\n",
       "      <td>2.0</td>\n",
       "      <td>2.0</td>\n",
       "      <td>2.0</td>\n",
       "      <td>1.0</td>\n",
       "      <td>3.0</td>\n",
       "      <td>1.0</td>\n",
       "      <td>1.0</td>\n",
       "      <td>2.0</td>\n",
       "      <td>1.0</td>\n",
       "      <td>1.0</td>\n",
       "      <td>...</td>\n",
       "      <td>5.411646</td>\n",
       "      <td>-0.132977</td>\n",
       "      <td>4.990433</td>\n",
       "      <td>-0.543441</td>\n",
       "      <td>5.198497</td>\n",
       "      <td>-0.355046</td>\n",
       "      <td>4.615121</td>\n",
       "      <td>-0.835931</td>\n",
       "      <td>3.555348</td>\n",
       "      <td>-1.476832</td>\n",
       "    </tr>\n",
       "  </tbody>\n",
       "</table>\n",
       "<p>3 rows × 63 columns</p>\n",
       "</div>"
      ],
      "text/plain": [
       "   col0  col1  col2  col3  col4  col5  col6  col7  col8  col9  ...  \\\n",
       "0   1.0   2.0   3.0   1.0   1.0   3.0   1.0   3.0   3.0   1.0  ...   \n",
       "1   3.0   1.0   1.0   1.0   2.0   2.0   1.0   3.0   2.0   1.0  ...   \n",
       "2   2.0   2.0   2.0   1.0   3.0   1.0   1.0   2.0   1.0   1.0  ...   \n",
       "\n",
       "   msmt17_rank_log1p  msmt17_rank_trans_y  veri_rank_log1p  veri_rank_trans_y  \\\n",
       "0           6.073045             1.108919         5.793014           0.398015   \n",
       "1           6.192362             1.978217         5.966147           0.766946   \n",
       "2           5.411646            -0.132977         4.990433          -0.543441   \n",
       "\n",
       "   vehicleid_rank_log1p  vehicleid_rank_trans_y  veriwild_rank_log1p  \\\n",
       "0              6.175867                1.751613             6.054439   \n",
       "1              6.030685                0.955507             6.011267   \n",
       "2              5.198497               -0.355046             4.615121   \n",
       "\n",
       "   veriwild_rank_trans_y  sop_rank_log1p  sop_rank_trans_y  \n",
       "0               1.037718        5.908083          0.626575  \n",
       "1               0.894120        5.713733          0.265766  \n",
       "2              -0.835931        3.555348         -1.476832  \n",
       "\n",
       "[3 rows x 63 columns]"
      ]
     },
     "execution_count": 8,
     "metadata": {},
     "output_type": "execute_result"
    }
   ],
   "source": [
    "train_df.iloc[:3]"
   ]
  },
  {
   "cell_type": "code",
   "execution_count": 9,
   "metadata": {},
   "outputs": [],
   "source": [
    "def get_step(train_df):\n",
    "    res0 = []\n",
    "    res1 = []\n",
    "    res2 = []\n",
    "    res3 = []\n",
    "    res4 = []\n",
    "    map_={'l':1, 'j':2, 'k':3}\n",
    "    time_step=12\n",
    "    for item in train_df.arch:\n",
    "        ret = np.array(list(item[1:]),dtype=np.float32).reshape(-1,3)\n",
    "        res0.append(ret[:,0][:time_step])\n",
    "        res1.append(ret[:,1][:time_step])\n",
    "        res2.append(ret[:,2][:time_step])\n",
    "        res3.append(np.array([map_[item[0]]]*time_step))\n",
    "        res4.append([map_[item[0]]]+list(np.array(list(item[1:]),dtype=np.float32)))\n",
    "        \n",
    "    train_df['head'] = res0\n",
    "    train_df['mlp'] = res1\n",
    "    train_df['emb'] = res2\n",
    "    train_df['depth'] = res3\n",
    "    train_df['all_emb'] = res4"
   ]
  },
  {
   "cell_type": "code",
   "execution_count": 10,
   "metadata": {},
   "outputs": [],
   "source": [
    "#     retf['col0'] = retf['col0'].map({'j':10, 'k':11, 'l':12})\n",
    "#     retf[num_heads] = retf[num_heads].replace({1:12, 2:11, 3:10})\n",
    "#     retf[mlp_ratio] = retf[mlp_ratio].replace({1:4, 2:3.5, 3:3})\n",
    "#     retf[emb_dim] = retf[emb_dim].replace({1:768})"
   ]
  },
  {
   "cell_type": "code",
   "execution_count": 11,
   "metadata": {},
   "outputs": [],
   "source": [
    "def get_step(train_df):\n",
    "    res0 = []\n",
    "    res1 = []\n",
    "    res2 = []\n",
    "    res3 = []\n",
    "    res4 = []\n",
    "    map_={'l':1, 'j':2, 'k':3}\n",
    "    time_step=12\n",
    "    head_ = set([1+_*3 for _ in range(12)])\n",
    "    mlp_ = set([2+_*3 for _ in range(12)])\n",
    "    emb_ = set([3+_*3 for _ in range(12)])\n",
    "    depth_ = set([0])\n",
    "    for item in train_df.arch:\n",
    "        ret = np.array(list(item[1:]),dtype=np.float32).reshape(-1,3)\n",
    "        res0.append([1 if x in head_ else 0 for x in range(37)])\n",
    "        res1.append([1 if x in mlp_ else 0 for x in range(37)])\n",
    "        res2.append([1 if x in emb_ else 0 for x in range(37)])\n",
    "        res3.append([1 if x in depth_ else 0 for x in range(37)])\n",
    "        res4.append([map_[item[0]]]+list(np.array(list(item[1:]),dtype=np.float32)))\n",
    "        \n",
    "    train_df['head'] = res0\n",
    "    train_df['mlp'] = res1\n",
    "    train_df['emb'] = res2\n",
    "    train_df['depth'] = res3\n",
    "    train_df['all_emb'] = res4"
   ]
  },
  {
   "cell_type": "code",
   "execution_count": 12,
   "metadata": {},
   "outputs": [],
   "source": [
    "get_step(train_df)"
   ]
  },
  {
   "cell_type": "code",
   "execution_count": 13,
   "metadata": {},
   "outputs": [],
   "source": [
    "def get_step_0503(train_df):\n",
    "    res0 = []\n",
    "    res1 = []\n",
    "    res2 = []\n",
    "    res3 = []\n",
    "    res4 = []\n",
    "    map_={'l':1, 'j':2, 'k':3}\n",
    "    time_step=12\n",
    "    head_ = set([1+_*3 for _ in range(12)])\n",
    "    mlp_ = set([2+_*3 for _ in range(12)])\n",
    "    emb_ = set([3+_*3 for _ in range(12)])\n",
    "    depth_ = set([0])\n",
    "    for item in train_df.arch:\n",
    "        ret = np.array(list(item[1:]),dtype=np.float32).reshape(-1,3)\n",
    "        res0.append([int(item[x]) if x in head_ else 0 for x in range(37)])\n",
    "        res1.append([int(item[x]) if x in mlp_ else 0 for x in range(37)])\n",
    "        res2.append([int(item[x]) if x in emb_ else 0 for x in range(37)])\n",
    "        res3.append([map_[item[0]]]+[0]*36)\n",
    "        res4.append([map_[item[0]]]+list(np.array(list(item[1:]),dtype=np.float32)))\n",
    "        \n",
    "    train_df['head'] = res0\n",
    "    train_df['mlp'] = res1\n",
    "    train_df['emb'] = res2\n",
    "    train_df['depth'] = res3\n",
    "    train_df['all_emb'] = res4"
   ]
  },
  {
   "cell_type": "code",
   "execution_count": 14,
   "metadata": {},
   "outputs": [],
   "source": [
    "# get_step_0503(train_df)"
   ]
  },
  {
   "cell_type": "code",
   "execution_count": 15,
   "metadata": {},
   "outputs": [
    {
     "data": {
      "text/plain": [
       "37"
      ]
     },
     "execution_count": 15,
     "metadata": {},
     "output_type": "execute_result"
    }
   ],
   "source": [
    "len(train_df.all_emb.iloc[0])"
   ]
  },
  {
   "cell_type": "code",
   "execution_count": 16,
   "metadata": {},
   "outputs": [],
   "source": [
    "# for c in ['head','mlp']:\n",
    "#     train_df[c+'_diff1'] = train_df[c].map(lambda x: x - np.concatenate([np.array([0]),x[:-1]]))\n",
    "#     train_df[c+'_diff2'] = train_df[c].map(lambda x: x - np.concatenate([np.array([0,0]),x[:-2]]))"
   ]
  },
  {
   "cell_type": "code",
   "execution_count": 17,
   "metadata": {},
   "outputs": [],
   "source": [
    "from sklearn.model_selection import KFold\n",
    "from tqdm import tqdm_notebook as tqdm"
   ]
  },
  {
   "cell_type": "code",
   "execution_count": 18,
   "metadata": {},
   "outputs": [],
   "source": [
    "#定义数据\n",
    "import torch\n",
    "from torch.utils.data import Dataset\n",
    "\n",
    "class MyDataset(Dataset):\n",
    "    def __init__(self,df,use_cols,target_cols,show=0):\n",
    "        self.df = df\n",
    "        self.show = show\n",
    "        self.use_cols = use_cols\n",
    "        self.target_cols = target_cols\n",
    "\n",
    "        self.prepare_data()\n",
    "        \n",
    "    def __len__(self):\n",
    "        return self.df.shape[0]\n",
    "    \n",
    "    def prepare_data(self):\n",
    "        self.y = self.df[self.target_cols].values\n",
    "#         self.y = self.df[[x+'_trans_y' for x in self.target_cols]].values\n",
    "        self.y0 = self.df[[self.target_cols[0]]].values\n",
    "        self.y1 = self.df[[self.target_cols[1]]].values\n",
    "        self.y2 = self.df[[self.target_cols[2]]].values\n",
    "        self.y3 = self.df[[self.target_cols[3]]].values\n",
    "        self.y4 = self.df[[self.target_cols[4]]].values\n",
    "        self.y5 = self.df[[self.target_cols[5]]].values\n",
    "        self.y6 = self.df[[self.target_cols[6]]].values\n",
    "        self.y7 = self.df[[self.target_cols[7]]].values\n",
    "        \n",
    "#         self.inputs = self.df[use_cols].values\n",
    "        uc = ['all_emb']\n",
    "#         uc = ['head','mlp','emb']\n",
    "        tmp_dt = {}\n",
    "        for c in uc:\n",
    "            tmp_dt[c] = np.array(self.df[c].tolist())\n",
    "        self.inputs = np.concatenate([tmp_dt[c][:, None] for c in uc], 1).transpose(0, 2, 1)\n",
    "        #倒序\n",
    "#         b1 = a.copy()\n",
    "#         b1[:,:] = b1[:,::-1]\n",
    "        #横向重复\n",
    "#         c = a.copy()\n",
    "#         c = c.reshape(-1,1,37).repeat(37,1)\n",
    "#         self.inputs = np.concatenate([a, c], -1)\n",
    "\n",
    "        uc= ['all_emb','depth','head','mlp','emb']\n",
    "        tmp_dt = {}\n",
    "        for c in uc:\n",
    "            tmp_dt[c] = np.array(self.df[c].tolist())\n",
    "        self.inputs1= np.concatenate([tmp_dt[c][:, None] for c in uc], 1).transpose(0, 2, 1)\n",
    "        \n",
    "        \n",
    "        if self.show==1:\n",
    "            print('inputs_shape',self.inputs.shape)\n",
    "            print('inputs1_shape',self.inputs1.shape)\n",
    "            print('y_shape',self.y.shape)\n",
    "        \n",
    "    def __getitem__(self, idx):\n",
    "        data = {\n",
    "            \"input\": torch.tensor(self.inputs[idx], dtype=torch.float),\n",
    "            \"input1\": torch.tensor(self.inputs1[idx], dtype=torch.float),\n",
    "            \"y\": torch.tensor(self.y[idx], dtype=torch.float),\n",
    "#             \"y_trans\": torch.tensor(self.y[idx], dtype=torch.float),\n",
    "            \"y0\": torch.tensor(self.y0[idx], dtype=torch.float),\n",
    "            \"y1\": torch.tensor(self.y1[idx], dtype=torch.float),\n",
    "            \"y2\": torch.tensor(self.y2[idx], dtype=torch.float),\n",
    "            \"y3\": torch.tensor(self.y3[idx], dtype=torch.float),\n",
    "            \"y4\": torch.tensor(self.y4[idx], dtype=torch.float),\n",
    "            \"y5\": torch.tensor(self.y5[idx], dtype=torch.float),\n",
    "            \"y6\": torch.tensor(self.y6[idx], dtype=torch.float),\n",
    "            \"y7\": torch.tensor(self.y7[idx], dtype=torch.float),\n",
    "        }\n",
    "        \n",
    "        return data"
   ]
  },
  {
   "cell_type": "code",
   "execution_count": 19,
   "metadata": {},
   "outputs": [
    {
     "data": {
      "text/plain": [
       "Index(['col0', 'col1', 'col2', 'col3', 'col4', 'col5', 'col6', 'col7', 'col8',\n",
       "       'col9', 'col10', 'col11', 'col12', 'col13', 'col14', 'col15', 'col16',\n",
       "       'col17', 'col18', 'col19', 'col20', 'col21', 'col22', 'col23', 'col24',\n",
       "       'col25', 'col26', 'col27', 'col28', 'col29', 'col30', 'col31', 'col32',\n",
       "       'col33', 'col34', 'col35', 'col36', 'cplfw_rank', 'market1501_rank',\n",
       "       'dukemtmc_rank', 'msmt17_rank', 'veri_rank', 'vehicleid_rank',\n",
       "       'veriwild_rank', 'sop_rank', 'id', 'arch', 'cplfw_rank_log1p',\n",
       "       'cplfw_rank_trans_y', 'market1501_rank_log1p',\n",
       "       'market1501_rank_trans_y', 'dukemtmc_rank_log1p',\n",
       "       'dukemtmc_rank_trans_y', 'msmt17_rank_log1p', 'msmt17_rank_trans_y',\n",
       "       'veri_rank_log1p', 'veri_rank_trans_y', 'vehicleid_rank_log1p',\n",
       "       'vehicleid_rank_trans_y', 'veriwild_rank_log1p',\n",
       "       'veriwild_rank_trans_y', 'sop_rank_log1p', 'sop_rank_trans_y', 'head',\n",
       "       'mlp', 'emb', 'depth', 'all_emb'],\n",
       "      dtype='object')"
      ]
     },
     "execution_count": 19,
     "metadata": {},
     "output_type": "execute_result"
    }
   ],
   "source": [
    "train_df.columns"
   ]
  },
  {
   "cell_type": "code",
   "execution_count": 20,
   "metadata": {},
   "outputs": [],
   "source": [
    "train0 = train_df.sample(400, random_state=666).reset_index(drop=True)\n",
    "val0 = train_df[~train_df.id.isin(train0.id)].reset_index(drop=True)"
   ]
  },
  {
   "cell_type": "code",
   "execution_count": 21,
   "metadata": {},
   "outputs": [],
   "source": [
    "use_cols = [x for x in train_df.columns if 'col' in x]"
   ]
  },
  {
   "cell_type": "code",
   "execution_count": 22,
   "metadata": {},
   "outputs": [
    {
     "data": {
      "text/plain": [
       "37"
      ]
     },
     "execution_count": 22,
     "metadata": {},
     "output_type": "execute_result"
    }
   ],
   "source": [
    "len(use_cols)"
   ]
  },
  {
   "cell_type": "code",
   "execution_count": 23,
   "metadata": {},
   "outputs": [
    {
     "name": "stdout",
     "output_type": "stream",
     "text": [
      "inputs_shape (400, 37, 1)\n",
      "inputs1_shape (400, 37, 5)\n",
      "y_shape (400, 8)\n",
      "inputs_shape (100, 37, 1)\n",
      "inputs1_shape (100, 37, 5)\n",
      "y_shape (100, 8)\n"
     ]
    }
   ],
   "source": [
    "train_dataset = MyDataset(train0, use_cols, target_cols, 1)\n",
    "val_dataset = MyDataset(val0, use_cols, target_cols, 1)"
   ]
  },
  {
   "cell_type": "code",
   "execution_count": 24,
   "metadata": {},
   "outputs": [
    {
     "data": {
      "text/plain": [
       "tensor([[2.],\n",
       "        [3.],\n",
       "        [1.],\n",
       "        [1.],\n",
       "        [3.],\n",
       "        [2.],\n",
       "        [1.],\n",
       "        [3.],\n",
       "        [3.],\n",
       "        [1.],\n",
       "        [3.],\n",
       "        [1.],\n",
       "        [1.],\n",
       "        [1.],\n",
       "        [3.],\n",
       "        [1.],\n",
       "        [3.],\n",
       "        [1.],\n",
       "        [1.],\n",
       "        [2.],\n",
       "        [2.],\n",
       "        [1.],\n",
       "        [1.],\n",
       "        [2.],\n",
       "        [1.],\n",
       "        [2.],\n",
       "        [1.],\n",
       "        [1.],\n",
       "        [2.],\n",
       "        [2.],\n",
       "        [1.],\n",
       "        [0.],\n",
       "        [0.],\n",
       "        [0.],\n",
       "        [0.],\n",
       "        [0.],\n",
       "        [0.]])"
      ]
     },
     "execution_count": 24,
     "metadata": {},
     "output_type": "execute_result"
    }
   ],
   "source": [
    "train_dataset[0]['input']"
   ]
  },
  {
   "cell_type": "code",
   "execution_count": 25,
   "metadata": {},
   "outputs": [],
   "source": [
    "import gc\n",
    "import os\n",
    "import time\n",
    "import random\n",
    "import numpy as np\n",
    "import torch\n",
    "from torch import nn\n",
    "from torch.utils.data import DataLoader\n",
    "from transformers import get_linear_schedule_with_warmup\n",
    "\n",
    "\n",
    "def seed_everything(seed):\n",
    "    random.seed(seed)\n",
    "    os.environ[\"PYTHONHASHSEED\"] = str(seed)\n",
    "    np.random.seed(seed)\n",
    "    torch.manual_seed(seed)\n",
    "    torch.cuda.manual_seed(seed)\n",
    "    torch.backends.cudnn.deterministic = True\n",
    "    torch.backends.cudnn.benchmark = False\n",
    "    \n",
    "    \n",
    "def count_parameters(model, all=False):\n",
    "    if all:\n",
    "        return sum(p.numel() for p in model.parameters())\n",
    "    else:\n",
    "        return sum(p.numel() for p in model.parameters() if p.requires_grad)\n",
    "\n",
    "\n",
    "def save_model_weights(model, modelpath, filename):\n",
    "    torch.save(model.state_dict(), modelpath+filename)\n",
    "    return f\"\\n -> Save weights to {modelpath+filename}\\n\""
   ]
  },
  {
   "cell_type": "code",
   "execution_count": 26,
   "metadata": {},
   "outputs": [],
   "source": [
    "import scipy"
   ]
  },
  {
   "cell_type": "code",
   "execution_count": 27,
   "metadata": {},
   "outputs": [],
   "source": [
    "def compute_metric(pred, y):\n",
    "    corr = []\n",
    "    if pred.shape[1]>2:\n",
    "        for i in range(8):\n",
    "            corr.append(scipy.stats.stats.kendalltau(pred[:, i], y[:, i])[0])\n",
    "    else:\n",
    "        corr.append(scipy.stats.stats.kendalltau(pred, y)[0])\n",
    "    return np.array(corr)\n",
    "\n",
    "class CVPRLoss(nn.Module):\n",
    "    def __call__(self, pred, y):\n",
    "        pred_mean, y_mean = pred.mean(0), y.mean(0)\n",
    "        pred_std, y_std = pred.std(0), y.std(0)\n",
    "        corr = ((pred - pred_mean) * (y - y_mean)).sum(0) / ((((pred - pred_mean)**2).sum(0).sqrt()) * (((y - y_mean)**2).sum(0).sqrt())) \n",
    "    \n",
    "#         cos = nn.CosineSimilarity(dim=0, eps=1e-08)\n",
    "#         corr1 = cos(pred, y)\n",
    "#         corr2 = (corr+corr1)/2\n",
    "        return 1-corr\n",
    "\n",
    "from fast_soft_sort.pytorch_ops import soft_rank\n",
    "class CVPRLoss1(nn.Module):\n",
    "    #spearman\n",
    "    def __call__(self, pred, y):\n",
    "        pred = pred.cpu()\n",
    "        y = y.cpu()\n",
    "        return 1-torch.cat(\n",
    "            [self.spearman(y[:,i].reshape(1,-1), \n",
    "                           pred[:,i].reshape(1,-1)).reshape(1,1) for i in range(y.shape[1])]\n",
    "        ).reshape(1, -1)\n",
    "        \n",
    "    def corrcoef(self, target, pred):\n",
    "        # np.corrcoef in torch from @mdo\n",
    "        # https://forum.numer.ai/t/custom-loss-functions-for-xgboost-using-pytorch/960\n",
    "        pred_n = pred - pred.mean()\n",
    "        target_n = target - target.mean()\n",
    "        pred_n = pred_n / pred_n.norm()\n",
    "        target_n = target_n / target_n.norm()\n",
    "        return (pred_n * target_n).sum()\n",
    "\n",
    "\n",
    "    def spearman(self,\n",
    "        target,\n",
    "        pred,\n",
    "        regularization=\"l2\",\n",
    "        regularization_strength=0.01,\n",
    "    ):\n",
    "        # fast_soft_sort uses 1-based indexing, divide by len to compute percentage of rank\n",
    "        pred = soft_rank(\n",
    "            pred,\n",
    "            regularization=regularization,\n",
    "            regularization_strength=regularization_strength,\n",
    "        )\n",
    "    #     print(pred)\n",
    "        return self.corrcoef(target, pred / pred.shape[-1])\n",
    "     \n",
    "class CVPRLoss2(nn.Module):\n",
    "    #kendall soft rank+tanh\n",
    "    def __call__(self, pred, y):\n",
    "        pred = pred.cpu()\n",
    "        y = y.cpu()\n",
    "        return 1-torch.cat(\n",
    "            [self.get_score(y[:,i].reshape(1,-1), \n",
    "                           pred[:,i].reshape(1,-1)).reshape(1,-1) for i in range(y.shape[1])]\n",
    "        ).reshape(1, -1)\n",
    "        \n",
    "    def get_score(self, actuals, preds):\n",
    "        sa = actuals.argsort()[0]\n",
    "\n",
    "        tmp = soft_rank(\n",
    "            preds.index_select(1, sa),\n",
    "            regularization='l2',\n",
    "            regularization_strength=0.01,\n",
    "        )[0]-1\n",
    "        \n",
    "        tmp = tmp.cuda()\n",
    "\n",
    "        score = torch.cat([((tmp[i:]-tmp[i-1]) * 10).tanh() for i in range(1, tmp.shape[0])]).sum()\n",
    "        score1 = score/sum(list(range(1,len(tmp))))\n",
    "        return score1\n",
    "    \n",
    "class CVPRLoss_softrank(nn.Module):\n",
    "    #kendall soft rank+tanh\n",
    "    def __call__(self, pred, y):\n",
    "        pred = pred.cpu()\n",
    "        y = y.cpu()\n",
    "        return 1-torch.cat(\n",
    "            [self.get_score(y[:,i].reshape(1,-1), \n",
    "                           pred[:,i].reshape(1,-1)).reshape(1,-1) for i in range(y.shape[1])]\n",
    "        ).reshape(1, -1)\n",
    "        \n",
    "    def get_score(self, actuals, preds):\n",
    "        sa = actuals.argsort()[0]\n",
    "\n",
    "        tmp = soft_rank(\n",
    "            preds.index_select(1, sa),\n",
    "            regularization='l2',\n",
    "            regularization_strength=0.01,\n",
    "        )[0]-1\n",
    "        \n",
    "        tmp = tmp.cuda()\n",
    "\n",
    "        score = torch.cat([((tmp[i:]-tmp[i-1]) * 10).tanh() for i in range(1, tmp.shape[0])]).sum()\n",
    "        score1 = score/sum(list(range(1,len(tmp))))\n",
    "        return score1\n",
    "    \n",
    "class CVPRLoss_softsign(nn.Module):\n",
    "    #kendall softsign\n",
    "    def __call__(self, pred, y):\n",
    "        return 1-torch.cat(\n",
    "            [self.get_score(y[:,i].reshape(1,-1), \n",
    "                           pred[:,i].reshape(1,-1)).reshape(1,-1) for i in range(y.shape[1])]\n",
    "        ).reshape(1, -1)\n",
    "\n",
    "    \n",
    "    def get_score(self, actuals, preds):\n",
    "        sa = actuals.argsort()[0]\n",
    "        tmp = preds.index_select(1, sa.int())[0]\n",
    "        score = torch.cat([(tmp[i:]-tmp[i-1])/(0.01+torch.abs(tmp[i:]-tmp[i-1])) for i in range(1, tmp.shape[0])]).sum()\n",
    "        score1 = score/sum(list(range(1,len(tmp))))\n",
    "        return score1\n",
    "    \n",
    "class CVPRLoss_tanh(nn.Module):\n",
    "    # kendall tanh\n",
    "    def __call__(self, pred, y):\n",
    "        return 1-torch.cat(\n",
    "            [self.get_score(y[:,i].reshape(1,-1), \n",
    "                           pred[:,i].reshape(1,-1)).reshape(1,-1) for i in range(y.shape[1])]\n",
    "        ).reshape(1, -1)\n",
    "    \n",
    "    def get_score(self, actuals, preds):\n",
    "        sa = actuals.argsort()[0]\n",
    "        tmp = preds.index_select(1, sa.int())[0]\n",
    "        score = torch.cat([((tmp[i:]-tmp[i-1])).tanh() for i in range(1, tmp.shape[0])]).sum()\n",
    "        score1 = score/sum(list(range(1,len(tmp))))\n",
    "        return score1\n",
    "    \n",
    "    \n",
    "class CVPRLoss_pair(nn.Module):\n",
    "    def __call__(self, pred, y):\n",
    "        return torch.cat(\n",
    "            [self.pair_loss(pred[:,i], y[:,i]).reshape(1) for i in range(y.shape[1])]\n",
    "        ).reshape(1,-1)\n",
    "    \n",
    "    def pair_loss(self, outputs, labels):\n",
    "        output = outputs.unsqueeze(1)\n",
    "        output1 = output.repeat(1,outputs.shape[0])\n",
    "        label = labels.unsqueeze(1)\n",
    "        label1 = label.repeat(1,labels.shape[0])\n",
    "\n",
    "        tmp = (output1-output1.t())*torch.sign(label1-label1.t())\n",
    "        tmp = torch.log(1+torch.exp(-tmp))\n",
    "        eye_tmp = tmp*torch.eye(len(tmp)).cuda()\n",
    "        new_tmp = tmp - eye_tmp\n",
    "        loss = torch.sum(new_tmp)/(outputs.shape[0]*(outputs.shape[0]-1))\n",
    "\n",
    "        return loss"
   ]
  },
  {
   "cell_type": "code",
   "execution_count": 28,
   "metadata": {},
   "outputs": [],
   "source": [
    "def train(model, \n",
    "        train_dataset, \n",
    "        val_dataset, \n",
    "        verbose=20, \n",
    "        fold_=0,\n",
    "        modelname='MLP_base',\n",
    "        modelpath=r'./model'+'//',\n",
    "        input='input',\n",
    "        y='y',\n",
    "        early_stop_round=60,\n",
    "        debug=False):\n",
    "    \n",
    "    print(f'Model parameters count: {count_parameters(model)}')\n",
    "    #数据加载\n",
    "    train_loader = DataLoader(\n",
    "        train_dataset,\n",
    "        batch_size=BATCH_SIZE,\n",
    "        shuffle=False,\n",
    "        drop_last=True,\n",
    "        pin_memory=True\n",
    "    )\n",
    "    val_loader = DataLoader(\n",
    "        val_dataset,\n",
    "        batch_size=BATCH_SIZE_TEST,\n",
    "        shuffle=False,\n",
    "        drop_last=False,\n",
    "        pin_memory=True\n",
    "    )\n",
    "    print(f'train batch num: {len(train_loader)}')\n",
    "    print(f'val batch num: {len(val_loader)}')\n",
    "            \n",
    "    # Optimizer\n",
    "    optimizer = getattr(torch.optim, optim)(model.parameters(), lr=LR)\n",
    "    # Scheduler\n",
    "    num_warmup_steps = int(0.1 * EPOCHS * len(train_loader))\n",
    "    num_training_steps = int(EPOCHS * len(train_loader))\n",
    "    scheduler = get_linear_schedule_with_warmup(\n",
    "        optimizer, num_warmup_steps, num_training_steps\n",
    "    )\n",
    "    print(f'optim: {optim}, lr: {LR}, warmup_steps: {num_warmup_steps}')\n",
    "    \n",
    "    \n",
    "    #train\n",
    "    bst_epoch=0\n",
    "    score_best=0\n",
    "    first_epoch_eval=0\n",
    "    for epoch in range(EPOCHS):\n",
    "        if epoch > early_stop_round and (epoch - bst_epoch > early_stop_round):\n",
    "            print(f'early stopping.')\n",
    "            break\n",
    "            \n",
    "        model.train()\n",
    "        model.zero_grad()\n",
    "        start_time = time.time()\n",
    "\n",
    "        avg_loss = 0\n",
    "        for data in train_loader:\n",
    "            pred = model(data[input].to(device))\n",
    "#             print(pred.shape,data['y'].shape)\n",
    "\n",
    "            loss = loss_fct(\n",
    "                pred,\n",
    "                data[y].to(device)\n",
    "            ).mean()\n",
    "\n",
    "            loss.backward()\n",
    "            avg_loss += loss.item() / len(train_loader)\n",
    "\n",
    "            optimizer.step()\n",
    "            scheduler.step()\n",
    "\n",
    "            optimizer.zero_grad(set_to_none=True)\n",
    "\n",
    "        #VAL\n",
    "        model.eval()\n",
    "        mae, avg_val_loss = 0, 0\n",
    "        preds = []\n",
    "\n",
    "        with torch.no_grad():\n",
    "            for data in val_loader:\n",
    "                pred = model(data[input].to(device))\n",
    "\n",
    "                loss = loss_fct(\n",
    "                    pred,\n",
    "                    data[y].to(device)\n",
    "                ).mean()\n",
    "\n",
    "                avg_val_loss += loss.item() / len(val_loader)\n",
    "\n",
    "                preds.append(pred.detach().cpu().numpy())\n",
    "\n",
    "        preds = np.concatenate(preds, 0)\n",
    "        if y=='y':\n",
    "            mae = compute_metric(preds,val_dataset.df[target_cols].values).mean()\n",
    "        else:\n",
    "            mae = compute_metric(preds,val_dataset.df[[target_cols[int(y.replace('y',''))]]].values).mean()\n",
    "        \n",
    "        elapsed_time = time.time() - start_time\n",
    "        if (epoch + 1) % verbose == 0:\n",
    "            elapsed_time = elapsed_time * verbose\n",
    "            lr = scheduler.get_last_lr()[0]\n",
    "    #         lr=LR\n",
    "            print(\n",
    "                f\"Epoch {epoch + 1:02d}/{ EPOCHS:02d} \\t lr={lr:.1e}\\t t={elapsed_time:.0f}s \\t\"\n",
    "                f\"loss={avg_loss:.4f}\",\n",
    "                end=\"\\t\",\n",
    "            )\n",
    "\n",
    "            if (epoch + 1 >= first_epoch_eval) or (epoch + 1 == EPOCHS):\n",
    "                print(f\"val_loss={avg_val_loss:.4f}\\tcorr={mae:.4f}\")\n",
    "            else:\n",
    "                print(\"\")\n",
    "                \n",
    "        #保存最优模型\n",
    "        if mae>score_best:\n",
    "            bst = save_model_weights(model, modelpath, f'{modelname}_{fold_}.pt')\n",
    "            score_best = mae\n",
    "            bst_epoch = epoch\n",
    "            if y=='y':\n",
    "                bst_list = compute_metric(preds,val_dataset.df[target_cols].values)\n",
    "            else:\n",
    "                bst_list = compute_metric(preds,val_dataset.df[[target_cols[int(y.replace('y',''))]]].values).mean()\n",
    "            bst_preds = preds\n",
    "    print(f'best score {score_best}, best epoch: {bst_epoch}, {bst} ' )\n",
    "    print(bst_list,'\\n\\n')\n",
    "    del (val_loader, train_loader, loss, data, pred)\n",
    "    gc.collect()\n",
    "    torch.cuda.empty_cache()\n",
    "    \n",
    "    return bst_preds, bst_list\n"
   ]
  },
  {
   "cell_type": "code",
   "execution_count": 29,
   "metadata": {},
   "outputs": [],
   "source": [
    "class CVPRModel(nn.Module):\n",
    "    def __init__(\n",
    "        self,\n",
    "        input_dim=3,\n",
    "        num_classes=8,\n",
    "        time_step=12,\n",
    "        bi=True\n",
    "    ):\n",
    "        super(CVPRModel,self).__init__()\n",
    "        \n",
    "        self.bi_num = 2 if bi else 1\n",
    "        self.time_step = time_step\n",
    "        \n",
    "        self.MLP = nn.Sequential(\n",
    "            nn.Linear(input_dim, 128),\n",
    "            nn.ReLU(),\n",
    "            nn.Linear(128, 256),\n",
    "            nn.ReLU(),\n",
    "            nn.Linear(256, 256),\n",
    "            nn.ReLU(),\n",
    "        )\n",
    "        \n",
    "#         self.MLP = nn.Sequential(\n",
    "#             nn.Linear(time_step, 128),\n",
    "#             nn.ReLU(),\n",
    "#             nn.Linear(128, 256),\n",
    "#             nn.ReLU(),\n",
    "#             nn.Linear(256, 256)\n",
    "#         )\n",
    "\n",
    "        \n",
    "        self.LSTM0 = nn.LSTM(256, 256, \n",
    "                    batch_first=True, \n",
    "                    bidirectional=bi, \n",
    "                    num_layers=1,\n",
    "                    dropout=0)\n",
    "                                 \n",
    "        \n",
    "        self.LSTM1 = nn.LSTM(512, 256, \n",
    "                    batch_first=True, \n",
    "                    bidirectional=bi, \n",
    "                    num_layers=1,\n",
    "                    dropout=0\n",
    "                            )    \n",
    "\n",
    "#         self.LSTM2 = nn.LSTM(512, 256, \n",
    "#                     batch_first=True, \n",
    "#                     bidirectional=bi, \n",
    "#                     num_layers=1,\n",
    "#                     dropout=0)\n",
    "        \n",
    "        self.Logits = nn.Sequential(\n",
    "            nn.Flatten(start_dim=1),\n",
    "            nn.Linear((512+512+256+1)*self.time_step, 2048),\n",
    "            nn.ReLU(),\n",
    "            nn.Linear(2048, 1024),\n",
    "            nn.ReLU(),\n",
    "            nn.Linear(1024, 256),\n",
    "            nn.ReLU(),\n",
    "            nn.Linear(256, num_classes)\n",
    "        )\n",
    "        \n",
    "    def forward(self, x):\n",
    "        x1 = self.MLP(x)\n",
    "        x2, (h0, c0) = self.LSTM0(x1)\n",
    "        x3, (h1, c1) = self.LSTM1(x2, (h0, c0))\n",
    "#         x4, (h2, c2) = self.LSTM2(x3, (h1, c1))\n",
    "        c1 = torch.cat([x3, x2, x1, x], -1)\n",
    "        pred = self.Logits(c1)\n",
    "        return pred"
   ]
  },
  {
   "cell_type": "code",
   "execution_count": 30,
   "metadata": {},
   "outputs": [
    {
     "data": {
      "text/plain": [
       "18944"
      ]
     },
     "execution_count": 30,
     "metadata": {},
     "output_type": "execute_result"
    }
   ],
   "source": [
    "9472*2"
   ]
  },
  {
   "cell_type": "code",
   "execution_count": 31,
   "metadata": {},
   "outputs": [],
   "source": [
    "#参数设置\n",
    "seed = 666\n",
    "BATCH_SIZE = 400\n",
    "BATCH_SIZE_TEST = 128\n",
    "EPOCHS = 300\n",
    "LR = 0.001\n",
    "optim = \"Adam\"\n",
    "device = \"cuda\" if torch.cuda.is_available() else \"cpu\"\n",
    "modelpath = r'./model'+'//'"
   ]
  },
  {
   "cell_type": "code",
   "execution_count": 32,
   "metadata": {},
   "outputs": [
    {
     "data": {
      "text/plain": [
       "torch.Size([128, 8])"
      ]
     },
     "execution_count": 32,
     "metadata": {},
     "output_type": "execute_result"
    }
   ],
   "source": [
    "a = torch.rand(128,37,1).to(device)\n",
    "net = CVPRModel(input_dim=1,\n",
    "                num_classes=len(target_cols),\n",
    "                bi=True,\n",
    "                time_step=37\n",
    "               ).to(device)\n",
    "b = net(a)\n",
    "b.shape"
   ]
  },
  {
   "cell_type": "code",
   "execution_count": 33,
   "metadata": {},
   "outputs": [
    {
     "data": {
      "text/plain": [
       "torch.Size([8])"
      ]
     },
     "execution_count": 33,
     "metadata": {},
     "output_type": "execute_result"
    }
   ],
   "source": [
    "b[0].shape"
   ]
  },
  {
   "cell_type": "code",
   "execution_count": 34,
   "metadata": {},
   "outputs": [
    {
     "data": {
      "text/plain": [
       "torch.Size([128, 8])"
      ]
     },
     "execution_count": 34,
     "metadata": {},
     "output_type": "execute_result"
    }
   ],
   "source": [
    "b.flatten(1).shape"
   ]
  },
  {
   "cell_type": "code",
   "execution_count": 35,
   "metadata": {},
   "outputs": [],
   "source": [
    "del a,b,net;\n",
    "gc.collect()\n",
    "torch.cuda.empty_cache()"
   ]
  },
  {
   "cell_type": "code",
   "execution_count": null,
   "metadata": {},
   "outputs": [],
   "source": []
  },
  {
   "cell_type": "code",
   "execution_count": 36,
   "metadata": {},
   "outputs": [],
   "source": [
    "#loss\n",
    "# loss_fct = CVPRLoss()\n",
    "# loss_fct=nn.MultiMarginLoss()\n",
    "# loss_fct=nn.MSELoss()\n",
    "# loss_fct = CVPRLoss2()"
   ]
  },
  {
   "cell_type": "code",
   "execution_count": 37,
   "metadata": {},
   "outputs": [
    {
     "data": {
      "text/plain": [
       "tensor([[457., 222., 393., 315., 313., 246., 336., 203.],\n",
       "        [208., 443., 416., 464., 298., 364., 447., 478.],\n",
       "        [ 56.,  86., 286., 229., 154., 437., 174., 125.]])"
      ]
     },
     "execution_count": 37,
     "metadata": {},
     "output_type": "execute_result"
    }
   ],
   "source": [
    "train_dataset[:3]['y']"
   ]
  },
  {
   "cell_type": "code",
   "execution_count": 48,
   "metadata": {},
   "outputs": [],
   "source": [
    "class CVPRLoss_tanh(nn.Module):\n",
    "    # kendall tanh\n",
    "    def __call__(self, pred, y):\n",
    "        return torch.cat(\n",
    "            [0.1*self.get_score(y[:,i].reshape(1,-1),pred[:,i].reshape(1,-1)).reshape(1,-1) if i!=4 \\\n",
    "                 else self.get_score(y[:,i].reshape(1,-1),pred[:,i].reshape(1,-1)).reshape(1,-1) for i in range(pred.shape[1])]\n",
    "        ).reshape(1, -1)\n",
    "\n",
    "    def get_score(self, actuals, preds):\n",
    "        sa = actuals.argsort()[0]\n",
    "        tmp = preds.index_select(1, sa.int())[0]\n",
    "        score = torch.cat([((tmp[i:]-tmp[i-1])*1).tanh() for i in range(1, tmp.shape[0])]).sum()\n",
    "        score1 = score/sum(list(range(1,len(tmp))))\n",
    "        return 1-score1\n",
    "    \n",
    "def compute_metric(pred, y):\n",
    "    corr = []\n",
    "    if pred.shape[1]>2:\n",
    "#         for i in range(8):\n",
    "        for i in range(8):\n",
    "            corr.append(scipy.stats.stats.kendalltau(pred[:, i], y[:, i])[0])\n",
    "    else:\n",
    "        corr.append(scipy.stats.stats.kendalltau(pred, y)[0])\n",
    "    return np.array(corr)"
   ]
  },
  {
   "cell_type": "code",
   "execution_count": 39,
   "metadata": {},
   "outputs": [
    {
     "name": "stdout",
     "output_type": "stream",
     "text": [
      "Model parameters count: 102162440\n",
      "train batch num: 1\n",
      "val batch num: 1\n",
      "optim: Adam, lr: 0.001, warmup_steps: 30\n",
      "Epoch 20/300 \t lr=6.7e-04\t t=8s \tloss=0.4255\tval_loss=0.4342\tcorr=0.5669\n",
      "Epoch 40/300 \t lr=9.6e-04\t t=2s \tloss=0.2815\tval_loss=0.3050\tcorr=0.7079\n",
      "Epoch 60/300 \t lr=8.9e-04\t t=2s \tloss=0.2007\tval_loss=0.2241\tcorr=0.8776\n",
      "Epoch 80/300 \t lr=8.1e-04\t t=1s \tloss=0.1900\tval_loss=0.2180\tcorr=0.8780\n",
      "Epoch 100/300 \t lr=7.4e-04\t t=1s \tloss=0.1800\tval_loss=0.2195\tcorr=0.8780\n",
      "Epoch 120/300 \t lr=6.7e-04\t t=1s \tloss=0.1639\tval_loss=0.2360\tcorr=0.8788\n",
      "Epoch 140/300 \t lr=5.9e-04\t t=2s \tloss=0.1473\tval_loss=0.2675\tcorr=0.8840\n",
      "Epoch 160/300 \t lr=5.2e-04\t t=1s \tloss=0.1156\tval_loss=0.3026\tcorr=0.8832\n",
      "Epoch 180/300 \t lr=4.4e-04\t t=1s \tloss=0.0910\tval_loss=0.3675\tcorr=0.8885\n",
      "Epoch 200/300 \t lr=3.7e-04\t t=1s \tloss=0.0671\tval_loss=0.4950\tcorr=0.8820\n",
      "Epoch 220/300 \t lr=3.0e-04\t t=1s \tloss=0.0454\tval_loss=0.6503\tcorr=0.8844\n",
      "Epoch 240/300 \t lr=2.2e-04\t t=1s \tloss=0.0329\tval_loss=0.7982\tcorr=0.8889\n",
      "early stopping.\n",
      "best score 0.8917171717171719, best epoch: 180, \n",
      " -> Save weights to ./model//LSTM1_step37_base1_test__t.pt\n",
      " \n",
      "[0.89171717] \n",
      "\n",
      "\n"
     ]
    }
   ],
   "source": [
    "#参数设置\n",
    "seed = 666\n",
    "BATCH_SIZE = 400\n",
    "BATCH_SIZE_TEST = 128\n",
    "EPOCHS = 300\n",
    "LR = 0.001\n",
    "optim = \"Adam\"\n",
    "device = \"cuda\" if torch.cuda.is_available() else \"cpu\"\n",
    "modelpath = r'./model'+'//'\n",
    "\n",
    "# loss_fct = CVPRLoss_tanh()\n",
    "loss_fct = CVPRLoss_pair()\n",
    "index = '_t'\n",
    "seed_everything(seed)\n",
    "modelname = 'LSTM1_step37_base1_test'\n",
    "model = CVPRModel(input_dim=1,\n",
    "                num_classes=8,\n",
    "                bi=True,\n",
    "                time_step=37\n",
    "               ).to(device)\n",
    "preds,_ = train(model, \n",
    "            train_dataset, \n",
    "            val_dataset, \n",
    "            verbose=20, \n",
    "            fold_=index,\n",
    "            modelname=modelname,\n",
    "            modelpath=modelpath,\n",
    "            input='input',\n",
    "            y='y',\n",
    "            debug=False\n",
    "             )"
   ]
  },
  {
   "cell_type": "code",
   "execution_count": 40,
   "metadata": {},
   "outputs": [],
   "source": [
    "# [0.25979798 0.84808081 0.91191919 0.9620202  0.90585859 0.68767677 0.93171717 0.78585859] "
   ]
  },
  {
   "cell_type": "code",
   "execution_count": 41,
   "metadata": {},
   "outputs": [],
   "source": [
    "# 0.7689898989898991 [0.27191919 0.85818182 0.88080808 0.93616162 0.85575758 0.6759596 0.86949495 0.80363636] "
   ]
  },
  {
   "cell_type": "code",
   "execution_count": 42,
   "metadata": {},
   "outputs": [],
   "source": [
    "# 2层自带lstm 0.7911616161616162 \n",
    "# 1层的输出作为2层的h和c 0.7920707070707071\n",
    "# 2层手写，不初始化 0.7911616161616162 \n",
    "# 3层手写，输出作为输入 0.7911111111111113 \n",
    "# 2自带*2自带，输出作为输入 0.7875757575757577 \n",
    "# 1层输出作为2层输入，最后2层输出cat 0.7894444444444446\n",
    "# 1层输出作为2层输入，最后2层输出相乘 0.7885858585858587\n",
    "# 1层的输出作为2层的h和c,加一层gru cat 0.7894949494949497 \n",
    "# 1层的输出作为2层的h和c,加一层gru*1层输出 cat 0.7886868686868689\n",
    "# 1层的输出作为2层的h和c,加2层gru cat 0.7913131313131314 \n",
    "# 1层的输出作为2层的h和c,加2层gru*1层输出 cat2层输出 0.7915151515151516 \n",
    "# 1层的输出作为2层的h和c，2层的输出transformer然后乘以2层的输出，0.7899494949494951\n",
    "# 1层的输出作为2层的h和c,Tanh 0.7893939393939395 \n",
    "# 1层的输出作为2层的h和c,relu 0.7862121212121214 \n",
    "# 1层的输出作为2层的h和c,fc出去，0.7872222222222224 "
   ]
  },
  {
   "cell_type": "code",
   "execution_count": 43,
   "metadata": {
    "tags": []
   },
   "outputs": [],
   "source": [
    "# index = '_t'\n",
    "# modelname = 'LSTM1_step37_base1_test'\n",
    "# scoref = []\n",
    "# for i in range(8):\n",
    "#     seed_everything(seed)\n",
    "#     model = CVPRModel(input_dim=1,\n",
    "#                     num_classes=1,\n",
    "#                     bi=True,\n",
    "#                     time_step=37\n",
    "#                    ).to(device)\n",
    "#     preds,_ = train(model, \n",
    "#                 train_dataset, \n",
    "#                 val_dataset, \n",
    "#                 verbose=20, \n",
    "#                 fold_=index,\n",
    "#                 modelname=modelname,\n",
    "#                 modelpath=modelpath,\n",
    "#                 input='input',\n",
    "#                 y=f'y{i}',\n",
    "#                 debug=False\n",
    "#                  )\n",
    "#     scoref.append(_)\n",
    "# np.mean(scoref)"
   ]
  },
  {
   "cell_type": "code",
   "execution_count": 44,
   "metadata": {},
   "outputs": [],
   "source": [
    "# [0.33171717 0.86222222 0.88888889 0.94222222 0.8630303  0.66909091 0.9030303  0.79757576]"
   ]
  },
  {
   "cell_type": "code",
   "execution_count": null,
   "metadata": {},
   "outputs": [],
   "source": []
  },
  {
   "cell_type": "code",
   "execution_count": 55,
   "metadata": {},
   "outputs": [],
   "source": [
    "# a = torch.arange(-50,50,0.1)\n",
    "# b = a.tanh()\n",
    "# df = pd.DataFrame()\n",
    "# df['a'] = a.detach().numpy()\n",
    "# df['b'] = a.tanh()\n",
    "# df['b0'] = (a*2).tanh()\n",
    "# df['b1'] = (a*0.1).tanh()\n",
    "# df.plot(x='a',y=['b','b0','b1'])"
   ]
  },
  {
   "cell_type": "code",
   "execution_count": 60,
   "metadata": {},
   "outputs": [],
   "source": [
    "def train_sig(model, \n",
    "        train_dataset, \n",
    "        val_dataset, \n",
    "        verbose=20, \n",
    "        fold_=0,\n",
    "        modelname='MLP_base',\n",
    "        modelpath=r'./model'+'//',\n",
    "        input='input',\n",
    "        y='y',\n",
    "        early_stop_round=60,\n",
    "        debug=False):\n",
    "    \n",
    "    print(f'Model parameters count: {count_parameters(model)}')\n",
    "    #数据加载\n",
    "    train_loader = DataLoader(\n",
    "        train_dataset,\n",
    "        batch_size=BATCH_SIZE,\n",
    "        shuffle=False,\n",
    "        drop_last=True,\n",
    "        pin_memory=True\n",
    "    )\n",
    "    val_loader = DataLoader(\n",
    "        val_dataset,\n",
    "        batch_size=BATCH_SIZE_TEST,\n",
    "        shuffle=False,\n",
    "        drop_last=False,\n",
    "        pin_memory=True\n",
    "    )\n",
    "    print(f'train batch num: {len(train_loader)}')\n",
    "    print(f'val batch num: {len(val_loader)}')\n",
    "            \n",
    "    # Optimizer\n",
    "    optimizer = getattr(torch.optim, optim)(model.parameters(), lr=LR)\n",
    "    # Scheduler\n",
    "    num_warmup_steps = int(0.1 * EPOCHS * len(train_loader))\n",
    "    num_training_steps = int(EPOCHS * len(train_loader))\n",
    "    scheduler = get_linear_schedule_with_warmup(\n",
    "        optimizer, num_warmup_steps, num_training_steps\n",
    "    )\n",
    "    print(f'optim: {optim}, lr: {LR}, warmup_steps: {num_warmup_steps}')\n",
    "    \n",
    "    \n",
    "    #train\n",
    "    bst_epoch={_:0 for _ in range(8)}\n",
    "    score_best={_:0 for _ in range(8)}\n",
    "    first_epoch_eval=0\n",
    "    for epoch in range(EPOCHS):\n",
    "        \n",
    "        model.train()\n",
    "        model.zero_grad()\n",
    "        start_time = time.time()\n",
    "\n",
    "        avg_loss = 0\n",
    "        for data in train_loader:\n",
    "            pred = model(data[input].to(device))\n",
    "#             print(pred.shape,data['y'].shape)\n",
    "\n",
    "            loss = loss_fct(\n",
    "                pred,\n",
    "                data[y].to(device)\n",
    "            ).mean()\n",
    "\n",
    "            loss.backward()\n",
    "            avg_loss += loss.item() / len(train_loader)\n",
    "\n",
    "            optimizer.step()\n",
    "            scheduler.step()\n",
    "\n",
    "            optimizer.zero_grad(set_to_none=True)\n",
    "\n",
    "        #VAL\n",
    "        model.eval()\n",
    "        mae, avg_val_loss = 0, 0\n",
    "        preds = []\n",
    "\n",
    "        with torch.no_grad():\n",
    "            for data in val_loader:\n",
    "                pred = model(data[input].to(device))\n",
    "\n",
    "                loss = loss_fct(\n",
    "                    pred,\n",
    "                    data[y].to(device)\n",
    "                ).mean()\n",
    "\n",
    "                avg_val_loss += loss.item() / len(val_loader)\n",
    "\n",
    "                preds.append(pred.detach().cpu().numpy())\n",
    "\n",
    "        preds = np.concatenate(preds, 0)\n",
    "        if y=='y':\n",
    "            mae = compute_metric(preds,val_dataset.df[target_cols].values).mean()\n",
    "        else:\n",
    "            mae = compute_metric(preds,val_dataset.df[[target_cols[int(y.replace('y',''))]]].values).mean()\n",
    "        \n",
    "        elapsed_time = time.time() - start_time\n",
    "        if (epoch + 1) % verbose == 0:\n",
    "            elapsed_time = elapsed_time * verbose\n",
    "            lr = scheduler.get_last_lr()[0]\n",
    "    #         lr=LR\n",
    "            print(\n",
    "                f\"Epoch {epoch + 1:02d}/{ EPOCHS:02d} \\t lr={lr:.1e}\\t t={elapsed_time:.0f}s \\t\"\n",
    "                f\"loss={avg_loss:.4f}\",\n",
    "                end=\"\\t\",\n",
    "            )\n",
    "\n",
    "            if (epoch + 1 >= first_epoch_eval) or (epoch + 1 == EPOCHS):\n",
    "                print(f\"val_loss={avg_val_loss:.4f}\\tcorr={mae:.4f}\")\n",
    "            else:\n",
    "                print(\"\")\n",
    "                \n",
    "        #保存最优模型\n",
    "        score1 = compute_metric(preds,val_dataset.df[target_cols].values)\n",
    "        for i in range(8):\n",
    "            if score1[i] > score_best[i]:\n",
    "                bst = save_model_weights(model, modelpath, f'{modelname}_target{i}_{fold_}.pt')\n",
    "                score_best[i] = score1[i]\n",
    "                bst_epoch[i] = epoch\n",
    "#                 print(f'target{i} best score {score_best[i]}, best epoch: {bst_epoch[i]}, {bst} ' )\n",
    "                \n",
    "        bst_list = [score_best[i] for i in range(8)]\n",
    "    print(bst_list,'\\n\\n')\n",
    "    del (val_loader, train_loader, loss, data, pred)\n",
    "    gc.collect()\n",
    "    torch.cuda.empty_cache()\n",
    "    \n",
    "    return bst_list\n"
   ]
  },
  {
   "cell_type": "code",
   "execution_count": 61,
   "metadata": {
    "tags": []
   },
   "outputs": [
    {
     "name": "stdout",
     "output_type": "stream",
     "text": [
      "FOLD 0\n",
      "train size: 400, val size: 100\n",
      "Model parameters count: 102162440\n",
      "train batch num: 1\n",
      "val batch num: 1\n",
      "optim: Adam, lr: 0.001, warmup_steps: 30\n",
      "Epoch 10/300 \t lr=3.3e-04\t t=1s \tloss=0.6578\tval_loss=0.6490\tcorr=0.3370\n",
      "Epoch 20/300 \t lr=6.7e-04\t t=3s \tloss=0.4211\tval_loss=0.4428\tcorr=0.5451\n",
      "Epoch 30/300 \t lr=1.0e-03\t t=3s \tloss=0.3339\tval_loss=0.3501\tcorr=0.6557\n",
      "Epoch 40/300 \t lr=9.6e-04\t t=1s \tloss=0.2827\tval_loss=0.3048\tcorr=0.7022\n",
      "Epoch 50/300 \t lr=9.3e-04\t t=2s \tloss=0.2271\tval_loss=0.2449\tcorr=0.7660\n",
      "Epoch 60/300 \t lr=8.9e-04\t t=3s \tloss=0.2102\tval_loss=0.2255\tcorr=0.7820\n",
      "Epoch 70/300 \t lr=8.5e-04\t t=4s \tloss=0.1947\tval_loss=0.2205\tcorr=0.7887\n",
      "Epoch 80/300 \t lr=8.1e-04\t t=1s \tloss=0.1902\tval_loss=0.2197\tcorr=0.7870\n",
      "Epoch 90/300 \t lr=7.8e-04\t t=1s \tloss=0.1855\tval_loss=0.2199\tcorr=0.7882\n",
      "Epoch 100/300 \t lr=7.4e-04\t t=1s \tloss=0.1802\tval_loss=0.2218\tcorr=0.7885\n",
      "Epoch 110/300 \t lr=7.0e-04\t t=1s \tloss=0.1737\tval_loss=0.2310\tcorr=0.7829\n",
      "Epoch 120/300 \t lr=6.7e-04\t t=1s \tloss=0.1689\tval_loss=0.2406\tcorr=0.7757\n",
      "Epoch 130/300 \t lr=6.3e-04\t t=1s \tloss=0.1572\tval_loss=0.2455\tcorr=0.7776\n",
      "Epoch 140/300 \t lr=5.9e-04\t t=1s \tloss=0.1472\tval_loss=0.2648\tcorr=0.7739\n",
      "Epoch 150/300 \t lr=5.6e-04\t t=1s \tloss=0.1331\tval_loss=0.2932\tcorr=0.7649\n",
      "Epoch 160/300 \t lr=5.2e-04\t t=1s \tloss=0.1210\tval_loss=0.3203\tcorr=0.7654\n",
      "Epoch 170/300 \t lr=4.8e-04\t t=1s \tloss=0.1154\tval_loss=0.3739\tcorr=0.7568\n",
      "Epoch 180/300 \t lr=4.4e-04\t t=1s \tloss=0.0925\tval_loss=0.4108\tcorr=0.7598\n",
      "Epoch 190/300 \t lr=4.1e-04\t t=1s \tloss=0.0809\tval_loss=0.4639\tcorr=0.7606\n",
      "Epoch 200/300 \t lr=3.7e-04\t t=1s \tloss=0.0685\tval_loss=0.5255\tcorr=0.7599\n",
      "Epoch 210/300 \t lr=3.3e-04\t t=1s \tloss=0.0571\tval_loss=0.6052\tcorr=0.7573\n",
      "Epoch 220/300 \t lr=3.0e-04\t t=1s \tloss=0.0494\tval_loss=0.6725\tcorr=0.7586\n",
      "Epoch 230/300 \t lr=2.6e-04\t t=1s \tloss=0.0406\tval_loss=0.7472\tcorr=0.7587\n",
      "Epoch 240/300 \t lr=2.2e-04\t t=1s \tloss=0.0348\tval_loss=0.8223\tcorr=0.7586\n",
      "Epoch 250/300 \t lr=1.9e-04\t t=1s \tloss=0.0295\tval_loss=0.8946\tcorr=0.7585\n",
      "Epoch 260/300 \t lr=1.5e-04\t t=1s \tloss=0.0260\tval_loss=0.9631\tcorr=0.7580\n",
      "Epoch 270/300 \t lr=1.1e-04\t t=1s \tloss=0.0234\tval_loss=1.0158\tcorr=0.7584\n",
      "Epoch 280/300 \t lr=7.4e-05\t t=1s \tloss=0.0217\tval_loss=1.0547\tcorr=0.7585\n",
      "Epoch 290/300 \t lr=3.7e-05\t t=1s \tloss=0.0208\tval_loss=1.0794\tcorr=0.7584\n",
      "Epoch 300/300 \t lr=0.0e+00\t t=1s \tloss=0.0204\tval_loss=1.0882\tcorr=0.7582\n",
      "[0.31232323232323234, 0.9046464646464647, 0.9006060606060607, 0.9571717171717172, 0.8852525252525254, 0.6836363636363638, 0.9272727272727275, 0.8165656565656567] \n",
      "\n",
      "\n",
      "FOLD 1\n",
      "train size: 400, val size: 100\n",
      "Model parameters count: 102162440\n",
      "train batch num: 1\n",
      "val batch num: 1\n",
      "optim: Adam, lr: 0.001, warmup_steps: 30\n",
      "Epoch 10/300 \t lr=3.3e-04\t t=3s \tloss=0.6620\tval_loss=0.6420\tcorr=0.4625\n",
      "Epoch 20/300 \t lr=6.7e-04\t t=3s \tloss=0.4201\tval_loss=0.4312\tcorr=0.5759\n",
      "Epoch 30/300 \t lr=1.0e-03\t t=2s \tloss=0.3378\tval_loss=0.3738\tcorr=0.6291\n",
      "Epoch 40/300 \t lr=9.6e-04\t t=4s \tloss=0.2811\tval_loss=0.3216\tcorr=0.6860\n",
      "Epoch 50/300 \t lr=9.3e-04\t t=2s \tloss=0.2277\tval_loss=0.2588\tcorr=0.7424\n",
      "Epoch 60/300 \t lr=8.9e-04\t t=4s \tloss=0.2075\tval_loss=0.2541\tcorr=0.7575\n",
      "Epoch 70/300 \t lr=8.5e-04\t t=1s \tloss=0.1934\tval_loss=0.2314\tcorr=0.7748\n",
      "Epoch 80/300 \t lr=8.1e-04\t t=1s \tloss=0.1872\tval_loss=0.2305\tcorr=0.7753\n",
      "Epoch 90/300 \t lr=7.8e-04\t t=1s \tloss=0.1823\tval_loss=0.2287\tcorr=0.7778\n",
      "Epoch 100/300 \t lr=7.4e-04\t t=1s \tloss=0.1768\tval_loss=0.2336\tcorr=0.7751\n",
      "Epoch 110/300 \t lr=7.0e-04\t t=1s \tloss=0.1701\tval_loss=0.2405\tcorr=0.7716\n",
      "Epoch 120/300 \t lr=6.7e-04\t t=1s \tloss=0.1626\tval_loss=0.2478\tcorr=0.7716\n",
      "Epoch 130/300 \t lr=6.3e-04\t t=1s \tloss=0.1530\tval_loss=0.2525\tcorr=0.7723\n",
      "Epoch 140/300 \t lr=5.9e-04\t t=1s \tloss=0.1457\tval_loss=0.2661\tcorr=0.7728\n",
      "Epoch 150/300 \t lr=5.6e-04\t t=1s \tloss=0.1327\tval_loss=0.2842\tcorr=0.7726\n",
      "Epoch 160/300 \t lr=5.2e-04\t t=1s \tloss=0.1249\tval_loss=0.3172\tcorr=0.7663\n",
      "Epoch 170/300 \t lr=4.8e-04\t t=1s \tloss=0.1106\tval_loss=0.3402\tcorr=0.7678\n",
      "Epoch 180/300 \t lr=4.4e-04\t t=1s \tloss=0.1056\tval_loss=0.3814\tcorr=0.7608\n",
      "Epoch 190/300 \t lr=4.1e-04\t t=1s \tloss=0.0866\tval_loss=0.4209\tcorr=0.7583\n",
      "Epoch 200/300 \t lr=3.7e-04\t t=1s \tloss=0.0727\tval_loss=0.4834\tcorr=0.7547\n",
      "Epoch 210/300 \t lr=3.3e-04\t t=1s \tloss=0.0670\tval_loss=0.5657\tcorr=0.7493\n",
      "Epoch 220/300 \t lr=3.0e-04\t t=1s \tloss=0.0543\tval_loss=0.6025\tcorr=0.7516\n",
      "Epoch 230/300 \t lr=2.6e-04\t t=1s \tloss=0.0470\tval_loss=0.6673\tcorr=0.7512\n",
      "Epoch 240/300 \t lr=2.2e-04\t t=1s \tloss=0.0407\tval_loss=0.7390\tcorr=0.7498\n",
      "Epoch 250/300 \t lr=1.9e-04\t t=1s \tloss=0.0360\tval_loss=0.8022\tcorr=0.7484\n",
      "Epoch 260/300 \t lr=1.5e-04\t t=1s \tloss=0.0324\tval_loss=0.8627\tcorr=0.7471\n",
      "Epoch 270/300 \t lr=1.1e-04\t t=1s \tloss=0.0296\tval_loss=0.9107\tcorr=0.7471\n",
      "Epoch 280/300 \t lr=7.4e-05\t t=1s \tloss=0.0277\tval_loss=0.9468\tcorr=0.7468\n",
      "Epoch 290/300 \t lr=3.7e-05\t t=1s \tloss=0.0265\tval_loss=0.9696\tcorr=0.7466\n",
      "Epoch 300/300 \t lr=0.0e+00\t t=1s \tloss=0.0261\tval_loss=0.9779\tcorr=0.7463\n",
      "[0.296969696969697, 0.8747474747474749, 0.9094949494949497, 0.9684848484848486, 0.9010101010101011, 0.6452525252525253, 0.9103030303030304, 0.808888888888889] \n",
      "\n",
      "\n",
      "FOLD 2\n",
      "train size: 400, val size: 100\n",
      "Model parameters count: 102162440\n",
      "train batch num: 1\n",
      "val batch num: 1\n",
      "optim: Adam, lr: 0.001, warmup_steps: 30\n",
      "Epoch 10/300 \t lr=3.3e-04\t t=3s \tloss=0.6603\tval_loss=0.6513\tcorr=0.3630\n",
      "Epoch 20/300 \t lr=6.7e-04\t t=1s \tloss=0.4248\tval_loss=0.4087\tcorr=0.5998\n",
      "Epoch 30/300 \t lr=1.0e-03\t t=3s \tloss=0.3354\tval_loss=0.3302\tcorr=0.6794\n",
      "Epoch 40/300 \t lr=9.6e-04\t t=4s \tloss=0.2838\tval_loss=0.2890\tcorr=0.7217\n",
      "Epoch 50/300 \t lr=9.3e-04\t t=3s \tloss=0.2333\tval_loss=0.2568\tcorr=0.7504\n",
      "Epoch 60/300 \t lr=8.9e-04\t t=1s \tloss=0.2016\tval_loss=0.2209\tcorr=0.7855\n",
      "Epoch 70/300 \t lr=8.5e-04\t t=1s \tloss=0.1950\tval_loss=0.2221\tcorr=0.7814\n",
      "Epoch 80/300 \t lr=8.1e-04\t t=1s \tloss=0.1901\tval_loss=0.2266\tcorr=0.7766\n",
      "Epoch 90/300 \t lr=7.8e-04\t t=1s \tloss=0.1882\tval_loss=0.2361\tcorr=0.7659\n",
      "Epoch 100/300 \t lr=7.4e-04\t t=1s \tloss=0.1842\tval_loss=0.2306\tcorr=0.7695\n",
      "Epoch 110/300 \t lr=7.0e-04\t t=1s \tloss=0.1776\tval_loss=0.2363\tcorr=0.7692\n",
      "Epoch 120/300 \t lr=6.7e-04\t t=1s \tloss=0.1730\tval_loss=0.2372\tcorr=0.7772\n",
      "Epoch 130/300 \t lr=6.3e-04\t t=1s \tloss=0.1640\tval_loss=0.2512\tcorr=0.7696\n",
      "Epoch 140/300 \t lr=5.9e-04\t t=1s \tloss=0.1607\tval_loss=0.2654\tcorr=0.7653\n",
      "Epoch 150/300 \t lr=5.6e-04\t t=1s \tloss=0.1452\tval_loss=0.2794\tcorr=0.7609\n",
      "Epoch 160/300 \t lr=5.2e-04\t t=1s \tloss=0.1306\tval_loss=0.3070\tcorr=0.7556\n",
      "Epoch 170/300 \t lr=4.8e-04\t t=1s \tloss=0.1180\tval_loss=0.3604\tcorr=0.7521\n",
      "Epoch 180/300 \t lr=4.4e-04\t t=1s \tloss=0.1034\tval_loss=0.3837\tcorr=0.7570\n",
      "Epoch 190/300 \t lr=4.1e-04\t t=1s \tloss=0.0970\tval_loss=0.4465\tcorr=0.7522\n",
      "Epoch 200/300 \t lr=3.7e-04\t t=1s \tloss=0.0786\tval_loss=0.4764\tcorr=0.7524\n",
      "Epoch 210/300 \t lr=3.3e-04\t t=1s \tloss=0.0662\tval_loss=0.5459\tcorr=0.7512\n",
      "Epoch 220/300 \t lr=3.0e-04\t t=1s \tloss=0.0567\tval_loss=0.6320\tcorr=0.7494\n",
      "Epoch 230/300 \t lr=2.6e-04\t t=1s \tloss=0.0519\tval_loss=0.7015\tcorr=0.7470\n",
      "Epoch 240/300 \t lr=2.2e-04\t t=1s \tloss=0.0436\tval_loss=0.7603\tcorr=0.7456\n",
      "Epoch 250/300 \t lr=1.9e-04\t t=1s \tloss=0.0384\tval_loss=0.8296\tcorr=0.7436\n",
      "Epoch 260/300 \t lr=1.5e-04\t t=1s \tloss=0.0344\tval_loss=0.8931\tcorr=0.7435\n",
      "Epoch 270/300 \t lr=1.1e-04\t t=1s \tloss=0.0314\tval_loss=0.9436\tcorr=0.7425\n",
      "Epoch 280/300 \t lr=7.4e-05\t t=1s \tloss=0.0293\tval_loss=0.9807\tcorr=0.7423\n",
      "Epoch 290/300 \t lr=3.7e-05\t t=1s \tloss=0.0280\tval_loss=1.0042\tcorr=0.7420\n",
      "Epoch 300/300 \t lr=0.0e+00\t t=1s \tloss=0.0275\tval_loss=1.0132\tcorr=0.7419\n",
      "[0.31232323232323234, 0.8533333333333334, 0.9054545454545456, 0.9632323232323234, 0.9131313131313133, 0.7155555555555557, 0.9252525252525253, 0.7979797979797981] \n",
      "\n",
      "\n",
      "FOLD 3\n",
      "train size: 400, val size: 100\n",
      "Model parameters count: 102162440\n",
      "train batch num: 1\n",
      "val batch num: 1\n",
      "optim: Adam, lr: 0.001, warmup_steps: 30\n",
      "Epoch 10/300 \t lr=3.3e-04\t t=1s \tloss=0.6619\tval_loss=0.6441\tcorr=0.4365\n",
      "Epoch 20/300 \t lr=6.7e-04\t t=4s \tloss=0.4191\tval_loss=0.4606\tcorr=0.5295\n",
      "Epoch 30/300 \t lr=1.0e-03\t t=4s \tloss=0.3278\tval_loss=0.3769\tcorr=0.6189\n",
      "Epoch 40/300 \t lr=9.6e-04\t t=4s \tloss=0.2773\tval_loss=0.3261\tcorr=0.6750\n",
      "Epoch 50/300 \t lr=9.3e-04\t t=3s \tloss=0.2234\tval_loss=0.2681\tcorr=0.7364\n",
      "Epoch 60/300 \t lr=8.9e-04\t t=1s \tloss=0.1993\tval_loss=0.2567\tcorr=0.7537\n",
      "Epoch 70/300 \t lr=8.5e-04\t t=2s \tloss=0.1891\tval_loss=0.2483\tcorr=0.7608\n",
      "Epoch 80/300 \t lr=8.1e-04\t t=2s \tloss=0.1840\tval_loss=0.2472\tcorr=0.7643\n",
      "Epoch 90/300 \t lr=7.8e-04\t t=1s \tloss=0.1851\tval_loss=0.2575\tcorr=0.7572\n",
      "Epoch 100/300 \t lr=7.4e-04\t t=1s \tloss=0.1745\tval_loss=0.2599\tcorr=0.7561\n",
      "Epoch 110/300 \t lr=7.0e-04\t t=1s \tloss=0.1707\tval_loss=0.2738\tcorr=0.7478\n",
      "Epoch 120/300 \t lr=6.7e-04\t t=1s \tloss=0.1598\tval_loss=0.2791\tcorr=0.7476\n",
      "Epoch 130/300 \t lr=6.3e-04\t t=1s \tloss=0.1521\tval_loss=0.2995\tcorr=0.7408\n",
      "Epoch 140/300 \t lr=5.9e-04\t t=1s \tloss=0.1424\tval_loss=0.3264\tcorr=0.7325\n",
      "Epoch 150/300 \t lr=5.6e-04\t t=1s \tloss=0.1287\tval_loss=0.3537\tcorr=0.7321\n",
      "Epoch 160/300 \t lr=5.2e-04\t t=1s \tloss=0.1160\tval_loss=0.3811\tcorr=0.7307\n",
      "Epoch 170/300 \t lr=4.8e-04\t t=1s \tloss=0.1011\tval_loss=0.4257\tcorr=0.7286\n",
      "Epoch 180/300 \t lr=4.4e-04\t t=1s \tloss=0.0897\tval_loss=0.4844\tcorr=0.7243\n",
      "Epoch 190/300 \t lr=4.1e-04\t t=1s \tloss=0.0779\tval_loss=0.5577\tcorr=0.7242\n",
      "Epoch 200/300 \t lr=3.7e-04\t t=1s \tloss=0.0654\tval_loss=0.6334\tcorr=0.7248\n",
      "Epoch 210/300 \t lr=3.3e-04\t t=1s \tloss=0.0597\tval_loss=0.7120\tcorr=0.7194\n",
      "Epoch 220/300 \t lr=3.0e-04\t t=1s \tloss=0.0499\tval_loss=0.7773\tcorr=0.7219\n",
      "Epoch 230/300 \t lr=2.6e-04\t t=1s \tloss=0.0431\tval_loss=0.8636\tcorr=0.7201\n",
      "Epoch 240/300 \t lr=2.2e-04\t t=1s \tloss=0.0374\tval_loss=0.9453\tcorr=0.7206\n",
      "Epoch 250/300 \t lr=1.9e-04\t t=1s \tloss=0.0332\tval_loss=1.0233\tcorr=0.7200\n",
      "Epoch 260/300 \t lr=1.5e-04\t t=1s \tloss=0.0297\tval_loss=1.0896\tcorr=0.7197\n",
      "Epoch 270/300 \t lr=1.1e-04\t t=1s \tloss=0.0271\tval_loss=1.1467\tcorr=0.7192\n",
      "Epoch 280/300 \t lr=7.4e-05\t t=1s \tloss=0.0253\tval_loss=1.1906\tcorr=0.7191\n",
      "Epoch 290/300 \t lr=3.7e-05\t t=1s \tloss=0.0242\tval_loss=1.2174\tcorr=0.7193\n",
      "Epoch 300/300 \t lr=0.0e+00\t t=1s \tloss=0.0238\tval_loss=1.2273\tcorr=0.7198\n",
      "[0.24323232323232327, 0.880808080808081, 0.8965656565656567, 0.9664646464646466, 0.8880808080808081, 0.6020202020202021, 0.9103030303030304, 0.7834343434343436] \n",
      "\n",
      "\n",
      "FOLD 4\n",
      "train size: 400, val size: 100\n",
      "Model parameters count: 102162440\n",
      "train batch num: 1\n",
      "val batch num: 1\n",
      "optim: Adam, lr: 0.001, warmup_steps: 30\n",
      "Epoch 10/300 \t lr=3.3e-04\t t=4s \tloss=0.6596\tval_loss=0.6329\tcorr=0.4605\n",
      "Epoch 20/300 \t lr=6.7e-04\t t=4s \tloss=0.4151\tval_loss=0.4133\tcorr=0.5892\n",
      "Epoch 30/300 \t lr=1.0e-03\t t=2s \tloss=0.3266\tval_loss=0.3357\tcorr=0.6717\n",
      "Epoch 40/300 \t lr=9.6e-04\t t=4s \tloss=0.2780\tval_loss=0.2915\tcorr=0.7191\n",
      "Epoch 50/300 \t lr=9.3e-04\t t=3s \tloss=0.2189\tval_loss=0.2402\tcorr=0.7655\n",
      "Epoch 60/300 \t lr=8.9e-04\t t=4s \tloss=0.2023\tval_loss=0.2186\tcorr=0.7842\n",
      "Epoch 70/300 \t lr=8.5e-04\t t=1s \tloss=0.1879\tval_loss=0.2165\tcorr=0.7876\n",
      "Epoch 80/300 \t lr=8.1e-04\t t=1s \tloss=0.1798\tval_loss=0.2175\tcorr=0.7867\n",
      "Epoch 90/300 \t lr=7.8e-04\t t=1s \tloss=0.1731\tval_loss=0.2289\tcorr=0.7816\n",
      "Epoch 100/300 \t lr=7.4e-04\t t=1s \tloss=0.1606\tval_loss=0.2431\tcorr=0.7736\n",
      "Epoch 110/300 \t lr=7.0e-04\t t=1s \tloss=0.1431\tval_loss=0.2591\tcorr=0.7693\n",
      "Epoch 120/300 \t lr=6.7e-04\t t=1s \tloss=0.1284\tval_loss=0.2892\tcorr=0.7629\n",
      "Epoch 130/300 \t lr=6.3e-04\t t=1s \tloss=0.1126\tval_loss=0.3316\tcorr=0.7603\n",
      "Epoch 140/300 \t lr=5.9e-04\t t=1s \tloss=0.0985\tval_loss=0.3798\tcorr=0.7615\n",
      "Epoch 150/300 \t lr=5.6e-04\t t=1s \tloss=0.0816\tval_loss=0.4280\tcorr=0.7605\n",
      "Epoch 160/300 \t lr=5.2e-04\t t=1s \tloss=0.0700\tval_loss=0.4996\tcorr=0.7611\n",
      "Epoch 170/300 \t lr=4.8e-04\t t=1s \tloss=0.0568\tval_loss=0.5769\tcorr=0.7630\n",
      "Epoch 180/300 \t lr=4.4e-04\t t=1s \tloss=0.0484\tval_loss=0.6643\tcorr=0.7628\n",
      "Epoch 190/300 \t lr=4.1e-04\t t=1s \tloss=0.0386\tval_loss=0.7600\tcorr=0.7598\n",
      "Epoch 200/300 \t lr=3.7e-04\t t=1s \tloss=0.0318\tval_loss=0.8677\tcorr=0.7583\n",
      "Epoch 210/300 \t lr=3.3e-04\t t=1s \tloss=0.0276\tval_loss=0.9596\tcorr=0.7606\n",
      "Epoch 220/300 \t lr=3.0e-04\t t=1s \tloss=0.0223\tval_loss=1.0562\tcorr=0.7584\n",
      "Epoch 230/300 \t lr=2.6e-04\t t=1s \tloss=0.0195\tval_loss=1.1488\tcorr=0.7596\n",
      "Epoch 240/300 \t lr=2.2e-04\t t=1s \tloss=0.0172\tval_loss=1.2322\tcorr=0.7591\n",
      "Epoch 250/300 \t lr=1.9e-04\t t=1s \tloss=0.0156\tval_loss=1.3059\tcorr=0.7593\n",
      "Epoch 260/300 \t lr=1.5e-04\t t=1s \tloss=0.0144\tval_loss=1.3676\tcorr=0.7592\n",
      "Epoch 270/300 \t lr=1.1e-04\t t=1s \tloss=0.0136\tval_loss=1.4169\tcorr=0.7591\n",
      "Epoch 280/300 \t lr=7.4e-05\t t=1s \tloss=0.0130\tval_loss=1.4533\tcorr=0.7592\n",
      "Epoch 290/300 \t lr=3.7e-05\t t=1s \tloss=0.0127\tval_loss=1.4752\tcorr=0.7592\n",
      "Epoch 300/300 \t lr=0.0e+00\t t=1s \tloss=0.0126\tval_loss=1.4831\tcorr=0.7593\n",
      "[0.3272727272727273, 0.8565656565656566, 0.9212121212121214, 0.9692929292929294, 0.9103030303030304, 0.7050505050505051, 0.9321212121212122, 0.8072727272727275] \n",
      "\n",
      "\n",
      "0.79222 [0.29842, 0.87402, 0.90667, 0.96493, 0.89956, 0.6703, 0.92105, 0.80283]\n"
     ]
    }
   ],
   "source": [
    "# K折训练，同时\n",
    "seed = 666\n",
    "BATCH_SIZE = 400\n",
    "BATCH_SIZE_TEST = 128\n",
    "EPOCHS = 300\n",
    "LR = 0.001\n",
    "optim = \"Adam\"\n",
    "device = \"cuda\" if torch.cuda.is_available() else \"cpu\"\n",
    "modelpath = r'./model'+'//'\n",
    "\n",
    "\n",
    "# class CVPRLoss_tanh(nn.Module):\n",
    "#     # kendall tanh\n",
    "#     def __call__(self, pred, y):\n",
    "#         return torch.cat(\n",
    "#             [self.get_score(y[:,i].reshape(1,-1), \n",
    "#                            pred[:,i].reshape(1,-1)).reshape(1,-1) for i in range(y.shape[1])]\n",
    "#         ).reshape(1, -1)\n",
    "\n",
    "#     def get_score(self, actuals, preds):\n",
    "#         sa = actuals.argsort()[0]\n",
    "#         tmp = preds.index_select(1, sa.int())[0]\n",
    "#         score = torch.cat([((tmp[i:]-tmp[i-1])*1).tanh() for i in range(1, tmp.shape[0])]).sum()\n",
    "#         score1 = score/sum(list(range(1,len(tmp))))\n",
    "#         return 1-score1\n",
    "    \n",
    "# class CVPRLoss_tanh(nn.Module):\n",
    "#     # kendall tanh\n",
    "#     def __call__(self, pred, y):\n",
    "#         return torch.cat(\n",
    "#             [0.1*self.get_score(y[:,i].reshape(1,-1),pred[:,i].reshape(1,-1)).reshape(1,-1) if i!=4 \\\n",
    "#                  else self.get_score(y[:,i].reshape(1,-1),pred[:,i].reshape(1,-1)).reshape(1,-1) for i in range(pred.shape[1])]\n",
    "#         ).reshape(1, -1)\n",
    "\n",
    "#     def get_score(self, actuals, preds):\n",
    "#         sa = actuals.argsort()[0]\n",
    "#         tmp = preds.index_select(1, sa.int())[0]\n",
    "#         score = torch.cat([((tmp[i:]-tmp[i-1])*1).tanh() for i in range(1, tmp.shape[0])]).sum()\n",
    "#         score1 = score/sum(list(range(1,len(tmp))))\n",
    "#         return 1-score1\n",
    "\n",
    "class CVPRLoss_tanh(nn.Module):\n",
    "    # kendall tanh\n",
    "    def __call__(self, pred, y):\n",
    "        return 1-torch.cat(\n",
    "            [self.get_score(y[:,i].reshape(1,-1), \n",
    "                           pred[:,i].reshape(1,-1)).reshape(1,-1) for i in range(y.shape[1])]\n",
    "        ).reshape(1, -1)\n",
    "    \n",
    "    def get_score(self, actuals, preds):\n",
    "        sa = actuals.argsort()[0]\n",
    "        tmp = preds.index_select(1, sa.int())[0]\n",
    "\n",
    "        score = torch.cat([self.trans(tmp[i:]-tmp[i-1]) for i in range(1, tmp.shape[0])]).sum()\n",
    "        score1 = score/sum(list(range(1,len(tmp))))\n",
    "        return score1\n",
    "    \n",
    "    def trans(self, tmp1):\n",
    "        mmin=tmp1.min()\n",
    "        mmax=tmp1.max()\n",
    "        return (2 * (tmp1+mmin) / (mmin+mmax)-1).erfinv()\n",
    "\n",
    "\n",
    "# loss_fct = CVPRLoss_tanh()\n",
    "loss_fct = CVPRLoss_pair()\n",
    "k=5\n",
    "scoref = []\n",
    "skf = KFold(n_splits=k, shuffle=False)\n",
    "for index, (train_index, test_index) in enumerate(skf.split(train_df)):   \n",
    "    print(f'FOLD {index}')\n",
    "    train0 = train_df.iloc[train_index]\n",
    "    val0 = train_df.iloc[test_index]   \n",
    "    train_dataset = MyDataset(train0, use_cols, target_cols)\n",
    "    val_dataset = MyDataset(val0, use_cols, target_cols)\n",
    "    print(f'train size: {len(train0)}, val size: {len(val0)}')\n",
    "\n",
    "    modelname = f'lstm2y稠密_bc400_lr001_pair'\n",
    "    seed_everything(seed)\n",
    "    model = CVPRModel(input_dim=1,\n",
    "                    num_classes=8,\n",
    "                    bi=True,\n",
    "                    time_step=37\n",
    "                   ).to(device)\n",
    "#     preds,_ = train(model, \n",
    "#                 train_dataset, \n",
    "#                 val_dataset, \n",
    "#                 verbose=10, \n",
    "#                 fold_=index,\n",
    "#                 modelname=modelname,\n",
    "#                 modelpath=modelpath,\n",
    "#                 input='input',\n",
    "#                 y='y',\n",
    "#                 debug=False\n",
    "#                  )\n",
    "    _ = train_sig(model, \n",
    "                train_dataset, \n",
    "                val_dataset, \n",
    "                verbose=10, \n",
    "                fold_=index,\n",
    "                modelname=modelname,\n",
    "                modelpath=modelpath,\n",
    "                input='input',\n",
    "                y='y',\n",
    "                debug=False\n",
    "                 )\n",
    "    scoref.append(_)\n",
    "scoreff = scoref\n",
    "print(np.round(np.array(scoreff).mean(1).mean(), 5), [round(x, 5) for x in np.array(scoreff).mean(0)])"
   ]
  },
  {
   "cell_type": "code",
   "execution_count": 62,
   "metadata": {},
   "outputs": [
    {
     "data": {
      "text/plain": [
       "(0.7803,\n",
       " [0.26618, 0.86804, 0.89471, 0.95782, 0.89059, 0.66764, 0.90909, 0.78836])"
      ]
     },
     "execution_count": 62,
     "metadata": {},
     "output_type": "execute_result"
    }
   ],
   "source": [
    "# 0.7 0.77966 [0.26691, 0.86489, 0.8943, 0.96145, 0.89042, 0.65576, 0.912, 0.79152]\n",
    "(0.7803, [0.26618, 0.86804, 0.89471, 0.95782, 0.89059, 0.66764, 0.90909, 0.78836])"
   ]
  },
  {
   "cell_type": "code",
   "execution_count": null,
   "metadata": {},
   "outputs": [],
   "source": []
  },
  {
   "cell_type": "code",
   "execution_count": 84,
   "metadata": {},
   "outputs": [],
   "source": [
    "# loss_fct = CVPRLoss_softsign()\n",
    "# k=5\n",
    "# scoref = []\n",
    "# skf = KFold(n_splits=k, shuffle=False)\n",
    "# for index, (train_index, test_index) in enumerate(skf.split(train_df)):   \n",
    "#     print(f'FOLD {index}')\n",
    "#     train0 = train_df.iloc[train_index]\n",
    "#     val0 = train_df.iloc[test_index]   \n",
    "#     train_dataset = MyDataset(train0, use_cols, target_cols)\n",
    "#     val_dataset = MyDataset(val0, use_cols, target_cols)\n",
    "#     print(f'train size: {len(train0)}, val size: {len(val0)}')\n",
    "\n",
    "#     modelname = f'LSTM_2layer_step37_kendall_8all_softsign'\n",
    "#     seed_everything(seed)\n",
    "#     model = CVPRModel(input_dim=1,\n",
    "#                     num_classes=8,\n",
    "#                     bi=True,\n",
    "#                     time_step=37\n",
    "#                    ).to(device)\n",
    "#     preds,_ = train(model, \n",
    "#                 train_dataset, \n",
    "#                 val_dataset, \n",
    "#                 verbose=100, \n",
    "#                 fold_=index,\n",
    "#                 modelname=modelname,\n",
    "#                 modelpath=modelpath,\n",
    "#                 input='input',\n",
    "#                 y='y',\n",
    "#                 debug=False\n",
    "#                  )\n",
    "#     scoref.append(_)\n",
    "# scoreff = scoref\n",
    "# np.round(np.array(scoreff).mean(1).mean(), 5), [round(x, 5) for x in np.array(scoreff).mean(0)]"
   ]
  },
  {
   "cell_type": "code",
   "execution_count": 85,
   "metadata": {},
   "outputs": [
    {
     "data": {
      "text/plain": [
       "(0.77532,\n",
       " [0.25164, 0.86238, 0.89471, 0.9524, 0.89341, 0.6522, 0.90756, 0.78828])"
      ]
     },
     "execution_count": 85,
     "metadata": {},
     "output_type": "execute_result"
    }
   ],
   "source": [
    "np.round(np.array(scoreff).mean(1).mean(), 5), [round(x, 5) for x in np.array(scoreff).mean(0)]"
   ]
  },
  {
   "cell_type": "code",
   "execution_count": 86,
   "metadata": {},
   "outputs": [],
   "source": [
    "# (0.78795,\n",
    "#  [0.26836, 0.87111, 0.90545, 0.96509, 0.89745, 0.67507, 0.91895, 0.8021])"
   ]
  },
  {
   "cell_type": "code",
   "execution_count": null,
   "metadata": {},
   "outputs": [],
   "source": []
  },
  {
   "cell_type": "code",
   "execution_count": null,
   "metadata": {},
   "outputs": [],
   "source": []
  },
  {
   "cell_type": "code",
   "execution_count": 36,
   "metadata": {},
   "outputs": [
    {
     "data": {
      "text/plain": [
       "{'cplfw_rank': 0,\n",
       " 'market1501_rank': 0,\n",
       " 'dukemtmc_rank': 0,\n",
       " 'msmt17_rank': 0,\n",
       " 'veri_rank': 0,\n",
       " 'vehicleid_rank': 0,\n",
       " 'veriwild_rank': 0,\n",
       " 'sop_rank': 0,\n",
       " 'arch': 'j121221121221221311331321121221000000'}"
      ]
     },
     "execution_count": 36,
     "metadata": {},
     "output_type": "execute_result"
    }
   ],
   "source": [
    "#加载test\n",
    "with open('./data/CVPR_2022_NAS_Track2_test.json', 'r') as f:\n",
    "    test_data = json.load(f)\n",
    "test_data['arch99997']"
   ]
  },
  {
   "cell_type": "code",
   "execution_count": 37,
   "metadata": {},
   "outputs": [],
   "source": [
    "test_df = get_df(test_data)\n",
    "get_step(test_df)"
   ]
  },
  {
   "cell_type": "code",
   "execution_count": 38,
   "metadata": {},
   "outputs": [],
   "source": [
    "def pred_cuda(test_df, model):\n",
    "    #获得预测\n",
    "    test_dataset = MyDataset(test_df, use_cols, target_cols, 0)\n",
    "    test_loader = DataLoader(\n",
    "        test_dataset,\n",
    "        batch_size=1024*8,\n",
    "        shuffle=False,\n",
    "        drop_last=False,\n",
    "        pin_memory=True\n",
    "    )\n",
    "\n",
    "    preds = []\n",
    "    model.eval()\n",
    "    with torch.no_grad():\n",
    "        for data in tqdm(test_loader):\n",
    "            pred = model(data['input'].to(device))\n",
    "            preds.append(pred.detach().cpu().numpy())\n",
    "    preds = np.concatenate(preds, 0)\n",
    "    print(preds.shape)\n",
    "\n",
    "    del test_dataset, test_loader, model;\n",
    "    gc.collect()\n",
    "    torch.cuda.empty_cache()\n",
    "    return preds\n",
    "        \n",
    "def predict_sig(test_df, k=5, modelname=''):\n",
    "    for target in range(8):        \n",
    "        cols = []\n",
    "        for fold_ in range(k):\n",
    "            modelname1 = f'{modelname}_target{target}_{fold_}.pt'\n",
    "            print(f'Model {modelname1}')\n",
    "            model = CVPRModel(input_dim=1,\n",
    "                        num_classes=8,\n",
    "                        bi=True,\n",
    "                        time_step=37\n",
    "                       ).to(device)\n",
    "            model.load_state_dict(torch.load(modelpath+modelname1))\n",
    "\n",
    "            pred_ = pred_cuda(test_df, model)[:, target]\n",
    "            tmp_c = f'{target_cols[target]}_{fold_}'\n",
    "            test_df[tmp_c] = pred_\n",
    "            cols.append(tmp_c)\n",
    "            print(f'Done {tmp_c}')\n",
    "            \n",
    "        print(cols)\n",
    "        test_df[cols] = test_df[cols].rank()\n",
    "        test_df[target_cols[target]] = test_df[cols].mean(axis=1).rank()\n",
    "        \n",
    "def predict_all(test_df, k=5, modelname = f'lstm2y稠密_bc400_lr001_softsign'):\n",
    "\n",
    "    print(f'Model {modelname}')\n",
    "\n",
    "    cols = []\n",
    "    for fold_ in range(k):\n",
    "        model = CVPRModel(input_dim=1,\n",
    "                    num_classes=8,\n",
    "                    bi=True,\n",
    "                    time_step=37\n",
    "                   ).to(device)\n",
    "        model.load_state_dict(torch.load(modelpath+f'{modelname}_{fold_}.pt'))\n",
    "\n",
    "        pred_ = pred_cuda(test_df, model)\n",
    "        tmp_c = [f'{target}_{fold_}' for target in target_cols]\n",
    "        test_df[tmp_c] = pred_\n",
    "        cols += tmp_c\n",
    "    #get rank\n",
    "    print(cols)\n",
    "    test_df[cols] = test_df[cols].rank()\n",
    "    for c in target_cols:\n",
    "        test_df[c] = test_df[[f'{c}_{fold_}' for fold_ in range(k)]].mean(axis=1)\n",
    "        test_df[c] = test_df[c].rank()"
   ]
  },
  {
   "cell_type": "code",
   "execution_count": 39,
   "metadata": {},
   "outputs": [
    {
     "ename": "NameError",
     "evalue": "name 'k' is not defined",
     "output_type": "error",
     "traceback": [
      "\u001b[1;31m---------------------------------------------------------------------------\u001b[0m",
      "\u001b[1;31mNameError\u001b[0m                                 Traceback (most recent call last)",
      "\u001b[1;32m<ipython-input-39-8aed3dae8697>\u001b[0m in \u001b[0;36m<module>\u001b[1;34m\u001b[0m\n\u001b[1;32m----> 1\u001b[1;33m \u001b[0mk\u001b[0m\u001b[1;33m,\u001b[0m \u001b[0mmodelname\u001b[0m\u001b[1;33m\u001b[0m\u001b[1;33m\u001b[0m\u001b[0m\n\u001b[0m",
      "\u001b[1;31mNameError\u001b[0m: name 'k' is not defined"
     ]
    }
   ],
   "source": [
    "k, modelname"
   ]
  },
  {
   "cell_type": "code",
   "execution_count": 79,
   "metadata": {},
   "outputs": [],
   "source": [
    "# LSTM_2layer_step37_kendall_8all_softrankloss\n",
    "# LSTM_2layer_step37_kendall_8all_softsign\n",
    "# LSTM_2layer_step37_kendall_8all_tanh\n"
   ]
  },
  {
   "cell_type": "code",
   "execution_count": 81,
   "metadata": {
    "collapsed": true,
    "jupyter": {
     "outputs_hidden": true
    },
    "tags": []
   },
   "outputs": [
    {
     "name": "stdout",
     "output_type": "stream",
     "text": [
      "Model lstm2y稠密_bc400_lr001_pair_target0_0.pt\n"
     ]
    },
    {
     "name": "stderr",
     "output_type": "stream",
     "text": [
      "C:\\Users\\45928\\AppData\\Local\\Continuum\\anaconda3\\lib\\site-packages\\ipykernel_launcher.py:15: TqdmDeprecationWarning: This function will be removed in tqdm==5.0.0\n",
      "Please use `tqdm.notebook.tqdm` instead of `tqdm.tqdm_notebook`\n",
      "  from ipykernel import kernelapp as app\n"
     ]
    },
    {
     "data": {
      "application/vnd.jupyter.widget-view+json": {
       "model_id": "65364eb491c946a7b9f00acff250c134",
       "version_major": 2,
       "version_minor": 0
      },
      "text/plain": [
       "  0%|          | 0/1 [00:00<?, ?it/s]"
      ]
     },
     "metadata": {},
     "output_type": "display_data"
    },
    {
     "name": "stdout",
     "output_type": "stream",
     "text": [
      "(500, 8)\n",
      "Done cplfw_rank_0\n",
      "Model lstm2y稠密_bc400_lr001_pair_target0_1.pt\n"
     ]
    },
    {
     "data": {
      "application/vnd.jupyter.widget-view+json": {
       "model_id": "08c2968efcd34158b73e67e35d74a643",
       "version_major": 2,
       "version_minor": 0
      },
      "text/plain": [
       "  0%|          | 0/1 [00:00<?, ?it/s]"
      ]
     },
     "metadata": {},
     "output_type": "display_data"
    },
    {
     "name": "stdout",
     "output_type": "stream",
     "text": [
      "(500, 8)\n",
      "Done cplfw_rank_1\n",
      "Model lstm2y稠密_bc400_lr001_pair_target0_2.pt\n"
     ]
    },
    {
     "data": {
      "application/vnd.jupyter.widget-view+json": {
       "model_id": "8ce91c85926044a3aebadc36c8a719f3",
       "version_major": 2,
       "version_minor": 0
      },
      "text/plain": [
       "  0%|          | 0/1 [00:00<?, ?it/s]"
      ]
     },
     "metadata": {},
     "output_type": "display_data"
    },
    {
     "name": "stdout",
     "output_type": "stream",
     "text": [
      "(500, 8)\n",
      "Done cplfw_rank_2\n",
      "Model lstm2y稠密_bc400_lr001_pair_target0_3.pt\n"
     ]
    },
    {
     "data": {
      "application/vnd.jupyter.widget-view+json": {
       "model_id": "ae20a47d7a59429eb8d53e4d47e49318",
       "version_major": 2,
       "version_minor": 0
      },
      "text/plain": [
       "  0%|          | 0/1 [00:00<?, ?it/s]"
      ]
     },
     "metadata": {},
     "output_type": "display_data"
    },
    {
     "name": "stdout",
     "output_type": "stream",
     "text": [
      "(500, 8)\n",
      "Done cplfw_rank_3\n",
      "Model lstm2y稠密_bc400_lr001_pair_target0_4.pt\n"
     ]
    },
    {
     "data": {
      "application/vnd.jupyter.widget-view+json": {
       "model_id": "cd9a2454b93549cbb5934564506c9fdd",
       "version_major": 2,
       "version_minor": 0
      },
      "text/plain": [
       "  0%|          | 0/1 [00:00<?, ?it/s]"
      ]
     },
     "metadata": {},
     "output_type": "display_data"
    },
    {
     "name": "stdout",
     "output_type": "stream",
     "text": [
      "(500, 8)\n",
      "Done cplfw_rank_4\n",
      "['cplfw_rank_0', 'cplfw_rank_1', 'cplfw_rank_2', 'cplfw_rank_3', 'cplfw_rank_4']\n",
      "Model lstm2y稠密_bc400_lr001_pair_target1_0.pt\n"
     ]
    },
    {
     "data": {
      "application/vnd.jupyter.widget-view+json": {
       "model_id": "44ee06df255046cdb737602eeb0772f2",
       "version_major": 2,
       "version_minor": 0
      },
      "text/plain": [
       "  0%|          | 0/1 [00:00<?, ?it/s]"
      ]
     },
     "metadata": {},
     "output_type": "display_data"
    },
    {
     "name": "stdout",
     "output_type": "stream",
     "text": [
      "(500, 8)\n",
      "Done market1501_rank_0\n",
      "Model lstm2y稠密_bc400_lr001_pair_target1_1.pt\n"
     ]
    },
    {
     "data": {
      "application/vnd.jupyter.widget-view+json": {
       "model_id": "1dcfa8125e0f479081e558243c03bb20",
       "version_major": 2,
       "version_minor": 0
      },
      "text/plain": [
       "  0%|          | 0/1 [00:00<?, ?it/s]"
      ]
     },
     "metadata": {},
     "output_type": "display_data"
    },
    {
     "name": "stdout",
     "output_type": "stream",
     "text": [
      "(500, 8)\n",
      "Done market1501_rank_1\n",
      "Model lstm2y稠密_bc400_lr001_pair_target1_2.pt\n"
     ]
    },
    {
     "data": {
      "application/vnd.jupyter.widget-view+json": {
       "model_id": "36b42441e3884bc3b3cbdb7c157f8320",
       "version_major": 2,
       "version_minor": 0
      },
      "text/plain": [
       "  0%|          | 0/1 [00:00<?, ?it/s]"
      ]
     },
     "metadata": {},
     "output_type": "display_data"
    },
    {
     "name": "stdout",
     "output_type": "stream",
     "text": [
      "(500, 8)\n",
      "Done market1501_rank_2\n",
      "Model lstm2y稠密_bc400_lr001_pair_target1_3.pt\n"
     ]
    },
    {
     "data": {
      "application/vnd.jupyter.widget-view+json": {
       "model_id": "796516f3b2c64f149da2a05071ce6fa7",
       "version_major": 2,
       "version_minor": 0
      },
      "text/plain": [
       "  0%|          | 0/1 [00:00<?, ?it/s]"
      ]
     },
     "metadata": {},
     "output_type": "display_data"
    },
    {
     "name": "stdout",
     "output_type": "stream",
     "text": [
      "(500, 8)\n",
      "Done market1501_rank_3\n",
      "Model lstm2y稠密_bc400_lr001_pair_target1_4.pt\n"
     ]
    },
    {
     "data": {
      "application/vnd.jupyter.widget-view+json": {
       "model_id": "d3086ccdc00b4d4fbd573f37e9d49ee1",
       "version_major": 2,
       "version_minor": 0
      },
      "text/plain": [
       "  0%|          | 0/1 [00:00<?, ?it/s]"
      ]
     },
     "metadata": {},
     "output_type": "display_data"
    },
    {
     "name": "stdout",
     "output_type": "stream",
     "text": [
      "(500, 8)\n",
      "Done market1501_rank_4\n",
      "['market1501_rank_0', 'market1501_rank_1', 'market1501_rank_2', 'market1501_rank_3', 'market1501_rank_4']\n",
      "Model lstm2y稠密_bc400_lr001_pair_target2_0.pt\n"
     ]
    },
    {
     "data": {
      "application/vnd.jupyter.widget-view+json": {
       "model_id": "280001fc50c44309a908a3108fd31714",
       "version_major": 2,
       "version_minor": 0
      },
      "text/plain": [
       "  0%|          | 0/1 [00:00<?, ?it/s]"
      ]
     },
     "metadata": {},
     "output_type": "display_data"
    },
    {
     "name": "stdout",
     "output_type": "stream",
     "text": [
      "(500, 8)\n",
      "Done dukemtmc_rank_0\n",
      "Model lstm2y稠密_bc400_lr001_pair_target2_1.pt\n"
     ]
    },
    {
     "data": {
      "application/vnd.jupyter.widget-view+json": {
       "model_id": "3e709470e73b4e0b97e90d65b6e305cb",
       "version_major": 2,
       "version_minor": 0
      },
      "text/plain": [
       "  0%|          | 0/1 [00:00<?, ?it/s]"
      ]
     },
     "metadata": {},
     "output_type": "display_data"
    },
    {
     "name": "stdout",
     "output_type": "stream",
     "text": [
      "(500, 8)\n",
      "Done dukemtmc_rank_1\n",
      "Model lstm2y稠密_bc400_lr001_pair_target2_2.pt\n"
     ]
    },
    {
     "data": {
      "application/vnd.jupyter.widget-view+json": {
       "model_id": "e8959229a8b445f6994ed9f2335cb201",
       "version_major": 2,
       "version_minor": 0
      },
      "text/plain": [
       "  0%|          | 0/1 [00:00<?, ?it/s]"
      ]
     },
     "metadata": {},
     "output_type": "display_data"
    },
    {
     "name": "stdout",
     "output_type": "stream",
     "text": [
      "(500, 8)\n",
      "Done dukemtmc_rank_2\n",
      "Model lstm2y稠密_bc400_lr001_pair_target2_3.pt\n"
     ]
    },
    {
     "data": {
      "application/vnd.jupyter.widget-view+json": {
       "model_id": "d7b732cbed4e4a8bb9890865b2c8b8bf",
       "version_major": 2,
       "version_minor": 0
      },
      "text/plain": [
       "  0%|          | 0/1 [00:00<?, ?it/s]"
      ]
     },
     "metadata": {},
     "output_type": "display_data"
    },
    {
     "name": "stdout",
     "output_type": "stream",
     "text": [
      "(500, 8)\n",
      "Done dukemtmc_rank_3\n",
      "Model lstm2y稠密_bc400_lr001_pair_target2_4.pt\n"
     ]
    },
    {
     "data": {
      "application/vnd.jupyter.widget-view+json": {
       "model_id": "9aa59b401e7642cab0790d6606de9019",
       "version_major": 2,
       "version_minor": 0
      },
      "text/plain": [
       "  0%|          | 0/1 [00:00<?, ?it/s]"
      ]
     },
     "metadata": {},
     "output_type": "display_data"
    },
    {
     "name": "stdout",
     "output_type": "stream",
     "text": [
      "(500, 8)\n",
      "Done dukemtmc_rank_4\n",
      "['dukemtmc_rank_0', 'dukemtmc_rank_1', 'dukemtmc_rank_2', 'dukemtmc_rank_3', 'dukemtmc_rank_4']\n",
      "Model lstm2y稠密_bc400_lr001_pair_target3_0.pt\n"
     ]
    },
    {
     "data": {
      "application/vnd.jupyter.widget-view+json": {
       "model_id": "a67e08f463d2462d89db8a3fcb39c655",
       "version_major": 2,
       "version_minor": 0
      },
      "text/plain": [
       "  0%|          | 0/1 [00:00<?, ?it/s]"
      ]
     },
     "metadata": {},
     "output_type": "display_data"
    },
    {
     "name": "stdout",
     "output_type": "stream",
     "text": [
      "(500, 8)\n",
      "Done msmt17_rank_0\n",
      "Model lstm2y稠密_bc400_lr001_pair_target3_1.pt\n"
     ]
    },
    {
     "data": {
      "application/vnd.jupyter.widget-view+json": {
       "model_id": "7981c49482e247789f4782c28ff2d0a6",
       "version_major": 2,
       "version_minor": 0
      },
      "text/plain": [
       "  0%|          | 0/1 [00:00<?, ?it/s]"
      ]
     },
     "metadata": {},
     "output_type": "display_data"
    },
    {
     "name": "stdout",
     "output_type": "stream",
     "text": [
      "(500, 8)\n",
      "Done msmt17_rank_1\n",
      "Model lstm2y稠密_bc400_lr001_pair_target3_2.pt\n"
     ]
    },
    {
     "data": {
      "application/vnd.jupyter.widget-view+json": {
       "model_id": "68899f3bd2ee448690ccef1c72af7b9f",
       "version_major": 2,
       "version_minor": 0
      },
      "text/plain": [
       "  0%|          | 0/1 [00:00<?, ?it/s]"
      ]
     },
     "metadata": {},
     "output_type": "display_data"
    },
    {
     "name": "stdout",
     "output_type": "stream",
     "text": [
      "(500, 8)\n",
      "Done msmt17_rank_2\n",
      "Model lstm2y稠密_bc400_lr001_pair_target3_3.pt\n"
     ]
    },
    {
     "data": {
      "application/vnd.jupyter.widget-view+json": {
       "model_id": "98abac38e39c4366b416b8d5d2286d7d",
       "version_major": 2,
       "version_minor": 0
      },
      "text/plain": [
       "  0%|          | 0/1 [00:00<?, ?it/s]"
      ]
     },
     "metadata": {},
     "output_type": "display_data"
    },
    {
     "name": "stdout",
     "output_type": "stream",
     "text": [
      "(500, 8)\n",
      "Done msmt17_rank_3\n",
      "Model lstm2y稠密_bc400_lr001_pair_target3_4.pt\n"
     ]
    },
    {
     "data": {
      "application/vnd.jupyter.widget-view+json": {
       "model_id": "25a2540853e34624bfe53820865ce280",
       "version_major": 2,
       "version_minor": 0
      },
      "text/plain": [
       "  0%|          | 0/1 [00:00<?, ?it/s]"
      ]
     },
     "metadata": {},
     "output_type": "display_data"
    },
    {
     "name": "stdout",
     "output_type": "stream",
     "text": [
      "(500, 8)\n",
      "Done msmt17_rank_4\n",
      "['msmt17_rank_0', 'msmt17_rank_1', 'msmt17_rank_2', 'msmt17_rank_3', 'msmt17_rank_4']\n",
      "Model lstm2y稠密_bc400_lr001_pair_target4_0.pt\n"
     ]
    },
    {
     "data": {
      "application/vnd.jupyter.widget-view+json": {
       "model_id": "7151219cf62948848695696818f146c0",
       "version_major": 2,
       "version_minor": 0
      },
      "text/plain": [
       "  0%|          | 0/1 [00:00<?, ?it/s]"
      ]
     },
     "metadata": {},
     "output_type": "display_data"
    },
    {
     "name": "stdout",
     "output_type": "stream",
     "text": [
      "(500, 8)\n",
      "Done veri_rank_0\n",
      "Model lstm2y稠密_bc400_lr001_pair_target4_1.pt\n"
     ]
    },
    {
     "data": {
      "application/vnd.jupyter.widget-view+json": {
       "model_id": "5c9c506f2c374858ba202ad9651cbfc9",
       "version_major": 2,
       "version_minor": 0
      },
      "text/plain": [
       "  0%|          | 0/1 [00:00<?, ?it/s]"
      ]
     },
     "metadata": {},
     "output_type": "display_data"
    },
    {
     "name": "stdout",
     "output_type": "stream",
     "text": [
      "(500, 8)\n",
      "Done veri_rank_1\n",
      "Model lstm2y稠密_bc400_lr001_pair_target4_2.pt\n"
     ]
    },
    {
     "data": {
      "application/vnd.jupyter.widget-view+json": {
       "model_id": "4633fb6460614e22a432b03a877f43f7",
       "version_major": 2,
       "version_minor": 0
      },
      "text/plain": [
       "  0%|          | 0/1 [00:00<?, ?it/s]"
      ]
     },
     "metadata": {},
     "output_type": "display_data"
    },
    {
     "name": "stdout",
     "output_type": "stream",
     "text": [
      "(500, 8)\n",
      "Done veri_rank_2\n",
      "Model lstm2y稠密_bc400_lr001_pair_target4_3.pt\n"
     ]
    },
    {
     "data": {
      "application/vnd.jupyter.widget-view+json": {
       "model_id": "1f2da760483b421391fb5ef1512ba101",
       "version_major": 2,
       "version_minor": 0
      },
      "text/plain": [
       "  0%|          | 0/1 [00:00<?, ?it/s]"
      ]
     },
     "metadata": {},
     "output_type": "display_data"
    },
    {
     "name": "stdout",
     "output_type": "stream",
     "text": [
      "(500, 8)\n",
      "Done veri_rank_3\n",
      "Model lstm2y稠密_bc400_lr001_pair_target4_4.pt\n"
     ]
    },
    {
     "data": {
      "application/vnd.jupyter.widget-view+json": {
       "model_id": "f5da61b52cf240fb822eb170a99d2fea",
       "version_major": 2,
       "version_minor": 0
      },
      "text/plain": [
       "  0%|          | 0/1 [00:00<?, ?it/s]"
      ]
     },
     "metadata": {},
     "output_type": "display_data"
    },
    {
     "name": "stdout",
     "output_type": "stream",
     "text": [
      "(500, 8)\n",
      "Done veri_rank_4\n",
      "['veri_rank_0', 'veri_rank_1', 'veri_rank_2', 'veri_rank_3', 'veri_rank_4']\n",
      "Model lstm2y稠密_bc400_lr001_pair_target5_0.pt\n"
     ]
    },
    {
     "data": {
      "application/vnd.jupyter.widget-view+json": {
       "model_id": "69594a7ad5df4ed6becbb4550763db6a",
       "version_major": 2,
       "version_minor": 0
      },
      "text/plain": [
       "  0%|          | 0/1 [00:00<?, ?it/s]"
      ]
     },
     "metadata": {},
     "output_type": "display_data"
    },
    {
     "name": "stdout",
     "output_type": "stream",
     "text": [
      "(500, 8)\n",
      "Done vehicleid_rank_0\n",
      "Model lstm2y稠密_bc400_lr001_pair_target5_1.pt\n"
     ]
    },
    {
     "data": {
      "application/vnd.jupyter.widget-view+json": {
       "model_id": "d5f41e5d7b104217ba33731cf20c3022",
       "version_major": 2,
       "version_minor": 0
      },
      "text/plain": [
       "  0%|          | 0/1 [00:00<?, ?it/s]"
      ]
     },
     "metadata": {},
     "output_type": "display_data"
    },
    {
     "name": "stdout",
     "output_type": "stream",
     "text": [
      "(500, 8)\n",
      "Done vehicleid_rank_1\n",
      "Model lstm2y稠密_bc400_lr001_pair_target5_2.pt\n"
     ]
    },
    {
     "data": {
      "application/vnd.jupyter.widget-view+json": {
       "model_id": "57d38267366148b89a4c7ae8bf091630",
       "version_major": 2,
       "version_minor": 0
      },
      "text/plain": [
       "  0%|          | 0/1 [00:00<?, ?it/s]"
      ]
     },
     "metadata": {},
     "output_type": "display_data"
    },
    {
     "name": "stdout",
     "output_type": "stream",
     "text": [
      "(500, 8)\n",
      "Done vehicleid_rank_2\n",
      "Model lstm2y稠密_bc400_lr001_pair_target5_3.pt\n"
     ]
    },
    {
     "data": {
      "application/vnd.jupyter.widget-view+json": {
       "model_id": "159da8d8d488457fb8174a75b58abf4b",
       "version_major": 2,
       "version_minor": 0
      },
      "text/plain": [
       "  0%|          | 0/1 [00:00<?, ?it/s]"
      ]
     },
     "metadata": {},
     "output_type": "display_data"
    },
    {
     "name": "stdout",
     "output_type": "stream",
     "text": [
      "(500, 8)\n",
      "Done vehicleid_rank_3\n",
      "Model lstm2y稠密_bc400_lr001_pair_target5_4.pt\n"
     ]
    },
    {
     "data": {
      "application/vnd.jupyter.widget-view+json": {
       "model_id": "1e16dfef245948168e57c9df6a2ed590",
       "version_major": 2,
       "version_minor": 0
      },
      "text/plain": [
       "  0%|          | 0/1 [00:00<?, ?it/s]"
      ]
     },
     "metadata": {},
     "output_type": "display_data"
    },
    {
     "name": "stdout",
     "output_type": "stream",
     "text": [
      "(500, 8)\n",
      "Done vehicleid_rank_4\n",
      "['vehicleid_rank_0', 'vehicleid_rank_1', 'vehicleid_rank_2', 'vehicleid_rank_3', 'vehicleid_rank_4']\n",
      "Model lstm2y稠密_bc400_lr001_pair_target6_0.pt\n"
     ]
    },
    {
     "data": {
      "application/vnd.jupyter.widget-view+json": {
       "model_id": "f23f6fe20fda42ea971752dffc496135",
       "version_major": 2,
       "version_minor": 0
      },
      "text/plain": [
       "  0%|          | 0/1 [00:00<?, ?it/s]"
      ]
     },
     "metadata": {},
     "output_type": "display_data"
    },
    {
     "name": "stdout",
     "output_type": "stream",
     "text": [
      "(500, 8)\n",
      "Done veriwild_rank_0\n",
      "Model lstm2y稠密_bc400_lr001_pair_target6_1.pt\n"
     ]
    },
    {
     "data": {
      "application/vnd.jupyter.widget-view+json": {
       "model_id": "226d61ca43594ef8b101bc6011ae1502",
       "version_major": 2,
       "version_minor": 0
      },
      "text/plain": [
       "  0%|          | 0/1 [00:00<?, ?it/s]"
      ]
     },
     "metadata": {},
     "output_type": "display_data"
    },
    {
     "name": "stdout",
     "output_type": "stream",
     "text": [
      "(500, 8)\n",
      "Done veriwild_rank_1\n",
      "Model lstm2y稠密_bc400_lr001_pair_target6_2.pt\n"
     ]
    },
    {
     "data": {
      "application/vnd.jupyter.widget-view+json": {
       "model_id": "3f4ee14c9a5148aaa6bf0e972ae4d561",
       "version_major": 2,
       "version_minor": 0
      },
      "text/plain": [
       "  0%|          | 0/1 [00:00<?, ?it/s]"
      ]
     },
     "metadata": {},
     "output_type": "display_data"
    },
    {
     "name": "stdout",
     "output_type": "stream",
     "text": [
      "(500, 8)\n",
      "Done veriwild_rank_2\n",
      "Model lstm2y稠密_bc400_lr001_pair_target6_3.pt\n"
     ]
    },
    {
     "data": {
      "application/vnd.jupyter.widget-view+json": {
       "model_id": "a6d86a81fc114b5aaa5ee7f6aff96dbc",
       "version_major": 2,
       "version_minor": 0
      },
      "text/plain": [
       "  0%|          | 0/1 [00:00<?, ?it/s]"
      ]
     },
     "metadata": {},
     "output_type": "display_data"
    },
    {
     "name": "stdout",
     "output_type": "stream",
     "text": [
      "(500, 8)\n",
      "Done veriwild_rank_3\n",
      "Model lstm2y稠密_bc400_lr001_pair_target6_4.pt\n"
     ]
    },
    {
     "data": {
      "application/vnd.jupyter.widget-view+json": {
       "model_id": "41a43ef885d54516836ad602dc3f0019",
       "version_major": 2,
       "version_minor": 0
      },
      "text/plain": [
       "  0%|          | 0/1 [00:00<?, ?it/s]"
      ]
     },
     "metadata": {},
     "output_type": "display_data"
    },
    {
     "name": "stdout",
     "output_type": "stream",
     "text": [
      "(500, 8)\n",
      "Done veriwild_rank_4\n",
      "['veriwild_rank_0', 'veriwild_rank_1', 'veriwild_rank_2', 'veriwild_rank_3', 'veriwild_rank_4']\n",
      "Model lstm2y稠密_bc400_lr001_pair_target7_0.pt\n"
     ]
    },
    {
     "data": {
      "application/vnd.jupyter.widget-view+json": {
       "model_id": "178cbb052ff14f96946e8c6cc0776c97",
       "version_major": 2,
       "version_minor": 0
      },
      "text/plain": [
       "  0%|          | 0/1 [00:00<?, ?it/s]"
      ]
     },
     "metadata": {},
     "output_type": "display_data"
    },
    {
     "name": "stdout",
     "output_type": "stream",
     "text": [
      "(500, 8)\n",
      "Done sop_rank_0\n",
      "Model lstm2y稠密_bc400_lr001_pair_target7_1.pt\n"
     ]
    },
    {
     "data": {
      "application/vnd.jupyter.widget-view+json": {
       "model_id": "1387ac496f0e451b9390e3c8ff2b82d7",
       "version_major": 2,
       "version_minor": 0
      },
      "text/plain": [
       "  0%|          | 0/1 [00:00<?, ?it/s]"
      ]
     },
     "metadata": {},
     "output_type": "display_data"
    },
    {
     "name": "stdout",
     "output_type": "stream",
     "text": [
      "(500, 8)\n",
      "Done sop_rank_1\n",
      "Model lstm2y稠密_bc400_lr001_pair_target7_2.pt\n"
     ]
    },
    {
     "data": {
      "application/vnd.jupyter.widget-view+json": {
       "model_id": "9c212d64038041a3b3fdcd540a79523a",
       "version_major": 2,
       "version_minor": 0
      },
      "text/plain": [
       "  0%|          | 0/1 [00:00<?, ?it/s]"
      ]
     },
     "metadata": {},
     "output_type": "display_data"
    },
    {
     "name": "stdout",
     "output_type": "stream",
     "text": [
      "(500, 8)\n",
      "Done sop_rank_2\n",
      "Model lstm2y稠密_bc400_lr001_pair_target7_3.pt\n"
     ]
    },
    {
     "data": {
      "application/vnd.jupyter.widget-view+json": {
       "model_id": "68df772876ef4da29b501dee37a63b8f",
       "version_major": 2,
       "version_minor": 0
      },
      "text/plain": [
       "  0%|          | 0/1 [00:00<?, ?it/s]"
      ]
     },
     "metadata": {},
     "output_type": "display_data"
    },
    {
     "name": "stdout",
     "output_type": "stream",
     "text": [
      "(500, 8)\n",
      "Done sop_rank_3\n",
      "Model lstm2y稠密_bc400_lr001_pair_target7_4.pt\n"
     ]
    },
    {
     "data": {
      "application/vnd.jupyter.widget-view+json": {
       "model_id": "5ec229f2a7ce4cada31e6ab9ee2c0c07",
       "version_major": 2,
       "version_minor": 0
      },
      "text/plain": [
       "  0%|          | 0/1 [00:00<?, ?it/s]"
      ]
     },
     "metadata": {},
     "output_type": "display_data"
    },
    {
     "name": "stdout",
     "output_type": "stream",
     "text": [
      "(500, 8)\n",
      "Done sop_rank_4\n",
      "['sop_rank_0', 'sop_rank_1', 'sop_rank_2', 'sop_rank_3', 'sop_rank_4']\n"
     ]
    }
   ],
   "source": [
    "# train_df1 = train_df.copy()\n",
    "# predict_sig(train_df1, k=5, modelname='lstm2y稠密_bc400_lr001_pair')\n",
    "# compute_metric(train_df[target_cols].values, train_df1[target_cols].values)"
   ]
  },
  {
   "cell_type": "code",
   "execution_count": 83,
   "metadata": {},
   "outputs": [
    {
     "data": {
      "text/plain": [
       "0.82292028"
      ]
     },
     "execution_count": 83,
     "metadata": {},
     "output_type": "execute_result"
    }
   ],
   "source": [
    "np.mean([0.36275804, 0.90375837, 0.92433446, 0.9731017 , 0.92566968,\n",
    "       0.71321429, 0.93000995, 0.85051575])"
   ]
  },
  {
   "cell_type": "code",
   "execution_count": 40,
   "metadata": {},
   "outputs": [
    {
     "name": "stdout",
     "output_type": "stream",
     "text": [
      "Model lstm2y稠密_bc400_lr001_pair_target0_0.pt\n"
     ]
    },
    {
     "name": "stderr",
     "output_type": "stream",
     "text": [
      "C:\\Users\\45928\\AppData\\Local\\Continuum\\anaconda3\\lib\\site-packages\\ipykernel_launcher.py:15: TqdmDeprecationWarning: This function will be removed in tqdm==5.0.0\n",
      "Please use `tqdm.notebook.tqdm` instead of `tqdm.tqdm_notebook`\n",
      "  from ipykernel import kernelapp as app\n"
     ]
    },
    {
     "data": {
      "application/vnd.jupyter.widget-view+json": {
       "model_id": "1e386dc329914507b82bd951400714ba",
       "version_major": 2,
       "version_minor": 0
      },
      "text/plain": [
       "  0%|          | 0/13 [00:00<?, ?it/s]"
      ]
     },
     "metadata": {},
     "output_type": "display_data"
    },
    {
     "name": "stdout",
     "output_type": "stream",
     "text": [
      "(99500, 8)\n",
      "Done cplfw_rank_0\n",
      "Model lstm2y稠密_bc400_lr001_pair_target0_1.pt\n"
     ]
    },
    {
     "data": {
      "application/vnd.jupyter.widget-view+json": {
       "model_id": "49f39643afdd43409b820b9399511ab3",
       "version_major": 2,
       "version_minor": 0
      },
      "text/plain": [
       "  0%|          | 0/13 [00:00<?, ?it/s]"
      ]
     },
     "metadata": {},
     "output_type": "display_data"
    },
    {
     "name": "stdout",
     "output_type": "stream",
     "text": [
      "(99500, 8)\n",
      "Done cplfw_rank_1\n",
      "Model lstm2y稠密_bc400_lr001_pair_target0_2.pt\n"
     ]
    },
    {
     "data": {
      "application/vnd.jupyter.widget-view+json": {
       "model_id": "2dd695ce688b484083555fbfa9bf1371",
       "version_major": 2,
       "version_minor": 0
      },
      "text/plain": [
       "  0%|          | 0/13 [00:00<?, ?it/s]"
      ]
     },
     "metadata": {},
     "output_type": "display_data"
    },
    {
     "name": "stdout",
     "output_type": "stream",
     "text": [
      "(99500, 8)\n",
      "Done cplfw_rank_2\n",
      "Model lstm2y稠密_bc400_lr001_pair_target0_3.pt\n"
     ]
    },
    {
     "data": {
      "application/vnd.jupyter.widget-view+json": {
       "model_id": "f1d59df9005a4d06be653af55b155989",
       "version_major": 2,
       "version_minor": 0
      },
      "text/plain": [
       "  0%|          | 0/13 [00:00<?, ?it/s]"
      ]
     },
     "metadata": {},
     "output_type": "display_data"
    },
    {
     "name": "stdout",
     "output_type": "stream",
     "text": [
      "(99500, 8)\n",
      "Done cplfw_rank_3\n",
      "Model lstm2y稠密_bc400_lr001_pair_target0_4.pt\n"
     ]
    },
    {
     "data": {
      "application/vnd.jupyter.widget-view+json": {
       "model_id": "02c5c49a6c144c70825ec73c73978690",
       "version_major": 2,
       "version_minor": 0
      },
      "text/plain": [
       "  0%|          | 0/13 [00:00<?, ?it/s]"
      ]
     },
     "metadata": {},
     "output_type": "display_data"
    },
    {
     "name": "stdout",
     "output_type": "stream",
     "text": [
      "(99500, 8)\n",
      "Done cplfw_rank_4\n",
      "['cplfw_rank_0', 'cplfw_rank_1', 'cplfw_rank_2', 'cplfw_rank_3', 'cplfw_rank_4']\n",
      "Model lstm2y稠密_bc400_lr001_pair_target1_0.pt\n"
     ]
    },
    {
     "data": {
      "application/vnd.jupyter.widget-view+json": {
       "model_id": "a552dea2cb564c3babddea66f29637a9",
       "version_major": 2,
       "version_minor": 0
      },
      "text/plain": [
       "  0%|          | 0/13 [00:00<?, ?it/s]"
      ]
     },
     "metadata": {},
     "output_type": "display_data"
    },
    {
     "name": "stdout",
     "output_type": "stream",
     "text": [
      "(99500, 8)\n",
      "Done market1501_rank_0\n",
      "Model lstm2y稠密_bc400_lr001_pair_target1_1.pt\n"
     ]
    },
    {
     "data": {
      "application/vnd.jupyter.widget-view+json": {
       "model_id": "0808e96f60b544b1a2caf694bd380a83",
       "version_major": 2,
       "version_minor": 0
      },
      "text/plain": [
       "  0%|          | 0/13 [00:00<?, ?it/s]"
      ]
     },
     "metadata": {},
     "output_type": "display_data"
    },
    {
     "name": "stdout",
     "output_type": "stream",
     "text": [
      "(99500, 8)\n",
      "Done market1501_rank_1\n",
      "Model lstm2y稠密_bc400_lr001_pair_target1_2.pt\n"
     ]
    },
    {
     "data": {
      "application/vnd.jupyter.widget-view+json": {
       "model_id": "505bf11d66464edb92bf07a865668926",
       "version_major": 2,
       "version_minor": 0
      },
      "text/plain": [
       "  0%|          | 0/13 [00:00<?, ?it/s]"
      ]
     },
     "metadata": {},
     "output_type": "display_data"
    },
    {
     "name": "stdout",
     "output_type": "stream",
     "text": [
      "(99500, 8)\n",
      "Done market1501_rank_2\n",
      "Model lstm2y稠密_bc400_lr001_pair_target1_3.pt\n"
     ]
    },
    {
     "data": {
      "application/vnd.jupyter.widget-view+json": {
       "model_id": "47526e66271e4a94bd9b4eb7fff845a6",
       "version_major": 2,
       "version_minor": 0
      },
      "text/plain": [
       "  0%|          | 0/13 [00:00<?, ?it/s]"
      ]
     },
     "metadata": {},
     "output_type": "display_data"
    },
    {
     "name": "stdout",
     "output_type": "stream",
     "text": [
      "(99500, 8)\n",
      "Done market1501_rank_3\n",
      "Model lstm2y稠密_bc400_lr001_pair_target1_4.pt\n"
     ]
    },
    {
     "data": {
      "application/vnd.jupyter.widget-view+json": {
       "model_id": "19a99e5d9dbe4856919137091ebd70e4",
       "version_major": 2,
       "version_minor": 0
      },
      "text/plain": [
       "  0%|          | 0/13 [00:00<?, ?it/s]"
      ]
     },
     "metadata": {},
     "output_type": "display_data"
    },
    {
     "name": "stdout",
     "output_type": "stream",
     "text": [
      "(99500, 8)\n",
      "Done market1501_rank_4\n",
      "['market1501_rank_0', 'market1501_rank_1', 'market1501_rank_2', 'market1501_rank_3', 'market1501_rank_4']\n",
      "Model lstm2y稠密_bc400_lr001_pair_target2_0.pt\n"
     ]
    },
    {
     "data": {
      "application/vnd.jupyter.widget-view+json": {
       "model_id": "5cf891d920c143bf9ff65cae036e5739",
       "version_major": 2,
       "version_minor": 0
      },
      "text/plain": [
       "  0%|          | 0/13 [00:00<?, ?it/s]"
      ]
     },
     "metadata": {},
     "output_type": "display_data"
    },
    {
     "name": "stdout",
     "output_type": "stream",
     "text": [
      "(99500, 8)\n",
      "Done dukemtmc_rank_0\n",
      "Model lstm2y稠密_bc400_lr001_pair_target2_1.pt\n"
     ]
    },
    {
     "data": {
      "application/vnd.jupyter.widget-view+json": {
       "model_id": "fa298ff31ad44ad4be451215b6cc9fdc",
       "version_major": 2,
       "version_minor": 0
      },
      "text/plain": [
       "  0%|          | 0/13 [00:00<?, ?it/s]"
      ]
     },
     "metadata": {},
     "output_type": "display_data"
    },
    {
     "name": "stdout",
     "output_type": "stream",
     "text": [
      "(99500, 8)\n",
      "Done dukemtmc_rank_1\n",
      "Model lstm2y稠密_bc400_lr001_pair_target2_2.pt\n"
     ]
    },
    {
     "data": {
      "application/vnd.jupyter.widget-view+json": {
       "model_id": "5c789f467cc34f1fbbf08955965b2af9",
       "version_major": 2,
       "version_minor": 0
      },
      "text/plain": [
       "  0%|          | 0/13 [00:00<?, ?it/s]"
      ]
     },
     "metadata": {},
     "output_type": "display_data"
    },
    {
     "name": "stdout",
     "output_type": "stream",
     "text": [
      "(99500, 8)\n",
      "Done dukemtmc_rank_2\n",
      "Model lstm2y稠密_bc400_lr001_pair_target2_3.pt\n"
     ]
    },
    {
     "data": {
      "application/vnd.jupyter.widget-view+json": {
       "model_id": "fd77ea35017d4cc28c73026401ddd39a",
       "version_major": 2,
       "version_minor": 0
      },
      "text/plain": [
       "  0%|          | 0/13 [00:00<?, ?it/s]"
      ]
     },
     "metadata": {},
     "output_type": "display_data"
    },
    {
     "name": "stdout",
     "output_type": "stream",
     "text": [
      "(99500, 8)\n",
      "Done dukemtmc_rank_3\n",
      "Model lstm2y稠密_bc400_lr001_pair_target2_4.pt\n"
     ]
    },
    {
     "data": {
      "application/vnd.jupyter.widget-view+json": {
       "model_id": "fd8a2039cc8d43f1a3b95dae81f84db3",
       "version_major": 2,
       "version_minor": 0
      },
      "text/plain": [
       "  0%|          | 0/13 [00:00<?, ?it/s]"
      ]
     },
     "metadata": {},
     "output_type": "display_data"
    },
    {
     "name": "stdout",
     "output_type": "stream",
     "text": [
      "(99500, 8)\n",
      "Done dukemtmc_rank_4\n",
      "['dukemtmc_rank_0', 'dukemtmc_rank_1', 'dukemtmc_rank_2', 'dukemtmc_rank_3', 'dukemtmc_rank_4']\n",
      "Model lstm2y稠密_bc400_lr001_pair_target3_0.pt\n"
     ]
    },
    {
     "data": {
      "application/vnd.jupyter.widget-view+json": {
       "model_id": "6834bc3289dd4d3ca59f8793d12828e7",
       "version_major": 2,
       "version_minor": 0
      },
      "text/plain": [
       "  0%|          | 0/13 [00:00<?, ?it/s]"
      ]
     },
     "metadata": {},
     "output_type": "display_data"
    },
    {
     "name": "stdout",
     "output_type": "stream",
     "text": [
      "(99500, 8)\n",
      "Done msmt17_rank_0\n",
      "Model lstm2y稠密_bc400_lr001_pair_target3_1.pt\n"
     ]
    },
    {
     "data": {
      "application/vnd.jupyter.widget-view+json": {
       "model_id": "bfd0f032b114422c9626beaca944ac39",
       "version_major": 2,
       "version_minor": 0
      },
      "text/plain": [
       "  0%|          | 0/13 [00:00<?, ?it/s]"
      ]
     },
     "metadata": {},
     "output_type": "display_data"
    },
    {
     "name": "stdout",
     "output_type": "stream",
     "text": [
      "(99500, 8)\n",
      "Done msmt17_rank_1\n",
      "Model lstm2y稠密_bc400_lr001_pair_target3_2.pt\n"
     ]
    },
    {
     "data": {
      "application/vnd.jupyter.widget-view+json": {
       "model_id": "4e71e492458b4137af4e9efabfaa77c5",
       "version_major": 2,
       "version_minor": 0
      },
      "text/plain": [
       "  0%|          | 0/13 [00:00<?, ?it/s]"
      ]
     },
     "metadata": {},
     "output_type": "display_data"
    },
    {
     "name": "stdout",
     "output_type": "stream",
     "text": [
      "(99500, 8)\n",
      "Done msmt17_rank_2\n",
      "Model lstm2y稠密_bc400_lr001_pair_target3_3.pt\n"
     ]
    },
    {
     "data": {
      "application/vnd.jupyter.widget-view+json": {
       "model_id": "3cbec6c80c0846d19389c2ea05f498be",
       "version_major": 2,
       "version_minor": 0
      },
      "text/plain": [
       "  0%|          | 0/13 [00:00<?, ?it/s]"
      ]
     },
     "metadata": {},
     "output_type": "display_data"
    },
    {
     "name": "stdout",
     "output_type": "stream",
     "text": [
      "(99500, 8)\n",
      "Done msmt17_rank_3\n",
      "Model lstm2y稠密_bc400_lr001_pair_target3_4.pt\n"
     ]
    },
    {
     "data": {
      "application/vnd.jupyter.widget-view+json": {
       "model_id": "6d80785e011a4b249d01ed302ea1920e",
       "version_major": 2,
       "version_minor": 0
      },
      "text/plain": [
       "  0%|          | 0/13 [00:00<?, ?it/s]"
      ]
     },
     "metadata": {},
     "output_type": "display_data"
    },
    {
     "name": "stdout",
     "output_type": "stream",
     "text": [
      "(99500, 8)\n",
      "Done msmt17_rank_4\n",
      "['msmt17_rank_0', 'msmt17_rank_1', 'msmt17_rank_2', 'msmt17_rank_3', 'msmt17_rank_4']\n",
      "Model lstm2y稠密_bc400_lr001_pair_target4_0.pt\n"
     ]
    },
    {
     "data": {
      "application/vnd.jupyter.widget-view+json": {
       "model_id": "261f82995fa34b0f89eb0e48e71e35e9",
       "version_major": 2,
       "version_minor": 0
      },
      "text/plain": [
       "  0%|          | 0/13 [00:00<?, ?it/s]"
      ]
     },
     "metadata": {},
     "output_type": "display_data"
    },
    {
     "name": "stdout",
     "output_type": "stream",
     "text": [
      "(99500, 8)\n",
      "Done veri_rank_0\n",
      "Model lstm2y稠密_bc400_lr001_pair_target4_1.pt\n"
     ]
    },
    {
     "data": {
      "application/vnd.jupyter.widget-view+json": {
       "model_id": "19e0d6c7ac5e49eea87e8c8210bead84",
       "version_major": 2,
       "version_minor": 0
      },
      "text/plain": [
       "  0%|          | 0/13 [00:00<?, ?it/s]"
      ]
     },
     "metadata": {},
     "output_type": "display_data"
    },
    {
     "name": "stdout",
     "output_type": "stream",
     "text": [
      "(99500, 8)\n",
      "Done veri_rank_1\n",
      "Model lstm2y稠密_bc400_lr001_pair_target4_2.pt\n"
     ]
    },
    {
     "data": {
      "application/vnd.jupyter.widget-view+json": {
       "model_id": "4eaeef842e1848df955581d063a51b99",
       "version_major": 2,
       "version_minor": 0
      },
      "text/plain": [
       "  0%|          | 0/13 [00:00<?, ?it/s]"
      ]
     },
     "metadata": {},
     "output_type": "display_data"
    },
    {
     "name": "stdout",
     "output_type": "stream",
     "text": [
      "(99500, 8)\n",
      "Done veri_rank_2\n",
      "Model lstm2y稠密_bc400_lr001_pair_target4_3.pt\n"
     ]
    },
    {
     "data": {
      "application/vnd.jupyter.widget-view+json": {
       "model_id": "a745152006ca48f39556380b3cae0eec",
       "version_major": 2,
       "version_minor": 0
      },
      "text/plain": [
       "  0%|          | 0/13 [00:00<?, ?it/s]"
      ]
     },
     "metadata": {},
     "output_type": "display_data"
    },
    {
     "name": "stdout",
     "output_type": "stream",
     "text": [
      "(99500, 8)\n",
      "Done veri_rank_3\n",
      "Model lstm2y稠密_bc400_lr001_pair_target4_4.pt\n"
     ]
    },
    {
     "data": {
      "application/vnd.jupyter.widget-view+json": {
       "model_id": "ab359625b0514547bd79161da7c19557",
       "version_major": 2,
       "version_minor": 0
      },
      "text/plain": [
       "  0%|          | 0/13 [00:00<?, ?it/s]"
      ]
     },
     "metadata": {},
     "output_type": "display_data"
    },
    {
     "name": "stdout",
     "output_type": "stream",
     "text": [
      "(99500, 8)\n",
      "Done veri_rank_4\n",
      "['veri_rank_0', 'veri_rank_1', 'veri_rank_2', 'veri_rank_3', 'veri_rank_4']\n",
      "Model lstm2y稠密_bc400_lr001_pair_target5_0.pt\n"
     ]
    },
    {
     "data": {
      "application/vnd.jupyter.widget-view+json": {
       "model_id": "cecf12944e8c4667a65df320bbfdac32",
       "version_major": 2,
       "version_minor": 0
      },
      "text/plain": [
       "  0%|          | 0/13 [00:00<?, ?it/s]"
      ]
     },
     "metadata": {},
     "output_type": "display_data"
    },
    {
     "name": "stdout",
     "output_type": "stream",
     "text": [
      "(99500, 8)\n",
      "Done vehicleid_rank_0\n",
      "Model lstm2y稠密_bc400_lr001_pair_target5_1.pt\n"
     ]
    },
    {
     "data": {
      "application/vnd.jupyter.widget-view+json": {
       "model_id": "28566243acea4717b2db5f510d9d2c07",
       "version_major": 2,
       "version_minor": 0
      },
      "text/plain": [
       "  0%|          | 0/13 [00:00<?, ?it/s]"
      ]
     },
     "metadata": {},
     "output_type": "display_data"
    },
    {
     "name": "stdout",
     "output_type": "stream",
     "text": [
      "(99500, 8)\n",
      "Done vehicleid_rank_1\n",
      "Model lstm2y稠密_bc400_lr001_pair_target5_2.pt\n"
     ]
    },
    {
     "data": {
      "application/vnd.jupyter.widget-view+json": {
       "model_id": "91b57a55b8b74abc863f1d4d3d28b028",
       "version_major": 2,
       "version_minor": 0
      },
      "text/plain": [
       "  0%|          | 0/13 [00:00<?, ?it/s]"
      ]
     },
     "metadata": {},
     "output_type": "display_data"
    },
    {
     "name": "stdout",
     "output_type": "stream",
     "text": [
      "(99500, 8)\n",
      "Done vehicleid_rank_2\n",
      "Model lstm2y稠密_bc400_lr001_pair_target5_3.pt\n"
     ]
    },
    {
     "data": {
      "application/vnd.jupyter.widget-view+json": {
       "model_id": "27e314bbef4741c59bdd93f84f3df014",
       "version_major": 2,
       "version_minor": 0
      },
      "text/plain": [
       "  0%|          | 0/13 [00:00<?, ?it/s]"
      ]
     },
     "metadata": {},
     "output_type": "display_data"
    },
    {
     "name": "stdout",
     "output_type": "stream",
     "text": [
      "(99500, 8)\n",
      "Done vehicleid_rank_3\n",
      "Model lstm2y稠密_bc400_lr001_pair_target5_4.pt\n"
     ]
    },
    {
     "data": {
      "application/vnd.jupyter.widget-view+json": {
       "model_id": "6f7795ec392847cbb0a1127442d838ed",
       "version_major": 2,
       "version_minor": 0
      },
      "text/plain": [
       "  0%|          | 0/13 [00:00<?, ?it/s]"
      ]
     },
     "metadata": {},
     "output_type": "display_data"
    },
    {
     "name": "stdout",
     "output_type": "stream",
     "text": [
      "(99500, 8)\n",
      "Done vehicleid_rank_4\n",
      "['vehicleid_rank_0', 'vehicleid_rank_1', 'vehicleid_rank_2', 'vehicleid_rank_3', 'vehicleid_rank_4']\n",
      "Model lstm2y稠密_bc400_lr001_pair_target6_0.pt\n"
     ]
    },
    {
     "data": {
      "application/vnd.jupyter.widget-view+json": {
       "model_id": "987ee65f352447c68577b6431e716f79",
       "version_major": 2,
       "version_minor": 0
      },
      "text/plain": [
       "  0%|          | 0/13 [00:00<?, ?it/s]"
      ]
     },
     "metadata": {},
     "output_type": "display_data"
    },
    {
     "name": "stdout",
     "output_type": "stream",
     "text": [
      "(99500, 8)\n",
      "Done veriwild_rank_0\n",
      "Model lstm2y稠密_bc400_lr001_pair_target6_1.pt\n"
     ]
    },
    {
     "data": {
      "application/vnd.jupyter.widget-view+json": {
       "model_id": "4b18bd19920047e68e6d7d2675244e93",
       "version_major": 2,
       "version_minor": 0
      },
      "text/plain": [
       "  0%|          | 0/13 [00:00<?, ?it/s]"
      ]
     },
     "metadata": {},
     "output_type": "display_data"
    },
    {
     "name": "stdout",
     "output_type": "stream",
     "text": [
      "(99500, 8)\n",
      "Done veriwild_rank_1\n",
      "Model lstm2y稠密_bc400_lr001_pair_target6_2.pt\n"
     ]
    },
    {
     "data": {
      "application/vnd.jupyter.widget-view+json": {
       "model_id": "6b4cbca3cd8a44fabaeed1d3e97148b8",
       "version_major": 2,
       "version_minor": 0
      },
      "text/plain": [
       "  0%|          | 0/13 [00:00<?, ?it/s]"
      ]
     },
     "metadata": {},
     "output_type": "display_data"
    },
    {
     "name": "stdout",
     "output_type": "stream",
     "text": [
      "(99500, 8)\n",
      "Done veriwild_rank_2\n",
      "Model lstm2y稠密_bc400_lr001_pair_target6_3.pt\n"
     ]
    },
    {
     "data": {
      "application/vnd.jupyter.widget-view+json": {
       "model_id": "d4756dab596e421480c8bd7642206d00",
       "version_major": 2,
       "version_minor": 0
      },
      "text/plain": [
       "  0%|          | 0/13 [00:00<?, ?it/s]"
      ]
     },
     "metadata": {},
     "output_type": "display_data"
    },
    {
     "name": "stdout",
     "output_type": "stream",
     "text": [
      "(99500, 8)\n",
      "Done veriwild_rank_3\n",
      "Model lstm2y稠密_bc400_lr001_pair_target6_4.pt\n"
     ]
    },
    {
     "data": {
      "application/vnd.jupyter.widget-view+json": {
       "model_id": "e8fdd745145a42a4addf6d6c7cfe5abd",
       "version_major": 2,
       "version_minor": 0
      },
      "text/plain": [
       "  0%|          | 0/13 [00:00<?, ?it/s]"
      ]
     },
     "metadata": {},
     "output_type": "display_data"
    },
    {
     "name": "stdout",
     "output_type": "stream",
     "text": [
      "(99500, 8)\n",
      "Done veriwild_rank_4\n",
      "['veriwild_rank_0', 'veriwild_rank_1', 'veriwild_rank_2', 'veriwild_rank_3', 'veriwild_rank_4']\n",
      "Model lstm2y稠密_bc400_lr001_pair_target7_0.pt\n"
     ]
    },
    {
     "data": {
      "application/vnd.jupyter.widget-view+json": {
       "model_id": "9f092cfc643f4907ae297cb56f6d54bc",
       "version_major": 2,
       "version_minor": 0
      },
      "text/plain": [
       "  0%|          | 0/13 [00:00<?, ?it/s]"
      ]
     },
     "metadata": {},
     "output_type": "display_data"
    },
    {
     "name": "stdout",
     "output_type": "stream",
     "text": [
      "(99500, 8)\n",
      "Done sop_rank_0\n",
      "Model lstm2y稠密_bc400_lr001_pair_target7_1.pt\n"
     ]
    },
    {
     "data": {
      "application/vnd.jupyter.widget-view+json": {
       "model_id": "ac26f55cf5b944cd874ef5f9d8f8bcd7",
       "version_major": 2,
       "version_minor": 0
      },
      "text/plain": [
       "  0%|          | 0/13 [00:00<?, ?it/s]"
      ]
     },
     "metadata": {},
     "output_type": "display_data"
    },
    {
     "name": "stdout",
     "output_type": "stream",
     "text": [
      "(99500, 8)\n",
      "Done sop_rank_1\n",
      "Model lstm2y稠密_bc400_lr001_pair_target7_2.pt\n"
     ]
    },
    {
     "data": {
      "application/vnd.jupyter.widget-view+json": {
       "model_id": "d9e10deb439e4fc68519264212da919f",
       "version_major": 2,
       "version_minor": 0
      },
      "text/plain": [
       "  0%|          | 0/13 [00:00<?, ?it/s]"
      ]
     },
     "metadata": {},
     "output_type": "display_data"
    },
    {
     "name": "stdout",
     "output_type": "stream",
     "text": [
      "(99500, 8)\n",
      "Done sop_rank_2\n",
      "Model lstm2y稠密_bc400_lr001_pair_target7_3.pt\n"
     ]
    },
    {
     "data": {
      "application/vnd.jupyter.widget-view+json": {
       "model_id": "5baba3eb9afb4e7c94f7aa20c9cfaa91",
       "version_major": 2,
       "version_minor": 0
      },
      "text/plain": [
       "  0%|          | 0/13 [00:00<?, ?it/s]"
      ]
     },
     "metadata": {},
     "output_type": "display_data"
    },
    {
     "name": "stdout",
     "output_type": "stream",
     "text": [
      "(99500, 8)\n",
      "Done sop_rank_3\n",
      "Model lstm2y稠密_bc400_lr001_pair_target7_4.pt\n"
     ]
    },
    {
     "data": {
      "application/vnd.jupyter.widget-view+json": {
       "model_id": "7689a5bfb56c4a6fb6099246c13e8ba7",
       "version_major": 2,
       "version_minor": 0
      },
      "text/plain": [
       "  0%|          | 0/13 [00:00<?, ?it/s]"
      ]
     },
     "metadata": {},
     "output_type": "display_data"
    },
    {
     "name": "stdout",
     "output_type": "stream",
     "text": [
      "(99500, 8)\n",
      "Done sop_rank_4\n",
      "['sop_rank_0', 'sop_rank_1', 'sop_rank_2', 'sop_rank_3', 'sop_rank_4']\n"
     ]
    }
   ],
   "source": [
    "predict_sig(test_df, k=5, modelname='lstm2y稠密_bc400_lr001_pair')"
   ]
  },
  {
   "cell_type": "code",
   "execution_count": 43,
   "metadata": {},
   "outputs": [
    {
     "name": "stdout",
     "output_type": "stream",
     "text": [
      "Model lstm2y稠密_bc400_lr001_softsign\n"
     ]
    },
    {
     "name": "stderr",
     "output_type": "stream",
     "text": [
      "C:\\Users\\45928\\AppData\\Local\\Continuum\\anaconda3\\lib\\site-packages\\ipykernel_launcher.py:14: TqdmDeprecationWarning: This function will be removed in tqdm==5.0.0\n",
      "Please use `tqdm.notebook.tqdm` instead of `tqdm.tqdm_notebook`\n",
      "  \n"
     ]
    },
    {
     "data": {
      "application/vnd.jupyter.widget-view+json": {
       "model_id": "e5e3febf3e5143e99e74a0922974a0c3",
       "version_major": 2,
       "version_minor": 0
      },
      "text/plain": [
       "  0%|          | 0/13 [00:00<?, ?it/s]"
      ]
     },
     "metadata": {},
     "output_type": "display_data"
    },
    {
     "name": "stdout",
     "output_type": "stream",
     "text": [
      "(99500, 8)\n"
     ]
    },
    {
     "data": {
      "application/vnd.jupyter.widget-view+json": {
       "model_id": "4093dc0b553d48fa926feced80df4f67",
       "version_major": 2,
       "version_minor": 0
      },
      "text/plain": [
       "  0%|          | 0/13 [00:00<?, ?it/s]"
      ]
     },
     "metadata": {},
     "output_type": "display_data"
    },
    {
     "name": "stdout",
     "output_type": "stream",
     "text": [
      "(99500, 8)\n"
     ]
    },
    {
     "data": {
      "application/vnd.jupyter.widget-view+json": {
       "model_id": "1ee9d2d6abd34ac08d570cd530055a94",
       "version_major": 2,
       "version_minor": 0
      },
      "text/plain": [
       "  0%|          | 0/13 [00:00<?, ?it/s]"
      ]
     },
     "metadata": {},
     "output_type": "display_data"
    },
    {
     "name": "stdout",
     "output_type": "stream",
     "text": [
      "(99500, 8)\n"
     ]
    },
    {
     "data": {
      "application/vnd.jupyter.widget-view+json": {
       "model_id": "d4cf01830a3d4919b08f946be6de950d",
       "version_major": 2,
       "version_minor": 0
      },
      "text/plain": [
       "  0%|          | 0/13 [00:00<?, ?it/s]"
      ]
     },
     "metadata": {},
     "output_type": "display_data"
    },
    {
     "name": "stdout",
     "output_type": "stream",
     "text": [
      "(99500, 8)\n"
     ]
    },
    {
     "data": {
      "application/vnd.jupyter.widget-view+json": {
       "model_id": "1ffc6110d6b143bfbd37e4cde5e9b84e",
       "version_major": 2,
       "version_minor": 0
      },
      "text/plain": [
       "  0%|          | 0/13 [00:00<?, ?it/s]"
      ]
     },
     "metadata": {},
     "output_type": "display_data"
    },
    {
     "name": "stdout",
     "output_type": "stream",
     "text": [
      "(99500, 8)\n",
      "['cplfw_rank_0', 'market1501_rank_0', 'dukemtmc_rank_0', 'msmt17_rank_0', 'veri_rank_0', 'vehicleid_rank_0', 'veriwild_rank_0', 'sop_rank_0', 'cplfw_rank_1', 'market1501_rank_1', 'dukemtmc_rank_1', 'msmt17_rank_1', 'veri_rank_1', 'vehicleid_rank_1', 'veriwild_rank_1', 'sop_rank_1', 'cplfw_rank_2', 'market1501_rank_2', 'dukemtmc_rank_2', 'msmt17_rank_2', 'veri_rank_2', 'vehicleid_rank_2', 'veriwild_rank_2', 'sop_rank_2', 'cplfw_rank_3', 'market1501_rank_3', 'dukemtmc_rank_3', 'msmt17_rank_3', 'veri_rank_3', 'vehicleid_rank_3', 'veriwild_rank_3', 'sop_rank_3', 'cplfw_rank_4', 'market1501_rank_4', 'dukemtmc_rank_4', 'msmt17_rank_4', 'veri_rank_4', 'vehicleid_rank_4', 'veriwild_rank_4', 'sop_rank_4']\n"
     ]
    }
   ],
   "source": [
    "# predict_all(test_df, k=5, modelname='lstm2y稠密_bc400_lr001_pair')"
   ]
  },
  {
   "cell_type": "code",
   "execution_count": 41,
   "metadata": {},
   "outputs": [],
   "source": [
    "test_df[target_cols] = test_df[target_cols].astype(int)-1"
   ]
  },
  {
   "cell_type": "code",
   "execution_count": 42,
   "metadata": {},
   "outputs": [
    {
     "data": {
      "text/html": [
       "<div>\n",
       "<style scoped>\n",
       "    .dataframe tbody tr th:only-of-type {\n",
       "        vertical-align: middle;\n",
       "    }\n",
       "\n",
       "    .dataframe tbody tr th {\n",
       "        vertical-align: top;\n",
       "    }\n",
       "\n",
       "    .dataframe thead th {\n",
       "        text-align: right;\n",
       "    }\n",
       "</style>\n",
       "<table border=\"1\" class=\"dataframe\">\n",
       "  <thead>\n",
       "    <tr style=\"text-align: right;\">\n",
       "      <th></th>\n",
       "      <th>cplfw_rank</th>\n",
       "      <th>market1501_rank</th>\n",
       "      <th>dukemtmc_rank</th>\n",
       "      <th>msmt17_rank</th>\n",
       "      <th>veri_rank</th>\n",
       "      <th>vehicleid_rank</th>\n",
       "      <th>veriwild_rank</th>\n",
       "      <th>sop_rank</th>\n",
       "    </tr>\n",
       "  </thead>\n",
       "  <tbody>\n",
       "    <tr>\n",
       "      <th>count</th>\n",
       "      <td>99500.00000</td>\n",
       "      <td>99500.000000</td>\n",
       "      <td>99500.000000</td>\n",
       "      <td>99500.00000</td>\n",
       "      <td>99500.000000</td>\n",
       "      <td>99500.000000</td>\n",
       "      <td>99500.000000</td>\n",
       "      <td>99500.000000</td>\n",
       "    </tr>\n",
       "    <tr>\n",
       "      <th>mean</th>\n",
       "      <td>49749.42206</td>\n",
       "      <td>49749.428794</td>\n",
       "      <td>49749.428663</td>\n",
       "      <td>49749.42601</td>\n",
       "      <td>49749.430593</td>\n",
       "      <td>49749.430241</td>\n",
       "      <td>49749.435015</td>\n",
       "      <td>49749.425518</td>\n",
       "    </tr>\n",
       "    <tr>\n",
       "      <th>std</th>\n",
       "      <td>28723.31971</td>\n",
       "      <td>28723.320054</td>\n",
       "      <td>28723.321037</td>\n",
       "      <td>28723.31993</td>\n",
       "      <td>28723.322594</td>\n",
       "      <td>28723.320378</td>\n",
       "      <td>28723.320590</td>\n",
       "      <td>28723.322126</td>\n",
       "    </tr>\n",
       "    <tr>\n",
       "      <th>min</th>\n",
       "      <td>0.00000</td>\n",
       "      <td>0.000000</td>\n",
       "      <td>0.000000</td>\n",
       "      <td>0.00000</td>\n",
       "      <td>0.000000</td>\n",
       "      <td>0.000000</td>\n",
       "      <td>0.000000</td>\n",
       "      <td>0.000000</td>\n",
       "    </tr>\n",
       "    <tr>\n",
       "      <th>25%</th>\n",
       "      <td>24874.00000</td>\n",
       "      <td>24874.750000</td>\n",
       "      <td>24874.750000</td>\n",
       "      <td>24874.75000</td>\n",
       "      <td>24874.750000</td>\n",
       "      <td>24874.750000</td>\n",
       "      <td>24874.750000</td>\n",
       "      <td>24874.750000</td>\n",
       "    </tr>\n",
       "    <tr>\n",
       "      <th>50%</th>\n",
       "      <td>49749.50000</td>\n",
       "      <td>49749.500000</td>\n",
       "      <td>49749.500000</td>\n",
       "      <td>49749.00000</td>\n",
       "      <td>49749.000000</td>\n",
       "      <td>49749.500000</td>\n",
       "      <td>49749.500000</td>\n",
       "      <td>49749.500000</td>\n",
       "    </tr>\n",
       "    <tr>\n",
       "      <th>75%</th>\n",
       "      <td>74624.25000</td>\n",
       "      <td>74624.250000</td>\n",
       "      <td>74624.250000</td>\n",
       "      <td>74624.25000</td>\n",
       "      <td>74624.250000</td>\n",
       "      <td>74624.250000</td>\n",
       "      <td>74624.250000</td>\n",
       "      <td>74624.250000</td>\n",
       "    </tr>\n",
       "    <tr>\n",
       "      <th>max</th>\n",
       "      <td>99499.00000</td>\n",
       "      <td>99499.000000</td>\n",
       "      <td>99499.000000</td>\n",
       "      <td>99499.00000</td>\n",
       "      <td>99499.000000</td>\n",
       "      <td>99499.000000</td>\n",
       "      <td>99499.000000</td>\n",
       "      <td>99499.000000</td>\n",
       "    </tr>\n",
       "  </tbody>\n",
       "</table>\n",
       "</div>"
      ],
      "text/plain": [
       "        cplfw_rank  market1501_rank  dukemtmc_rank  msmt17_rank     veri_rank  \\\n",
       "count  99500.00000     99500.000000   99500.000000  99500.00000  99500.000000   \n",
       "mean   49749.42206     49749.428794   49749.428663  49749.42601  49749.430593   \n",
       "std    28723.31971     28723.320054   28723.321037  28723.31993  28723.322594   \n",
       "min        0.00000         0.000000       0.000000      0.00000      0.000000   \n",
       "25%    24874.00000     24874.750000   24874.750000  24874.75000  24874.750000   \n",
       "50%    49749.50000     49749.500000   49749.500000  49749.00000  49749.000000   \n",
       "75%    74624.25000     74624.250000   74624.250000  74624.25000  74624.250000   \n",
       "max    99499.00000     99499.000000   99499.000000  99499.00000  99499.000000   \n",
       "\n",
       "       vehicleid_rank  veriwild_rank      sop_rank  \n",
       "count    99500.000000   99500.000000  99500.000000  \n",
       "mean     49749.430241   49749.435015  49749.425518  \n",
       "std      28723.320378   28723.320590  28723.322126  \n",
       "min          0.000000       0.000000      0.000000  \n",
       "25%      24874.750000   24874.750000  24874.750000  \n",
       "50%      49749.500000   49749.500000  49749.500000  \n",
       "75%      74624.250000   74624.250000  74624.250000  \n",
       "max      99499.000000   99499.000000  99499.000000  "
      ]
     },
     "execution_count": 42,
     "metadata": {},
     "output_type": "execute_result"
    }
   ],
   "source": [
    "test_df[target_cols].describe()"
   ]
  },
  {
   "cell_type": "code",
   "execution_count": 43,
   "metadata": {},
   "outputs": [
    {
     "data": {
      "text/plain": [
       "cplfw_rank         90650\n",
       "market1501_rank    91532\n",
       "dukemtmc_rank      91534\n",
       "msmt17_rank        91261\n",
       "veri_rank          91798\n",
       "vehicleid_rank     91757\n",
       "veriwild_rank      92238\n",
       "sop_rank           91211\n",
       "dtype: int64"
      ]
     },
     "execution_count": 43,
     "metadata": {},
     "output_type": "execute_result"
    }
   ],
   "source": [
    "test_df[target_cols].nunique()"
   ]
  },
  {
   "cell_type": "code",
   "execution_count": 44,
   "metadata": {},
   "outputs": [
    {
     "ename": "NameError",
     "evalue": "name 'modelname' is not defined",
     "output_type": "error",
     "traceback": [
      "\u001b[1;31m---------------------------------------------------------------------------\u001b[0m",
      "\u001b[1;31mNameError\u001b[0m                                 Traceback (most recent call last)",
      "\u001b[1;32m<ipython-input-44-b24b9a014778>\u001b[0m in \u001b[0;36m<module>\u001b[1;34m\u001b[0m\n\u001b[1;32m----> 1\u001b[1;33m \u001b[0mmodelname\u001b[0m\u001b[1;33m\u001b[0m\u001b[1;33m\u001b[0m\u001b[0m\n\u001b[0m",
      "\u001b[1;31mNameError\u001b[0m: name 'modelname' is not defined"
     ]
    }
   ],
   "source": [
    "modelname"
   ]
  },
  {
   "cell_type": "code",
   "execution_count": 45,
   "metadata": {},
   "outputs": [],
   "source": [
    "modelname = 'lstm2y稠密_bc400_lr001_pair_8target_sig_20220514'"
   ]
  },
  {
   "cell_type": "code",
   "execution_count": 46,
   "metadata": {},
   "outputs": [
    {
     "name": "stderr",
     "output_type": "stream",
     "text": [
      "C:\\Users\\45928\\AppData\\Local\\Continuum\\anaconda3\\lib\\site-packages\\ipykernel_launcher.py:2: TqdmDeprecationWarning: This function will be removed in tqdm==5.0.0\n",
      "Please use `tqdm.notebook.tqdm` instead of `tqdm.tqdm_notebook`\n",
      "  \n"
     ]
    },
    {
     "data": {
      "application/vnd.jupyter.widget-view+json": {
       "model_id": "fd2de26a62bf4e6c91b4defb6da0e361",
       "version_major": 2,
       "version_minor": 0
      },
      "text/plain": [
       "  0%|          | 0/99500 [00:00<?, ?it/s]"
      ]
     },
     "metadata": {},
     "output_type": "display_data"
    }
   ],
   "source": [
    "#输出\n",
    "for i in tqdm(test_df[['id']+target_cols].values):\n",
    "    id_ = i[0]\n",
    "    for k,v in enumerate(target_cols):\n",
    "        k += 1\n",
    "        test_data[id_][v] = i[k]\n",
    "        \n",
    "with open(f'./sub/{modelname}.json', 'w') as f:\n",
    "    json.dump(test_data, f)"
   ]
  },
  {
   "cell_type": "code",
   "execution_count": 47,
   "metadata": {},
   "outputs": [
    {
     "data": {
      "text/plain": [
       "'lstm2y稠密_bc400_lr001_pair_8target_sig_20220514'"
      ]
     },
     "execution_count": 47,
     "metadata": {},
     "output_type": "execute_result"
    }
   ],
   "source": [
    "modelname"
   ]
  },
  {
   "cell_type": "code",
   "execution_count": null,
   "metadata": {},
   "outputs": [],
   "source": []
  },
  {
   "cell_type": "code",
   "execution_count": null,
   "metadata": {},
   "outputs": [],
   "source": []
  },
  {
   "cell_type": "code",
   "execution_count": null,
   "metadata": {},
   "outputs": [],
   "source": []
  },
  {
   "cell_type": "code",
   "execution_count": null,
   "metadata": {},
   "outputs": [],
   "source": []
  }
 ],
 "metadata": {
  "kernelspec": {
   "display_name": "Python 3",
   "language": "python",
   "name": "python3"
  },
  "language_info": {
   "codemirror_mode": {
    "name": "ipython",
    "version": 3
   },
   "file_extension": ".py",
   "mimetype": "text/x-python",
   "name": "python",
   "nbconvert_exporter": "python",
   "pygments_lexer": "ipython3",
   "version": "3.7.3"
  }
 },
 "nbformat": 4,
 "nbformat_minor": 4
}
