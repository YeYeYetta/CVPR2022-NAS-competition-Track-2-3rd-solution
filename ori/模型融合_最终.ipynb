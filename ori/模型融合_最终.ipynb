{
 "cells": [
  {
   "cell_type": "code",
   "execution_count": 1,
   "metadata": {},
   "outputs": [],
   "source": [
    "import json\n",
    "import pandas as pd\n",
    "import numpy as np\n",
    "from tqdm import tqdm_notebook as tqdm"
   ]
  },
  {
   "cell_type": "code",
   "execution_count": 2,
   "metadata": {},
   "outputs": [],
   "source": [
    "target_cols = ['cplfw_rank', 'market1501_rank', 'dukemtmc_rank', 'msmt17_rank', 'veri_rank', 'vehicleid_rank', 'veriwild_rank', 'sop_rank']"
   ]
  },
  {
   "cell_type": "code",
   "execution_count": 3,
   "metadata": {},
   "outputs": [],
   "source": [
    "with open('./data/CVPR_2022_NAS_Track2_test.json', 'r') as f:\n",
    "    test_data = json.load(f)"
   ]
  },
  {
   "cell_type": "code",
   "execution_count": 4,
   "metadata": {},
   "outputs": [],
   "source": [
    "def get_df(train_data):\n",
    "    ret = []\n",
    "    for k, v in train_data.items():\n",
    "        tmp = list(v['arch'])\n",
    "        tmp1 = []\n",
    "        for c in target_cols:\n",
    "            tmp1.append(v[c])\n",
    "        ret.append(tmp+tmp1+[k])\n",
    "    retf = pd.DataFrame(ret,columns=[f'col{_}' for _ in range(len(tmp))]+target_cols+['id'])\n",
    "    retf['col0'] = retf['col0'].map({'l':1, 'j':2, 'k':3})\n",
    "    int_cols = [x for x in retf.columns if x not in ['id']]\n",
    "    retf[int_cols] = retf[int_cols].astype(float)\n",
    "    return retf"
   ]
  },
  {
   "cell_type": "code",
   "execution_count": null,
   "metadata": {},
   "outputs": [],
   "source": []
  },
  {
   "cell_type": "code",
   "execution_count": null,
   "metadata": {},
   "outputs": [],
   "source": []
  },
  {
   "cell_type": "code",
   "execution_count": null,
   "metadata": {},
   "outputs": [],
   "source": []
  },
  {
   "cell_type": "code",
   "execution_count": 5,
   "metadata": {},
   "outputs": [],
   "source": [
    "# 0：\n",
    "# 0.79282\t0.32\t0.87896\t0.89657\t0.96108\t0.89295\t0.66939\t0.92099\t0.8026\n",
    "\n",
    "# 1\n",
    "# 0.79395\t0.29616\t0.88538\t0.90162\t0.96621\t0.9011\t0.67295\t0.92239\t0.80579\n",
    "# 0.79455\t0.31011\t0.8841\t0.89642\t0.96365\t0.90124\t0.67184\t0.92352\t0.80555\n",
    "# 0.79353\t0.29968\t0.88367\t0.89992\t0.96528\t0.89853\t0.67058\t0.92237\t0.80825\n",
    "# 0.79414\t0.31042\t0.88253\t0.89818\t0.96561\t0.89796\t0.67172\t0.92211\t0.80456\n",
    "# 0.7917\t0.30304\t0.88216\t0.89852\t0.96327\t0.89229\t0.66823\t0.91991\t0.80477\n",
    "\n",
    "# 2\n",
    "# 0.79395\t0.29616\t0.88538\t0.90162\t0.96621\t0.9011\t0.67295\t0.92239\t0.80579\n",
    "# 0.79353\t0.29968\t0.88367\t0.89992\t0.96528\t0.89853\t0.67058\t0.92237\t0.80825\n",
    "# 0.79414\t0.31042\t0.88253\t0.89818\t0.96561\t0.89796\t0.67172\t0.92211\t0.80456\n",
    "# 0.79251\t0.30632\t0.88203\t0.89841\t0.96363\t0.89552\t0.66735\t0.92054\t0.80633\n",
    "# 0.79351\t0.30797\t0.88162\t0.89854\t0.96421\t0.89542\t0.67249\t0.92281\t0.80505\n",
    "# 0.7917\t0.30304\t0.88216\t0.89852\t0.96327\t0.89229\t0.66823\t0.91991\t0.80477\n",
    "\n",
    "# 3\n",
    "# 0.79395\t0.29616\t0.88538\t0.90162\t0.96621\t0.9011\t0.67295\t0.92239\t0.80579\n",
    "# 0.79353\t0.29968\t0.88367\t0.89992\t0.96528\t0.89853\t0.67058\t0.92237\t0.80825\n",
    "# 0.79414\t0.31042\t0.88253\t0.89818\t0.96561\t0.89796\t0.67172\t0.92211\t0.80456\n",
    "# 0.79251\t0.30632\t0.88203\t0.89841\t0.96363\t0.89552\t0.66735\t0.92054\t0.80633\n",
    "# 0.79351\t0.30797\t0.88162\t0.89854\t0.96421\t0.89542\t0.67249\t0.92281\t0.80505\n",
    "\n",
    "# 4\n",
    "# 0.79455\t0.31011\t0.8841\t0.89642\t0.96365\t0.90124\t0.67184\t0.92352\t0.80555\n",
    "# 0.79353\t0.29968\t0.88367\t0.89992\t0.96528\t0.89853\t0.67058\t0.92237\t0.80825\n",
    "# 0.79414\t0.31042\t0.88253\t0.89818\t0.96561\t0.89796\t0.67172\t0.92211\t0.80456\n",
    "# 0.79395\t0.29616\t0.88538\t0.90162\t0.96621\t0.9011\t0.67295\t0.92239\t0.80579\n",
    "# 0.79253\t0.29919\t0.8823\t0.89703\t0.96335\t0.89861\t0.6753\t0.92263\t0.80182\n",
    "\n",
    "# 5\n",
    "# 0.79395\t0.29616\t0.88538\t0.90162\t0.96621\t0.9011\t0.67295\t0.92239\t0.80579\n",
    "# 0.79351\t0.30797\t0.88162\t0.89854\t0.96421\t0.89542\t0.67249\t0.92281\t0.80505\n",
    "# 0.79455\t0.31011\t0.8841\t0.89642\t0.96365\t0.90124\t0.67184\t0.92352\t0.80555\n",
    "# 0.79353\t0.29968\t0.88367\t0.89992\t0.96528\t0.89853\t0.67058\t0.92237\t0.80825\n",
    "# 0.79414\t0.31042\t0.88253\t0.89818\t0.96561\t0.89796\t0.67172\t0.92211\t0.80456\n",
    "# 0.79253\t0.29919\t0.8823\t0.89703\t0.96335\t0.89861\t0.6753\t0.92263\t0.80182\n",
    "\n",
    "# 6\n",
    "# 0.79351\t0.30797\t0.88162\t0.89854\t0.96421\t0.89542\t0.67249\t0.92281\t0.80505\n",
    "# 0.79455\t0.31011\t0.8841\t0.89642\t0.96365\t0.90124\t0.67184\t0.92352\t0.80555\n",
    "# 0.79353\t0.29968\t0.88367\t0.89992\t0.96528\t0.89853\t0.67058\t0.92237\t0.80825\n",
    "# 0.79414\t0.31042\t0.88253\t0.89818\t0.96561\t0.89796\t0.67172\t0.92211\t0.80456\n",
    "# 0.79253\t0.29919\t0.8823\t0.89703\t0.96335\t0.89861\t0.6753\t0.92263\t0.80182\n",
    "\n",
    "# 7\n",
    "# 0.79455\t0.31011\t0.8841\t0.89642\t0.96365\t0.90124\t0.67184\t0.92352\t0.80555\n",
    "# 0.79353\t0.29968\t0.88367\t0.89992\t0.96528\t0.89853\t0.67058\t0.92237\t0.80825\n",
    "# 0.79395\t0.29616\t0.88538\t0.90162\t0.96621\t0.9011\t0.67295\t0.92239\t0.80579\n",
    "# 0.79251\t0.30632\t0.88203\t0.89841\t0.96363\t0.89552\t0.66735\t0.92054\t0.80633"
   ]
  },
  {
   "cell_type": "code",
   "execution_count": null,
   "metadata": {},
   "outputs": [],
   "source": [
    "\n"
   ]
  },
  {
   "cell_type": "code",
   "execution_count": null,
   "metadata": {},
   "outputs": [],
   "source": [
    "\n"
   ]
  },
  {
   "cell_type": "code",
   "execution_count": null,
   "metadata": {},
   "outputs": [],
   "source": []
  },
  {
   "cell_type": "code",
   "execution_count": null,
   "metadata": {},
   "outputs": [],
   "source": []
  },
  {
   "cell_type": "code",
   "execution_count": null,
   "metadata": {},
   "outputs": [],
   "source": []
  },
  {
   "cell_type": "code",
   "execution_count": null,
   "metadata": {},
   "outputs": [],
   "source": []
  },
  {
   "cell_type": "code",
   "execution_count": null,
   "metadata": {},
   "outputs": [],
   "source": []
  },
  {
   "cell_type": "code",
   "execution_count": 6,
   "metadata": {},
   "outputs": [],
   "source": [
    "fin_model = sorted(list(set([0.79282,0.79395,0.79455,0.79353,0.79414,0.7917,\n",
    "0.79395,0.79251,0.79351,0.7917,0.79253])))\n"
   ]
  },
  {
   "cell_type": "code",
   "execution_count": 7,
   "metadata": {},
   "outputs": [
    {
     "data": {
      "text/plain": [
       "9"
      ]
     },
     "execution_count": 7,
     "metadata": {},
     "output_type": "execute_result"
    }
   ],
   "source": [
    "len(fin_model)"
   ]
  },
  {
   "cell_type": "code",
   "execution_count": 8,
   "metadata": {},
   "outputs": [
    {
     "data": {
      "text/plain": [
       "[0.7917,\n",
       " 0.79251,\n",
       " 0.79253,\n",
       " 0.79282,\n",
       " 0.79351,\n",
       " 0.79353,\n",
       " 0.79395,\n",
       " 0.79414,\n",
       " 0.79455]"
      ]
     },
     "execution_count": 8,
     "metadata": {},
     "output_type": "execute_result"
    }
   ],
   "source": [
    "fin_model"
   ]
  },
  {
   "cell_type": "code",
   "execution_count": 9,
   "metadata": {},
   "outputs": [],
   "source": [
    "# # 48. transformer decoder encoder 792 bc385 hardtanh, transformer_encoder_decoder_hardtanh_20220509.json\n",
    "# #     of 0.77898, [0.25519, 0.86675, 0.89358, 0.952, 0.89236, 0.66723, 0.91265, 0.79208]\n",
    "# #     ol 0.79282\t0.32\t0.87896\t0.89657\t0.96108\t0.89295\t0.66939\t0.92099\t0.8026\n",
    "# with open('./sub/transformer_encoder_decoder_hardtanh_20220509.json', 'r') as f:\n",
    "#     test_data_79282 = json.load(f)\n",
    "# test_data_79282 = get_df(test_data_79282)\n",
    "    \n",
    "# # 49. lstm encoder decoder bc400, LSTM_2layer_hardtanh_20220509_20220505.json\n",
    "# #     of 0.7803,[0.26618, 0.86804, 0.89471, 0.95782, 0.89059, 0.66764, 0.90909, 0.78836]\n",
    "# #     ol 0.7937\t0.30956\t0.88207\t0.89633\t0.96423\t0.8975\t0.67141\t0.92262\t0.8059\n",
    "# with open('./sub/LSTM_2layer_hardtanh_20220509_20220505.json', 'r') as f:\n",
    "#     test_data_7937 = json.load(f)\n",
    "# test_data_7937 = get_df(test_data_7937)\n",
    "\n",
    "# # 50. cnn1d tanh lr0.01 cnn1d_bc400_input3_20220509_tanh.json\n",
    "# #     of 0.78015 [0.2657, 0.86739, 0.89228, 0.95717, 0.8922, 0.66626, 0.91289, 0.78731] \n",
    "# #     ol 0.79201\t0.30198\t0.88187\t0.89631\t0.96334\t0.89521\t0.67246\t0.92327\t0.80162\n",
    "# with open('./sub/cnn1d_bc400_input3_20220509_tanh.json', 'r') as f:\n",
    "#     test_data_79201 = json.load(f)\n",
    "# test_data_79201 = get_df(test_data_79201)\n",
    "\n",
    "# #     ol 0.79187 0.30786 0.88208 0.89793 0.96364 0.89368 0.66343 0.92027 0.80608 \n",
    "# with open('./sub/sub_0.7899.json', 'r') as f:\n",
    "#     test_data_79187 = json.load(f)\n",
    "# test_data_79187 = get_df(test_data_79187)"
   ]
  },
  {
   "cell_type": "code",
   "execution_count": 9,
   "metadata": {},
   "outputs": [],
   "source": [
    "# lgb \n",
    "# 0.7917\t0.30304\t0.88216\t0.89852\t0.96327\t0.89229\t0.66823\t0.91991\t0.80477\n",
    "with open('./sub/sub_0.7922727272727274.json', 'r') as f:\n",
    "    test_data_7917 = json.load(f)\n",
    "test_data_7917 = get_df(test_data_7917)\n",
    "\n",
    "# pp super lr\n",
    "# 0.79251\t0.30632\t0.88203\t0.89841\t0.96363\t0.89552\t0.66735\t0.92054\t0.80633\n",
    "with open('./sub/paddle_super_linear_mse.json', 'r') as f:\n",
    "    test_data_79251 = json.load(f)\n",
    "test_data_79251 = get_df(test_data_79251)\n",
    "\n",
    "# nn lstm2y 最终加权，bc400,001lr\n",
    "# 0.79253\t0.29919\t0.8823\t0.89703\t0.96335\t0.89861\t0.6753\t0.92263\t0.80182\n",
    "with open('./sub/lstm2y_加权_bc400_shuffle_lr001_tanh1_ohe_20220516.json', 'r') as f:\n",
    "    test_data_79253 = json.load(f)\n",
    "test_data_79253 = get_df(test_data_79253)\n",
    "\n",
    "# nn transformer decoder encoder\n",
    "# 0.79282\t0.32\t0.87896\t0.89657\t0.96108\t0.89295\t0.66939\t0.92099\t0.8026\n",
    "with open('./sub/transformer_encoder_decoder_hardtanh_20220509.json', 'r') as f:\n",
    "    test_data_79282 = json.load(f)\n",
    "test_data_79282 = get_df(test_data_79282)\n",
    "\n",
    "# nn lstm2y稠密_bc400_lr001_20220512.json\n",
    "# 0.79351\t0.30797\t0.88162\t0.89854\t0.96421\t0.89542\t0.67249\t0.92281\t0.80505\n",
    "with open('./sub/lstm2y稠密_bc400_lr001_20220512.json', 'r') as f:\n",
    "    test_data_79351 = json.load(f)\n",
    "test_data_79351 = get_df(test_data_79351)\n",
    "\n",
    "# nn 7937 target 8 best tanh\n",
    "# 0.79353\t0.29968\t0.88367\t0.89992\t0.96528\t0.89853\t0.67058\t0.92237\t0.80825\n",
    "with open('./sub/lstm2y稠密_bc400_lr001_tanh_20220514.json', 'r') as f:\n",
    "    test_data_79353 = json.load(f)\n",
    "test_data_79353 = get_df(test_data_79353)\n",
    "\n",
    "#nn 79066 8target 同步建模，取sig best\n",
    "# 0.79395\t0.29616\t0.88538\t0.90162\t0.96621\t0.9011\t0.67295\t0.92239\t0.80579\t已完成\t2022/5/14 16:45\n",
    "with open('./sub/lstm2y稠密_bc400_lr001_pair_8target_sig_20220514.json', 'r') as f:\n",
    "    test_data_79395 = json.load(f)\n",
    "test_data_79395 = get_df(test_data_79395)\n",
    "\n",
    "# nn 79395 取tanh1\n",
    "# 0.79414\t0.31042\t0.88253\t0.89818\t0.96561\t0.89796\t0.67172\t0.92211\t0.80456\t已完成\t2022/5/14 19:51\n",
    "with open('./sub/lstm2y稠密_bc400_lr001_tanh_mat_20220514.json', 'r') as f:\n",
    "    test_data_79414 = json.load(f)\n",
    "test_data_79414 = get_df(test_data_79414)\n",
    "\n",
    "# nn 79414 ohe step 37*93, lstm2y稠密_bc400_lr001_tanh1_ohe_20220515\n",
    "# 0.79455\t0.31011\t0.8841\t0.89642\t0.96365\t0.90124\t0.67184\t0.92352\t0.80555\t已完成\t2022/5/15 16:49\n",
    "with open('./sub/lstm2y稠密_bc400_lr001_tanh1_ohe_20220515.json', 'r') as f:\n",
    "    test_data_79455 = json.load(f)\n",
    "test_data_79455 = get_df(test_data_79455)"
   ]
  },
  {
   "cell_type": "code",
   "execution_count": 10,
   "metadata": {},
   "outputs": [
    {
     "data": {
      "text/plain": [
       "[0.7917,\n",
       " 0.79251,\n",
       " 0.79253,\n",
       " 0.79282,\n",
       " 0.79351,\n",
       " 0.79353,\n",
       " 0.79395,\n",
       " 0.79414,\n",
       " 0.79455]"
      ]
     },
     "execution_count": 10,
     "metadata": {},
     "output_type": "execute_result"
    }
   ],
   "source": [
    "fin_model"
   ]
  },
  {
   "cell_type": "code",
   "execution_count": 11,
   "metadata": {},
   "outputs": [],
   "source": [
    "out = pd.merge(test_data_7917[['id']+target_cols].rename(columns={x:x+'_7917' for x in target_cols}),\n",
    "               test_data_79251[['id']+target_cols].rename(columns={x:x+'_79251' for x in target_cols}),\n",
    "               on='id')\n",
    "out = pd.merge(out,\n",
    "               test_data_79253[['id']+target_cols].rename(columns={x:x+'_79253' for x in target_cols}),\n",
    "               on='id')\n",
    "out = pd.merge(out,\n",
    "               test_data_79282[['id']+target_cols].rename(columns={x:x+'_79282' for x in target_cols}),\n",
    "               on='id')\n",
    "out = pd.merge(out,\n",
    "               test_data_79351[['id']+target_cols].rename(columns={x:x+'_79351' for x in target_cols}),\n",
    "               on='id')\n",
    "out = pd.merge(out,\n",
    "               test_data_79353[['id']+target_cols].rename(columns={x:x+'_79353' for x in target_cols}),\n",
    "               on='id')\n",
    "out = pd.merge(out,\n",
    "               test_data_79395[['id']+target_cols].rename(columns={x:x+'_79395' for x in target_cols}),\n",
    "               on='id')\n",
    "out = pd.merge(out,\n",
    "               test_data_79414[['id']+target_cols].rename(columns={x:x+'_79414' for x in target_cols}),\n",
    "               on='id')\n",
    "out = pd.merge(out,\n",
    "               test_data_79455[['id']+target_cols].rename(columns={x:x+'_79455' for x in target_cols}),\n",
    "               on='id')"
   ]
  },
  {
   "cell_type": "code",
   "execution_count": 12,
   "metadata": {},
   "outputs": [
    {
     "data": {
      "text/plain": [
       "['cplfw_rank',\n",
       " 'market1501_rank',\n",
       " 'dukemtmc_rank',\n",
       " 'msmt17_rank',\n",
       " 'veri_rank',\n",
       " 'vehicleid_rank',\n",
       " 'veriwild_rank',\n",
       " 'sop_rank']"
      ]
     },
     "execution_count": 12,
     "metadata": {},
     "output_type": "execute_result"
    }
   ],
   "source": [
    "target_cols"
   ]
  },
  {
   "cell_type": "code",
   "execution_count": 13,
   "metadata": {},
   "outputs": [],
   "source": [
    "def get_corr(tc):\n",
    "    return out[tc].corr(method='spearman')"
   ]
  },
  {
   "cell_type": "code",
   "execution_count": 14,
   "metadata": {
    "tags": []
   },
   "outputs": [
    {
     "data": {
      "text/html": [
       "<div>\n",
       "<style scoped>\n",
       "    .dataframe tbody tr th:only-of-type {\n",
       "        vertical-align: middle;\n",
       "    }\n",
       "\n",
       "    .dataframe tbody tr th {\n",
       "        vertical-align: top;\n",
       "    }\n",
       "\n",
       "    .dataframe thead th {\n",
       "        text-align: right;\n",
       "    }\n",
       "</style>\n",
       "<table border=\"1\" class=\"dataframe\">\n",
       "  <thead>\n",
       "    <tr style=\"text-align: right;\">\n",
       "      <th></th>\n",
       "      <th>market1501_rank_7917</th>\n",
       "      <th>market1501_rank_79251</th>\n",
       "      <th>market1501_rank_79253</th>\n",
       "      <th>market1501_rank_79282</th>\n",
       "      <th>market1501_rank_79351</th>\n",
       "      <th>market1501_rank_79353</th>\n",
       "      <th>market1501_rank_79395</th>\n",
       "      <th>market1501_rank_79414</th>\n",
       "      <th>market1501_rank_79455</th>\n",
       "    </tr>\n",
       "  </thead>\n",
       "  <tbody>\n",
       "    <tr>\n",
       "      <th>market1501_rank_7917</th>\n",
       "      <td>1.000000</td>\n",
       "      <td>0.999918</td>\n",
       "      <td>0.998958</td>\n",
       "      <td>0.998496</td>\n",
       "      <td>0.998942</td>\n",
       "      <td>0.998533</td>\n",
       "      <td>0.998667</td>\n",
       "      <td>0.998544</td>\n",
       "      <td>0.998732</td>\n",
       "    </tr>\n",
       "    <tr>\n",
       "      <th>market1501_rank_79251</th>\n",
       "      <td>0.999918</td>\n",
       "      <td>1.000000</td>\n",
       "      <td>0.999045</td>\n",
       "      <td>0.998493</td>\n",
       "      <td>0.998983</td>\n",
       "      <td>0.998585</td>\n",
       "      <td>0.998708</td>\n",
       "      <td>0.998600</td>\n",
       "      <td>0.998852</td>\n",
       "    </tr>\n",
       "    <tr>\n",
       "      <th>market1501_rank_79253</th>\n",
       "      <td>0.998958</td>\n",
       "      <td>0.999045</td>\n",
       "      <td>1.000000</td>\n",
       "      <td>0.998978</td>\n",
       "      <td>0.999288</td>\n",
       "      <td>0.998970</td>\n",
       "      <td>0.998817</td>\n",
       "      <td>0.999047</td>\n",
       "      <td>0.999356</td>\n",
       "    </tr>\n",
       "    <tr>\n",
       "      <th>market1501_rank_79282</th>\n",
       "      <td>0.998496</td>\n",
       "      <td>0.998493</td>\n",
       "      <td>0.998978</td>\n",
       "      <td>1.000000</td>\n",
       "      <td>0.998917</td>\n",
       "      <td>0.998423</td>\n",
       "      <td>0.998576</td>\n",
       "      <td>0.998609</td>\n",
       "      <td>0.998539</td>\n",
       "    </tr>\n",
       "    <tr>\n",
       "      <th>market1501_rank_79351</th>\n",
       "      <td>0.998942</td>\n",
       "      <td>0.998983</td>\n",
       "      <td>0.999288</td>\n",
       "      <td>0.998917</td>\n",
       "      <td>1.000000</td>\n",
       "      <td>0.999517</td>\n",
       "      <td>0.999164</td>\n",
       "      <td>0.999663</td>\n",
       "      <td>0.999179</td>\n",
       "    </tr>\n",
       "    <tr>\n",
       "      <th>market1501_rank_79353</th>\n",
       "      <td>0.998533</td>\n",
       "      <td>0.998585</td>\n",
       "      <td>0.998970</td>\n",
       "      <td>0.998423</td>\n",
       "      <td>0.999517</td>\n",
       "      <td>1.000000</td>\n",
       "      <td>0.999038</td>\n",
       "      <td>0.999527</td>\n",
       "      <td>0.998943</td>\n",
       "    </tr>\n",
       "    <tr>\n",
       "      <th>market1501_rank_79395</th>\n",
       "      <td>0.998667</td>\n",
       "      <td>0.998708</td>\n",
       "      <td>0.998817</td>\n",
       "      <td>0.998576</td>\n",
       "      <td>0.999164</td>\n",
       "      <td>0.999038</td>\n",
       "      <td>1.000000</td>\n",
       "      <td>0.999205</td>\n",
       "      <td>0.998782</td>\n",
       "    </tr>\n",
       "    <tr>\n",
       "      <th>market1501_rank_79414</th>\n",
       "      <td>0.998544</td>\n",
       "      <td>0.998600</td>\n",
       "      <td>0.999047</td>\n",
       "      <td>0.998609</td>\n",
       "      <td>0.999663</td>\n",
       "      <td>0.999527</td>\n",
       "      <td>0.999205</td>\n",
       "      <td>1.000000</td>\n",
       "      <td>0.998959</td>\n",
       "    </tr>\n",
       "    <tr>\n",
       "      <th>market1501_rank_79455</th>\n",
       "      <td>0.998732</td>\n",
       "      <td>0.998852</td>\n",
       "      <td>0.999356</td>\n",
       "      <td>0.998539</td>\n",
       "      <td>0.999179</td>\n",
       "      <td>0.998943</td>\n",
       "      <td>0.998782</td>\n",
       "      <td>0.998959</td>\n",
       "      <td>1.000000</td>\n",
       "    </tr>\n",
       "  </tbody>\n",
       "</table>\n",
       "</div>"
      ],
      "text/plain": [
       "                       market1501_rank_7917  market1501_rank_79251  \\\n",
       "market1501_rank_7917               1.000000               0.999918   \n",
       "market1501_rank_79251              0.999918               1.000000   \n",
       "market1501_rank_79253              0.998958               0.999045   \n",
       "market1501_rank_79282              0.998496               0.998493   \n",
       "market1501_rank_79351              0.998942               0.998983   \n",
       "market1501_rank_79353              0.998533               0.998585   \n",
       "market1501_rank_79395              0.998667               0.998708   \n",
       "market1501_rank_79414              0.998544               0.998600   \n",
       "market1501_rank_79455              0.998732               0.998852   \n",
       "\n",
       "                       market1501_rank_79253  market1501_rank_79282  \\\n",
       "market1501_rank_7917                0.998958               0.998496   \n",
       "market1501_rank_79251               0.999045               0.998493   \n",
       "market1501_rank_79253               1.000000               0.998978   \n",
       "market1501_rank_79282               0.998978               1.000000   \n",
       "market1501_rank_79351               0.999288               0.998917   \n",
       "market1501_rank_79353               0.998970               0.998423   \n",
       "market1501_rank_79395               0.998817               0.998576   \n",
       "market1501_rank_79414               0.999047               0.998609   \n",
       "market1501_rank_79455               0.999356               0.998539   \n",
       "\n",
       "                       market1501_rank_79351  market1501_rank_79353  \\\n",
       "market1501_rank_7917                0.998942               0.998533   \n",
       "market1501_rank_79251               0.998983               0.998585   \n",
       "market1501_rank_79253               0.999288               0.998970   \n",
       "market1501_rank_79282               0.998917               0.998423   \n",
       "market1501_rank_79351               1.000000               0.999517   \n",
       "market1501_rank_79353               0.999517               1.000000   \n",
       "market1501_rank_79395               0.999164               0.999038   \n",
       "market1501_rank_79414               0.999663               0.999527   \n",
       "market1501_rank_79455               0.999179               0.998943   \n",
       "\n",
       "                       market1501_rank_79395  market1501_rank_79414  \\\n",
       "market1501_rank_7917                0.998667               0.998544   \n",
       "market1501_rank_79251               0.998708               0.998600   \n",
       "market1501_rank_79253               0.998817               0.999047   \n",
       "market1501_rank_79282               0.998576               0.998609   \n",
       "market1501_rank_79351               0.999164               0.999663   \n",
       "market1501_rank_79353               0.999038               0.999527   \n",
       "market1501_rank_79395               1.000000               0.999205   \n",
       "market1501_rank_79414               0.999205               1.000000   \n",
       "market1501_rank_79455               0.998782               0.998959   \n",
       "\n",
       "                       market1501_rank_79455  \n",
       "market1501_rank_7917                0.998732  \n",
       "market1501_rank_79251               0.998852  \n",
       "market1501_rank_79253               0.999356  \n",
       "market1501_rank_79282               0.998539  \n",
       "market1501_rank_79351               0.999179  \n",
       "market1501_rank_79353               0.998943  \n",
       "market1501_rank_79395               0.998782  \n",
       "market1501_rank_79414               0.998959  \n",
       "market1501_rank_79455               1.000000  "
      ]
     },
     "execution_count": 14,
     "metadata": {},
     "output_type": "execute_result"
    }
   ],
   "source": [
    "c = target_cols[1]\n",
    "tc = [x for x in out.columns if c in x]\n",
    "get_corr(tc)"
   ]
  },
  {
   "cell_type": "code",
   "execution_count": null,
   "metadata": {},
   "outputs": [],
   "source": []
  },
  {
   "cell_type": "code",
   "execution_count": null,
   "metadata": {},
   "outputs": [],
   "source": []
  },
  {
   "cell_type": "code",
   "execution_count": 15,
   "metadata": {},
   "outputs": [
    {
     "data": {
      "text/plain": [
       "Index(['id', 'cplfw_rank_7917', 'market1501_rank_7917', 'dukemtmc_rank_7917',\n",
       "       'msmt17_rank_7917', 'veri_rank_7917', 'vehicleid_rank_7917',\n",
       "       'veriwild_rank_7917', 'sop_rank_7917', 'cplfw_rank_79251',\n",
       "       'market1501_rank_79251', 'dukemtmc_rank_79251', 'msmt17_rank_79251',\n",
       "       'veri_rank_79251', 'vehicleid_rank_79251', 'veriwild_rank_79251',\n",
       "       'sop_rank_79251', 'cplfw_rank_79253', 'market1501_rank_79253',\n",
       "       'dukemtmc_rank_79253', 'msmt17_rank_79253', 'veri_rank_79253',\n",
       "       'vehicleid_rank_79253', 'veriwild_rank_79253', 'sop_rank_79253',\n",
       "       'cplfw_rank_79282', 'market1501_rank_79282', 'dukemtmc_rank_79282',\n",
       "       'msmt17_rank_79282', 'veri_rank_79282', 'vehicleid_rank_79282',\n",
       "       'veriwild_rank_79282', 'sop_rank_79282', 'cplfw_rank_79351',\n",
       "       'market1501_rank_79351', 'dukemtmc_rank_79351', 'msmt17_rank_79351',\n",
       "       'veri_rank_79351', 'vehicleid_rank_79351', 'veriwild_rank_79351',\n",
       "       'sop_rank_79351', 'cplfw_rank_79353', 'market1501_rank_79353',\n",
       "       'dukemtmc_rank_79353', 'msmt17_rank_79353', 'veri_rank_79353',\n",
       "       'vehicleid_rank_79353', 'veriwild_rank_79353', 'sop_rank_79353',\n",
       "       'cplfw_rank_79395', 'market1501_rank_79395', 'dukemtmc_rank_79395',\n",
       "       'msmt17_rank_79395', 'veri_rank_79395', 'vehicleid_rank_79395',\n",
       "       'veriwild_rank_79395', 'sop_rank_79395', 'cplfw_rank_79414',\n",
       "       'market1501_rank_79414', 'dukemtmc_rank_79414', 'msmt17_rank_79414',\n",
       "       'veri_rank_79414', 'vehicleid_rank_79414', 'veriwild_rank_79414',\n",
       "       'sop_rank_79414', 'cplfw_rank_79455', 'market1501_rank_79455',\n",
       "       'dukemtmc_rank_79455', 'msmt17_rank_79455', 'veri_rank_79455',\n",
       "       'vehicleid_rank_79455', 'veriwild_rank_79455', 'sop_rank_79455'],\n",
       "      dtype='object')"
      ]
     },
     "execution_count": 15,
     "metadata": {},
     "output_type": "execute_result"
    }
   ],
   "source": [
    "out.columns"
   ]
  },
  {
   "cell_type": "code",
   "execution_count": 16,
   "metadata": {},
   "outputs": [
    {
     "data": {
      "text/plain": [
       "['cplfw_rank',\n",
       " 'market1501_rank',\n",
       " 'dukemtmc_rank',\n",
       " 'msmt17_rank',\n",
       " 'veri_rank',\n",
       " 'vehicleid_rank',\n",
       " 'veriwild_rank',\n",
       " 'sop_rank']"
      ]
     },
     "execution_count": 16,
     "metadata": {},
     "output_type": "execute_result"
    }
   ],
   "source": [
    "target_cols"
   ]
  },
  {
   "cell_type": "code",
   "execution_count": 17,
   "metadata": {},
   "outputs": [
    {
     "data": {
      "text/plain": [
       "[0.7917,\n",
       " 0.79251,\n",
       " 0.79253,\n",
       " 0.79282,\n",
       " 0.79351,\n",
       " 0.79353,\n",
       " 0.79395,\n",
       " 0.79414,\n",
       " 0.79455]"
      ]
     },
     "execution_count": 17,
     "metadata": {},
     "output_type": "execute_result"
    }
   ],
   "source": [
    "fin_model"
   ]
  },
  {
   "cell_type": "code",
   "execution_count": 18,
   "metadata": {},
   "outputs": [],
   "source": [
    "for y_ in target_cols:\n",
    "    if y_ == target_cols[0]:\n",
    "        out[y_] = (out[f'{y_}_7917']*0.1+out[f'{y_}_79251']*0.1+out[f'{y_}_79253']*0.03+\\\n",
    "                   out[f'{y_}_79282']*0.4+out[f'{y_}_79351']*0.1+out[f'{y_}_79353']*0.03+\\\n",
    "                   out[f'{y_}_79395']*0.03+out[f'{y_}_79414']*0.1+out[f'{y_}_79455']*0.1).rank().astype(int)-1\n",
    "    elif y_ == target_cols[1]:\n",
    "        out[y_] = (out[f'{y_}_7917']*0.1+out[f'{y_}_79251']*0.1+out[f'{y_}_79253']*0.08+\\\n",
    "                   out[f'{y_}_79282']*0+out[f'{y_}_79351']*0.08+out[f'{y_}_79353']*0.08+\\\n",
    "                   out[f'{y_}_79395']*0.4+out[f'{y_}_79414']*0.08+out[f'{y_}_79455']*0.08).rank().astype(int)-1\n",
    "    elif y_ == target_cols[2]:\n",
    "        out[y_] = (out[f'{y_}_7917']*0.1+out[f'{y_}_79251']*0.1+out[f'{y_}_79253']*0.08+\\\n",
    "                   out[f'{y_}_79282']*0+out[f'{y_}_79351']*0.08+out[f'{y_}_79353']*0.08+\\\n",
    "                   out[f'{y_}_79395']*0.4+out[f'{y_}_79414']*0.08+out[f'{y_}_79455']*0.08).rank().astype(int)-1\n",
    "    elif y_ == target_cols[3]:\n",
    "        out[y_] = (out[f'{y_}_7917']*0.1+out[f'{y_}_79251']*0.1+out[f'{y_}_79253']*0.08+\\\n",
    "                   out[f'{y_}_79282']*0+out[f'{y_}_79351']*0.08+out[f'{y_}_79353']*0.08+\\\n",
    "                   out[f'{y_}_79395']*0.4+out[f'{y_}_79414']*0.08+out[f'{y_}_79455']*0.08).rank().astype(int)-1\n",
    "    elif y_ == target_cols[4]:\n",
    "        out[y_] = (out[f'{y_}_7917']*0.1+out[f'{y_}_79251']*0.1+out[f'{y_}_79253']*0.08+\\\n",
    "                   out[f'{y_}_79282']*0+out[f'{y_}_79351']*0.08+out[f'{y_}_79353']*0.08+\\\n",
    "                   out[f'{y_}_79395']*0.08+out[f'{y_}_79414']*0.08+out[f'{y_}_79455']*0.4).rank().astype(int)-1\n",
    "        \n",
    "    elif y_ == target_cols[5]:\n",
    "        out[y_] = (out[f'{y_}_7917']*0.1+out[f'{y_}_79251']*0.1+out[f'{y_}_79253']*0.4+\\\n",
    "                   out[f'{y_}_79282']*0+out[f'{y_}_79351']*0.08+out[f'{y_}_79353']*0.08+\\\n",
    "                   out[f'{y_}_79395']*0.08+out[f'{y_}_79414']*0.08+out[f'{y_}_79455']*0.08).rank().astype(int)-1\n",
    "    elif y_ == target_cols[6]:\n",
    "        out[y_] = (out[f'{y_}_7917']*0.1+out[f'{y_}_79251']*0.1+out[f'{y_}_79253']*0.08+\\\n",
    "                   out[f'{y_}_79282']*0+out[f'{y_}_79351']*0.08+out[f'{y_}_79353']*0.08+\\\n",
    "                   out[f'{y_}_79395']*0.08+out[f'{y_}_79414']*0.08+out[f'{y_}_79455']*0.4).rank().astype(int)-1\n",
    "    elif y_ == target_cols[7]:\n",
    "        out[y_] = (out[f'{y_}_7917']*0.1+out[f'{y_}_79251']*0.1+out[f'{y_}_79253']*0.08+\\\n",
    "                   out[f'{y_}_79282']*0+out[f'{y_}_79351']*0.08+out[f'{y_}_79353']*0.4+\\\n",
    "                   out[f'{y_}_79395']*0.08+out[f'{y_}_79414']*0.08+out[f'{y_}_79455']*0.08).rank().astype(int)-1\n",
    "    else:\n",
    "        print('error')"
   ]
  },
  {
   "cell_type": "code",
   "execution_count": 19,
   "metadata": {},
   "outputs": [],
   "source": [
    "# 7\n",
    "# 0.79455\t0.31011\t0.8841\t0.89642\t0.96365\t0.90124\t0.67184\t0.92352\t0.80555\n",
    "# 0.79353\t0.29968\t0.88367\t0.89992\t0.96528\t0.89853\t0.67058\t0.92237\t0.80825\n",
    "# 0.79395\t0.29616\t0.88538\t0.90162\t0.96621\t0.9011\t0.67295\t0.92239\t0.80579\n",
    "# 0.79251\t0.30632\t0.88203\t0.89841\t0.96363\t0.89552\t0.66735\t0.92054\t0.80633"
   ]
  },
  {
   "cell_type": "code",
   "execution_count": 20,
   "metadata": {},
   "outputs": [],
   "source": [
    "# 0 使用 1\n",
    "# 1 使用2，3，4 少量1\n",
    "# 2. 使用1，2，3，4\n",
    "# 3. 使用1，2，3，4\n",
    "# 4. 使用 2，3 少量1，4\n",
    "# 5. 使用2，3.少量1，4\n",
    "# 6. 使用1，2，3，4\n",
    "# 7 使用 2，4 少量1，3"
   ]
  },
  {
   "cell_type": "code",
   "execution_count": 21,
   "metadata": {},
   "outputs": [
    {
     "name": "stderr",
     "output_type": "stream",
     "text": [
      "C:\\Users\\45928\\AppData\\Local\\Continuum\\anaconda3\\lib\\site-packages\\ipykernel_launcher.py:2: TqdmDeprecationWarning: This function will be removed in tqdm==5.0.0\n",
      "Please use `tqdm.notebook.tqdm` instead of `tqdm.tqdm_notebook`\n",
      "  \n"
     ]
    },
    {
     "data": {
      "application/vnd.jupyter.widget-view+json": {
       "model_id": "f5da72b18be8401a96ed8dec8554c6e1",
       "version_major": 2,
       "version_minor": 0
      },
      "text/plain": [
       "  0%|          | 0/99500 [00:00<?, ?it/s]"
      ]
     },
     "metadata": {},
     "output_type": "display_data"
    }
   ],
   "source": [
    "def to_sub(test_df, test_data, name='CVPR_2022_lgb_base_log1p_grid'):\n",
    "    for i in tqdm(test_df[['id']+target_cols].values):\n",
    "        id_ = i[0]\n",
    "        for k,v in enumerate(target_cols):\n",
    "            k += 1\n",
    "            test_data[id_][v] = i[k]\n",
    "            \n",
    "    with open(f'./sub/{name}.json', 'w') as f:\n",
    "        json.dump(test_data, f)\n",
    "\n",
    "to_sub(out, test_data, name='融合20220517_最强40_nn40_打分20')"
   ]
  },
  {
   "cell_type": "code",
   "execution_count": null,
   "metadata": {},
   "outputs": [],
   "source": []
  },
  {
   "cell_type": "code",
   "execution_count": null,
   "metadata": {},
   "outputs": [],
   "source": []
  }
 ],
 "metadata": {
  "kernelspec": {
   "display_name": "Python 3",
   "language": "python",
   "name": "python3"
  },
  "language_info": {
   "codemirror_mode": {
    "name": "ipython",
    "version": 3
   },
   "file_extension": ".py",
   "mimetype": "text/x-python",
   "name": "python",
   "nbconvert_exporter": "python",
   "pygments_lexer": "ipython3",
   "version": "3.7.3"
  }
 },
 "nbformat": 4,
 "nbformat_minor": 4
}
